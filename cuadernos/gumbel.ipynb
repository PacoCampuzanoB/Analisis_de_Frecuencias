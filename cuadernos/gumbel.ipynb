{
 "cells": [
  {
   "cell_type": "code",
   "execution_count": 1,
   "id": "6dece84b-88a3-4b8d-8247-65d3385b757a",
   "metadata": {},
   "outputs": [],
   "source": [
    "import pandas as pd\n",
    "import numpy as np\n",
    "import pylab as pl\n",
    "import math\n",
    "import plotly.graph_objects as go\n",
    "from plotly.subplots import make_subplots"
   ]
  },
  {
   "cell_type": "code",
   "execution_count": 2,
   "id": "8ba6f561-0f09-4003-bcbb-4c46f8c48b01",
   "metadata": {},
   "outputs": [
    {
     "name": "stdout",
     "output_type": "stream",
     "text": [
      " \n",
      "Ruta --> C:\\Users\\sear2\\Music\\analisis_frecuencias\\Analisis_de_Frecuencias\\gastos\\datos2014.csv\n"
     ]
    }
   ],
   "source": [
    "#ruta = \"/home/sear/Documentos/proyecto_frecuencias/Analisis_de_Frecuencias/gastos/datos2014.csv\" # Linux\n",
    "ruta = r\"C:\\Users\\sear2\\Music\\analisis_frecuencias\\Analisis_de_Frecuencias\\gastos\\datos2014.csv\"  # Estupido windows\n",
    "print(f\" \\nRuta --> {ruta}\")"
   ]
  },
  {
   "cell_type": "code",
   "execution_count": 3,
   "id": "f2b4cc14-66f0-41a4-8e03-f712add7b04e",
   "metadata": {},
   "outputs": [
    {
     "name": "stdout",
     "output_type": "stream",
     "text": [
      "<class 'numpy.ndarray'>\n"
     ]
    },
    {
     "data": {
      "text/plain": [
       "62"
      ]
     },
     "execution_count": 3,
     "metadata": {},
     "output_type": "execute_result"
    }
   ],
   "source": [
    "datos = pd.read_csv(ruta, header=None).values\n",
    "datos.astype(float)\n",
    "print(type(datos))\n",
    "len(datos)"
   ]
  },
  {
   "cell_type": "code",
   "execution_count": 4,
   "id": "bcc20800-9bb3-4d59-a87d-69ced9108d85",
   "metadata": {},
   "outputs": [],
   "source": [
    "m = datos.size\n",
    "media = np.mean(datos)\n",
    "desv_est =  np.std(datos, ddof=1)"
   ]
  },
  {
   "cell_type": "code",
   "execution_count": 5,
   "id": "99a3fc67-2678-4c68-9374-bb54c7fa92c3",
   "metadata": {},
   "outputs": [],
   "source": [
    "matriz01 = np.zeros ((m, 6))\n",
    "matriz02 = np.zeros ((m, 4))\n",
    "matriz02 [:] = -999\n",
    "matriz02 [0, 0] = 2\n",
    "matriz02 [1, 0] = 5\n",
    "matriz02 [2, 0] = 10\n",
    "matriz02 [3, 0] = 20\n",
    "matriz02 [4, 0] = 50\n",
    "matriz02 [5, 0] = 100\n",
    "matriz02 [6, 0] = 200\n",
    "matriz02 [7, 0] = 500\n",
    "matriz02 [8, 0] = 1000\n",
    "matriz02 [9, 0] = 2000\n",
    "matriz02 [10, 0] = 5000\n",
    "matriz02 [11, 0] = 10000\n",
    "EEstandart = np.full((m, 2), -999, float)"
   ]
  },
  {
   "cell_type": "code",
   "execution_count": 6,
   "id": "fd6dd401-fd7f-4245-8114-1707b6f93312",
   "metadata": {},
   "outputs": [],
   "source": [
    "for i in range (m):\n",
    "    matriz01 [i, 0] = i + 1           # Se crea la columna con el No de orden columna '1'\n",
    "    matriz01 [i, 1] = datos.max()  # Se crea la columna con los gastos \"columna 2\"\n",
    "    j = datos.argmax()             # registrados y ordenados\n",
    "    datos [j, 0] = -1              # en orden ascendente\n",
    "    matriz01 [i, 2] = (m + 1) / matriz01 [i, 0]  # Se crea la columna con Tr\n",
    "    matriz01 [i, 3] = 1 - (1 / matriz01 [i, 2])  # Se crea la columna de F(x), \"a partir de Tr\""
   ]
  },
  {
   "cell_type": "code",
   "execution_count": 7,
   "id": "da5615fc-5769-4c6e-a50c-586bc9355212",
   "metadata": {},
   "outputs": [],
   "source": [
    "beta = media - (0.45 * desv_est)\n",
    "alfa = desv_est * ((6 ** 0.5) / math.pi)"
   ]
  },
  {
   "cell_type": "code",
   "execution_count": 8,
   "id": "e9dfac92-0c9d-4e2a-9698-f3d4b8ba0dfb",
   "metadata": {},
   "outputs": [],
   "source": [
    "lambda1 = media      # alfa = media = M0\n",
    "suma = 0.0\n",
    "for i in range (m):                   # M1 = (1/n(n-1))*suma(xi*n-i)\n",
    "    M1 = matriz01[i, 1] * (m-(i+1))\n",
    "    suma = suma + M1  \n",
    "M1 = suma/(m*(m-1))\n",
    "lambda2 = (2*M1)-media\n",
    "        \n",
    "alfaMl = lambda2/math.log(2)          # alfa momentos-L\n",
    "betaMl = lambda1 - (0.577216*alfaMl)  # beta momentos-L"
   ]
  },
  {
   "cell_type": "code",
   "execution_count": 9,
   "id": "d1a0348f-4f78-4a6a-8289-dfdf5ea51e1f",
   "metadata": {},
   "outputs": [
    {
     "name": "stdout",
     "output_type": "stream",
     "text": [
      "Distribución Gumbel, error estandart (momentos):  1278.3284288597074\n",
      "Distribución Gumbel, error estandart (momentos_L):  1304.618961808627\n"
     ]
    }
   ],
   "source": [
    "                        # Para el método de momentos\n",
    "                        \n",
    "EEMom = 0.0\n",
    "for i in range (m):\n",
    "    matriz01 [i, 4] = beta - (alfa * np.log(-np.log(matriz01 [i, 3])))\n",
    "    prueba = (matriz01 [i, 1] - matriz01 [i, 4]) ** 2\n",
    "    EEMom = EEMom + prueba\n",
    "\n",
    "EEMom = (EEMom / (m - 2)) ** 0.5  # Se estima el error estandart para dos parametros\n",
    "print ('Distribución Gumbel, error estandart (momentos): ', EEMom)\n",
    "        \n",
    "                        # Para el método de momentos-L\n",
    "                        \n",
    "EEMomL = 0.0\n",
    "for i in range (m):\n",
    "    matriz01 [i, 5] = betaMl - (alfaMl * np.log(-np.log(matriz01 [i, 3])))\n",
    "    prueba = (matriz01 [i, 1] - matriz01 [i, 5]) ** 2\n",
    "    EEMomL = EEMomL + prueba\n",
    "        \n",
    "EEMomL = (EEMomL / (m - 2)) ** 0.5  # Se estima el error estandart para dos parametros\n",
    "print ('Distribución Gumbel, error estandart (momentos_L): ', EEMomL)\n",
    "EEstandart[0, 0] = EEMom\n",
    "EEstandart[0, 1] = EEMomL"
   ]
  },
  {
   "cell_type": "code",
   "execution_count": 10,
   "id": "4d0b0130-9ed2-4eee-a3bb-eb984c857aec",
   "metadata": {},
   "outputs": [],
   "source": [
    "# Se llena la matriz02\n",
    "#********************************************************************************************\n",
    "        \n",
    "n = 12\n",
    "for i in range (n):\n",
    "    matriz02 [i ,1] = 1.0 - (1.0 / matriz02 [i, 0]) #Columna de F(x)\n",
    "            \n",
    "                        # Valores extrapolados\n",
    "                        # Momentos\n",
    "                        \n",
    "    matriz02 [i, 2] = beta - (alfa * np.log(-np.log(matriz02 [i, 1])))\n",
    "            \n",
    "                        # Momentos-L\n",
    "                        \n",
    "    matriz02 [i, 3] = betaMl - (alfaMl * np.log(-np.log(matriz02 [i, 1])))"
   ]
  },
  {
   "cell_type": "code",
   "execution_count": 11,
   "id": "96d92ed2-d47f-4580-abdd-9c26419a6282",
   "metadata": {},
   "outputs": [],
   "source": [
    "columnas = ['No Orden', 'Gastos Registrados', 'Tr (Anios)', 'F(x)', 'Valor Ajustado (Momentos)', 'Valor Ajustado (Momentos-L)']\n",
    "cD = pd.DataFrame(matriz01, columns = columnas)\n",
    "        \n",
    "cD.insert(6, 'Tr', matriz02 [:, 0])\n",
    "cD.insert(7, 'F(X)', matriz02 [:, 1])\n",
    "cD.insert(8, 'Valor Extrapolado (Momentos)', matriz02 [:, 2])\n",
    "cD.insert(9, 'Valor Extrapolado (Momentos-L)', matriz02[:, 3])\n",
    "cD.insert(10, 'Error Estandart \"Momentos\"', EEstandart[:, 0])\n",
    "cD.insert(11, 'Error Estandart \"Momentos-L\"', EEstandart[:, 1])"
   ]
  },
  {
   "cell_type": "code",
   "execution_count": 12,
   "id": "002d97d7-6680-4958-8693-5239e46867a0",
   "metadata": {},
   "outputs": [
    {
     "data": {
      "image/png": "[encoded data removed]",
      "text/plain": [
       "<Figure size 640x480 with 2 Axes>"
      ]
     },
     "metadata": {},
     "output_type": "display_data"
    },
    {
     "data": {
      "image/png": "[encoded data removed]",
      "text/plain": [
       "<Figure size 640x480 with 2 Axes>"
      ]
     },
     "metadata": {},
     "output_type": "display_data"
    },
    {
     "data": {
      "image/png": "[encoded data removed]",
      "text/plain": [
       "<Figure size 640x480 with 2 Axes>"
      ]
     },
     "metadata": {},
     "output_type": "display_data"
    }
   ],
   "source": [
    "#*********************** * ********************************************************************\n",
    "# Graficos\n",
    "#********************************************************************************************\n",
    "titulo0 = \"Distribucion Gumbel (Momentos)\\n EE= \" + str(EEMom)\n",
    "titulo1 = \"Distribucion Gumbel (Momentos-L)\\n EE= \" + str(EEMomL)\n",
    "\n",
    "tR = matriz01 [:, 2]\n",
    "dReg = matriz01 [:, 1]\n",
    "dAjustMom = matriz01 [:, 4]\n",
    "dAjustMax = matriz01 [:, 5]\n",
    "dExtrapMom = matriz02 [:12, 2]\n",
    "dExtrapMax = matriz02 [:12, 3]\n",
    "dTrExtrap = matriz02 [:12, 0]\n",
    "\n",
    "#*********************** * ********************************************************************\n",
    "        \n",
    "pl.subplot(2,1,1)\n",
    "pl.subplots_adjust(hspace=0.3)\n",
    "pl.scatter(tR, dReg, label='Datos Registrados', marker='.')\n",
    "pl.plot(tR, dAjustMom, color=\"r\", linewidth=\"1.0\", linestyle=\"-\", label =\"Datos Ajustados\")\n",
    "pl.legend(loc=\"best\")\n",
    "pl.title(titulo0)\n",
    "pl.ylabel(\"Gastos (m^3/s)\")\n",
    "pl.semilogx(True)\n",
    "pl.grid(True, which='both', color='g', linestyle='-', linewidth=0.5)\n",
    "        \n",
    "pl.subplot(2,1,2)\n",
    "pl.scatter(tR, dReg, label='Datos Registrados', marker='.')\n",
    "pl.plot(dTrExtrap, dExtrapMom, color=\"r\", linewidth=\"1.0\", linestyle=\"-\", label =\"Datos Extrapolados\")\n",
    "pl.legend(loc=\"best\")\n",
    "pl.ylabel(\"Gastos (m^3/s)\")\n",
    "pl.xlabel(\"(Tr) Periodos de Retorno\")\n",
    "pl.semilogx(True)\n",
    "pl.grid(True, which='both', color='g', linestyle='-', linewidth=0.5)\n",
    "        \n",
    "#pl.savefig(\"salidas/GumbelMom.png\", dpi=1200)\n",
    "pl.show()\n",
    "        \n",
    "        #*********************** * ********************************************************************\n",
    "        \n",
    "pl.subplot(2,1,1)\n",
    "pl.subplots_adjust(hspace=0.3)\n",
    "pl.scatter(tR, dReg, label='Datos Registrados', marker='.')\n",
    "pl.plot(tR, dAjustMax, color=\"r\", linewidth=\"1.0\", linestyle=\"-\", label =\"Datos Ajustados\")\n",
    "pl.legend(loc=\"best\")\n",
    "pl.title(titulo1)\n",
    "pl.ylabel(\"Gastos (m^3/s)\")\n",
    "pl.semilogx(True)\n",
    "pl.grid(True, which='both', color='g', linestyle='-', linewidth=0.5)\n",
    "\n",
    "pl.subplot(2,1,2)\n",
    "pl.scatter(tR, dReg, label='Datos Registrados', marker='.')\n",
    "pl.plot(dTrExtrap, dExtrapMax, color=\"r\", linewidth=\"1.0\", linestyle=\"-\", label =\"Datos Extrapolados\")\n",
    "pl.legend(loc=\"best\")\n",
    "pl.ylabel(\"Gastos (m^3/s)\")\n",
    "pl.xlabel(\"(Tr) Periodos de Retorno\")\n",
    "pl.semilogx(True)\n",
    "pl.grid(True, which='both', color='g', linestyle='-', linewidth=0.5)\n",
    "\n",
    "#pl.savefig(\"salidas/GumbelMom-L.png\", dpi=1200)\n",
    "pl.show()\n",
    "        \n",
    "#*********************** * ********************************************************************\n",
    "\n",
    "pl.subplot(2,1,1)\n",
    "pl.subplots_adjust(hspace=0.3)\n",
    "pl.scatter(tR, dReg, label='Datos Registrados', marker='.')\n",
    "pl.plot(tR, dAjustMom, color=\"r\", linewidth=\"1.0\", linestyle=\"-\", label =\"Datos Ajustados Mom\")\n",
    "pl.plot(tR, dAjustMax, color=\"g\", linewidth=\"1.0\", linestyle=\"-\", label =\"Datos Ajustados Mom-L\")\n",
    "pl.legend(loc=\"best\")\n",
    "pl.title(\"Distribucion Gumbel\\n Momentos y Momentos-L\")\n",
    "pl.ylabel(\"Gastos (m^3/s)\")\n",
    "pl.semilogx(True)\n",
    "pl.grid(True, which='both', color='g', linestyle='-', linewidth=0.5)\n",
    "        \n",
    "pl.subplot(2,1,2)\n",
    "pl.scatter(tR, dReg, label='Datos Registrados', marker='.')\n",
    "pl.plot(dTrExtrap, dExtrapMom, color=\"r\", linewidth=\"1.0\", linestyle=\"-\", label =\"D Extrap Mom\")\n",
    "pl.plot(dTrExtrap, dExtrapMax, color=\"g\", linewidth=\"1.0\", linestyle=\"-\", label =\"D Extrap Mom-L\")\n",
    "pl.legend(loc=\"best\")\n",
    "pl.ylabel(\"Gastos (m^3/s)\")\n",
    "pl.xlabel(\"(Tr) Periodos de Retorno\")\n",
    "pl.semilogx(True)\n",
    "pl.grid(True, which='both', color='g', linestyle='-', linewidth=0.5)\n",
    "\n",
    "#pl.savefig(\"salidas/GumbelMomMom-L.png\", dpi=1200)\n",
    "pl.show()"
   ]
  },
  {
   "cell_type": "code",
   "execution_count": 31,
   "id": "9567adee-c4eb-434b-ae9f-0d9e54fd0f14",
   "metadata": {},
   "outputs": [
    {
     "data": {
      "application/vnd.plotly.v1+json": {
       "config": {
        "plotlyServerURL": "https://plot.ly"
       },
       "data": [
        {
         "marker": {
          "color": "blue"
         },
         "mode": "markers",
         "name": "Datos Registrados",
         "type": "scatter",
         "x": [
          63,
          31.5,
          21,
          15.75,
          12.6,
          10.5,
          9,
          7.875,
          7,
          6.3,
          5.7272727272727275,
          5.25,
          4.846153846153846,
          4.5,
          4.2,
          3.9375,
          3.7058823529411766,
          3.5,
          3.3157894736842106,
          3.15,
          3,
          2.8636363636363638,
          2.739130434782609,
          2.625,
          2.52,
          2.423076923076923,
          2.3333333333333335,
          2.25,
          2.1724137931034484,
          2.1,
          2.032258064516129,
          1.96875,
          1.9090909090909092,
          1.8529411764705883,
          1.8,
          1.75,
          1.7027027027027026,
          1.6578947368421053,
          1.6153846153846154,
          1.575,
          1.5365853658536586,
          1.5,
          1.4651162790697674,
          1.4318181818181819,
          1.4,
          1.3695652173913044,
          1.3404255319148937,
          1.3125,
          1.2857142857142858,
          1.26,
          1.2352941176470589,
          1.2115384615384615,
          1.1886792452830188,
          1.1666666666666667,
          1.1454545454545455,
          1.125,
          1.105263157894737,
          1.0862068965517242,
          1.0677966101694916,
          1.05,
          1.0327868852459017,
          1.0161290322580645
         ],
         "xaxis": "x",
         "y": [
          13713,
          11800,
          4235,
          3992,
          3979,
          3662,
          3533,
          3388,
          3245,
          3205,
          2917,
          2747,
          2734,
          2654,
          2583,
          2319,
          2311,
          2310,
          2248,
          2150,
          2133,
          1899,
          1899,
          1894,
          1861,
          1797,
          1771,
          1716,
          1652,
          1640,
          1631,
          1598,
          1507,
          1494,
          1397,
          1395,
          1371,
          1332,
          1288,
          1244,
          1232,
          1202,
          1173,
          1157,
          1131,
          1087,
          1049,
          1030,
          1030,
          1014,
          995,
          954,
          925,
          922,
          907,
          852,
          832,
          751,
          743,
          720,
          652,
          632
         ],
         "yaxis": "y"
        },
        {
         "line": {
          "color": "red",
          "width": 1
         },
         "mode": "lines",
         "name": "Datos Ajustados",
         "type": "scatter",
         "x": [
          63,
          31.5,
          21,
          15.75,
          12.6,
          10.5,
          9,
          7.875,
          7,
          6.3,
          5.7272727272727275,
          5.25,
          4.846153846153846,
          4.5,
          4.2,
          3.9375,
          3.7058823529411766,
          3.5,
          3.3157894736842106,
          3.15,
          3,
          2.8636363636363638,
          2.739130434782609,
          2.625,
          2.52,
          2.423076923076923,
          2.3333333333333335,
          2.25,
          2.1724137931034484,
          2.1,
          2.032258064516129,
          1.96875,
          1.9090909090909092,
          1.8529411764705883,
          1.8,
          1.75,
          1.7027027027027026,
          1.6578947368421053,
          1.6153846153846154,
          1.575,
          1.5365853658536586,
          1.5,
          1.4651162790697674,
          1.4318181818181819,
          1.4,
          1.3695652173913044,
          1.3404255319148937,
          1.3125,
          1.2857142857142858,
          1.26,
          1.2352941176470589,
          1.2115384615384615,
          1.1886792452830188,
          1.1666666666666667,
          1.1454545454545455,
          1.125,
          1.105263157894737,
          1.0862068965517242,
          1.0677966101694916,
          1.05,
          1.0327868852459017,
          1.0161290322580645
         ],
         "xaxis": "x",
         "y": [
          8161.4708265169365,
          6976.461998223173,
          6277.408957794666,
          5777.199621880386,
          5385.852011358346,
          5063.282167473448,
          4788.10486995865,
          4547.552083191447,
          4333.385373058994,
          4139.976928701746,
          3963.310081096877,
          3800.416545643737,
          3649.039681635934,
          3507.4228860272624,
          3374.1711532997692,
          3248.157389773457,
          3128.457162525343,
          3014.3021089925505,
          2905.045940371433,
          2800.1391541991097,
          2699.1099001677176,
          2601.549276426261,
          2507.0998699579477,
          2415.4467079783913,
          2326.310024994451,
          2239.4394130578967,
          2154.6090362541495,
          2071.613670733498,
          1990.2653890858478,
          1910.3907494807836,
          1831.8283803623212,
          1754.4268737326074,
          1678.0429163202625,
          1602.5395996708892,
          1527.7848584105268,
          1453.6499912639633,
          1380.0082222387657,
          1306.733259867964,
          1233.6978104812918,
          1160.7719968575568,
          1087.8216257266913,
          1014.7062354857883,
          941.2768376664574,
          867.3732398115262,
          792.8207998674573,
          717.4264072850101,
          640.9734046431315,
          563.2150408927481,
          483.86585831532216,
          402.5901169589092,
          318.9858758733294,
          232.5625377395645,
          142.70824762425855,
          48.640959099092015,
          -50.66796129985937,
          -156.6188062714018,
          -271.2007071639116,
          -397.3982152116639,
          -540.0326100804591,
          -707.7666077565445,
          -919.0446063141208,
          -1228.4285411352434
         ],
         "yaxis": "y"
        },
        {
         "marker": {
          "color": "purple"
         },
         "mode": "markers",
         "name": "Datos Registrados",
         "type": "scatter",
         "x": [
          63,
          31.5,
          21,
          15.75,
          12.6,
          10.5,
          9,
          7.875,
          7,
          6.3,
          5.7272727272727275,
          5.25,
          4.846153846153846,
          4.5,
          4.2,
          3.9375,
          3.7058823529411766,
          3.5,
          3.3157894736842106,
          3.15,
          3,
          2.8636363636363638,
          2.739130434782609,
          2.625,
          2.52,
          2.423076923076923,
          2.3333333333333335,
          2.25,
          2.1724137931034484,
          2.1,
          2.032258064516129,
          1.96875,
          1.9090909090909092,
          1.8529411764705883,
          1.8,
          1.75,
          1.7027027027027026,
          1.6578947368421053,
          1.6153846153846154,
          1.575,
          1.5365853658536586,
          1.5,
          1.4651162790697674,
          1.4318181818181819,
          1.4,
          1.3695652173913044,
          1.3404255319148937,
          1.3125,
          1.2857142857142858,
          1.26,
          1.2352941176470589,
          1.2115384615384615,
          1.1886792452830188,
          1.1666666666666667,
          1.1454545454545455,
          1.125,
          1.105263157894737,
          1.0862068965517242,
          1.0677966101694916,
          1.05,
          1.0327868852459017,
          1.0161290322580645
         ],
         "xaxis": "x2",
         "y": [
          13713,
          11800,
          4235,
          3992,
          3979,
          3662,
          3533,
          3388,
          3245,
          3205,
          2917,
          2747,
          2734,
          2654,
          2583,
          2319,
          2311,
          2310,
          2248,
          2150,
          2133,
          1899,
          1899,
          1894,
          1861,
          1797,
          1771,
          1716,
          1652,
          1640,
          1631,
          1598,
          1507,
          1494,
          1397,
          1395,
          1371,
          1332,
          1288,
          1244,
          1232,
          1202,
          1173,
          1157,
          1131,
          1087,
          1049,
          1030,
          1030,
          1014,
          995,
          954,
          925,
          922,
          907,
          852,
          832,
          751,
          743,
          720,
          652,
          632
         ],
         "yaxis": "y2"
        },
        {
         "line": {
          "color": "green",
          "width": 1
         },
         "mode": "lines",
         "name": "Datos Extrapolados",
         "type": "scatter",
         "x": [
          2,
          5,
          10,
          20,
          50,
          100,
          200,
          500,
          1000,
          2000,
          5000,
          10000
         ],
         "xaxis": "x2",
         "y": [
          1792.9916454897261,
          3708.3301808741107,
          4976.450950403634,
          6192.862838275601,
          7767.383254628905,
          8947.264738157452,
          10122.841032345696,
          11673.790728496093,
          12845.961760314152,
          14017.70953250513,
          15566.370567129736,
          16737.78011269151
         ],
         "yaxis": "y2"
        }
       ],
       "layout": {
        "annotations": [
         {
          "font": {
           "size": 16
          },
          "showarrow": false,
          "text": "Datos ajustados",
          "x": 0.5,
          "xanchor": "center",
          "xref": "paper",
          "y": 1,
          "yanchor": "bottom",
          "yref": "paper"
         },
         {
          "font": {
           "size": 16
          },
          "showarrow": false,
          "text": "Datos extrapolados",
          "x": 0.5,
          "xanchor": "center",
          "xref": "paper",
          "y": 0.455,
          "yanchor": "bottom",
          "yref": "paper"
         }
        ],
        "autosize": true,
        "legend": {
         "x": 0.004,
         "y": 0.99
        },
        "showlegend": true,
        "template": {
         "data": {
          "bar": [
           {
            "error_x": {
             "color": "#2a3f5f"
            },
            "error_y": {
             "color": "#2a3f5f"
            },
            "marker": {
             "line": {
              "color": "#E5ECF6",
              "width": 0.5
             },
             "pattern": {
              "fillmode": "overlay",
              "size": 10,
              "solidity": 0.2
             }
            },
            "type": "bar"
           }
          ],
          "barpolar": [
           {
            "marker": {
             "line": {
              "color": "#E5ECF6",
              "width": 0.5
             },
             "pattern": {
              "fillmode": "overlay",
              "size": 10,
              "solidity": 0.2
             }
            },
            "type": "barpolar"
           }
          ],
          "carpet": [
           {
            "aaxis": {
             "endlinecolor": "#2a3f5f",
             "gridcolor": "white",
             "linecolor": "white",
             "minorgridcolor": "white",
             "startlinecolor": "#2a3f5f"
            },
            "baxis": {
             "endlinecolor": "#2a3f5f",
             "gridcolor": "white",
             "linecolor": "white",
             "minorgridcolor": "white",
             "startlinecolor": "#2a3f5f"
            },
            "type": "carpet"
           }
          ],
          "choropleth": [
           {
            "colorbar": {
             "outlinewidth": 0,
             "ticks": ""
            },
            "type": "choropleth"
           }
          ],
          "contour": [
           {
            "colorbar": {
             "outlinewidth": 0,
             "ticks": ""
            },
            "colorscale": [
             [
              0,
              "#0d0887"
             ],
             [
              0.1111111111111111,
              "#46039f"
             ],
             [
              0.2222222222222222,
              "#7201a8"
             ],
             [
              0.3333333333333333,
              "#9c179e"
             ],
             [
              0.4444444444444444,
              "#bd3786"
             ],
             [
              0.5555555555555556,
              "#d8576b"
             ],
             [
              0.6666666666666666,
              "#ed7953"
             ],
             [
              0.7777777777777778,
              "#fb9f3a"
             ],
             [
              0.8888888888888888,
              "#fdca26"
             ],
             [
              1,
              "#f0f921"
             ]
            ],
            "type": "contour"
           }
          ],
          "contourcarpet": [
           {
            "colorbar": {
             "outlinewidth": 0,
             "ticks": ""
            },
            "type": "contourcarpet"
           }
          ],
          "heatmap": [
           {
            "colorbar": {
             "outlinewidth": 0,
             "ticks": ""
            },
            "colorscale": [
             [
              0,
              "#0d0887"
             ],
             [
              0.1111111111111111,
              "#46039f"
             ],
             [
              0.2222222222222222,
              "#7201a8"
             ],
             [
              0.3333333333333333,
              "#9c179e"
             ],
             [
              0.4444444444444444,
              "#bd3786"
             ],
             [
              0.5555555555555556,
              "#d8576b"
             ],
             [
              0.6666666666666666,
              "#ed7953"
             ],
             [
              0.7777777777777778,
              "#fb9f3a"
             ],
             [
              0.8888888888888888,
              "#fdca26"
             ],
             [
              1,
              "#f0f921"
             ]
            ],
            "type": "heatmap"
           }
          ],
          "heatmapgl": [
           {
            "colorbar": {
             "outlinewidth": 0,
             "ticks": ""
            },
            "colorscale": [
             [
              0,
              "#0d0887"
             ],
             [
              0.1111111111111111,
              "#46039f"
             ],
             [
              0.2222222222222222,
              "#7201a8"
             ],
             [
              0.3333333333333333,
              "#9c179e"
             ],
             [
              0.4444444444444444,
              "#bd3786"
             ],
             [
              0.5555555555555556,
              "#d8576b"
             ],
             [
              0.6666666666666666,
              "#ed7953"
             ],
             [
              0.7777777777777778,
              "#fb9f3a"
             ],
             [
              0.8888888888888888,
              "#fdca26"
             ],
             [
              1,
              "#f0f921"
             ]
            ],
            "type": "heatmapgl"
           }
          ],
          "histogram": [
           {
            "marker": {
             "pattern": {
              "fillmode": "overlay",
              "size": 10,
              "solidity": 0.2
             }
            },
            "type": "histogram"
           }
          ],
          "histogram2d": [
           {
            "colorbar": {
             "outlinewidth": 0,
             "ticks": ""
            },
            "colorscale": [
             [
              0,
              "#0d0887"
             ],
             [
              0.1111111111111111,
              "#46039f"
             ],
             [
              0.2222222222222222,
              "#7201a8"
             ],
             [
              0.3333333333333333,
              "#9c179e"
             ],
             [
              0.4444444444444444,
              "#bd3786"
             ],
             [
              0.5555555555555556,
              "#d8576b"
             ],
             [
              0.6666666666666666,
              "#ed7953"
             ],
             [
              0.7777777777777778,
              "#fb9f3a"
             ],
             [
              0.8888888888888888,
              "#fdca26"
             ],
             [
              1,
              "#f0f921"
             ]
            ],
            "type": "histogram2d"
           }
          ],
          "histogram2dcontour": [
           {
            "colorbar": {
             "outlinewidth": 0,
             "ticks": ""
            },
            "colorscale": [
             [
              0,
              "#0d0887"
             ],
             [
              0.1111111111111111,
              "#46039f"
             ],
             [
              0.2222222222222222,
              "#7201a8"
             ],
             [
              0.3333333333333333,
              "#9c179e"
             ],
             [
              0.4444444444444444,
              "#bd3786"
             ],
             [
              0.5555555555555556,
              "#d8576b"
             ],
             [
              0.6666666666666666,
              "#ed7953"
             ],
             [
              0.7777777777777778,
              "#fb9f3a"
             ],
             [
              0.8888888888888888,
              "#fdca26"
             ],
             [
              1,
              "#f0f921"
             ]
            ],
            "type": "histogram2dcontour"
           }
          ],
          "mesh3d": [
           {
            "colorbar": {
             "outlinewidth": 0,
             "ticks": ""
            },
            "type": "mesh3d"
           }
          ],
          "parcoords": [
           {
            "line": {
             "colorbar": {
              "outlinewidth": 0,
              "ticks": ""
             }
            },
            "type": "parcoords"
           }
          ],
          "pie": [
           {
            "automargin": true,
            "type": "pie"
           }
          ],
          "scatter": [
           {
            "fillpattern": {
             "fillmode": "overlay",
             "size": 10,
             "solidity": 0.2
            },
            "type": "scatter"
           }
          ],
          "scatter3d": [
           {
            "line": {
             "colorbar": {
              "outlinewidth": 0,
              "ticks": ""
             }
            },
            "marker": {
             "colorbar": {
              "outlinewidth": 0,
              "ticks": ""
             }
            },
            "type": "scatter3d"
           }
          ],
          "scattercarpet": [
           {
            "marker": {
             "colorbar": {
              "outlinewidth": 0,
              "ticks": ""
             }
            },
            "type": "scattercarpet"
           }
          ],
          "scattergeo": [
           {
            "marker": {
             "colorbar": {
              "outlinewidth": 0,
              "ticks": ""
             }
            },
            "type": "scattergeo"
           }
          ],
          "scattergl": [
           {
            "marker": {
             "colorbar": {
              "outlinewidth": 0,
              "ticks": ""
             }
            },
            "type": "scattergl"
           }
          ],
          "scattermapbox": [
           {
            "marker": {
             "colorbar": {
              "outlinewidth": 0,
              "ticks": ""
             }
            },
            "type": "scattermapbox"
           }
          ],
          "scatterpolar": [
           {
            "marker": {
             "colorbar": {
              "outlinewidth": 0,
              "ticks": ""
             }
            },
            "type": "scatterpolar"
           }
          ],
          "scatterpolargl": [
           {
            "marker": {
             "colorbar": {
              "outlinewidth": 0,
              "ticks": ""
             }
            },
            "type": "scatterpolargl"
           }
          ],
          "scatterternary": [
           {
            "marker": {
             "colorbar": {
              "outlinewidth": 0,
              "ticks": ""
             }
            },
            "type": "scatterternary"
           }
          ],
          "surface": [
           {
            "colorbar": {
             "outlinewidth": 0,
             "ticks": ""
            },
            "colorscale": [
             [
              0,
              "#0d0887"
             ],
             [
              0.1111111111111111,
              "#46039f"
             ],
             [
              0.2222222222222222,
              "#7201a8"
             ],
             [
              0.3333333333333333,
              "#9c179e"
             ],
             [
              0.4444444444444444,
              "#bd3786"
             ],
             [
              0.5555555555555556,
              "#d8576b"
             ],
             [
              0.6666666666666666,
              "#ed7953"
             ],
             [
              0.7777777777777778,
              "#fb9f3a"
             ],
             [
              0.8888888888888888,
              "#fdca26"
             ],
             [
              1,
              "#f0f921"
             ]
            ],
            "type": "surface"
           }
          ],
          "table": [
           {
            "cells": {
             "fill": {
              "color": "#EBF0F8"
             },
             "line": {
              "color": "white"
             }
            },
            "header": {
             "fill": {
              "color": "#C8D4E3"
             },
             "line": {
              "color": "white"
             }
            },
            "type": "table"
           }
          ]
         },
         "layout": {
          "annotationdefaults": {
           "arrowcolor": "#2a3f5f",
           "arrowhead": 0,
           "arrowwidth": 1
          },
          "autotypenumbers": "strict",
          "coloraxis": {
           "colorbar": {
            "outlinewidth": 0,
            "ticks": ""
           }
          },
          "colorscale": {
           "diverging": [
            [
             0,
             "#8e0152"
            ],
            [
             0.1,
             "#c51b7d"
            ],
            [
             0.2,
             "#de77ae"
            ],
            [
             0.3,
             "#f1b6da"
            ],
            [
             0.4,
             "#fde0ef"
            ],
            [
             0.5,
             "#f7f7f7"
            ],
            [
             0.6,
             "#e6f5d0"
            ],
            [
             0.7,
             "#b8e186"
            ],
            [
             0.8,
             "#7fbc41"
            ],
            [
             0.9,
             "#4d9221"
            ],
            [
             1,
             "#276419"
            ]
           ],
           "sequential": [
            [
             0,
             "#0d0887"
            ],
            [
             0.1111111111111111,
             "#46039f"
            ],
            [
             0.2222222222222222,
             "#7201a8"
            ],
            [
             0.3333333333333333,
             "#9c179e"
            ],
            [
             0.4444444444444444,
             "#bd3786"
            ],
            [
             0.5555555555555556,
             "#d8576b"
            ],
            [
             0.6666666666666666,
             "#ed7953"
            ],
            [
             0.7777777777777778,
             "#fb9f3a"
            ],
            [
             0.8888888888888888,
             "#fdca26"
            ],
            [
             1,
             "#f0f921"
            ]
           ],
           "sequentialminus": [
            [
             0,
             "#0d0887"
            ],
            [
             0.1111111111111111,
             "#46039f"
            ],
            [
             0.2222222222222222,
             "#7201a8"
            ],
            [
             0.3333333333333333,
             "#9c179e"
            ],
            [
             0.4444444444444444,
             "#bd3786"
            ],
            [
             0.5555555555555556,
             "#d8576b"
            ],
            [
             0.6666666666666666,
             "#ed7953"
            ],
            [
             0.7777777777777778,
             "#fb9f3a"
            ],
            [
             0.8888888888888888,
             "#fdca26"
            ],
            [
             1,
             "#f0f921"
            ]
           ]
          },
          "colorway": [
           "#636efa",
           "#EF553B",
           "#00cc96",
           "#ab63fa",
           "#FFA15A",
           "#19d3f3",
           "#FF6692",
           "#B6E880",
           "#FF97FF",
           "#FECB52"
          ],
          "font": {
           "color": "#2a3f5f"
          },
          "geo": {
           "bgcolor": "white",
           "lakecolor": "white",
           "landcolor": "#E5ECF6",
           "showlakes": true,
           "showland": true,
           "subunitcolor": "white"
          },
          "hoverlabel": {
           "align": "left"
          },
          "hovermode": "closest",
          "mapbox": {
           "style": "light"
          },
          "paper_bgcolor": "white",
          "plot_bgcolor": "#E5ECF6",
          "polar": {
           "angularaxis": {
            "gridcolor": "white",
            "linecolor": "white",
            "ticks": ""
           },
           "bgcolor": "#E5ECF6",
           "radialaxis": {
            "gridcolor": "white",
            "linecolor": "white",
            "ticks": ""
           }
          },
          "scene": {
           "xaxis": {
            "backgroundcolor": "#E5ECF6",
            "gridcolor": "white",
            "gridwidth": 2,
            "linecolor": "white",
            "showbackground": true,
            "ticks": "",
            "zerolinecolor": "white"
           },
           "yaxis": {
            "backgroundcolor": "#E5ECF6",
            "gridcolor": "white",
            "gridwidth": 2,
            "linecolor": "white",
            "showbackground": true,
            "ticks": "",
            "zerolinecolor": "white"
           },
           "zaxis": {
            "backgroundcolor": "#E5ECF6",
            "gridcolor": "white",
            "gridwidth": 2,
            "linecolor": "white",
            "showbackground": true,
            "ticks": "",
            "zerolinecolor": "white"
           }
          },
          "shapedefaults": {
           "line": {
            "color": "#2a3f5f"
           }
          },
          "ternary": {
           "aaxis": {
            "gridcolor": "white",
            "linecolor": "white",
            "ticks": ""
           },
           "baxis": {
            "gridcolor": "white",
            "linecolor": "white",
            "ticks": ""
           },
           "bgcolor": "#E5ECF6",
           "caxis": {
            "gridcolor": "white",
            "linecolor": "white",
            "ticks": ""
           }
          },
          "title": {
           "x": 0.05
          },
          "xaxis": {
           "automargin": true,
           "gridcolor": "white",
           "linecolor": "white",
           "ticks": "",
           "title": {
            "standoff": 15
           },
           "zerolinecolor": "white",
           "zerolinewidth": 2
          },
          "yaxis": {
           "automargin": true,
           "gridcolor": "white",
           "linecolor": "white",
           "ticks": "",
           "title": {
            "standoff": 15
           },
           "zerolinecolor": "white",
           "zerolinewidth": 2
          }
         }
        },
        "title": {
         "text": "Distribucion Gumbel (Momentos) <br>EE= 1278.3284288597074",
         "x": 0.5
        },
        "xaxis": {
         "anchor": "y",
         "domain": [
          0,
          1
         ],
         "gridcolor": "lightgray",
         "range": [
          0,
          2
         ],
         "showgrid": true,
         "type": "log"
        },
        "xaxis2": {
         "anchor": "y2",
         "domain": [
          0,
          1
         ],
         "gridcolor": "lightgray",
         "range": [
          0,
          4
         ],
         "showgrid": true,
         "title": {
          "text": "Tr (Periodos de retorno)"
         },
         "type": "log"
        },
        "yaxis": {
         "anchor": "x",
         "autorange": true,
         "domain": [
          0.545,
          1
         ],
         "gridcolor": "lightgray",
         "range": [
          -2103.001866977851,
          15388.464649874299
         ],
         "showgrid": true,
         "title": {
          "text": "Gastos (m³/s)"
         },
         "type": "linear"
        },
        "yaxis2": {
         "anchor": "x2",
         "autorange": true,
         "domain": [
          0,
          0.455
         ],
         "gridcolor": "lightgray",
         "range": [
          -1174.029802516651,
          17680.506950334046
         ],
         "showgrid": true,
         "title": {
          "text": "Gastos (m³/s)"
         },
         "type": "linear"
        }
       }
      },
      "image/png": "[encoded data removed]",
      "text/html": [
       "<div>                            <div id=\"60a6b4e1-0fc0-469e-8c7d-19b2f4073915\" class=\"plotly-graph-div\" style=\"height:525px; width:100%;\"></div>            <script type=\"text/javascript\">                require([\"plotly\"], function(Plotly) {                    window.PLOTLYENV=window.PLOTLYENV || {};                                    if (document.getElementById(\"60a6b4e1-0fc0-469e-8c7d-19b2f4073915\")) {                    Plotly.newPlot(                        \"60a6b4e1-0fc0-469e-8c7d-19b2f4073915\",                        [{\"marker\":{\"color\":\"blue\"},\"mode\":\"markers\",\"name\":\"Datos Registrados\",\"x\":[63.0,31.5,21.0,15.75,12.6,10.5,9.0,7.875,7.0,6.3,5.7272727272727275,5.25,4.846153846153846,4.5,4.2,3.9375,3.7058823529411766,3.5,3.3157894736842106,3.15,3.0,2.8636363636363638,2.739130434782609,2.625,2.52,2.423076923076923,2.3333333333333335,2.25,2.1724137931034484,2.1,2.032258064516129,1.96875,1.9090909090909092,1.8529411764705883,1.8,1.75,1.7027027027027026,1.6578947368421053,1.6153846153846154,1.575,1.5365853658536586,1.5,1.4651162790697674,1.4318181818181819,1.4,1.3695652173913044,1.3404255319148937,1.3125,1.2857142857142858,1.26,1.2352941176470589,1.2115384615384615,1.1886792452830188,1.1666666666666667,1.1454545454545455,1.125,1.105263157894737,1.0862068965517242,1.0677966101694916,1.05,1.0327868852459017,1.0161290322580645],\"y\":[13713.0,11800.0,4235.0,3992.0,3979.0,3662.0,3533.0,3388.0,3245.0,3205.0,2917.0,2747.0,2734.0,2654.0,2583.0,2319.0,2311.0,2310.0,2248.0,2150.0,2133.0,1899.0,1899.0,1894.0,1861.0,1797.0,1771.0,1716.0,1652.0,1640.0,1631.0,1598.0,1507.0,1494.0,1397.0,1395.0,1371.0,1332.0,1288.0,1244.0,1232.0,1202.0,1173.0,1157.0,1131.0,1087.0,1049.0,1030.0,1030.0,1014.0,995.0,954.0,925.0,922.0,907.0,852.0,832.0,751.0,743.0,720.0,652.0,632.0],\"type\":\"scatter\",\"xaxis\":\"x\",\"yaxis\":\"y\"},{\"line\":{\"color\":\"red\",\"width\":1},\"mode\":\"lines\",\"name\":\"Datos Ajustados\",\"x\":[63.0,31.5,21.0,15.75,12.6,10.5,9.0,7.875,7.0,6.3,5.7272727272727275,5.25,4.846153846153846,4.5,4.2,3.9375,3.7058823529411766,3.5,3.3157894736842106,3.15,3.0,2.8636363636363638,2.739130434782609,2.625,2.52,2.423076923076923,2.3333333333333335,2.25,2.1724137931034484,2.1,2.032258064516129,1.96875,1.9090909090909092,1.8529411764705883,1.8,1.75,1.7027027027027026,1.6578947368421053,1.6153846153846154,1.575,1.5365853658536586,1.5,1.4651162790697674,1.4318181818181819,1.4,1.3695652173913044,1.3404255319148937,1.3125,1.2857142857142858,1.26,1.2352941176470589,1.2115384615384615,1.1886792452830188,1.1666666666666667,1.1454545454545455,1.125,1.105263157894737,1.0862068965517242,1.0677966101694916,1.05,1.0327868852459017,1.0161290322580645],\"y\":[8161.4708265169365,6976.461998223173,6277.408957794666,5777.199621880386,5385.852011358346,5063.282167473448,4788.10486995865,4547.552083191447,4333.385373058994,4139.976928701746,3963.310081096877,3800.416545643737,3649.039681635934,3507.4228860272624,3374.1711532997692,3248.157389773457,3128.457162525343,3014.3021089925505,2905.045940371433,2800.1391541991097,2699.1099001677176,2601.549276426261,2507.0998699579477,2415.4467079783913,2326.310024994451,2239.4394130578967,2154.6090362541495,2071.613670733498,1990.2653890858478,1910.3907494807836,1831.8283803623212,1754.4268737326074,1678.0429163202625,1602.5395996708892,1527.7848584105268,1453.6499912639633,1380.0082222387657,1306.733259867964,1233.6978104812918,1160.7719968575568,1087.8216257266913,1014.7062354857883,941.2768376664574,867.3732398115262,792.8207998674573,717.4264072850101,640.9734046431315,563.2150408927481,483.86585831532216,402.5901169589092,318.9858758733294,232.5625377395645,142.70824762425855,48.640959099092015,-50.66796129985937,-156.6188062714018,-271.2007071639116,-397.3982152116639,-540.0326100804591,-707.7666077565445,-919.0446063141208,-1228.4285411352434],\"type\":\"scatter\",\"xaxis\":\"x\",\"yaxis\":\"y\"},{\"marker\":{\"color\":\"purple\"},\"mode\":\"markers\",\"name\":\"Datos Registrados\",\"x\":[63.0,31.5,21.0,15.75,12.6,10.5,9.0,7.875,7.0,6.3,5.7272727272727275,5.25,4.846153846153846,4.5,4.2,3.9375,3.7058823529411766,3.5,3.3157894736842106,3.15,3.0,2.8636363636363638,2.739130434782609,2.625,2.52,2.423076923076923,2.3333333333333335,2.25,2.1724137931034484,2.1,2.032258064516129,1.96875,1.9090909090909092,1.8529411764705883,1.8,1.75,1.7027027027027026,1.6578947368421053,1.6153846153846154,1.575,1.5365853658536586,1.5,1.4651162790697674,1.4318181818181819,1.4,1.3695652173913044,1.3404255319148937,1.3125,1.2857142857142858,1.26,1.2352941176470589,1.2115384615384615,1.1886792452830188,1.1666666666666667,1.1454545454545455,1.125,1.105263157894737,1.0862068965517242,1.0677966101694916,1.05,1.0327868852459017,1.0161290322580645],\"y\":[13713.0,11800.0,4235.0,3992.0,3979.0,3662.0,3533.0,3388.0,3245.0,3205.0,2917.0,2747.0,2734.0,2654.0,2583.0,2319.0,2311.0,2310.0,2248.0,2150.0,2133.0,1899.0,1899.0,1894.0,1861.0,1797.0,1771.0,1716.0,1652.0,1640.0,1631.0,1598.0,1507.0,1494.0,1397.0,1395.0,1371.0,1332.0,1288.0,1244.0,1232.0,1202.0,1173.0,1157.0,1131.0,1087.0,1049.0,1030.0,1030.0,1014.0,995.0,954.0,925.0,922.0,907.0,852.0,832.0,751.0,743.0,720.0,652.0,632.0],\"type\":\"scatter\",\"xaxis\":\"x2\",\"yaxis\":\"y2\"},{\"line\":{\"color\":\"green\",\"width\":1},\"mode\":\"lines\",\"name\":\"Datos Extrapolados\",\"x\":[2.0,5.0,10.0,20.0,50.0,100.0,200.0,500.0,1000.0,2000.0,5000.0,10000.0],\"y\":[1792.9916454897261,3708.3301808741107,4976.450950403634,6192.862838275601,7767.383254628905,8947.264738157452,10122.841032345696,11673.790728496093,12845.961760314152,14017.70953250513,15566.370567129736,16737.78011269151],\"type\":\"scatter\",\"xaxis\":\"x2\",\"yaxis\":\"y2\"}],                        {\"template\":{\"data\":{\"histogram2dcontour\":[{\"type\":\"histogram2dcontour\",\"colorbar\":{\"outlinewidth\":0,\"ticks\":\"\"},\"colorscale\":[[0.0,\"#0d0887\"],[0.1111111111111111,\"#46039f\"],[0.2222222222222222,\"#7201a8\"],[0.3333333333333333,\"#9c179e\"],[0.4444444444444444,\"#bd3786\"],[0.5555555555555556,\"#d8576b\"],[0.6666666666666666,\"#ed7953\"],[0.7777777777777778,\"#fb9f3a\"],[0.8888888888888888,\"#fdca26\"],[1.0,\"#f0f921\"]]}],\"choropleth\":[{\"type\":\"choropleth\",\"colorbar\":{\"outlinewidth\":0,\"ticks\":\"\"}}],\"histogram2d\":[{\"type\":\"histogram2d\",\"colorbar\":{\"outlinewidth\":0,\"ticks\":\"\"},\"colorscale\":[[0.0,\"#0d0887\"],[0.1111111111111111,\"#46039f\"],[0.2222222222222222,\"#7201a8\"],[0.3333333333333333,\"#9c179e\"],[0.4444444444444444,\"#bd3786\"],[0.5555555555555556,\"#d8576b\"],[0.6666666666666666,\"#ed7953\"],[0.7777777777777778,\"#fb9f3a\"],[0.8888888888888888,\"#fdca26\"],[1.0,\"#f0f921\"]]}],\"heatmap\":[{\"type\":\"heatmap\",\"colorbar\":{\"outlinewidth\":0,\"ticks\":\"\"},\"colorscale\":[[0.0,\"#0d0887\"],[0.1111111111111111,\"#46039f\"],[0.2222222222222222,\"#7201a8\"],[0.3333333333333333,\"#9c179e\"],[0.4444444444444444,\"#bd3786\"],[0.5555555555555556,\"#d8576b\"],[0.6666666666666666,\"#ed7953\"],[0.7777777777777778,\"#fb9f3a\"],[0.8888888888888888,\"#fdca26\"],[1.0,\"#f0f921\"]]}],\"heatmapgl\":[{\"type\":\"heatmapgl\",\"colorbar\":{\"outlinewidth\":0,\"ticks\":\"\"},\"colorscale\":[[0.0,\"#0d0887\"],[0.1111111111111111,\"#46039f\"],[0.2222222222222222,\"#7201a8\"],[0.3333333333333333,\"#9c179e\"],[0.4444444444444444,\"#bd3786\"],[0.5555555555555556,\"#d8576b\"],[0.6666666666666666,\"#ed7953\"],[0.7777777777777778,\"#fb9f3a\"],[0.8888888888888888,\"#fdca26\"],[1.0,\"#f0f921\"]]}],\"contourcarpet\":[{\"type\":\"contourcarpet\",\"colorbar\":{\"outlinewidth\":0,\"ticks\":\"\"}}],\"contour\":[{\"type\":\"contour\",\"colorbar\":{\"outlinewidth\":0,\"ticks\":\"\"},\"colorscale\":[[0.0,\"#0d0887\"],[0.1111111111111111,\"#46039f\"],[0.2222222222222222,\"#7201a8\"],[0.3333333333333333,\"#9c179e\"],[0.4444444444444444,\"#bd3786\"],[0.5555555555555556,\"#d8576b\"],[0.6666666666666666,\"#ed7953\"],[0.7777777777777778,\"#fb9f3a\"],[0.8888888888888888,\"#fdca26\"],[1.0,\"#f0f921\"]]}],\"surface\":[{\"type\":\"surface\",\"colorbar\":{\"outlinewidth\":0,\"ticks\":\"\"},\"colorscale\":[[0.0,\"#0d0887\"],[0.1111111111111111,\"#46039f\"],[0.2222222222222222,\"#7201a8\"],[0.3333333333333333,\"#9c179e\"],[0.4444444444444444,\"#bd3786\"],[0.5555555555555556,\"#d8576b\"],[0.6666666666666666,\"#ed7953\"],[0.7777777777777778,\"#fb9f3a\"],[0.8888888888888888,\"#fdca26\"],[1.0,\"#f0f921\"]]}],\"mesh3d\":[{\"type\":\"mesh3d\",\"colorbar\":{\"outlinewidth\":0,\"ticks\":\"\"}}],\"scatter\":[{\"fillpattern\":{\"fillmode\":\"overlay\",\"size\":10,\"solidity\":0.2},\"type\":\"scatter\"}],\"parcoords\":[{\"type\":\"parcoords\",\"line\":{\"colorbar\":{\"outlinewidth\":0,\"ticks\":\"\"}}}],\"scatterpolargl\":[{\"type\":\"scatterpolargl\",\"marker\":{\"colorbar\":{\"outlinewidth\":0,\"ticks\":\"\"}}}],\"bar\":[{\"error_x\":{\"color\":\"#2a3f5f\"},\"error_y\":{\"color\":\"#2a3f5f\"},\"marker\":{\"line\":{\"color\":\"#E5ECF6\",\"width\":0.5},\"pattern\":{\"fillmode\":\"overlay\",\"size\":10,\"solidity\":0.2}},\"type\":\"bar\"}],\"scattergeo\":[{\"type\":\"scattergeo\",\"marker\":{\"colorbar\":{\"outlinewidth\":0,\"ticks\":\"\"}}}],\"scatterpolar\":[{\"type\":\"scatterpolar\",\"marker\":{\"colorbar\":{\"outlinewidth\":0,\"ticks\":\"\"}}}],\"histogram\":[{\"marker\":{\"pattern\":{\"fillmode\":\"overlay\",\"size\":10,\"solidity\":0.2}},\"type\":\"histogram\"}],\"scattergl\":[{\"type\":\"scattergl\",\"marker\":{\"colorbar\":{\"outlinewidth\":0,\"ticks\":\"\"}}}],\"scatter3d\":[{\"type\":\"scatter3d\",\"line\":{\"colorbar\":{\"outlinewidth\":0,\"ticks\":\"\"}},\"marker\":{\"colorbar\":{\"outlinewidth\":0,\"ticks\":\"\"}}}],\"scattermapbox\":[{\"type\":\"scattermapbox\",\"marker\":{\"colorbar\":{\"outlinewidth\":0,\"ticks\":\"\"}}}],\"scatterternary\":[{\"type\":\"scatterternary\",\"marker\":{\"colorbar\":{\"outlinewidth\":0,\"ticks\":\"\"}}}],\"scattercarpet\":[{\"type\":\"scattercarpet\",\"marker\":{\"colorbar\":{\"outlinewidth\":0,\"ticks\":\"\"}}}],\"carpet\":[{\"aaxis\":{\"endlinecolor\":\"#2a3f5f\",\"gridcolor\":\"white\",\"linecolor\":\"white\",\"minorgridcolor\":\"white\",\"startlinecolor\":\"#2a3f5f\"},\"baxis\":{\"endlinecolor\":\"#2a3f5f\",\"gridcolor\":\"white\",\"linecolor\":\"white\",\"minorgridcolor\":\"white\",\"startlinecolor\":\"#2a3f5f\"},\"type\":\"carpet\"}],\"table\":[{\"cells\":{\"fill\":{\"color\":\"#EBF0F8\"},\"line\":{\"color\":\"white\"}},\"header\":{\"fill\":{\"color\":\"#C8D4E3\"},\"line\":{\"color\":\"white\"}},\"type\":\"table\"}],\"barpolar\":[{\"marker\":{\"line\":{\"color\":\"#E5ECF6\",\"width\":0.5},\"pattern\":{\"fillmode\":\"overlay\",\"size\":10,\"solidity\":0.2}},\"type\":\"barpolar\"}],\"pie\":[{\"automargin\":true,\"type\":\"pie\"}]},\"layout\":{\"autotypenumbers\":\"strict\",\"colorway\":[\"#636efa\",\"#EF553B\",\"#00cc96\",\"#ab63fa\",\"#FFA15A\",\"#19d3f3\",\"#FF6692\",\"#B6E880\",\"#FF97FF\",\"#FECB52\"],\"font\":{\"color\":\"#2a3f5f\"},\"hovermode\":\"closest\",\"hoverlabel\":{\"align\":\"left\"},\"paper_bgcolor\":\"white\",\"plot_bgcolor\":\"#E5ECF6\",\"polar\":{\"bgcolor\":\"#E5ECF6\",\"angularaxis\":{\"gridcolor\":\"white\",\"linecolor\":\"white\",\"ticks\":\"\"},\"radialaxis\":{\"gridcolor\":\"white\",\"linecolor\":\"white\",\"ticks\":\"\"}},\"ternary\":{\"bgcolor\":\"#E5ECF6\",\"aaxis\":{\"gridcolor\":\"white\",\"linecolor\":\"white\",\"ticks\":\"\"},\"baxis\":{\"gridcolor\":\"white\",\"linecolor\":\"white\",\"ticks\":\"\"},\"caxis\":{\"gridcolor\":\"white\",\"linecolor\":\"white\",\"ticks\":\"\"}},\"coloraxis\":{\"colorbar\":{\"outlinewidth\":0,\"ticks\":\"\"}},\"colorscale\":{\"sequential\":[[0.0,\"#0d0887\"],[0.1111111111111111,\"#46039f\"],[0.2222222222222222,\"#7201a8\"],[0.3333333333333333,\"#9c179e\"],[0.4444444444444444,\"#bd3786\"],[0.5555555555555556,\"#d8576b\"],[0.6666666666666666,\"#ed7953\"],[0.7777777777777778,\"#fb9f3a\"],[0.8888888888888888,\"#fdca26\"],[1.0,\"#f0f921\"]],\"sequentialminus\":[[0.0,\"#0d0887\"],[0.1111111111111111,\"#46039f\"],[0.2222222222222222,\"#7201a8\"],[0.3333333333333333,\"#9c179e\"],[0.4444444444444444,\"#bd3786\"],[0.5555555555555556,\"#d8576b\"],[0.6666666666666666,\"#ed7953\"],[0.7777777777777778,\"#fb9f3a\"],[0.8888888888888888,\"#fdca26\"],[1.0,\"#f0f921\"]],\"diverging\":[[0,\"#8e0152\"],[0.1,\"#c51b7d\"],[0.2,\"#de77ae\"],[0.3,\"#f1b6da\"],[0.4,\"#fde0ef\"],[0.5,\"#f7f7f7\"],[0.6,\"#e6f5d0\"],[0.7,\"#b8e186\"],[0.8,\"#7fbc41\"],[0.9,\"#4d9221\"],[1,\"#276419\"]]},\"xaxis\":{\"gridcolor\":\"white\",\"linecolor\":\"white\",\"ticks\":\"\",\"title\":{\"standoff\":15},\"zerolinecolor\":\"white\",\"automargin\":true,\"zerolinewidth\":2},\"yaxis\":{\"gridcolor\":\"white\",\"linecolor\":\"white\",\"ticks\":\"\",\"title\":{\"standoff\":15},\"zerolinecolor\":\"white\",\"automargin\":true,\"zerolinewidth\":2},\"scene\":{\"xaxis\":{\"backgroundcolor\":\"#E5ECF6\",\"gridcolor\":\"white\",\"linecolor\":\"white\",\"showbackground\":true,\"ticks\":\"\",\"zerolinecolor\":\"white\",\"gridwidth\":2},\"yaxis\":{\"backgroundcolor\":\"#E5ECF6\",\"gridcolor\":\"white\",\"linecolor\":\"white\",\"showbackground\":true,\"ticks\":\"\",\"zerolinecolor\":\"white\",\"gridwidth\":2},\"zaxis\":{\"backgroundcolor\":\"#E5ECF6\",\"gridcolor\":\"white\",\"linecolor\":\"white\",\"showbackground\":true,\"ticks\":\"\",\"zerolinecolor\":\"white\",\"gridwidth\":2}},\"shapedefaults\":{\"line\":{\"color\":\"#2a3f5f\"}},\"annotationdefaults\":{\"arrowcolor\":\"#2a3f5f\",\"arrowhead\":0,\"arrowwidth\":1},\"geo\":{\"bgcolor\":\"white\",\"landcolor\":\"#E5ECF6\",\"subunitcolor\":\"white\",\"showland\":true,\"showlakes\":true,\"lakecolor\":\"white\"},\"title\":{\"x\":0.05},\"mapbox\":{\"style\":\"light\"}}},\"xaxis\":{\"anchor\":\"y\",\"domain\":[0.0,1.0],\"type\":\"log\",\"range\":[0,2],\"showgrid\":true,\"gridcolor\":\"lightgray\"},\"yaxis\":{\"anchor\":\"x\",\"domain\":[0.545,1.0],\"title\":{\"text\":\"Gastos (m\\u00b3\\u002fs)\"},\"showgrid\":true,\"gridcolor\":\"lightgray\"},\"xaxis2\":{\"anchor\":\"y2\",\"domain\":[0.0,1.0],\"type\":\"log\",\"range\":[0,4],\"title\":{\"text\":\"Tr (Periodos de retorno)\"},\"showgrid\":true,\"gridcolor\":\"lightgray\"},\"yaxis2\":{\"anchor\":\"x2\",\"domain\":[0.0,0.455],\"title\":{\"text\":\"Gastos (m\\u00b3\\u002fs)\"},\"showgrid\":true,\"gridcolor\":\"lightgray\"},\"annotations\":[{\"font\":{\"size\":16},\"showarrow\":false,\"text\":\"Datos ajustados\",\"x\":0.5,\"xanchor\":\"center\",\"xref\":\"paper\",\"y\":1.0,\"yanchor\":\"bottom\",\"yref\":\"paper\"},{\"font\":{\"size\":16},\"showarrow\":false,\"text\":\"Datos extrapolados\",\"x\":0.5,\"xanchor\":\"center\",\"xref\":\"paper\",\"y\":0.455,\"yanchor\":\"bottom\",\"yref\":\"paper\"}],\"title\":{\"text\":\"Distribucion Gumbel (Momentos) \\u003cbr\\u003eEE= 1278.3284288597074\",\"x\":0.5},\"legend\":{\"x\":0.004,\"y\":0.99},\"showlegend\":true},                        {\"responsive\": true}                    ).then(function(){\n",
       "                            \n",
       "var gd = document.getElementById('60a6b4e1-0fc0-469e-8c7d-19b2f4073915');\n",
       "var x = new MutationObserver(function (mutations, observer) {{\n",
       "        var display = window.getComputedStyle(gd).display;\n",
       "        if (!display || display === 'none') {{\n",
       "            console.log([gd, 'removed!']);\n",
       "            Plotly.purge(gd);\n",
       "            observer.disconnect();\n",
       "        }}\n",
       "}});\n",
       "\n",
       "// Listen for the removal of the full notebook cells\n",
       "var notebookContainer = gd.closest('#notebook-container');\n",
       "if (notebookContainer) {{\n",
       "    x.observe(notebookContainer, {childList: true});\n",
       "}}\n",
       "\n",
       "// Listen for the clearing of the current output cell\n",
       "var outputEl = gd.closest('.output');\n",
       "if (outputEl) {{\n",
       "    x.observe(outputEl, {childList: true});\n",
       "}}\n",
       "\n",
       "                        })                };                });            </script>        </div>"
      ]
     },
     "metadata": {},
     "output_type": "display_data"
    }
   ],
   "source": [
    "# Gráficos html Momentos\n",
    "# Crear subplots\n",
    "titulo0 = \"Distribucion Gumbel (Momentos) <br>EE= \" + str(EEMom)\n",
    "titulo1 = \"Distribucion Gumbel (Momentos-L). EE= \" + str(EEMomL)\n",
    "fig = make_subplots(rows=2, \n",
    "                    cols=1, \n",
    "                    shared_xaxes=False, \n",
    "                    vertical_spacing=0.09, \n",
    "                    subplot_titles=(\"Datos ajustados\", \"Datos extrapolados\"))\n",
    "# Gráfico 1: Datos Registrados (Scatter) y Datos Ajustados (Línea)\n",
    "fig.add_trace(go.Scatter(x=tR, \n",
    "                         y=dReg, \n",
    "                         mode='markers', \n",
    "                         name='Datos Registrados', \n",
    "                         #alpha=.4, \n",
    "                         marker=dict(color='blue')), \n",
    "              row=1, col=1)\n",
    "fig.add_trace(go.Scatter(x=tR, \n",
    "                         y=dAjustMom, \n",
    "                         mode='lines', \n",
    "                         name='Datos Ajustados', \n",
    "                         line=dict(color='red', width=1)), \n",
    "              row=1, col=1)\n",
    "\n",
    "fig.add_trace(go.Scatter(x=tR, \n",
    "                         y=dReg,\n",
    "                         mode='markers', \n",
    "                         name='Datos Registrados', \n",
    "                         #alpha=.4, \n",
    "                         marker=dict(color='purple')), \n",
    "              row=2, col=1)\n",
    "fig.add_trace(go.Scatter(x=dTrExtrap, \n",
    "                         y=dExtrapMom, \n",
    "                         mode='lines', \n",
    "                         name='Datos Extrapolados', \n",
    "                         line=dict(color='green', \n",
    "                         width=1)), \n",
    "              row=2, col=1)\n",
    "\n",
    "# Configurar el layout\n",
    "fig.update_layout(\n",
    "    title_text=titulo0,\n",
    "    title_x=0.5,  # Centra el título\n",
    "    #xaxis_type=\"log\",  # Eje x semilogarítmico\n",
    "    #yaxis_title=\"Gastos (m³/s)\",\n",
    "    showlegend=True,\n",
    "    legend=dict(x=0.004, y=0.99))\n",
    "\n",
    "# Configurar ambos ejes x como logarítmicos\n",
    "fig.update_xaxes(type=\"log\", \n",
    "                 range=[0, 2], \n",
    "                 showgrid=True, \n",
    "                 gridcolor='lightgray', \n",
    "                 row=1, col=1)  # Eje x de la primera fila\n",
    "fig.update_xaxes(type=\"log\", \n",
    "                 range=[0, 4], \n",
    "                 title=\"Tr (Periodos de retorno)\", \n",
    "                 showgrid=True, \n",
    "                 gridcolor='lightgray', \n",
    "                 row=2, col=1)  # Eje x de la segunda fila\n",
    "fig.update_yaxes(title_text=\"Gastos (m³/s)\", \n",
    "                 showgrid=True, \n",
    "                 gridcolor='lightgray', \n",
    "                 row=1, col=1)\n",
    "fig.update_yaxes(title_text=\"Gastos (m³/s)\", \n",
    "                 showgrid=True, \n",
    "                 gridcolor='lightgray', \n",
    "                 row=2, col=1)\n",
    "\n",
    "fig.show()"
   ]
  },
  {
   "cell_type": "code",
   "execution_count": 32,
   "id": "ec4773a3-c422-4ced-ad27-ad768327f54f",
   "metadata": {},
   "outputs": [],
   "source": [
    "fig.write_html(r'C:\\Users\\sear2\\Music\\analisis_frecuencias\\Analisis_de_Frecuencias\\salidas\\grafico_plotly_gumbel_mom.html')"
   ]
  },
  {
   "cell_type": "code",
   "execution_count": 34,
   "id": "4d725ea9-9ed7-44f4-a25c-1b5de4f0526e",
   "metadata": {},
   "outputs": [
    {
     "data": {
      "application/vnd.plotly.v1+json": {
       "config": {
        "plotlyServerURL": "https://plot.ly"
       },
       "data": [
        {
         "marker": {
          "color": "blue"
         },
         "mode": "markers",
         "name": "Datos Registrados",
         "type": "scatter",
         "x": [
          63,
          31.5,
          21,
          15.75,
          12.6,
          10.5,
          9,
          7.875,
          7,
          6.3,
          5.7272727272727275,
          5.25,
          4.846153846153846,
          4.5,
          4.2,
          3.9375,
          3.7058823529411766,
          3.5,
          3.3157894736842106,
          3.15,
          3,
          2.8636363636363638,
          2.739130434782609,
          2.625,
          2.52,
          2.423076923076923,
          2.3333333333333335,
          2.25,
          2.1724137931034484,
          2.1,
          2.032258064516129,
          1.96875,
          1.9090909090909092,
          1.8529411764705883,
          1.8,
          1.75,
          1.7027027027027026,
          1.6578947368421053,
          1.6153846153846154,
          1.575,
          1.5365853658536586,
          1.5,
          1.4651162790697674,
          1.4318181818181819,
          1.4,
          1.3695652173913044,
          1.3404255319148937,
          1.3125,
          1.2857142857142858,
          1.26,
          1.2352941176470589,
          1.2115384615384615,
          1.1886792452830188,
          1.1666666666666667,
          1.1454545454545455,
          1.125,
          1.105263157894737,
          1.0862068965517242,
          1.0677966101694916,
          1.05,
          1.0327868852459017,
          1.0161290322580645
         ],
         "xaxis": "x",
         "y": [
          13713,
          11800,
          4235,
          3992,
          3979,
          3662,
          3533,
          3388,
          3245,
          3205,
          2917,
          2747,
          2734,
          2654,
          2583,
          2319,
          2311,
          2310,
          2248,
          2150,
          2133,
          1899,
          1899,
          1894,
          1861,
          1797,
          1771,
          1716,
          1652,
          1640,
          1631,
          1598,
          1507,
          1494,
          1397,
          1395,
          1371,
          1332,
          1288,
          1244,
          1232,
          1202,
          1173,
          1157,
          1131,
          1087,
          1049,
          1030,
          1030,
          1014,
          995,
          954,
          925,
          922,
          907,
          852,
          832,
          751,
          743,
          720,
          652,
          632
         ],
         "yaxis": "y"
        },
        {
         "line": {
          "color": "red",
          "width": 1
         },
         "mode": "lines",
         "name": "Datos Ajustados",
         "type": "scatter",
         "x": [
          63,
          31.5,
          21,
          15.75,
          12.6,
          10.5,
          9,
          7.875,
          7,
          6.3,
          5.7272727272727275,
          5.25,
          4.846153846153846,
          4.5,
          4.2,
          3.9375,
          3.7058823529411766,
          3.5,
          3.3157894736842106,
          3.15,
          3,
          2.8636363636363638,
          2.739130434782609,
          2.625,
          2.52,
          2.423076923076923,
          2.3333333333333335,
          2.25,
          2.1724137931034484,
          2.1,
          2.032258064516129,
          1.96875,
          1.9090909090909092,
          1.8529411764705883,
          1.8,
          1.75,
          1.7027027027027026,
          1.6578947368421053,
          1.6153846153846154,
          1.575,
          1.5365853658536586,
          1.5,
          1.4651162790697674,
          1.4318181818181819,
          1.4,
          1.3695652173913044,
          1.3404255319148937,
          1.3125,
          1.2857142857142858,
          1.26,
          1.2352941176470589,
          1.2115384615384615,
          1.1886792452830188,
          1.1666666666666667,
          1.1454545454545455,
          1.125,
          1.105263157894737,
          1.0862068965517242,
          1.0677966101694916,
          1.05,
          1.0327868852459017,
          1.0161290322580645
         ],
         "xaxis": "x",
         "y": [
          6422.175897808662,
          5579.947964192428,
          5083.106097979518,
          4727.5895268757995,
          4449.44485700848,
          4220.18299281354,
          4024.604697420002,
          3853.6352736594363,
          3701.419373307066,
          3563.9571109630137,
          3438.3936970507443,
          3322.6194661011914,
          3215.030543279266,
          3114.378448304936,
          3019.671701126139,
          2930.109236165616,
          2845.034026056227,
          2763.8999681883133,
          2686.2477221159497,
          2611.686736888984,
          2539.8816517064824,
          2470.5418454753444,
          2403.413292048764,
          2338.2721290630147,
          2274.9195172288364,
          2213.1774827085974,
          2152.885515883186,
          2093.897756861315,
          2036.0806389466902,
          1979.3108908598533,
          1923.4738200948113,
          1868.4618156008103,
          1814.1730195371902,
          1760.510126194585,
          1707.3792720131987,
          1654.6889844179018,
          1602.3491592005314,
          1550.2700365224102,
          1498.3611442433216,
          1446.5301740014906,
          1394.6817498656537,
          1342.7160407773881,
          1290.5271553316093,
          1238.0012390497996,
          1185.0141676112262,
          1131.4286904782034,
          1077.0908215135146,
          1021.8251859678612,
          965.4288988848796,
          907.6633379360208,
          848.2428293880406,
          786.8186882722127,
          722.956047519289,
          656.0990789096062,
          585.51669604441,
          510.2136610841043,
          428.7762276115873,
          339.08316888255285,
          237.70782991067563,
          118.49331024897151,
          -31.669480014738383,
          -251.5596495197526
         ],
         "yaxis": "y"
        },
        {
         "marker": {
          "color": "purple"
         },
         "mode": "markers",
         "name": "Datos Registrados",
         "type": "scatter",
         "x": [
          63,
          31.5,
          21,
          15.75,
          12.6,
          10.5,
          9,
          7.875,
          7,
          6.3,
          5.7272727272727275,
          5.25,
          4.846153846153846,
          4.5,
          4.2,
          3.9375,
          3.7058823529411766,
          3.5,
          3.3157894736842106,
          3.15,
          3,
          2.8636363636363638,
          2.739130434782609,
          2.625,
          2.52,
          2.423076923076923,
          2.3333333333333335,
          2.25,
          2.1724137931034484,
          2.1,
          2.032258064516129,
          1.96875,
          1.9090909090909092,
          1.8529411764705883,
          1.8,
          1.75,
          1.7027027027027026,
          1.6578947368421053,
          1.6153846153846154,
          1.575,
          1.5365853658536586,
          1.5,
          1.4651162790697674,
          1.4318181818181819,
          1.4,
          1.3695652173913044,
          1.3404255319148937,
          1.3125,
          1.2857142857142858,
          1.26,
          1.2352941176470589,
          1.2115384615384615,
          1.1886792452830188,
          1.1666666666666667,
          1.1454545454545455,
          1.125,
          1.105263157894737,
          1.0862068965517242,
          1.0677966101694916,
          1.05,
          1.0327868852459017,
          1.0161290322580645
         ],
         "xaxis": "x2",
         "y": [
          13713,
          11800,
          4235,
          3992,
          3979,
          3662,
          3533,
          3388,
          3245,
          3205,
          2917,
          2747,
          2734,
          2654,
          2583,
          2319,
          2311,
          2310,
          2248,
          2150,
          2133,
          1899,
          1899,
          1894,
          1861,
          1797,
          1771,
          1716,
          1652,
          1640,
          1631,
          1598,
          1507,
          1494,
          1397,
          1395,
          1371,
          1332,
          1288,
          1244,
          1232,
          1202,
          1173,
          1157,
          1131,
          1087,
          1049,
          1030,
          1030,
          1014,
          995,
          954,
          925,
          922,
          907,
          852,
          832,
          751,
          743,
          720,
          652,
          632
         ],
         "yaxis": "y2"
        },
        {
         "line": {
          "color": "green",
          "width": 1
         },
         "mode": "lines",
         "name": "Datos Extrapolados",
         "type": "scatter",
         "x": [
          2,
          5,
          10,
          20,
          50,
          100,
          200,
          500,
          1000,
          2000,
          5000,
          10000
         ],
         "xaxis": "x2",
         "y": [
          1895.8711709168774,
          3257.1704104803785,
          4158.468957626655,
          5023.016162919421,
          6142.083839918259,
          6980.66758719306,
          7816.191483236938,
          8918.506610806315,
          9751.610265733852,
          10584.413094986012,
          11685.101589384736,
          12517.664028938352
         ],
         "yaxis": "y2"
        }
       ],
       "layout": {
        "annotations": [
         {
          "font": {
           "size": 16
          },
          "showarrow": false,
          "text": "Datos ajustados",
          "x": 0.5,
          "xanchor": "center",
          "xref": "paper",
          "y": 1,
          "yanchor": "bottom",
          "yref": "paper"
         },
         {
          "font": {
           "size": 16
          },
          "showarrow": false,
          "text": "Datos extrapolados",
          "x": 0.5,
          "xanchor": "center",
          "xref": "paper",
          "y": 0.455,
          "yanchor": "bottom",
          "yref": "paper"
         }
        ],
        "autosize": true,
        "legend": {
         "x": 0.004,
         "y": 0.99
        },
        "showlegend": true,
        "template": {
         "data": {
          "bar": [
           {
            "error_x": {
             "color": "#2a3f5f"
            },
            "error_y": {
             "color": "#2a3f5f"
            },
            "marker": {
             "line": {
              "color": "#E5ECF6",
              "width": 0.5
             },
             "pattern": {
              "fillmode": "overlay",
              "size": 10,
              "solidity": 0.2
             }
            },
            "type": "bar"
           }
          ],
          "barpolar": [
           {
            "marker": {
             "line": {
              "color": "#E5ECF6",
              "width": 0.5
             },
             "pattern": {
              "fillmode": "overlay",
              "size": 10,
              "solidity": 0.2
             }
            },
            "type": "barpolar"
           }
          ],
          "carpet": [
           {
            "aaxis": {
             "endlinecolor": "#2a3f5f",
             "gridcolor": "white",
             "linecolor": "white",
             "minorgridcolor": "white",
             "startlinecolor": "#2a3f5f"
            },
            "baxis": {
             "endlinecolor": "#2a3f5f",
             "gridcolor": "white",
             "linecolor": "white",
             "minorgridcolor": "white",
             "startlinecolor": "#2a3f5f"
            },
            "type": "carpet"
           }
          ],
          "choropleth": [
           {
            "colorbar": {
             "outlinewidth": 0,
             "ticks": ""
            },
            "type": "choropleth"
           }
          ],
          "contour": [
           {
            "colorbar": {
             "outlinewidth": 0,
             "ticks": ""
            },
            "colorscale": [
             [
              0,
              "#0d0887"
             ],
             [
              0.1111111111111111,
              "#46039f"
             ],
             [
              0.2222222222222222,
              "#7201a8"
             ],
             [
              0.3333333333333333,
              "#9c179e"
             ],
             [
              0.4444444444444444,
              "#bd3786"
             ],
             [
              0.5555555555555556,
              "#d8576b"
             ],
             [
              0.6666666666666666,
              "#ed7953"
             ],
             [
              0.7777777777777778,
              "#fb9f3a"
             ],
             [
              0.8888888888888888,
              "#fdca26"
             ],
             [
              1,
              "#f0f921"
             ]
            ],
            "type": "contour"
           }
          ],
          "contourcarpet": [
           {
            "colorbar": {
             "outlinewidth": 0,
             "ticks": ""
            },
            "type": "contourcarpet"
           }
          ],
          "heatmap": [
           {
            "colorbar": {
             "outlinewidth": 0,
             "ticks": ""
            },
            "colorscale": [
             [
              0,
              "#0d0887"
             ],
             [
              0.1111111111111111,
              "#46039f"
             ],
             [
              0.2222222222222222,
              "#7201a8"
             ],
             [
              0.3333333333333333,
              "#9c179e"
             ],
             [
              0.4444444444444444,
              "#bd3786"
             ],
             [
              0.5555555555555556,
              "#d8576b"
             ],
             [
              0.6666666666666666,
              "#ed7953"
             ],
             [
              0.7777777777777778,
              "#fb9f3a"
             ],
             [
              0.8888888888888888,
              "#fdca26"
             ],
             [
              1,
              "#f0f921"
             ]
            ],
            "type": "heatmap"
           }
          ],
          "heatmapgl": [
           {
            "colorbar": {
             "outlinewidth": 0,
             "ticks": ""
            },
            "colorscale": [
             [
              0,
              "#0d0887"
             ],
             [
              0.1111111111111111,
              "#46039f"
             ],
             [
              0.2222222222222222,
              "#7201a8"
             ],
             [
              0.3333333333333333,
              "#9c179e"
             ],
             [
              0.4444444444444444,
              "#bd3786"
             ],
             [
              0.5555555555555556,
              "#d8576b"
             ],
             [
              0.6666666666666666,
              "#ed7953"
             ],
             [
              0.7777777777777778,
              "#fb9f3a"
             ],
             [
              0.8888888888888888,
              "#fdca26"
             ],
             [
              1,
              "#f0f921"
             ]
            ],
            "type": "heatmapgl"
           }
          ],
          "histogram": [
           {
            "marker": {
             "pattern": {
              "fillmode": "overlay",
              "size": 10,
              "solidity": 0.2
             }
            },
            "type": "histogram"
           }
          ],
          "histogram2d": [
           {
            "colorbar": {
             "outlinewidth": 0,
             "ticks": ""
            },
            "colorscale": [
             [
              0,
              "#0d0887"
             ],
             [
              0.1111111111111111,
              "#46039f"
             ],
             [
              0.2222222222222222,
              "#7201a8"
             ],
             [
              0.3333333333333333,
              "#9c179e"
             ],
             [
              0.4444444444444444,
              "#bd3786"
             ],
             [
              0.5555555555555556,
              "#d8576b"
             ],
             [
              0.6666666666666666,
              "#ed7953"
             ],
             [
              0.7777777777777778,
              "#fb9f3a"
             ],
             [
              0.8888888888888888,
              "#fdca26"
             ],
             [
              1,
              "#f0f921"
             ]
            ],
            "type": "histogram2d"
           }
          ],
          "histogram2dcontour": [
           {
            "colorbar": {
             "outlinewidth": 0,
             "ticks": ""
            },
            "colorscale": [
             [
              0,
              "#0d0887"
             ],
             [
              0.1111111111111111,
              "#46039f"
             ],
             [
              0.2222222222222222,
              "#7201a8"
             ],
             [
              0.3333333333333333,
              "#9c179e"
             ],
             [
              0.4444444444444444,
              "#bd3786"
             ],
             [
              0.5555555555555556,
              "#d8576b"
             ],
             [
              0.6666666666666666,
              "#ed7953"
             ],
             [
              0.7777777777777778,
              "#fb9f3a"
             ],
             [
              0.8888888888888888,
              "#fdca26"
             ],
             [
              1,
              "#f0f921"
             ]
            ],
            "type": "histogram2dcontour"
           }
          ],
          "mesh3d": [
           {
            "colorbar": {
             "outlinewidth": 0,
             "ticks": ""
            },
            "type": "mesh3d"
           }
          ],
          "parcoords": [
           {
            "line": {
             "colorbar": {
              "outlinewidth": 0,
              "ticks": ""
             }
            },
            "type": "parcoords"
           }
          ],
          "pie": [
           {
            "automargin": true,
            "type": "pie"
           }
          ],
          "scatter": [
           {
            "fillpattern": {
             "fillmode": "overlay",
             "size": 10,
             "solidity": 0.2
            },
            "type": "scatter"
           }
          ],
          "scatter3d": [
           {
            "line": {
             "colorbar": {
              "outlinewidth": 0,
              "ticks": ""
             }
            },
            "marker": {
             "colorbar": {
              "outlinewidth": 0,
              "ticks": ""
             }
            },
            "type": "scatter3d"
           }
          ],
          "scattercarpet": [
           {
            "marker": {
             "colorbar": {
              "outlinewidth": 0,
              "ticks": ""
             }
            },
            "type": "scattercarpet"
           }
          ],
          "scattergeo": [
           {
            "marker": {
             "colorbar": {
              "outlinewidth": 0,
              "ticks": ""
             }
            },
            "type": "scattergeo"
           }
          ],
          "scattergl": [
           {
            "marker": {
             "colorbar": {
              "outlinewidth": 0,
              "ticks": ""
             }
            },
            "type": "scattergl"
           }
          ],
          "scattermapbox": [
           {
            "marker": {
             "colorbar": {
              "outlinewidth": 0,
              "ticks": ""
             }
            },
            "type": "scattermapbox"
           }
          ],
          "scatterpolar": [
           {
            "marker": {
             "colorbar": {
              "outlinewidth": 0,
              "ticks": ""
             }
            },
            "type": "scatterpolar"
           }
          ],
          "scatterpolargl": [
           {
            "marker": {
             "colorbar": {
              "outlinewidth": 0,
              "ticks": ""
             }
            },
            "type": "scatterpolargl"
           }
          ],
          "scatterternary": [
           {
            "marker": {
             "colorbar": {
              "outlinewidth": 0,
              "ticks": ""
             }
            },
            "type": "scatterternary"
           }
          ],
          "surface": [
           {
            "colorbar": {
             "outlinewidth": 0,
             "ticks": ""
            },
            "colorscale": [
             [
              0,
              "#0d0887"
             ],
             [
              0.1111111111111111,
              "#46039f"
             ],
             [
              0.2222222222222222,
              "#7201a8"
             ],
             [
              0.3333333333333333,
              "#9c179e"
             ],
             [
              0.4444444444444444,
              "#bd3786"
             ],
             [
              0.5555555555555556,
              "#d8576b"
             ],
             [
              0.6666666666666666,
              "#ed7953"
             ],
             [
              0.7777777777777778,
              "#fb9f3a"
             ],
             [
              0.8888888888888888,
              "#fdca26"
             ],
             [
              1,
              "#f0f921"
             ]
            ],
            "type": "surface"
           }
          ],
          "table": [
           {
            "cells": {
             "fill": {
              "color": "#EBF0F8"
             },
             "line": {
              "color": "white"
             }
            },
            "header": {
             "fill": {
              "color": "#C8D4E3"
             },
             "line": {
              "color": "white"
             }
            },
            "type": "table"
           }
          ]
         },
         "layout": {
          "annotationdefaults": {
           "arrowcolor": "#2a3f5f",
           "arrowhead": 0,
           "arrowwidth": 1
          },
          "autotypenumbers": "strict",
          "coloraxis": {
           "colorbar": {
            "outlinewidth": 0,
            "ticks": ""
           }
          },
          "colorscale": {
           "diverging": [
            [
             0,
             "#8e0152"
            ],
            [
             0.1,
             "#c51b7d"
            ],
            [
             0.2,
             "#de77ae"
            ],
            [
             0.3,
             "#f1b6da"
            ],
            [
             0.4,
             "#fde0ef"
            ],
            [
             0.5,
             "#f7f7f7"
            ],
            [
             0.6,
             "#e6f5d0"
            ],
            [
             0.7,
             "#b8e186"
            ],
            [
             0.8,
             "#7fbc41"
            ],
            [
             0.9,
             "#4d9221"
            ],
            [
             1,
             "#276419"
            ]
           ],
           "sequential": [
            [
             0,
             "#0d0887"
            ],
            [
             0.1111111111111111,
             "#46039f"
            ],
            [
             0.2222222222222222,
             "#7201a8"
            ],
            [
             0.3333333333333333,
             "#9c179e"
            ],
            [
             0.4444444444444444,
             "#bd3786"
            ],
            [
             0.5555555555555556,
             "#d8576b"
            ],
            [
             0.6666666666666666,
             "#ed7953"
            ],
            [
             0.7777777777777778,
             "#fb9f3a"
            ],
            [
             0.8888888888888888,
             "#fdca26"
            ],
            [
             1,
             "#f0f921"
            ]
           ],
           "sequentialminus": [
            [
             0,
             "#0d0887"
            ],
            [
             0.1111111111111111,
             "#46039f"
            ],
            [
             0.2222222222222222,
             "#7201a8"
            ],
            [
             0.3333333333333333,
             "#9c179e"
            ],
            [
             0.4444444444444444,
             "#bd3786"
            ],
            [
             0.5555555555555556,
             "#d8576b"
            ],
            [
             0.6666666666666666,
             "#ed7953"
            ],
            [
             0.7777777777777778,
             "#fb9f3a"
            ],
            [
             0.8888888888888888,
             "#fdca26"
            ],
            [
             1,
             "#f0f921"
            ]
           ]
          },
          "colorway": [
           "#636efa",
           "#EF553B",
           "#00cc96",
           "#ab63fa",
           "#FFA15A",
           "#19d3f3",
           "#FF6692",
           "#B6E880",
           "#FF97FF",
           "#FECB52"
          ],
          "font": {
           "color": "#2a3f5f"
          },
          "geo": {
           "bgcolor": "white",
           "lakecolor": "white",
           "landcolor": "#E5ECF6",
           "showlakes": true,
           "showland": true,
           "subunitcolor": "white"
          },
          "hoverlabel": {
           "align": "left"
          },
          "hovermode": "closest",
          "mapbox": {
           "style": "light"
          },
          "paper_bgcolor": "white",
          "plot_bgcolor": "#E5ECF6",
          "polar": {
           "angularaxis": {
            "gridcolor": "white",
            "linecolor": "white",
            "ticks": ""
           },
           "bgcolor": "#E5ECF6",
           "radialaxis": {
            "gridcolor": "white",
            "linecolor": "white",
            "ticks": ""
           }
          },
          "scene": {
           "xaxis": {
            "backgroundcolor": "#E5ECF6",
            "gridcolor": "white",
            "gridwidth": 2,
            "linecolor": "white",
            "showbackground": true,
            "ticks": "",
            "zerolinecolor": "white"
           },
           "yaxis": {
            "backgroundcolor": "#E5ECF6",
            "gridcolor": "white",
            "gridwidth": 2,
            "linecolor": "white",
            "showbackground": true,
            "ticks": "",
            "zerolinecolor": "white"
           },
           "zaxis": {
            "backgroundcolor": "#E5ECF6",
            "gridcolor": "white",
            "gridwidth": 2,
            "linecolor": "white",
            "showbackground": true,
            "ticks": "",
            "zerolinecolor": "white"
           }
          },
          "shapedefaults": {
           "line": {
            "color": "#2a3f5f"
           }
          },
          "ternary": {
           "aaxis": {
            "gridcolor": "white",
            "linecolor": "white",
            "ticks": ""
           },
           "baxis": {
            "gridcolor": "white",
            "linecolor": "white",
            "ticks": ""
           },
           "bgcolor": "#E5ECF6",
           "caxis": {
            "gridcolor": "white",
            "linecolor": "white",
            "ticks": ""
           }
          },
          "title": {
           "x": 0.05
          },
          "xaxis": {
           "automargin": true,
           "gridcolor": "white",
           "linecolor": "white",
           "ticks": "",
           "title": {
            "standoff": 15
           },
           "zerolinecolor": "white",
           "zerolinewidth": 2
          },
          "yaxis": {
           "automargin": true,
           "gridcolor": "white",
           "linecolor": "white",
           "ticks": "",
           "title": {
            "standoff": 15
           },
           "zerolinecolor": "white",
           "zerolinewidth": 2
          }
         }
        },
        "title": {
         "text": "Distribucion Gumbel (Momentos-L) <br> EE= 1304.618961808627",
         "x": 0.5
        },
        "xaxis": {
         "anchor": "y",
         "domain": [
          0,
          1
         ],
         "gridcolor": "lightgray",
         "range": [
          0,
          2
         ],
         "showgrid": true,
         "type": "log"
        },
        "xaxis2": {
         "anchor": "y2",
         "domain": [
          0,
          1
         ],
         "gridcolor": "lightgray",
         "range": [
          0,
          4
         ],
         "showgrid": true,
         "title": {
          "text": "Tr (Periodos de retorno)"
         },
         "type": "log"
        },
        "yaxis": {
         "anchor": "x",
         "autorange": true,
         "domain": [
          0.545,
          1
         ],
         "gridcolor": "lightgray",
         "range": [
          -1068.9534712004756,
          15278.922962413986
         ],
         "showgrid": true,
         "title": {
          "text": "Gastos (m³/s)"
         },
         "type": "linear"
        },
        "yaxis2": {
         "anchor": "x2",
         "autorange": true,
         "domain": [
          0,
          0.455
         ],
         "gridcolor": "lightgray",
         "range": [
          -917.9236520163117,
          15262.923652016312
         ],
         "showgrid": true,
         "title": {
          "text": "Gastos (m³/s)"
         },
         "type": "linear"
        }
       }
      },
      "image/png": "[encoded data removed]",
      "text/html": [
       "<div>                            <div id=\"dd83f23e-a637-4248-94d2-ac86cf80da5c\" class=\"plotly-graph-div\" style=\"height:525px; width:100%;\"></div>            <script type=\"text/javascript\">                require([\"plotly\"], function(Plotly) {                    window.PLOTLYENV=window.PLOTLYENV || {};                                    if (document.getElementById(\"dd83f23e-a637-4248-94d2-ac86cf80da5c\")) {                    Plotly.newPlot(                        \"dd83f23e-a637-4248-94d2-ac86cf80da5c\",                        [{\"marker\":{\"color\":\"blue\"},\"mode\":\"markers\",\"name\":\"Datos Registrados\",\"x\":[63.0,31.5,21.0,15.75,12.6,10.5,9.0,7.875,7.0,6.3,5.7272727272727275,5.25,4.846153846153846,4.5,4.2,3.9375,3.7058823529411766,3.5,3.3157894736842106,3.15,3.0,2.8636363636363638,2.739130434782609,2.625,2.52,2.423076923076923,2.3333333333333335,2.25,2.1724137931034484,2.1,2.032258064516129,1.96875,1.9090909090909092,1.8529411764705883,1.8,1.75,1.7027027027027026,1.6578947368421053,1.6153846153846154,1.575,1.5365853658536586,1.5,1.4651162790697674,1.4318181818181819,1.4,1.3695652173913044,1.3404255319148937,1.3125,1.2857142857142858,1.26,1.2352941176470589,1.2115384615384615,1.1886792452830188,1.1666666666666667,1.1454545454545455,1.125,1.105263157894737,1.0862068965517242,1.0677966101694916,1.05,1.0327868852459017,1.0161290322580645],\"y\":[13713.0,11800.0,4235.0,3992.0,3979.0,3662.0,3533.0,3388.0,3245.0,3205.0,2917.0,2747.0,2734.0,2654.0,2583.0,2319.0,2311.0,2310.0,2248.0,2150.0,2133.0,1899.0,1899.0,1894.0,1861.0,1797.0,1771.0,1716.0,1652.0,1640.0,1631.0,1598.0,1507.0,1494.0,1397.0,1395.0,1371.0,1332.0,1288.0,1244.0,1232.0,1202.0,1173.0,1157.0,1131.0,1087.0,1049.0,1030.0,1030.0,1014.0,995.0,954.0,925.0,922.0,907.0,852.0,832.0,751.0,743.0,720.0,652.0,632.0],\"type\":\"scatter\",\"xaxis\":\"x\",\"yaxis\":\"y\"},{\"line\":{\"color\":\"red\",\"width\":1},\"mode\":\"lines\",\"name\":\"Datos Ajustados\",\"x\":[63.0,31.5,21.0,15.75,12.6,10.5,9.0,7.875,7.0,6.3,5.7272727272727275,5.25,4.846153846153846,4.5,4.2,3.9375,3.7058823529411766,3.5,3.3157894736842106,3.15,3.0,2.8636363636363638,2.739130434782609,2.625,2.52,2.423076923076923,2.3333333333333335,2.25,2.1724137931034484,2.1,2.032258064516129,1.96875,1.9090909090909092,1.8529411764705883,1.8,1.75,1.7027027027027026,1.6578947368421053,1.6153846153846154,1.575,1.5365853658536586,1.5,1.4651162790697674,1.4318181818181819,1.4,1.3695652173913044,1.3404255319148937,1.3125,1.2857142857142858,1.26,1.2352941176470589,1.2115384615384615,1.1886792452830188,1.1666666666666667,1.1454545454545455,1.125,1.105263157894737,1.0862068965517242,1.0677966101694916,1.05,1.0327868852459017,1.0161290322580645],\"y\":[6422.175897808662,5579.947964192428,5083.106097979518,4727.5895268757995,4449.44485700848,4220.18299281354,4024.604697420002,3853.6352736594363,3701.419373307066,3563.9571109630137,3438.3936970507443,3322.6194661011914,3215.030543279266,3114.378448304936,3019.671701126139,2930.109236165616,2845.034026056227,2763.8999681883133,2686.2477221159497,2611.686736888984,2539.8816517064824,2470.5418454753444,2403.413292048764,2338.2721290630147,2274.9195172288364,2213.1774827085974,2152.885515883186,2093.897756861315,2036.0806389466902,1979.3108908598533,1923.4738200948113,1868.4618156008103,1814.1730195371902,1760.510126194585,1707.3792720131987,1654.6889844179018,1602.3491592005314,1550.2700365224102,1498.3611442433216,1446.5301740014906,1394.6817498656537,1342.7160407773881,1290.5271553316093,1238.0012390497996,1185.0141676112262,1131.4286904782034,1077.0908215135146,1021.8251859678612,965.4288988848796,907.6633379360208,848.2428293880406,786.8186882722127,722.956047519289,656.0990789096062,585.51669604441,510.2136610841043,428.7762276115873,339.08316888255285,237.70782991067563,118.49331024897151,-31.669480014738383,-251.5596495197526],\"type\":\"scatter\",\"xaxis\":\"x\",\"yaxis\":\"y\"},{\"marker\":{\"color\":\"purple\"},\"mode\":\"markers\",\"name\":\"Datos Registrados\",\"x\":[63.0,31.5,21.0,15.75,12.6,10.5,9.0,7.875,7.0,6.3,5.7272727272727275,5.25,4.846153846153846,4.5,4.2,3.9375,3.7058823529411766,3.5,3.3157894736842106,3.15,3.0,2.8636363636363638,2.739130434782609,2.625,2.52,2.423076923076923,2.3333333333333335,2.25,2.1724137931034484,2.1,2.032258064516129,1.96875,1.9090909090909092,1.8529411764705883,1.8,1.75,1.7027027027027026,1.6578947368421053,1.6153846153846154,1.575,1.5365853658536586,1.5,1.4651162790697674,1.4318181818181819,1.4,1.3695652173913044,1.3404255319148937,1.3125,1.2857142857142858,1.26,1.2352941176470589,1.2115384615384615,1.1886792452830188,1.1666666666666667,1.1454545454545455,1.125,1.105263157894737,1.0862068965517242,1.0677966101694916,1.05,1.0327868852459017,1.0161290322580645],\"y\":[13713.0,11800.0,4235.0,3992.0,3979.0,3662.0,3533.0,3388.0,3245.0,3205.0,2917.0,2747.0,2734.0,2654.0,2583.0,2319.0,2311.0,2310.0,2248.0,2150.0,2133.0,1899.0,1899.0,1894.0,1861.0,1797.0,1771.0,1716.0,1652.0,1640.0,1631.0,1598.0,1507.0,1494.0,1397.0,1395.0,1371.0,1332.0,1288.0,1244.0,1232.0,1202.0,1173.0,1157.0,1131.0,1087.0,1049.0,1030.0,1030.0,1014.0,995.0,954.0,925.0,922.0,907.0,852.0,832.0,751.0,743.0,720.0,652.0,632.0],\"type\":\"scatter\",\"xaxis\":\"x2\",\"yaxis\":\"y2\"},{\"line\":{\"color\":\"green\",\"width\":1},\"mode\":\"lines\",\"name\":\"Datos Extrapolados\",\"x\":[2.0,5.0,10.0,20.0,50.0,100.0,200.0,500.0,1000.0,2000.0,5000.0,10000.0],\"y\":[1895.8711709168774,3257.1704104803785,4158.468957626655,5023.016162919421,6142.083839918259,6980.66758719306,7816.191483236938,8918.506610806315,9751.610265733852,10584.413094986012,11685.101589384736,12517.664028938352],\"type\":\"scatter\",\"xaxis\":\"x2\",\"yaxis\":\"y2\"}],                        {\"template\":{\"data\":{\"histogram2dcontour\":[{\"type\":\"histogram2dcontour\",\"colorbar\":{\"outlinewidth\":0,\"ticks\":\"\"},\"colorscale\":[[0.0,\"#0d0887\"],[0.1111111111111111,\"#46039f\"],[0.2222222222222222,\"#7201a8\"],[0.3333333333333333,\"#9c179e\"],[0.4444444444444444,\"#bd3786\"],[0.5555555555555556,\"#d8576b\"],[0.6666666666666666,\"#ed7953\"],[0.7777777777777778,\"#fb9f3a\"],[0.8888888888888888,\"#fdca26\"],[1.0,\"#f0f921\"]]}],\"choropleth\":[{\"type\":\"choropleth\",\"colorbar\":{\"outlinewidth\":0,\"ticks\":\"\"}}],\"histogram2d\":[{\"type\":\"histogram2d\",\"colorbar\":{\"outlinewidth\":0,\"ticks\":\"\"},\"colorscale\":[[0.0,\"#0d0887\"],[0.1111111111111111,\"#46039f\"],[0.2222222222222222,\"#7201a8\"],[0.3333333333333333,\"#9c179e\"],[0.4444444444444444,\"#bd3786\"],[0.5555555555555556,\"#d8576b\"],[0.6666666666666666,\"#ed7953\"],[0.7777777777777778,\"#fb9f3a\"],[0.8888888888888888,\"#fdca26\"],[1.0,\"#f0f921\"]]}],\"heatmap\":[{\"type\":\"heatmap\",\"colorbar\":{\"outlinewidth\":0,\"ticks\":\"\"},\"colorscale\":[[0.0,\"#0d0887\"],[0.1111111111111111,\"#46039f\"],[0.2222222222222222,\"#7201a8\"],[0.3333333333333333,\"#9c179e\"],[0.4444444444444444,\"#bd3786\"],[0.5555555555555556,\"#d8576b\"],[0.6666666666666666,\"#ed7953\"],[0.7777777777777778,\"#fb9f3a\"],[0.8888888888888888,\"#fdca26\"],[1.0,\"#f0f921\"]]}],\"heatmapgl\":[{\"type\":\"heatmapgl\",\"colorbar\":{\"outlinewidth\":0,\"ticks\":\"\"},\"colorscale\":[[0.0,\"#0d0887\"],[0.1111111111111111,\"#46039f\"],[0.2222222222222222,\"#7201a8\"],[0.3333333333333333,\"#9c179e\"],[0.4444444444444444,\"#bd3786\"],[0.5555555555555556,\"#d8576b\"],[0.6666666666666666,\"#ed7953\"],[0.7777777777777778,\"#fb9f3a\"],[0.8888888888888888,\"#fdca26\"],[1.0,\"#f0f921\"]]}],\"contourcarpet\":[{\"type\":\"contourcarpet\",\"colorbar\":{\"outlinewidth\":0,\"ticks\":\"\"}}],\"contour\":[{\"type\":\"contour\",\"colorbar\":{\"outlinewidth\":0,\"ticks\":\"\"},\"colorscale\":[[0.0,\"#0d0887\"],[0.1111111111111111,\"#46039f\"],[0.2222222222222222,\"#7201a8\"],[0.3333333333333333,\"#9c179e\"],[0.4444444444444444,\"#bd3786\"],[0.5555555555555556,\"#d8576b\"],[0.6666666666666666,\"#ed7953\"],[0.7777777777777778,\"#fb9f3a\"],[0.8888888888888888,\"#fdca26\"],[1.0,\"#f0f921\"]]}],\"surface\":[{\"type\":\"surface\",\"colorbar\":{\"outlinewidth\":0,\"ticks\":\"\"},\"colorscale\":[[0.0,\"#0d0887\"],[0.1111111111111111,\"#46039f\"],[0.2222222222222222,\"#7201a8\"],[0.3333333333333333,\"#9c179e\"],[0.4444444444444444,\"#bd3786\"],[0.5555555555555556,\"#d8576b\"],[0.6666666666666666,\"#ed7953\"],[0.7777777777777778,\"#fb9f3a\"],[0.8888888888888888,\"#fdca26\"],[1.0,\"#f0f921\"]]}],\"mesh3d\":[{\"type\":\"mesh3d\",\"colorbar\":{\"outlinewidth\":0,\"ticks\":\"\"}}],\"scatter\":[{\"fillpattern\":{\"fillmode\":\"overlay\",\"size\":10,\"solidity\":0.2},\"type\":\"scatter\"}],\"parcoords\":[{\"type\":\"parcoords\",\"line\":{\"colorbar\":{\"outlinewidth\":0,\"ticks\":\"\"}}}],\"scatterpolargl\":[{\"type\":\"scatterpolargl\",\"marker\":{\"colorbar\":{\"outlinewidth\":0,\"ticks\":\"\"}}}],\"bar\":[{\"error_x\":{\"color\":\"#2a3f5f\"},\"error_y\":{\"color\":\"#2a3f5f\"},\"marker\":{\"line\":{\"color\":\"#E5ECF6\",\"width\":0.5},\"pattern\":{\"fillmode\":\"overlay\",\"size\":10,\"solidity\":0.2}},\"type\":\"bar\"}],\"scattergeo\":[{\"type\":\"scattergeo\",\"marker\":{\"colorbar\":{\"outlinewidth\":0,\"ticks\":\"\"}}}],\"scatterpolar\":[{\"type\":\"scatterpolar\",\"marker\":{\"colorbar\":{\"outlinewidth\":0,\"ticks\":\"\"}}}],\"histogram\":[{\"marker\":{\"pattern\":{\"fillmode\":\"overlay\",\"size\":10,\"solidity\":0.2}},\"type\":\"histogram\"}],\"scattergl\":[{\"type\":\"scattergl\",\"marker\":{\"colorbar\":{\"outlinewidth\":0,\"ticks\":\"\"}}}],\"scatter3d\":[{\"type\":\"scatter3d\",\"line\":{\"colorbar\":{\"outlinewidth\":0,\"ticks\":\"\"}},\"marker\":{\"colorbar\":{\"outlinewidth\":0,\"ticks\":\"\"}}}],\"scattermapbox\":[{\"type\":\"scattermapbox\",\"marker\":{\"colorbar\":{\"outlinewidth\":0,\"ticks\":\"\"}}}],\"scatterternary\":[{\"type\":\"scatterternary\",\"marker\":{\"colorbar\":{\"outlinewidth\":0,\"ticks\":\"\"}}}],\"scattercarpet\":[{\"type\":\"scattercarpet\",\"marker\":{\"colorbar\":{\"outlinewidth\":0,\"ticks\":\"\"}}}],\"carpet\":[{\"aaxis\":{\"endlinecolor\":\"#2a3f5f\",\"gridcolor\":\"white\",\"linecolor\":\"white\",\"minorgridcolor\":\"white\",\"startlinecolor\":\"#2a3f5f\"},\"baxis\":{\"endlinecolor\":\"#2a3f5f\",\"gridcolor\":\"white\",\"linecolor\":\"white\",\"minorgridcolor\":\"white\",\"startlinecolor\":\"#2a3f5f\"},\"type\":\"carpet\"}],\"table\":[{\"cells\":{\"fill\":{\"color\":\"#EBF0F8\"},\"line\":{\"color\":\"white\"}},\"header\":{\"fill\":{\"color\":\"#C8D4E3\"},\"line\":{\"color\":\"white\"}},\"type\":\"table\"}],\"barpolar\":[{\"marker\":{\"line\":{\"color\":\"#E5ECF6\",\"width\":0.5},\"pattern\":{\"fillmode\":\"overlay\",\"size\":10,\"solidity\":0.2}},\"type\":\"barpolar\"}],\"pie\":[{\"automargin\":true,\"type\":\"pie\"}]},\"layout\":{\"autotypenumbers\":\"strict\",\"colorway\":[\"#636efa\",\"#EF553B\",\"#00cc96\",\"#ab63fa\",\"#FFA15A\",\"#19d3f3\",\"#FF6692\",\"#B6E880\",\"#FF97FF\",\"#FECB52\"],\"font\":{\"color\":\"#2a3f5f\"},\"hovermode\":\"closest\",\"hoverlabel\":{\"align\":\"left\"},\"paper_bgcolor\":\"white\",\"plot_bgcolor\":\"#E5ECF6\",\"polar\":{\"bgcolor\":\"#E5ECF6\",\"angularaxis\":{\"gridcolor\":\"white\",\"linecolor\":\"white\",\"ticks\":\"\"},\"radialaxis\":{\"gridcolor\":\"white\",\"linecolor\":\"white\",\"ticks\":\"\"}},\"ternary\":{\"bgcolor\":\"#E5ECF6\",\"aaxis\":{\"gridcolor\":\"white\",\"linecolor\":\"white\",\"ticks\":\"\"},\"baxis\":{\"gridcolor\":\"white\",\"linecolor\":\"white\",\"ticks\":\"\"},\"caxis\":{\"gridcolor\":\"white\",\"linecolor\":\"white\",\"ticks\":\"\"}},\"coloraxis\":{\"colorbar\":{\"outlinewidth\":0,\"ticks\":\"\"}},\"colorscale\":{\"sequential\":[[0.0,\"#0d0887\"],[0.1111111111111111,\"#46039f\"],[0.2222222222222222,\"#7201a8\"],[0.3333333333333333,\"#9c179e\"],[0.4444444444444444,\"#bd3786\"],[0.5555555555555556,\"#d8576b\"],[0.6666666666666666,\"#ed7953\"],[0.7777777777777778,\"#fb9f3a\"],[0.8888888888888888,\"#fdca26\"],[1.0,\"#f0f921\"]],\"sequentialminus\":[[0.0,\"#0d0887\"],[0.1111111111111111,\"#46039f\"],[0.2222222222222222,\"#7201a8\"],[0.3333333333333333,\"#9c179e\"],[0.4444444444444444,\"#bd3786\"],[0.5555555555555556,\"#d8576b\"],[0.6666666666666666,\"#ed7953\"],[0.7777777777777778,\"#fb9f3a\"],[0.8888888888888888,\"#fdca26\"],[1.0,\"#f0f921\"]],\"diverging\":[[0,\"#8e0152\"],[0.1,\"#c51b7d\"],[0.2,\"#de77ae\"],[0.3,\"#f1b6da\"],[0.4,\"#fde0ef\"],[0.5,\"#f7f7f7\"],[0.6,\"#e6f5d0\"],[0.7,\"#b8e186\"],[0.8,\"#7fbc41\"],[0.9,\"#4d9221\"],[1,\"#276419\"]]},\"xaxis\":{\"gridcolor\":\"white\",\"linecolor\":\"white\",\"ticks\":\"\",\"title\":{\"standoff\":15},\"zerolinecolor\":\"white\",\"automargin\":true,\"zerolinewidth\":2},\"yaxis\":{\"gridcolor\":\"white\",\"linecolor\":\"white\",\"ticks\":\"\",\"title\":{\"standoff\":15},\"zerolinecolor\":\"white\",\"automargin\":true,\"zerolinewidth\":2},\"scene\":{\"xaxis\":{\"backgroundcolor\":\"#E5ECF6\",\"gridcolor\":\"white\",\"linecolor\":\"white\",\"showbackground\":true,\"ticks\":\"\",\"zerolinecolor\":\"white\",\"gridwidth\":2},\"yaxis\":{\"backgroundcolor\":\"#E5ECF6\",\"gridcolor\":\"white\",\"linecolor\":\"white\",\"showbackground\":true,\"ticks\":\"\",\"zerolinecolor\":\"white\",\"gridwidth\":2},\"zaxis\":{\"backgroundcolor\":\"#E5ECF6\",\"gridcolor\":\"white\",\"linecolor\":\"white\",\"showbackground\":true,\"ticks\":\"\",\"zerolinecolor\":\"white\",\"gridwidth\":2}},\"shapedefaults\":{\"line\":{\"color\":\"#2a3f5f\"}},\"annotationdefaults\":{\"arrowcolor\":\"#2a3f5f\",\"arrowhead\":0,\"arrowwidth\":1},\"geo\":{\"bgcolor\":\"white\",\"landcolor\":\"#E5ECF6\",\"subunitcolor\":\"white\",\"showland\":true,\"showlakes\":true,\"lakecolor\":\"white\"},\"title\":{\"x\":0.05},\"mapbox\":{\"style\":\"light\"}}},\"xaxis\":{\"anchor\":\"y\",\"domain\":[0.0,1.0],\"type\":\"log\",\"range\":[0,2],\"showgrid\":true,\"gridcolor\":\"lightgray\"},\"yaxis\":{\"anchor\":\"x\",\"domain\":[0.545,1.0],\"title\":{\"text\":\"Gastos (m\\u00b3\\u002fs)\"},\"showgrid\":true,\"gridcolor\":\"lightgray\"},\"xaxis2\":{\"anchor\":\"y2\",\"domain\":[0.0,1.0],\"type\":\"log\",\"range\":[0,4],\"title\":{\"text\":\"Tr (Periodos de retorno)\"},\"showgrid\":true,\"gridcolor\":\"lightgray\"},\"yaxis2\":{\"anchor\":\"x2\",\"domain\":[0.0,0.455],\"title\":{\"text\":\"Gastos (m\\u00b3\\u002fs)\"},\"showgrid\":true,\"gridcolor\":\"lightgray\"},\"annotations\":[{\"font\":{\"size\":16},\"showarrow\":false,\"text\":\"Datos ajustados\",\"x\":0.5,\"xanchor\":\"center\",\"xref\":\"paper\",\"y\":1.0,\"yanchor\":\"bottom\",\"yref\":\"paper\"},{\"font\":{\"size\":16},\"showarrow\":false,\"text\":\"Datos extrapolados\",\"x\":0.5,\"xanchor\":\"center\",\"xref\":\"paper\",\"y\":0.455,\"yanchor\":\"bottom\",\"yref\":\"paper\"}],\"title\":{\"text\":\"Distribucion Gumbel (Momentos-L) \\u003cbr\\u003e EE= 1304.618961808627\",\"x\":0.5},\"legend\":{\"x\":0.004,\"y\":0.99},\"showlegend\":true},                        {\"responsive\": true}                    ).then(function(){\n",
       "                            \n",
       "var gd = document.getElementById('dd83f23e-a637-4248-94d2-ac86cf80da5c');\n",
       "var x = new MutationObserver(function (mutations, observer) {{\n",
       "        var display = window.getComputedStyle(gd).display;\n",
       "        if (!display || display === 'none') {{\n",
       "            console.log([gd, 'removed!']);\n",
       "            Plotly.purge(gd);\n",
       "            observer.disconnect();\n",
       "        }}\n",
       "}});\n",
       "\n",
       "// Listen for the removal of the full notebook cells\n",
       "var notebookContainer = gd.closest('#notebook-container');\n",
       "if (notebookContainer) {{\n",
       "    x.observe(notebookContainer, {childList: true});\n",
       "}}\n",
       "\n",
       "// Listen for the clearing of the current output cell\n",
       "var outputEl = gd.closest('.output');\n",
       "if (outputEl) {{\n",
       "    x.observe(outputEl, {childList: true});\n",
       "}}\n",
       "\n",
       "                        })                };                });            </script>        </div>"
      ]
     },
     "metadata": {},
     "output_type": "display_data"
    }
   ],
   "source": [
    "# Gráficos html Momentos L\n",
    "# Crear subplots\n",
    "#titulo0 = \"Distribucion Gumbel (Momentos) <br>EE= \" + str(EEMom)\n",
    "titulo1 = \"Distribucion Gumbel (Momentos-L) <br> EE= \" + str(EEMomL)\n",
    "fig = make_subplots(rows=2, \n",
    "                    cols=1, \n",
    "                    shared_xaxes=False, \n",
    "                    vertical_spacing=0.09, \n",
    "                    subplot_titles=(\"Datos ajustados\", \"Datos extrapolados\"))\n",
    "# Gráfico 1: Datos Registrados (Scatter) y Datos Ajustados (Línea)\n",
    "fig.add_trace(go.Scatter(x=tR, \n",
    "                         y=dReg, \n",
    "                         mode='markers', \n",
    "                         name='Datos Registrados', \n",
    "                         #alpha=.4, \n",
    "                         marker=dict(color='blue')), \n",
    "              row=1, col=1)\n",
    "fig.add_trace(go.Scatter(x=tR, \n",
    "                         y=dAjustMax, \n",
    "                         mode='lines', \n",
    "                         name='Datos Ajustados', \n",
    "                         line=dict(color='red', width=1)), \n",
    "              row=1, col=1)\n",
    "\n",
    "fig.add_trace(go.Scatter(x=tR, \n",
    "                         y=dReg,\n",
    "                         mode='markers', \n",
    "                         name='Datos Registrados', \n",
    "                         #alpha=.4, \n",
    "                         marker=dict(color='purple')), \n",
    "              row=2, col=1)\n",
    "fig.add_trace(go.Scatter(x=dTrExtrap, \n",
    "                         y=dExtrapMax, \n",
    "                         mode='lines', \n",
    "                         name='Datos Extrapolados', \n",
    "                         line=dict(color='green', \n",
    "                         width=1)), \n",
    "              row=2, col=1)\n",
    "\n",
    "# Configurar el layout\n",
    "fig.update_layout(\n",
    "    title_text=titulo1,\n",
    "    title_x=0.5,  # Centra el título\n",
    "    #xaxis_type=\"log\",  # Eje x semilogarítmico\n",
    "    #yaxis_title=\"Gastos (m³/s)\",\n",
    "    showlegend=True,\n",
    "    legend=dict(x=0.004, y=0.99)) # posición de la leyenda\n",
    "\n",
    "# Configurar ambos ejes x como logarítmicos\n",
    "fig.update_xaxes(type=\"log\", \n",
    "                 range=[0, 2], \n",
    "                 showgrid=True, \n",
    "                 gridcolor='lightgray', \n",
    "                 row=1, col=1)  # Eje x de la primera fila\n",
    "fig.update_xaxes(type=\"log\", \n",
    "                 range=[0, 4], \n",
    "                 title=\"Tr (Periodos de retorno)\", \n",
    "                 showgrid=True, \n",
    "                 gridcolor='lightgray', \n",
    "                 row=2, col=1)  # Eje x de la segunda fila\n",
    "fig.update_yaxes(title_text=\"Gastos (m³/s)\", \n",
    "                 showgrid=True, \n",
    "                 gridcolor='lightgray', \n",
    "                 row=1, col=1)\n",
    "fig.update_yaxes(title_text=\"Gastos (m³/s)\", \n",
    "                 showgrid=True, \n",
    "                 gridcolor='lightgray', \n",
    "                 row=2, col=1)\n",
    "\n",
    "fig.show()"
   ]
  },
  {
   "cell_type": "code",
   "execution_count": 35,
   "id": "fe367be9-c4f0-4719-a02f-a4be7091c680",
   "metadata": {},
   "outputs": [],
   "source": [
    "fig.write_html(r'C:\\Users\\sear2\\Music\\analisis_frecuencias\\Analisis_de_Frecuencias\\salidas\\grafico_plotly_gumbel_momL.html')"
   ]
  },
  {
   "cell_type": "code",
   "execution_count": 40,
   "id": "aa30d8b5-9124-413a-800c-47d39e8da463",
   "metadata": {},
   "outputs": [
    {
     "data": {
      "application/vnd.plotly.v1+json": {
       "config": {
        "plotlyServerURL": "https://plot.ly"
       },
       "data": [
        {
         "marker": {
          "color": "blue"
         },
         "mode": "markers",
         "name": "Datos Registrados",
         "type": "scatter",
         "x": [
          63,
          31.5,
          21,
          15.75,
          12.6,
          10.5,
          9,
          7.875,
          7,
          6.3,
          5.7272727272727275,
          5.25,
          4.846153846153846,
          4.5,
          4.2,
          3.9375,
          3.7058823529411766,
          3.5,
          3.3157894736842106,
          3.15,
          3,
          2.8636363636363638,
          2.739130434782609,
          2.625,
          2.52,
          2.423076923076923,
          2.3333333333333335,
          2.25,
          2.1724137931034484,
          2.1,
          2.032258064516129,
          1.96875,
          1.9090909090909092,
          1.8529411764705883,
          1.8,
          1.75,
          1.7027027027027026,
          1.6578947368421053,
          1.6153846153846154,
          1.575,
          1.5365853658536586,
          1.5,
          1.4651162790697674,
          1.4318181818181819,
          1.4,
          1.3695652173913044,
          1.3404255319148937,
          1.3125,
          1.2857142857142858,
          1.26,
          1.2352941176470589,
          1.2115384615384615,
          1.1886792452830188,
          1.1666666666666667,
          1.1454545454545455,
          1.125,
          1.105263157894737,
          1.0862068965517242,
          1.0677966101694916,
          1.05,
          1.0327868852459017,
          1.0161290322580645
         ],
         "xaxis": "x",
         "y": [
          13713,
          11800,
          4235,
          3992,
          3979,
          3662,
          3533,
          3388,
          3245,
          3205,
          2917,
          2747,
          2734,
          2654,
          2583,
          2319,
          2311,
          2310,
          2248,
          2150,
          2133,
          1899,
          1899,
          1894,
          1861,
          1797,
          1771,
          1716,
          1652,
          1640,
          1631,
          1598,
          1507,
          1494,
          1397,
          1395,
          1371,
          1332,
          1288,
          1244,
          1232,
          1202,
          1173,
          1157,
          1131,
          1087,
          1049,
          1030,
          1030,
          1014,
          995,
          954,
          925,
          922,
          907,
          852,
          832,
          751,
          743,
          720,
          652,
          632
         ],
         "yaxis": "y"
        },
        {
         "line": {
          "color": "red",
          "width": 1
         },
         "mode": "lines",
         "name": "Datos Ajustados (Momentos)",
         "type": "scatter",
         "x": [
          63,
          31.5,
          21,
          15.75,
          12.6,
          10.5,
          9,
          7.875,
          7,
          6.3,
          5.7272727272727275,
          5.25,
          4.846153846153846,
          4.5,
          4.2,
          3.9375,
          3.7058823529411766,
          3.5,
          3.3157894736842106,
          3.15,
          3,
          2.8636363636363638,
          2.739130434782609,
          2.625,
          2.52,
          2.423076923076923,
          2.3333333333333335,
          2.25,
          2.1724137931034484,
          2.1,
          2.032258064516129,
          1.96875,
          1.9090909090909092,
          1.8529411764705883,
          1.8,
          1.75,
          1.7027027027027026,
          1.6578947368421053,
          1.6153846153846154,
          1.575,
          1.5365853658536586,
          1.5,
          1.4651162790697674,
          1.4318181818181819,
          1.4,
          1.3695652173913044,
          1.3404255319148937,
          1.3125,
          1.2857142857142858,
          1.26,
          1.2352941176470589,
          1.2115384615384615,
          1.1886792452830188,
          1.1666666666666667,
          1.1454545454545455,
          1.125,
          1.105263157894737,
          1.0862068965517242,
          1.0677966101694916,
          1.05,
          1.0327868852459017,
          1.0161290322580645
         ],
         "xaxis": "x",
         "y": [
          8161.4708265169365,
          6976.461998223173,
          6277.408957794666,
          5777.199621880386,
          5385.852011358346,
          5063.282167473448,
          4788.10486995865,
          4547.552083191447,
          4333.385373058994,
          4139.976928701746,
          3963.310081096877,
          3800.416545643737,
          3649.039681635934,
          3507.4228860272624,
          3374.1711532997692,
          3248.157389773457,
          3128.457162525343,
          3014.3021089925505,
          2905.045940371433,
          2800.1391541991097,
          2699.1099001677176,
          2601.549276426261,
          2507.0998699579477,
          2415.4467079783913,
          2326.310024994451,
          2239.4394130578967,
          2154.6090362541495,
          2071.613670733498,
          1990.2653890858478,
          1910.3907494807836,
          1831.8283803623212,
          1754.4268737326074,
          1678.0429163202625,
          1602.5395996708892,
          1527.7848584105268,
          1453.6499912639633,
          1380.0082222387657,
          1306.733259867964,
          1233.6978104812918,
          1160.7719968575568,
          1087.8216257266913,
          1014.7062354857883,
          941.2768376664574,
          867.3732398115262,
          792.8207998674573,
          717.4264072850101,
          640.9734046431315,
          563.2150408927481,
          483.86585831532216,
          402.5901169589092,
          318.9858758733294,
          232.5625377395645,
          142.70824762425855,
          48.640959099092015,
          -50.66796129985937,
          -156.6188062714018,
          -271.2007071639116,
          -397.3982152116639,
          -540.0326100804591,
          -707.7666077565445,
          -919.0446063141208,
          -1228.4285411352434
         ],
         "yaxis": "y"
        },
        {
         "line": {
          "color": "green",
          "width": 1
         },
         "mode": "lines",
         "name": "Datos Ajustados (Momentos-L)",
         "type": "scatter",
         "x": [
          63,
          31.5,
          21,
          15.75,
          12.6,
          10.5,
          9,
          7.875,
          7,
          6.3,
          5.7272727272727275,
          5.25,
          4.846153846153846,
          4.5,
          4.2,
          3.9375,
          3.7058823529411766,
          3.5,
          3.3157894736842106,
          3.15,
          3,
          2.8636363636363638,
          2.739130434782609,
          2.625,
          2.52,
          2.423076923076923,
          2.3333333333333335,
          2.25,
          2.1724137931034484,
          2.1,
          2.032258064516129,
          1.96875,
          1.9090909090909092,
          1.8529411764705883,
          1.8,
          1.75,
          1.7027027027027026,
          1.6578947368421053,
          1.6153846153846154,
          1.575,
          1.5365853658536586,
          1.5,
          1.4651162790697674,
          1.4318181818181819,
          1.4,
          1.3695652173913044,
          1.3404255319148937,
          1.3125,
          1.2857142857142858,
          1.26,
          1.2352941176470589,
          1.2115384615384615,
          1.1886792452830188,
          1.1666666666666667,
          1.1454545454545455,
          1.125,
          1.105263157894737,
          1.0862068965517242,
          1.0677966101694916,
          1.05,
          1.0327868852459017,
          1.0161290322580645
         ],
         "xaxis": "x",
         "y": [
          6422.175897808662,
          5579.947964192428,
          5083.106097979518,
          4727.5895268757995,
          4449.44485700848,
          4220.18299281354,
          4024.604697420002,
          3853.6352736594363,
          3701.419373307066,
          3563.9571109630137,
          3438.3936970507443,
          3322.6194661011914,
          3215.030543279266,
          3114.378448304936,
          3019.671701126139,
          2930.109236165616,
          2845.034026056227,
          2763.8999681883133,
          2686.2477221159497,
          2611.686736888984,
          2539.8816517064824,
          2470.5418454753444,
          2403.413292048764,
          2338.2721290630147,
          2274.9195172288364,
          2213.1774827085974,
          2152.885515883186,
          2093.897756861315,
          2036.0806389466902,
          1979.3108908598533,
          1923.4738200948113,
          1868.4618156008103,
          1814.1730195371902,
          1760.510126194585,
          1707.3792720131987,
          1654.6889844179018,
          1602.3491592005314,
          1550.2700365224102,
          1498.3611442433216,
          1446.5301740014906,
          1394.6817498656537,
          1342.7160407773881,
          1290.5271553316093,
          1238.0012390497996,
          1185.0141676112262,
          1131.4286904782034,
          1077.0908215135146,
          1021.8251859678612,
          965.4288988848796,
          907.6633379360208,
          848.2428293880406,
          786.8186882722127,
          722.956047519289,
          656.0990789096062,
          585.51669604441,
          510.2136610841043,
          428.7762276115873,
          339.08316888255285,
          237.70782991067563,
          118.49331024897151,
          -31.669480014738383,
          -251.5596495197526
         ],
         "yaxis": "y"
        },
        {
         "marker": {
          "color": "purple"
         },
         "mode": "markers",
         "name": "Datos Registrados",
         "type": "scatter",
         "x": [
          63,
          31.5,
          21,
          15.75,
          12.6,
          10.5,
          9,
          7.875,
          7,
          6.3,
          5.7272727272727275,
          5.25,
          4.846153846153846,
          4.5,
          4.2,
          3.9375,
          3.7058823529411766,
          3.5,
          3.3157894736842106,
          3.15,
          3,
          2.8636363636363638,
          2.739130434782609,
          2.625,
          2.52,
          2.423076923076923,
          2.3333333333333335,
          2.25,
          2.1724137931034484,
          2.1,
          2.032258064516129,
          1.96875,
          1.9090909090909092,
          1.8529411764705883,
          1.8,
          1.75,
          1.7027027027027026,
          1.6578947368421053,
          1.6153846153846154,
          1.575,
          1.5365853658536586,
          1.5,
          1.4651162790697674,
          1.4318181818181819,
          1.4,
          1.3695652173913044,
          1.3404255319148937,
          1.3125,
          1.2857142857142858,
          1.26,
          1.2352941176470589,
          1.2115384615384615,
          1.1886792452830188,
          1.1666666666666667,
          1.1454545454545455,
          1.125,
          1.105263157894737,
          1.0862068965517242,
          1.0677966101694916,
          1.05,
          1.0327868852459017,
          1.0161290322580645
         ],
         "xaxis": "x2",
         "y": [
          13713,
          11800,
          4235,
          3992,
          3979,
          3662,
          3533,
          3388,
          3245,
          3205,
          2917,
          2747,
          2734,
          2654,
          2583,
          2319,
          2311,
          2310,
          2248,
          2150,
          2133,
          1899,
          1899,
          1894,
          1861,
          1797,
          1771,
          1716,
          1652,
          1640,
          1631,
          1598,
          1507,
          1494,
          1397,
          1395,
          1371,
          1332,
          1288,
          1244,
          1232,
          1202,
          1173,
          1157,
          1131,
          1087,
          1049,
          1030,
          1030,
          1014,
          995,
          954,
          925,
          922,
          907,
          852,
          832,
          751,
          743,
          720,
          652,
          632
         ],
         "yaxis": "y2"
        },
        {
         "line": {
          "color": "blue",
          "width": 1
         },
         "mode": "lines",
         "name": "Datos Extrapolados (Momentos)",
         "type": "scatter",
         "x": [
          2,
          5,
          10,
          20,
          50,
          100,
          200,
          500,
          1000,
          2000,
          5000,
          10000
         ],
         "xaxis": "x2",
         "y": [
          1792.9916454897261,
          3708.3301808741107,
          4976.450950403634,
          6192.862838275601,
          7767.383254628905,
          8947.264738157452,
          10122.841032345696,
          11673.790728496093,
          12845.961760314152,
          14017.70953250513,
          15566.370567129736,
          16737.78011269151
         ],
         "yaxis": "y2"
        },
        {
         "line": {
          "color": "black",
          "width": 1
         },
         "mode": "lines",
         "name": "Datos Extrapolados (Momentos-L)",
         "type": "scatter",
         "x": [
          2,
          5,
          10,
          20,
          50,
          100,
          200,
          500,
          1000,
          2000,
          5000,
          10000
         ],
         "xaxis": "x2",
         "y": [
          1895.8711709168774,
          3257.1704104803785,
          4158.468957626655,
          5023.016162919421,
          6142.083839918259,
          6980.66758719306,
          7816.191483236938,
          8918.506610806315,
          9751.610265733852,
          10584.413094986012,
          11685.101589384736,
          12517.664028938352
         ],
         "yaxis": "y2"
        }
       ],
       "layout": {
        "annotations": [
         {
          "font": {
           "size": 16
          },
          "showarrow": false,
          "text": "Datos ajustados",
          "x": 0.5,
          "xanchor": "center",
          "xref": "paper",
          "y": 1,
          "yanchor": "bottom",
          "yref": "paper"
         },
         {
          "font": {
           "size": 16
          },
          "showarrow": false,
          "text": "Datos extrapolados",
          "x": 0.5,
          "xanchor": "center",
          "xref": "paper",
          "y": 0.455,
          "yanchor": "bottom",
          "yref": "paper"
         }
        ],
        "autosize": true,
        "legend": {
         "x": 0.004,
         "y": 0.99
        },
        "showlegend": true,
        "template": {
         "data": {
          "bar": [
           {
            "error_x": {
             "color": "#2a3f5f"
            },
            "error_y": {
             "color": "#2a3f5f"
            },
            "marker": {
             "line": {
              "color": "#E5ECF6",
              "width": 0.5
             },
             "pattern": {
              "fillmode": "overlay",
              "size": 10,
              "solidity": 0.2
             }
            },
            "type": "bar"
           }
          ],
          "barpolar": [
           {
            "marker": {
             "line": {
              "color": "#E5ECF6",
              "width": 0.5
             },
             "pattern": {
              "fillmode": "overlay",
              "size": 10,
              "solidity": 0.2
             }
            },
            "type": "barpolar"
           }
          ],
          "carpet": [
           {
            "aaxis": {
             "endlinecolor": "#2a3f5f",
             "gridcolor": "white",
             "linecolor": "white",
             "minorgridcolor": "white",
             "startlinecolor": "#2a3f5f"
            },
            "baxis": {
             "endlinecolor": "#2a3f5f",
             "gridcolor": "white",
             "linecolor": "white",
             "minorgridcolor": "white",
             "startlinecolor": "#2a3f5f"
            },
            "type": "carpet"
           }
          ],
          "choropleth": [
           {
            "colorbar": {
             "outlinewidth": 0,
             "ticks": ""
            },
            "type": "choropleth"
           }
          ],
          "contour": [
           {
            "colorbar": {
             "outlinewidth": 0,
             "ticks": ""
            },
            "colorscale": [
             [
              0,
              "#0d0887"
             ],
             [
              0.1111111111111111,
              "#46039f"
             ],
             [
              0.2222222222222222,
              "#7201a8"
             ],
             [
              0.3333333333333333,
              "#9c179e"
             ],
             [
              0.4444444444444444,
              "#bd3786"
             ],
             [
              0.5555555555555556,
              "#d8576b"
             ],
             [
              0.6666666666666666,
              "#ed7953"
             ],
             [
              0.7777777777777778,
              "#fb9f3a"
             ],
             [
              0.8888888888888888,
              "#fdca26"
             ],
             [
              1,
              "#f0f921"
             ]
            ],
            "type": "contour"
           }
          ],
          "contourcarpet": [
           {
            "colorbar": {
             "outlinewidth": 0,
             "ticks": ""
            },
            "type": "contourcarpet"
           }
          ],
          "heatmap": [
           {
            "colorbar": {
             "outlinewidth": 0,
             "ticks": ""
            },
            "colorscale": [
             [
              0,
              "#0d0887"
             ],
             [
              0.1111111111111111,
              "#46039f"
             ],
             [
              0.2222222222222222,
              "#7201a8"
             ],
             [
              0.3333333333333333,
              "#9c179e"
             ],
             [
              0.4444444444444444,
              "#bd3786"
             ],
             [
              0.5555555555555556,
              "#d8576b"
             ],
             [
              0.6666666666666666,
              "#ed7953"
             ],
             [
              0.7777777777777778,
              "#fb9f3a"
             ],
             [
              0.8888888888888888,
              "#fdca26"
             ],
             [
              1,
              "#f0f921"
             ]
            ],
            "type": "heatmap"
           }
          ],
          "heatmapgl": [
           {
            "colorbar": {
             "outlinewidth": 0,
             "ticks": ""
            },
            "colorscale": [
             [
              0,
              "#0d0887"
             ],
             [
              0.1111111111111111,
              "#46039f"
             ],
             [
              0.2222222222222222,
              "#7201a8"
             ],
             [
              0.3333333333333333,
              "#9c179e"
             ],
             [
              0.4444444444444444,
              "#bd3786"
             ],
             [
              0.5555555555555556,
              "#d8576b"
             ],
             [
              0.6666666666666666,
              "#ed7953"
             ],
             [
              0.7777777777777778,
              "#fb9f3a"
             ],
             [
              0.8888888888888888,
              "#fdca26"
             ],
             [
              1,
              "#f0f921"
             ]
            ],
            "type": "heatmapgl"
           }
          ],
          "histogram": [
           {
            "marker": {
             "pattern": {
              "fillmode": "overlay",
              "size": 10,
              "solidity": 0.2
             }
            },
            "type": "histogram"
           }
          ],
          "histogram2d": [
           {
            "colorbar": {
             "outlinewidth": 0,
             "ticks": ""
            },
            "colorscale": [
             [
              0,
              "#0d0887"
             ],
             [
              0.1111111111111111,
              "#46039f"
             ],
             [
              0.2222222222222222,
              "#7201a8"
             ],
             [
              0.3333333333333333,
              "#9c179e"
             ],
             [
              0.4444444444444444,
              "#bd3786"
             ],
             [
              0.5555555555555556,
              "#d8576b"
             ],
             [
              0.6666666666666666,
              "#ed7953"
             ],
             [
              0.7777777777777778,
              "#fb9f3a"
             ],
             [
              0.8888888888888888,
              "#fdca26"
             ],
             [
              1,
              "#f0f921"
             ]
            ],
            "type": "histogram2d"
           }
          ],
          "histogram2dcontour": [
           {
            "colorbar": {
             "outlinewidth": 0,
             "ticks": ""
            },
            "colorscale": [
             [
              0,
              "#0d0887"
             ],
             [
              0.1111111111111111,
              "#46039f"
             ],
             [
              0.2222222222222222,
              "#7201a8"
             ],
             [
              0.3333333333333333,
              "#9c179e"
             ],
             [
              0.4444444444444444,
              "#bd3786"
             ],
             [
              0.5555555555555556,
              "#d8576b"
             ],
             [
              0.6666666666666666,
              "#ed7953"
             ],
             [
              0.7777777777777778,
              "#fb9f3a"
             ],
             [
              0.8888888888888888,
              "#fdca26"
             ],
             [
              1,
              "#f0f921"
             ]
            ],
            "type": "histogram2dcontour"
           }
          ],
          "mesh3d": [
           {
            "colorbar": {
             "outlinewidth": 0,
             "ticks": ""
            },
            "type": "mesh3d"
           }
          ],
          "parcoords": [
           {
            "line": {
             "colorbar": {
              "outlinewidth": 0,
              "ticks": ""
             }
            },
            "type": "parcoords"
           }
          ],
          "pie": [
           {
            "automargin": true,
            "type": "pie"
           }
          ],
          "scatter": [
           {
            "fillpattern": {
             "fillmode": "overlay",
             "size": 10,
             "solidity": 0.2
            },
            "type": "scatter"
           }
          ],
          "scatter3d": [
           {
            "line": {
             "colorbar": {
              "outlinewidth": 0,
              "ticks": ""
             }
            },
            "marker": {
             "colorbar": {
              "outlinewidth": 0,
              "ticks": ""
             }
            },
            "type": "scatter3d"
           }
          ],
          "scattercarpet": [
           {
            "marker": {
             "colorbar": {
              "outlinewidth": 0,
              "ticks": ""
             }
            },
            "type": "scattercarpet"
           }
          ],
          "scattergeo": [
           {
            "marker": {
             "colorbar": {
              "outlinewidth": 0,
              "ticks": ""
             }
            },
            "type": "scattergeo"
           }
          ],
          "scattergl": [
           {
            "marker": {
             "colorbar": {
              "outlinewidth": 0,
              "ticks": ""
             }
            },
            "type": "scattergl"
           }
          ],
          "scattermapbox": [
           {
            "marker": {
             "colorbar": {
              "outlinewidth": 0,
              "ticks": ""
             }
            },
            "type": "scattermapbox"
           }
          ],
          "scatterpolar": [
           {
            "marker": {
             "colorbar": {
              "outlinewidth": 0,
              "ticks": ""
             }
            },
            "type": "scatterpolar"
           }
          ],
          "scatterpolargl": [
           {
            "marker": {
             "colorbar": {
              "outlinewidth": 0,
              "ticks": ""
             }
            },
            "type": "scatterpolargl"
           }
          ],
          "scatterternary": [
           {
            "marker": {
             "colorbar": {
              "outlinewidth": 0,
              "ticks": ""
             }
            },
            "type": "scatterternary"
           }
          ],
          "surface": [
           {
            "colorbar": {
             "outlinewidth": 0,
             "ticks": ""
            },
            "colorscale": [
             [
              0,
              "#0d0887"
             ],
             [
              0.1111111111111111,
              "#46039f"
             ],
             [
              0.2222222222222222,
              "#7201a8"
             ],
             [
              0.3333333333333333,
              "#9c179e"
             ],
             [
              0.4444444444444444,
              "#bd3786"
             ],
             [
              0.5555555555555556,
              "#d8576b"
             ],
             [
              0.6666666666666666,
              "#ed7953"
             ],
             [
              0.7777777777777778,
              "#fb9f3a"
             ],
             [
              0.8888888888888888,
              "#fdca26"
             ],
             [
              1,
              "#f0f921"
             ]
            ],
            "type": "surface"
           }
          ],
          "table": [
           {
            "cells": {
             "fill": {
              "color": "#EBF0F8"
             },
             "line": {
              "color": "white"
             }
            },
            "header": {
             "fill": {
              "color": "#C8D4E3"
             },
             "line": {
              "color": "white"
             }
            },
            "type": "table"
           }
          ]
         },
         "layout": {
          "annotationdefaults": {
           "arrowcolor": "#2a3f5f",
           "arrowhead": 0,
           "arrowwidth": 1
          },
          "autotypenumbers": "strict",
          "coloraxis": {
           "colorbar": {
            "outlinewidth": 0,
            "ticks": ""
           }
          },
          "colorscale": {
           "diverging": [
            [
             0,
             "#8e0152"
            ],
            [
             0.1,
             "#c51b7d"
            ],
            [
             0.2,
             "#de77ae"
            ],
            [
             0.3,
             "#f1b6da"
            ],
            [
             0.4,
             "#fde0ef"
            ],
            [
             0.5,
             "#f7f7f7"
            ],
            [
             0.6,
             "#e6f5d0"
            ],
            [
             0.7,
             "#b8e186"
            ],
            [
             0.8,
             "#7fbc41"
            ],
            [
             0.9,
             "#4d9221"
            ],
            [
             1,
             "#276419"
            ]
           ],
           "sequential": [
            [
             0,
             "#0d0887"
            ],
            [
             0.1111111111111111,
             "#46039f"
            ],
            [
             0.2222222222222222,
             "#7201a8"
            ],
            [
             0.3333333333333333,
             "#9c179e"
            ],
            [
             0.4444444444444444,
             "#bd3786"
            ],
            [
             0.5555555555555556,
             "#d8576b"
            ],
            [
             0.6666666666666666,
             "#ed7953"
            ],
            [
             0.7777777777777778,
             "#fb9f3a"
            ],
            [
             0.8888888888888888,
             "#fdca26"
            ],
            [
             1,
             "#f0f921"
            ]
           ],
           "sequentialminus": [
            [
             0,
             "#0d0887"
            ],
            [
             0.1111111111111111,
             "#46039f"
            ],
            [
             0.2222222222222222,
             "#7201a8"
            ],
            [
             0.3333333333333333,
             "#9c179e"
            ],
            [
             0.4444444444444444,
             "#bd3786"
            ],
            [
             0.5555555555555556,
             "#d8576b"
            ],
            [
             0.6666666666666666,
             "#ed7953"
            ],
            [
             0.7777777777777778,
             "#fb9f3a"
            ],
            [
             0.8888888888888888,
             "#fdca26"
            ],
            [
             1,
             "#f0f921"
            ]
           ]
          },
          "colorway": [
           "#636efa",
           "#EF553B",
           "#00cc96",
           "#ab63fa",
           "#FFA15A",
           "#19d3f3",
           "#FF6692",
           "#B6E880",
           "#FF97FF",
           "#FECB52"
          ],
          "font": {
           "color": "#2a3f5f"
          },
          "geo": {
           "bgcolor": "white",
           "lakecolor": "white",
           "landcolor": "#E5ECF6",
           "showlakes": true,
           "showland": true,
           "subunitcolor": "white"
          },
          "hoverlabel": {
           "align": "left"
          },
          "hovermode": "closest",
          "mapbox": {
           "style": "light"
          },
          "paper_bgcolor": "white",
          "plot_bgcolor": "#E5ECF6",
          "polar": {
           "angularaxis": {
            "gridcolor": "white",
            "linecolor": "white",
            "ticks": ""
           },
           "bgcolor": "#E5ECF6",
           "radialaxis": {
            "gridcolor": "white",
            "linecolor": "white",
            "ticks": ""
           }
          },
          "scene": {
           "xaxis": {
            "backgroundcolor": "#E5ECF6",
            "gridcolor": "white",
            "gridwidth": 2,
            "linecolor": "white",
            "showbackground": true,
            "ticks": "",
            "zerolinecolor": "white"
           },
           "yaxis": {
            "backgroundcolor": "#E5ECF6",
            "gridcolor": "white",
            "gridwidth": 2,
            "linecolor": "white",
            "showbackground": true,
            "ticks": "",
            "zerolinecolor": "white"
           },
           "zaxis": {
            "backgroundcolor": "#E5ECF6",
            "gridcolor": "white",
            "gridwidth": 2,
            "linecolor": "white",
            "showbackground": true,
            "ticks": "",
            "zerolinecolor": "white"
           }
          },
          "shapedefaults": {
           "line": {
            "color": "#2a3f5f"
           }
          },
          "ternary": {
           "aaxis": {
            "gridcolor": "white",
            "linecolor": "white",
            "ticks": ""
           },
           "baxis": {
            "gridcolor": "white",
            "linecolor": "white",
            "ticks": ""
           },
           "bgcolor": "#E5ECF6",
           "caxis": {
            "gridcolor": "white",
            "linecolor": "white",
            "ticks": ""
           }
          },
          "title": {
           "x": 0.05
          },
          "xaxis": {
           "automargin": true,
           "gridcolor": "white",
           "linecolor": "white",
           "ticks": "",
           "title": {
            "standoff": 15
           },
           "zerolinecolor": "white",
           "zerolinewidth": 2
          },
          "yaxis": {
           "automargin": true,
           "gridcolor": "white",
           "linecolor": "white",
           "ticks": "",
           "title": {
            "standoff": 15
           },
           "zerolinecolor": "white",
           "zerolinewidth": 2
          }
         }
        },
        "title": {
         "text": "Distribución Gumbel <br> Momentos y Momentos-L",
         "x": 0.5
        },
        "xaxis": {
         "anchor": "y",
         "domain": [
          0,
          1
         ],
         "gridcolor": "lightgray",
         "range": [
          0,
          2
         ],
         "showgrid": true,
         "type": "log"
        },
        "xaxis2": {
         "anchor": "y2",
         "domain": [
          0,
          1
         ],
         "gridcolor": "lightgray",
         "range": [
          0,
          4
         ],
         "showgrid": true,
         "title": {
          "text": "Tr (Periodos de retorno)"
         },
         "type": "log"
        },
        "yaxis": {
         "anchor": "x",
         "autorange": true,
         "domain": [
          0.545,
          1
         ],
         "gridcolor": "lightgray",
         "range": [
          -2103.001866977851,
          15388.464649874299
         ],
         "showgrid": true,
         "title": {
          "text": "Gastos (m³/s)"
         },
         "type": "linear"
        },
        "yaxis2": {
         "anchor": "x2",
         "autorange": true,
         "domain": [
          0,
          0.455
         ],
         "gridcolor": "lightgray",
         "range": [
          -1174.029802516651,
          17680.506950334046
         ],
         "showgrid": true,
         "title": {
          "text": "Gastos (m³/s)"
         },
         "type": "linear"
        }
       }
      },
      "image/png": "[encoded data removed]",
      "text/html": [
       "<div>                            <div id=\"cf771047-73f8-4d4b-9b46-2edb519bcdf7\" class=\"plotly-graph-div\" style=\"height:525px; width:100%;\"></div>            <script type=\"text/javascript\">                require([\"plotly\"], function(Plotly) {                    window.PLOTLYENV=window.PLOTLYENV || {};                                    if (document.getElementById(\"cf771047-73f8-4d4b-9b46-2edb519bcdf7\")) {                    Plotly.newPlot(                        \"cf771047-73f8-4d4b-9b46-2edb519bcdf7\",                        [{\"marker\":{\"color\":\"blue\"},\"mode\":\"markers\",\"name\":\"Datos Registrados\",\"x\":[63.0,31.5,21.0,15.75,12.6,10.5,9.0,7.875,7.0,6.3,5.7272727272727275,5.25,4.846153846153846,4.5,4.2,3.9375,3.7058823529411766,3.5,3.3157894736842106,3.15,3.0,2.8636363636363638,2.739130434782609,2.625,2.52,2.423076923076923,2.3333333333333335,2.25,2.1724137931034484,2.1,2.032258064516129,1.96875,1.9090909090909092,1.8529411764705883,1.8,1.75,1.7027027027027026,1.6578947368421053,1.6153846153846154,1.575,1.5365853658536586,1.5,1.4651162790697674,1.4318181818181819,1.4,1.3695652173913044,1.3404255319148937,1.3125,1.2857142857142858,1.26,1.2352941176470589,1.2115384615384615,1.1886792452830188,1.1666666666666667,1.1454545454545455,1.125,1.105263157894737,1.0862068965517242,1.0677966101694916,1.05,1.0327868852459017,1.0161290322580645],\"y\":[13713.0,11800.0,4235.0,3992.0,3979.0,3662.0,3533.0,3388.0,3245.0,3205.0,2917.0,2747.0,2734.0,2654.0,2583.0,2319.0,2311.0,2310.0,2248.0,2150.0,2133.0,1899.0,1899.0,1894.0,1861.0,1797.0,1771.0,1716.0,1652.0,1640.0,1631.0,1598.0,1507.0,1494.0,1397.0,1395.0,1371.0,1332.0,1288.0,1244.0,1232.0,1202.0,1173.0,1157.0,1131.0,1087.0,1049.0,1030.0,1030.0,1014.0,995.0,954.0,925.0,922.0,907.0,852.0,832.0,751.0,743.0,720.0,652.0,632.0],\"type\":\"scatter\",\"xaxis\":\"x\",\"yaxis\":\"y\"},{\"line\":{\"color\":\"red\",\"width\":1},\"mode\":\"lines\",\"name\":\"Datos Ajustados (Momentos)\",\"x\":[63.0,31.5,21.0,15.75,12.6,10.5,9.0,7.875,7.0,6.3,5.7272727272727275,5.25,4.846153846153846,4.5,4.2,3.9375,3.7058823529411766,3.5,3.3157894736842106,3.15,3.0,2.8636363636363638,2.739130434782609,2.625,2.52,2.423076923076923,2.3333333333333335,2.25,2.1724137931034484,2.1,2.032258064516129,1.96875,1.9090909090909092,1.8529411764705883,1.8,1.75,1.7027027027027026,1.6578947368421053,1.6153846153846154,1.575,1.5365853658536586,1.5,1.4651162790697674,1.4318181818181819,1.4,1.3695652173913044,1.3404255319148937,1.3125,1.2857142857142858,1.26,1.2352941176470589,1.2115384615384615,1.1886792452830188,1.1666666666666667,1.1454545454545455,1.125,1.105263157894737,1.0862068965517242,1.0677966101694916,1.05,1.0327868852459017,1.0161290322580645],\"y\":[8161.4708265169365,6976.461998223173,6277.408957794666,5777.199621880386,5385.852011358346,5063.282167473448,4788.10486995865,4547.552083191447,4333.385373058994,4139.976928701746,3963.310081096877,3800.416545643737,3649.039681635934,3507.4228860272624,3374.1711532997692,3248.157389773457,3128.457162525343,3014.3021089925505,2905.045940371433,2800.1391541991097,2699.1099001677176,2601.549276426261,2507.0998699579477,2415.4467079783913,2326.310024994451,2239.4394130578967,2154.6090362541495,2071.613670733498,1990.2653890858478,1910.3907494807836,1831.8283803623212,1754.4268737326074,1678.0429163202625,1602.5395996708892,1527.7848584105268,1453.6499912639633,1380.0082222387657,1306.733259867964,1233.6978104812918,1160.7719968575568,1087.8216257266913,1014.7062354857883,941.2768376664574,867.3732398115262,792.8207998674573,717.4264072850101,640.9734046431315,563.2150408927481,483.86585831532216,402.5901169589092,318.9858758733294,232.5625377395645,142.70824762425855,48.640959099092015,-50.66796129985937,-156.6188062714018,-271.2007071639116,-397.3982152116639,-540.0326100804591,-707.7666077565445,-919.0446063141208,-1228.4285411352434],\"type\":\"scatter\",\"xaxis\":\"x\",\"yaxis\":\"y\"},{\"line\":{\"color\":\"green\",\"width\":1},\"mode\":\"lines\",\"name\":\"Datos Ajustados (Momentos-L)\",\"x\":[63.0,31.5,21.0,15.75,12.6,10.5,9.0,7.875,7.0,6.3,5.7272727272727275,5.25,4.846153846153846,4.5,4.2,3.9375,3.7058823529411766,3.5,3.3157894736842106,3.15,3.0,2.8636363636363638,2.739130434782609,2.625,2.52,2.423076923076923,2.3333333333333335,2.25,2.1724137931034484,2.1,2.032258064516129,1.96875,1.9090909090909092,1.8529411764705883,1.8,1.75,1.7027027027027026,1.6578947368421053,1.6153846153846154,1.575,1.5365853658536586,1.5,1.4651162790697674,1.4318181818181819,1.4,1.3695652173913044,1.3404255319148937,1.3125,1.2857142857142858,1.26,1.2352941176470589,1.2115384615384615,1.1886792452830188,1.1666666666666667,1.1454545454545455,1.125,1.105263157894737,1.0862068965517242,1.0677966101694916,1.05,1.0327868852459017,1.0161290322580645],\"y\":[6422.175897808662,5579.947964192428,5083.106097979518,4727.5895268757995,4449.44485700848,4220.18299281354,4024.604697420002,3853.6352736594363,3701.419373307066,3563.9571109630137,3438.3936970507443,3322.6194661011914,3215.030543279266,3114.378448304936,3019.671701126139,2930.109236165616,2845.034026056227,2763.8999681883133,2686.2477221159497,2611.686736888984,2539.8816517064824,2470.5418454753444,2403.413292048764,2338.2721290630147,2274.9195172288364,2213.1774827085974,2152.885515883186,2093.897756861315,2036.0806389466902,1979.3108908598533,1923.4738200948113,1868.4618156008103,1814.1730195371902,1760.510126194585,1707.3792720131987,1654.6889844179018,1602.3491592005314,1550.2700365224102,1498.3611442433216,1446.5301740014906,1394.6817498656537,1342.7160407773881,1290.5271553316093,1238.0012390497996,1185.0141676112262,1131.4286904782034,1077.0908215135146,1021.8251859678612,965.4288988848796,907.6633379360208,848.2428293880406,786.8186882722127,722.956047519289,656.0990789096062,585.51669604441,510.2136610841043,428.7762276115873,339.08316888255285,237.70782991067563,118.49331024897151,-31.669480014738383,-251.5596495197526],\"type\":\"scatter\",\"xaxis\":\"x\",\"yaxis\":\"y\"},{\"marker\":{\"color\":\"purple\"},\"mode\":\"markers\",\"name\":\"Datos Registrados\",\"x\":[63.0,31.5,21.0,15.75,12.6,10.5,9.0,7.875,7.0,6.3,5.7272727272727275,5.25,4.846153846153846,4.5,4.2,3.9375,3.7058823529411766,3.5,3.3157894736842106,3.15,3.0,2.8636363636363638,2.739130434782609,2.625,2.52,2.423076923076923,2.3333333333333335,2.25,2.1724137931034484,2.1,2.032258064516129,1.96875,1.9090909090909092,1.8529411764705883,1.8,1.75,1.7027027027027026,1.6578947368421053,1.6153846153846154,1.575,1.5365853658536586,1.5,1.4651162790697674,1.4318181818181819,1.4,1.3695652173913044,1.3404255319148937,1.3125,1.2857142857142858,1.26,1.2352941176470589,1.2115384615384615,1.1886792452830188,1.1666666666666667,1.1454545454545455,1.125,1.105263157894737,1.0862068965517242,1.0677966101694916,1.05,1.0327868852459017,1.0161290322580645],\"y\":[13713.0,11800.0,4235.0,3992.0,3979.0,3662.0,3533.0,3388.0,3245.0,3205.0,2917.0,2747.0,2734.0,2654.0,2583.0,2319.0,2311.0,2310.0,2248.0,2150.0,2133.0,1899.0,1899.0,1894.0,1861.0,1797.0,1771.0,1716.0,1652.0,1640.0,1631.0,1598.0,1507.0,1494.0,1397.0,1395.0,1371.0,1332.0,1288.0,1244.0,1232.0,1202.0,1173.0,1157.0,1131.0,1087.0,1049.0,1030.0,1030.0,1014.0,995.0,954.0,925.0,922.0,907.0,852.0,832.0,751.0,743.0,720.0,652.0,632.0],\"type\":\"scatter\",\"xaxis\":\"x2\",\"yaxis\":\"y2\"},{\"line\":{\"color\":\"blue\",\"width\":1},\"mode\":\"lines\",\"name\":\"Datos Extrapolados (Momentos)\",\"x\":[2.0,5.0,10.0,20.0,50.0,100.0,200.0,500.0,1000.0,2000.0,5000.0,10000.0],\"y\":[1792.9916454897261,3708.3301808741107,4976.450950403634,6192.862838275601,7767.383254628905,8947.264738157452,10122.841032345696,11673.790728496093,12845.961760314152,14017.70953250513,15566.370567129736,16737.78011269151],\"type\":\"scatter\",\"xaxis\":\"x2\",\"yaxis\":\"y2\"},{\"line\":{\"color\":\"black\",\"width\":1},\"mode\":\"lines\",\"name\":\"Datos Extrapolados (Momentos-L)\",\"x\":[2.0,5.0,10.0,20.0,50.0,100.0,200.0,500.0,1000.0,2000.0,5000.0,10000.0],\"y\":[1895.8711709168774,3257.1704104803785,4158.468957626655,5023.016162919421,6142.083839918259,6980.66758719306,7816.191483236938,8918.506610806315,9751.610265733852,10584.413094986012,11685.101589384736,12517.664028938352],\"type\":\"scatter\",\"xaxis\":\"x2\",\"yaxis\":\"y2\"}],                        {\"template\":{\"data\":{\"histogram2dcontour\":[{\"type\":\"histogram2dcontour\",\"colorbar\":{\"outlinewidth\":0,\"ticks\":\"\"},\"colorscale\":[[0.0,\"#0d0887\"],[0.1111111111111111,\"#46039f\"],[0.2222222222222222,\"#7201a8\"],[0.3333333333333333,\"#9c179e\"],[0.4444444444444444,\"#bd3786\"],[0.5555555555555556,\"#d8576b\"],[0.6666666666666666,\"#ed7953\"],[0.7777777777777778,\"#fb9f3a\"],[0.8888888888888888,\"#fdca26\"],[1.0,\"#f0f921\"]]}],\"choropleth\":[{\"type\":\"choropleth\",\"colorbar\":{\"outlinewidth\":0,\"ticks\":\"\"}}],\"histogram2d\":[{\"type\":\"histogram2d\",\"colorbar\":{\"outlinewidth\":0,\"ticks\":\"\"},\"colorscale\":[[0.0,\"#0d0887\"],[0.1111111111111111,\"#46039f\"],[0.2222222222222222,\"#7201a8\"],[0.3333333333333333,\"#9c179e\"],[0.4444444444444444,\"#bd3786\"],[0.5555555555555556,\"#d8576b\"],[0.6666666666666666,\"#ed7953\"],[0.7777777777777778,\"#fb9f3a\"],[0.8888888888888888,\"#fdca26\"],[1.0,\"#f0f921\"]]}],\"heatmap\":[{\"type\":\"heatmap\",\"colorbar\":{\"outlinewidth\":0,\"ticks\":\"\"},\"colorscale\":[[0.0,\"#0d0887\"],[0.1111111111111111,\"#46039f\"],[0.2222222222222222,\"#7201a8\"],[0.3333333333333333,\"#9c179e\"],[0.4444444444444444,\"#bd3786\"],[0.5555555555555556,\"#d8576b\"],[0.6666666666666666,\"#ed7953\"],[0.7777777777777778,\"#fb9f3a\"],[0.8888888888888888,\"#fdca26\"],[1.0,\"#f0f921\"]]}],\"heatmapgl\":[{\"type\":\"heatmapgl\",\"colorbar\":{\"outlinewidth\":0,\"ticks\":\"\"},\"colorscale\":[[0.0,\"#0d0887\"],[0.1111111111111111,\"#46039f\"],[0.2222222222222222,\"#7201a8\"],[0.3333333333333333,\"#9c179e\"],[0.4444444444444444,\"#bd3786\"],[0.5555555555555556,\"#d8576b\"],[0.6666666666666666,\"#ed7953\"],[0.7777777777777778,\"#fb9f3a\"],[0.8888888888888888,\"#fdca26\"],[1.0,\"#f0f921\"]]}],\"contourcarpet\":[{\"type\":\"contourcarpet\",\"colorbar\":{\"outlinewidth\":0,\"ticks\":\"\"}}],\"contour\":[{\"type\":\"contour\",\"colorbar\":{\"outlinewidth\":0,\"ticks\":\"\"},\"colorscale\":[[0.0,\"#0d0887\"],[0.1111111111111111,\"#46039f\"],[0.2222222222222222,\"#7201a8\"],[0.3333333333333333,\"#9c179e\"],[0.4444444444444444,\"#bd3786\"],[0.5555555555555556,\"#d8576b\"],[0.6666666666666666,\"#ed7953\"],[0.7777777777777778,\"#fb9f3a\"],[0.8888888888888888,\"#fdca26\"],[1.0,\"#f0f921\"]]}],\"surface\":[{\"type\":\"surface\",\"colorbar\":{\"outlinewidth\":0,\"ticks\":\"\"},\"colorscale\":[[0.0,\"#0d0887\"],[0.1111111111111111,\"#46039f\"],[0.2222222222222222,\"#7201a8\"],[0.3333333333333333,\"#9c179e\"],[0.4444444444444444,\"#bd3786\"],[0.5555555555555556,\"#d8576b\"],[0.6666666666666666,\"#ed7953\"],[0.7777777777777778,\"#fb9f3a\"],[0.8888888888888888,\"#fdca26\"],[1.0,\"#f0f921\"]]}],\"mesh3d\":[{\"type\":\"mesh3d\",\"colorbar\":{\"outlinewidth\":0,\"ticks\":\"\"}}],\"scatter\":[{\"fillpattern\":{\"fillmode\":\"overlay\",\"size\":10,\"solidity\":0.2},\"type\":\"scatter\"}],\"parcoords\":[{\"type\":\"parcoords\",\"line\":{\"colorbar\":{\"outlinewidth\":0,\"ticks\":\"\"}}}],\"scatterpolargl\":[{\"type\":\"scatterpolargl\",\"marker\":{\"colorbar\":{\"outlinewidth\":0,\"ticks\":\"\"}}}],\"bar\":[{\"error_x\":{\"color\":\"#2a3f5f\"},\"error_y\":{\"color\":\"#2a3f5f\"},\"marker\":{\"line\":{\"color\":\"#E5ECF6\",\"width\":0.5},\"pattern\":{\"fillmode\":\"overlay\",\"size\":10,\"solidity\":0.2}},\"type\":\"bar\"}],\"scattergeo\":[{\"type\":\"scattergeo\",\"marker\":{\"colorbar\":{\"outlinewidth\":0,\"ticks\":\"\"}}}],\"scatterpolar\":[{\"type\":\"scatterpolar\",\"marker\":{\"colorbar\":{\"outlinewidth\":0,\"ticks\":\"\"}}}],\"histogram\":[{\"marker\":{\"pattern\":{\"fillmode\":\"overlay\",\"size\":10,\"solidity\":0.2}},\"type\":\"histogram\"}],\"scattergl\":[{\"type\":\"scattergl\",\"marker\":{\"colorbar\":{\"outlinewidth\":0,\"ticks\":\"\"}}}],\"scatter3d\":[{\"type\":\"scatter3d\",\"line\":{\"colorbar\":{\"outlinewidth\":0,\"ticks\":\"\"}},\"marker\":{\"colorbar\":{\"outlinewidth\":0,\"ticks\":\"\"}}}],\"scattermapbox\":[{\"type\":\"scattermapbox\",\"marker\":{\"colorbar\":{\"outlinewidth\":0,\"ticks\":\"\"}}}],\"scatterternary\":[{\"type\":\"scatterternary\",\"marker\":{\"colorbar\":{\"outlinewidth\":0,\"ticks\":\"\"}}}],\"scattercarpet\":[{\"type\":\"scattercarpet\",\"marker\":{\"colorbar\":{\"outlinewidth\":0,\"ticks\":\"\"}}}],\"carpet\":[{\"aaxis\":{\"endlinecolor\":\"#2a3f5f\",\"gridcolor\":\"white\",\"linecolor\":\"white\",\"minorgridcolor\":\"white\",\"startlinecolor\":\"#2a3f5f\"},\"baxis\":{\"endlinecolor\":\"#2a3f5f\",\"gridcolor\":\"white\",\"linecolor\":\"white\",\"minorgridcolor\":\"white\",\"startlinecolor\":\"#2a3f5f\"},\"type\":\"carpet\"}],\"table\":[{\"cells\":{\"fill\":{\"color\":\"#EBF0F8\"},\"line\":{\"color\":\"white\"}},\"header\":{\"fill\":{\"color\":\"#C8D4E3\"},\"line\":{\"color\":\"white\"}},\"type\":\"table\"}],\"barpolar\":[{\"marker\":{\"line\":{\"color\":\"#E5ECF6\",\"width\":0.5},\"pattern\":{\"fillmode\":\"overlay\",\"size\":10,\"solidity\":0.2}},\"type\":\"barpolar\"}],\"pie\":[{\"automargin\":true,\"type\":\"pie\"}]},\"layout\":{\"autotypenumbers\":\"strict\",\"colorway\":[\"#636efa\",\"#EF553B\",\"#00cc96\",\"#ab63fa\",\"#FFA15A\",\"#19d3f3\",\"#FF6692\",\"#B6E880\",\"#FF97FF\",\"#FECB52\"],\"font\":{\"color\":\"#2a3f5f\"},\"hovermode\":\"closest\",\"hoverlabel\":{\"align\":\"left\"},\"paper_bgcolor\":\"white\",\"plot_bgcolor\":\"#E5ECF6\",\"polar\":{\"bgcolor\":\"#E5ECF6\",\"angularaxis\":{\"gridcolor\":\"white\",\"linecolor\":\"white\",\"ticks\":\"\"},\"radialaxis\":{\"gridcolor\":\"white\",\"linecolor\":\"white\",\"ticks\":\"\"}},\"ternary\":{\"bgcolor\":\"#E5ECF6\",\"aaxis\":{\"gridcolor\":\"white\",\"linecolor\":\"white\",\"ticks\":\"\"},\"baxis\":{\"gridcolor\":\"white\",\"linecolor\":\"white\",\"ticks\":\"\"},\"caxis\":{\"gridcolor\":\"white\",\"linecolor\":\"white\",\"ticks\":\"\"}},\"coloraxis\":{\"colorbar\":{\"outlinewidth\":0,\"ticks\":\"\"}},\"colorscale\":{\"sequential\":[[0.0,\"#0d0887\"],[0.1111111111111111,\"#46039f\"],[0.2222222222222222,\"#7201a8\"],[0.3333333333333333,\"#9c179e\"],[0.4444444444444444,\"#bd3786\"],[0.5555555555555556,\"#d8576b\"],[0.6666666666666666,\"#ed7953\"],[0.7777777777777778,\"#fb9f3a\"],[0.8888888888888888,\"#fdca26\"],[1.0,\"#f0f921\"]],\"sequentialminus\":[[0.0,\"#0d0887\"],[0.1111111111111111,\"#46039f\"],[0.2222222222222222,\"#7201a8\"],[0.3333333333333333,\"#9c179e\"],[0.4444444444444444,\"#bd3786\"],[0.5555555555555556,\"#d8576b\"],[0.6666666666666666,\"#ed7953\"],[0.7777777777777778,\"#fb9f3a\"],[0.8888888888888888,\"#fdca26\"],[1.0,\"#f0f921\"]],\"diverging\":[[0,\"#8e0152\"],[0.1,\"#c51b7d\"],[0.2,\"#de77ae\"],[0.3,\"#f1b6da\"],[0.4,\"#fde0ef\"],[0.5,\"#f7f7f7\"],[0.6,\"#e6f5d0\"],[0.7,\"#b8e186\"],[0.8,\"#7fbc41\"],[0.9,\"#4d9221\"],[1,\"#276419\"]]},\"xaxis\":{\"gridcolor\":\"white\",\"linecolor\":\"white\",\"ticks\":\"\",\"title\":{\"standoff\":15},\"zerolinecolor\":\"white\",\"automargin\":true,\"zerolinewidth\":2},\"yaxis\":{\"gridcolor\":\"white\",\"linecolor\":\"white\",\"ticks\":\"\",\"title\":{\"standoff\":15},\"zerolinecolor\":\"white\",\"automargin\":true,\"zerolinewidth\":2},\"scene\":{\"xaxis\":{\"backgroundcolor\":\"#E5ECF6\",\"gridcolor\":\"white\",\"linecolor\":\"white\",\"showbackground\":true,\"ticks\":\"\",\"zerolinecolor\":\"white\",\"gridwidth\":2},\"yaxis\":{\"backgroundcolor\":\"#E5ECF6\",\"gridcolor\":\"white\",\"linecolor\":\"white\",\"showbackground\":true,\"ticks\":\"\",\"zerolinecolor\":\"white\",\"gridwidth\":2},\"zaxis\":{\"backgroundcolor\":\"#E5ECF6\",\"gridcolor\":\"white\",\"linecolor\":\"white\",\"showbackground\":true,\"ticks\":\"\",\"zerolinecolor\":\"white\",\"gridwidth\":2}},\"shapedefaults\":{\"line\":{\"color\":\"#2a3f5f\"}},\"annotationdefaults\":{\"arrowcolor\":\"#2a3f5f\",\"arrowhead\":0,\"arrowwidth\":1},\"geo\":{\"bgcolor\":\"white\",\"landcolor\":\"#E5ECF6\",\"subunitcolor\":\"white\",\"showland\":true,\"showlakes\":true,\"lakecolor\":\"white\"},\"title\":{\"x\":0.05},\"mapbox\":{\"style\":\"light\"}}},\"xaxis\":{\"anchor\":\"y\",\"domain\":[0.0,1.0],\"type\":\"log\",\"range\":[0,2],\"showgrid\":true,\"gridcolor\":\"lightgray\"},\"yaxis\":{\"anchor\":\"x\",\"domain\":[0.545,1.0],\"title\":{\"text\":\"Gastos (m\\u00b3\\u002fs)\"},\"showgrid\":true,\"gridcolor\":\"lightgray\"},\"xaxis2\":{\"anchor\":\"y2\",\"domain\":[0.0,1.0],\"type\":\"log\",\"range\":[0,4],\"title\":{\"text\":\"Tr (Periodos de retorno)\"},\"showgrid\":true,\"gridcolor\":\"lightgray\"},\"yaxis2\":{\"anchor\":\"x2\",\"domain\":[0.0,0.455],\"title\":{\"text\":\"Gastos (m\\u00b3\\u002fs)\"},\"showgrid\":true,\"gridcolor\":\"lightgray\"},\"annotations\":[{\"font\":{\"size\":16},\"showarrow\":false,\"text\":\"Datos ajustados\",\"x\":0.5,\"xanchor\":\"center\",\"xref\":\"paper\",\"y\":1.0,\"yanchor\":\"bottom\",\"yref\":\"paper\"},{\"font\":{\"size\":16},\"showarrow\":false,\"text\":\"Datos extrapolados\",\"x\":0.5,\"xanchor\":\"center\",\"xref\":\"paper\",\"y\":0.455,\"yanchor\":\"bottom\",\"yref\":\"paper\"}],\"title\":{\"text\":\"Distribuci\\u00f3n Gumbel \\u003cbr\\u003e Momentos y Momentos-L\",\"x\":0.5},\"legend\":{\"x\":0.004,\"y\":0.99},\"showlegend\":true},                        {\"responsive\": true}                    ).then(function(){\n",
       "                            \n",
       "var gd = document.getElementById('cf771047-73f8-4d4b-9b46-2edb519bcdf7');\n",
       "var x = new MutationObserver(function (mutations, observer) {{\n",
       "        var display = window.getComputedStyle(gd).display;\n",
       "        if (!display || display === 'none') {{\n",
       "            console.log([gd, 'removed!']);\n",
       "            Plotly.purge(gd);\n",
       "            observer.disconnect();\n",
       "        }}\n",
       "}});\n",
       "\n",
       "// Listen for the removal of the full notebook cells\n",
       "var notebookContainer = gd.closest('#notebook-container');\n",
       "if (notebookContainer) {{\n",
       "    x.observe(notebookContainer, {childList: true});\n",
       "}}\n",
       "\n",
       "// Listen for the clearing of the current output cell\n",
       "var outputEl = gd.closest('.output');\n",
       "if (outputEl) {{\n",
       "    x.observe(outputEl, {childList: true});\n",
       "}}\n",
       "\n",
       "                        })                };                });            </script>        </div>"
      ]
     },
     "metadata": {},
     "output_type": "display_data"
    }
   ],
   "source": [
    "# Gráficos html, comparación\n",
    "# Crear subplots\n",
    "#titulo0 = \"Distribucion Gumbel (Momentos) <br>EE= \" + str(EEMom)\n",
    "#titulo1 = \"Distribucion Gumbel (Momentos-L) <br> EE= \" + str(EEMomL)\n",
    "fig = make_subplots(rows=2, \n",
    "                    cols=1, \n",
    "                    shared_xaxes=False, \n",
    "                    vertical_spacing=0.09, \n",
    "                    subplot_titles=(\"Datos ajustados\", \"Datos extrapolados\"))\n",
    "# Gráfico 1: Datos Registrados (Scatter) y Datos Ajustados (Línea)\n",
    "fig.add_trace(go.Scatter(x=tR, \n",
    "                         y=dReg, \n",
    "                         mode='markers', \n",
    "                         name='Datos Registrados', \n",
    "                         #alpha=.4, \n",
    "                         marker=dict(color='blue')), \n",
    "              row=1, col=1)\n",
    "fig.add_trace(go.Scatter(x=tR, \n",
    "                         y=dAjustMom, \n",
    "                         mode='lines', \n",
    "                         name='Datos Ajustados (Momentos)', \n",
    "                         line=dict(color='red', width=1)), \n",
    "              row=1, col=1)\n",
    "fig.add_trace(go.Scatter(x=tR, \n",
    "                         y=dAjustMax, \n",
    "                         mode='lines', \n",
    "                         name='Datos Ajustados (Momentos-L)', \n",
    "                         line=dict(color='green', width=1)), \n",
    "              row=1, col=1)\n",
    "\n",
    "fig.add_trace(go.Scatter(x=tR, \n",
    "                         y=dReg,\n",
    "                         mode='markers', \n",
    "                         name='Datos Registrados', \n",
    "                         #alpha=.4, \n",
    "                         marker=dict(color='purple')), \n",
    "              row=2, col=1)\n",
    "fig.add_trace(go.Scatter(x=dTrExtrap, \n",
    "                         y=dExtrapMom, \n",
    "                         mode='lines', \n",
    "                         name='Datos Extrapolados (Momentos)', \n",
    "                         line=dict(color='blue', \n",
    "                         width=1)), \n",
    "              row=2, col=1)\n",
    "fig.add_trace(go.Scatter(x=dTrExtrap, \n",
    "                         y=dExtrapMax, \n",
    "                         mode='lines', \n",
    "                         name='Datos Extrapolados (Momentos-L)', \n",
    "                         line=dict(color='black', \n",
    "                         width=1)), \n",
    "              row=2, col=1)\n",
    "\n",
    "# Configurar el layout\n",
    "fig.update_layout(\n",
    "    title_text=\"Distribución Gumbel <br> Momentos y Momentos-L\",\n",
    "    title_x=0.5,  # Centra el título\n",
    "    #xaxis_type=\"log\",  # Eje x semilogarítmico\n",
    "    #yaxis_title=\"Gastos (m³/s)\",\n",
    "    showlegend=True,\n",
    "    legend=dict(x=0.004, y=0.99)) # posición de la leyenda\n",
    "\n",
    "# Configurar ambos ejes x como logarítmicos\n",
    "fig.update_xaxes(type=\"log\", \n",
    "                 range=[0, 2], \n",
    "                 showgrid=True, \n",
    "                 gridcolor='lightgray', \n",
    "                 row=1, col=1)  # Eje x de la primera fila\n",
    "fig.update_xaxes(type=\"log\", \n",
    "                 range=[0, 4], \n",
    "                 title=\"Tr (Periodos de retorno)\", \n",
    "                 showgrid=True, \n",
    "                 gridcolor='lightgray', \n",
    "                 row=2, col=1)  # Eje x de la segunda fila\n",
    "fig.update_yaxes(title_text=\"Gastos (m³/s)\", \n",
    "                 showgrid=True, \n",
    "                 gridcolor='lightgray', \n",
    "                 row=1, col=1)\n",
    "fig.update_yaxes(title_text=\"Gastos (m³/s)\", \n",
    "                 showgrid=True, \n",
    "                 gridcolor='lightgray', \n",
    "                 row=2, col=1)\n",
    "\n",
    "fig.show()"
   ]
  },
  {
   "cell_type": "code",
   "execution_count": 41,
   "id": "13579741-14cb-4cf2-b7a7-1a60d7406ad3",
   "metadata": {},
   "outputs": [],
   "source": [
    "fig.write_html(r'C:\\Users\\sear2\\Music\\analisis_frecuencias\\Analisis_de_Frecuencias\\salidas\\grafico_plotly_gumbel_comparacion.html')"
   ]
  },
  {
   "cell_type": "code",
   "execution_count": null,
   "id": "7af17ca4-03c2-4486-9df8-c08f5ad2ef00",
   "metadata": {},
   "outputs": [],
   "source": []
  }
 ],
 "metadata": {
  "kernelspec": {
   "display_name": "Python 3 (ipykernel)",
   "language": "python",
   "name": "python3"
  },
  "language_info": {
   "codemirror_mode": {
    "name": "ipython",
    "version": 3
   },
   "file_extension": ".py",
   "mimetype": "text/x-python",
   "name": "python",
   "nbconvert_exporter": "python",
   "pygments_lexer": "ipython3",
   "version": "3.11.8"
  }
 },
 "nbformat": 4,
 "nbformat_minor": 5
}
