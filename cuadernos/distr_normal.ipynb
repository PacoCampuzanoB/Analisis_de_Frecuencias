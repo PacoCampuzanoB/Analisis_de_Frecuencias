{
 "cells": [
  {
   "cell_type": "code",
   "execution_count": 1,
   "id": "29b29323-3694-4e8b-8451-932fdff53a21",
   "metadata": {},
   "outputs": [],
   "source": [
    "import numpy as np\n",
    "import pandas as pd\n",
    "from tkinter import filedialog\n",
    "import os\n",
    "import scipy.stats as st\n",
    "import pylab as pl"
   ]
  },
  {
   "cell_type": "code",
   "execution_count": 2,
   "id": "84779112-968e-4866-a499-59d01578c352",
   "metadata": {},
   "outputs": [],
   "source": [
    "# No funciona bien en windows\n",
    "diractual = os.getcwd()\n",
    "ruta = filedialog.askopenfilename(initialdir = diractual,\n",
    "                                        title = \"Abrir solo archivos .csv\",\n",
    "                                        filetypes=((\"csv files\", \"*.csv*\"), \n",
    "                                                (\"all files\", \"*.*\")))"
   ]
  },
  {
   "cell_type": "code",
   "execution_count": 3,
   "id": "793f090e-b896-469a-8ea3-4ec5adbf3ef5",
   "metadata": {},
   "outputs": [
    {
     "name": "stdout",
     "output_type": "stream",
     "text": [
      "\n",
      "Archivo: \n",
      " C:\\Users\\sear2\\Music\\analisis_frecuencias\\Analisis_de_Frecuencias\\gastos\\datos2014.csv\n"
     ]
    }
   ],
   "source": [
    "ruta = r\"C:\\Users\\sear2\\Music\\analisis_frecuencias\\Analisis_de_Frecuencias\\gastos\\datos2014.csv\"\n",
    "print(f\"\\nArchivo: \\n {ruta}\")"
   ]
  },
  {
   "cell_type": "code",
   "execution_count": 4,
   "id": "e5af90bb-7aba-4912-8bb9-1250200f86ed",
   "metadata": {},
   "outputs": [
    {
     "name": "stdout",
     "output_type": "stream",
     "text": [
      "<class 'numpy.ndarray'>\n"
     ]
    },
    {
     "data": {
      "text/plain": [
       "62"
      ]
     },
     "execution_count": 4,
     "metadata": {},
     "output_type": "execute_result"
    }
   ],
   "source": [
    "datos = pd.read_csv(ruta, header=None).values\n",
    "datos.astype(float)\n",
    "print(type(datos))\n",
    "len(datos)"
   ]
  },
  {
   "cell_type": "code",
   "execution_count": 5,
   "id": "954adf00-9977-4ccf-a6b9-7de1dd8fc3a0",
   "metadata": {},
   "outputs": [],
   "source": [
    "m = datos.size\n",
    "media = np.mean(datos)\n",
    "desv_est =  np.std(datos, ddof=1)\n",
    "rv1 = st.norm\n",
    "EEstandart = np.full((m, 1), -999, float) # Se crea un vector con m elementos"
   ]
  },
  {
   "cell_type": "code",
   "execution_count": 6,
   "id": "dc29c43f-bc7b-4b98-afee-8063022215a4",
   "metadata": {},
   "outputs": [],
   "source": [
    "matriz01 = np.zeros ((m, 6))\n",
    "matriz02 = np.zeros ((m, 4))\n",
    "matriz02 [:] = -999\n",
    "matriz02 [0, 0] = 2\n",
    "matriz02 [1, 0] = 5\n",
    "matriz02 [2, 0] = 10\n",
    "matriz02 [3, 0] = 20\n",
    "matriz02 [4, 0] = 50\n",
    "matriz02 [5, 0] = 100\n",
    "matriz02 [6, 0] = 200\n",
    "matriz02 [7, 0] = 500\n",
    "matriz02 [8, 0] = 1000\n",
    "matriz02 [9, 0] = 2000\n",
    "matriz02 [10, 0] = 5000\n",
    "matriz02 [11, 0] = 10000"
   ]
  },
  {
   "cell_type": "code",
   "execution_count": 7,
   "id": "a2416816-1ed8-4d54-9c7e-33081bd9941e",
   "metadata": {},
   "outputs": [],
   "source": [
    "for i in range (m):\n",
    "    matriz01 [i, 0] = i + 1                     # Se crea la columna pra el No de Orden\n",
    "    matriz01 [i, 1] = datos.max()            # Se crea la columna que contiene los gastos registrados ordenado en forma descendente\n",
    "    j = datos.argmax()                       # Returns the indices of the maximum values along an axis\n",
    "    datos [j, 0] = -1\n",
    "    matriz01 [i, 2] = (m + 1)/matriz01[i,0]     # Se crea la columna con los periodos de retorno (Tr)\n",
    "                                                        # a partir de la columna de los gastos registrados ordenados\n",
    "    matriz01 [i, 3] = 1-(1/matriz01[i, 2])      # Se crea la columna para los valores de F(x)\n",
    "    matriz01 [i, 4] = -rv1.isf(matriz01[i, 3])  # Se hace el ajuste (z)"
   ]
  },
  {
   "cell_type": "code",
   "execution_count": 13,
   "id": "f2fb87c3-1012-4e7c-8979-73e3164ef7b0",
   "metadata": {},
   "outputs": [
    {
     "name": "stdout",
     "output_type": "stream",
     "text": [
      "Distribución Normal, Error Estandart (Momentos y Máxima verosimilitud):  1596.304664338428\n"
     ]
    }
   ],
   "source": [
    "EE = 0\n",
    "for i in range (m):\n",
    "    matriz01 [i, 5] = media + (desv_est * matriz01 [i, 4])  # Datos ajustados (x)\n",
    "    datos [i, 0] = (matriz01 [i, 1] - matriz01 [i, 5]) ** 2\n",
    "    EE = EE + datos [i,0]\n",
    "                                                        # Se estima el Error Estandart para 2 parametros\n",
    "\n",
    "EE = (EE/(m-2)) ** 0.5\n",
    "print (\"Distribución Normal, Error Estandart (Momentos y Máxima verosimilitud): \", EE)\n",
    "EEstandart[0, 0] = EE"
   ]
  },
  {
   "cell_type": "code",
   "execution_count": 18,
   "id": "3a0d26cb-5661-4d09-8ca6-be956da4a60f",
   "metadata": {},
   "outputs": [],
   "source": [
    "n=12\n",
    "for j in range (n):\n",
    "    matriz02 [j, 1] = 1.0 - (1.0/matriz02 [j, 0])            # se crea la columna de F(x)\n",
    "    matriz02 [j, 2] = -rv1.isf(matriz02[j, 1])               # Se realiza el ajuste (z)\n",
    "    matriz02 [j, 3] = media + (desv_est * matriz02 [j, 2])  # Valores Extrapolados\n"
   ]
  },
  {
   "cell_type": "code",
   "execution_count": 20,
   "id": "4f598e34-5b57-4b3b-b8c2-d9e958e1c501",
   "metadata": {},
   "outputs": [],
   "source": [
    "columnas = ['No Orden', 'Valor Registrado','Tr (Anios)', 'F(x)', 'z', 'Valor Ajustado']\n",
    "df = pd.DataFrame(matriz01, columns = columnas)\n",
    "df.insert(6, 'Tr', matriz02 [:, 0]) # Primer columna\n",
    "df.insert(7, 'F(X)', matriz02 [:, 1])\n",
    "df.insert(8, 'Z', matriz02 [:, 2])\n",
    "df.insert(9, 'Valor Extrapolado', matriz02 [:, 3])\n",
    "df.insert(10, 'Error Estandart \"Momentos y Máxima verosimilitud\"', EEstandart [:, 0])"
   ]
  },
  {
   "cell_type": "code",
   "execution_count": 23,
   "id": "92b5bf3f-0eba-4568-89d5-c9ff5587cba9",
   "metadata": {},
   "outputs": [
    {
     "data": {
      "text/html": [
       "<div>\n",
       "<style scoped>\n",
       "    .dataframe tbody tr th:only-of-type {\n",
       "        vertical-align: middle;\n",
       "    }\n",
       "\n",
       "    .dataframe tbody tr th {\n",
       "        vertical-align: top;\n",
       "    }\n",
       "\n",
       "    .dataframe thead th {\n",
       "        text-align: right;\n",
       "    }\n",
       "</style>\n",
       "<table border=\"1\" class=\"dataframe\">\n",
       "  <thead>\n",
       "    <tr style=\"text-align: right;\">\n",
       "      <th></th>\n",
       "      <th>No Orden</th>\n",
       "      <th>Valor Registrado</th>\n",
       "      <th>Tr (Anios)</th>\n",
       "      <th>F(x)</th>\n",
       "      <th>z</th>\n",
       "      <th>Valor Ajustado</th>\n",
       "      <th>Tr</th>\n",
       "      <th>F(X)</th>\n",
       "      <th>Z</th>\n",
       "      <th>Valor Extrapolado</th>\n",
       "      <th>Error Estandart \"Momentos y Máxima verosimilitud\"</th>\n",
       "    </tr>\n",
       "  </thead>\n",
       "  <tbody>\n",
       "    <tr>\n",
       "      <th>0</th>\n",
       "      <td>1.0</td>\n",
       "      <td>13713.0</td>\n",
       "      <td>63.00</td>\n",
       "      <td>0.984127</td>\n",
       "      <td>2.147594</td>\n",
       "      <td>6803.492698</td>\n",
       "      <td>2.0</td>\n",
       "      <td>0.50</td>\n",
       "      <td>-0.000000</td>\n",
       "      <td>2148.935484</td>\n",
       "      <td>1596.304664</td>\n",
       "    </tr>\n",
       "    <tr>\n",
       "      <th>1</th>\n",
       "      <td>2.0</td>\n",
       "      <td>11800.0</td>\n",
       "      <td>31.50</td>\n",
       "      <td>0.968254</td>\n",
       "      <td>1.855730</td>\n",
       "      <td>6170.925472</td>\n",
       "      <td>5.0</td>\n",
       "      <td>0.80</td>\n",
       "      <td>0.841621</td>\n",
       "      <td>3973.011355</td>\n",
       "      <td>-999.000000</td>\n",
       "    </tr>\n",
       "    <tr>\n",
       "      <th>2</th>\n",
       "      <td>3.0</td>\n",
       "      <td>4235.0</td>\n",
       "      <td>21.00</td>\n",
       "      <td>0.952381</td>\n",
       "      <td>1.668391</td>\n",
       "      <td>5764.899529</td>\n",
       "      <td>10.0</td>\n",
       "      <td>0.90</td>\n",
       "      <td>1.281552</td>\n",
       "      <td>4926.488135</td>\n",
       "      <td>-999.000000</td>\n",
       "    </tr>\n",
       "    <tr>\n",
       "      <th>3</th>\n",
       "      <td>4.0</td>\n",
       "      <td>3992.0</td>\n",
       "      <td>15.75</td>\n",
       "      <td>0.936508</td>\n",
       "      <td>1.526103</td>\n",
       "      <td>5456.513992</td>\n",
       "      <td>20.0</td>\n",
       "      <td>0.95</td>\n",
       "      <td>1.644854</td>\n",
       "      <td>5713.885717</td>\n",
       "      <td>-999.000000</td>\n",
       "    </tr>\n",
       "    <tr>\n",
       "      <th>4</th>\n",
       "      <td>5.0</td>\n",
       "      <td>3979.0</td>\n",
       "      <td>12.60</td>\n",
       "      <td>0.920635</td>\n",
       "      <td>1.409355</td>\n",
       "      <td>5203.481573</td>\n",
       "      <td>50.0</td>\n",
       "      <td>0.98</td>\n",
       "      <td>2.053749</td>\n",
       "      <td>6600.099124</td>\n",
       "      <td>-999.000000</td>\n",
       "    </tr>\n",
       "  </tbody>\n",
       "</table>\n",
       "</div>"
      ],
      "text/plain": [
       "   No Orden  Valor Registrado  Tr (Anios)      F(x)         z  Valor Ajustado  \\\n",
       "0       1.0           13713.0       63.00  0.984127  2.147594     6803.492698   \n",
       "1       2.0           11800.0       31.50  0.968254  1.855730     6170.925472   \n",
       "2       3.0            4235.0       21.00  0.952381  1.668391     5764.899529   \n",
       "3       4.0            3992.0       15.75  0.936508  1.526103     5456.513992   \n",
       "4       5.0            3979.0       12.60  0.920635  1.409355     5203.481573   \n",
       "\n",
       "     Tr  F(X)         Z  Valor Extrapolado  \\\n",
       "0   2.0  0.50 -0.000000        2148.935484   \n",
       "1   5.0  0.80  0.841621        3973.011355   \n",
       "2  10.0  0.90  1.281552        4926.488135   \n",
       "3  20.0  0.95  1.644854        5713.885717   \n",
       "4  50.0  0.98  2.053749        6600.099124   \n",
       "\n",
       "   Error Estandart \"Momentos y Máxima verosimilitud\"  \n",
       "0                                        1596.304664  \n",
       "1                                        -999.000000  \n",
       "2                                        -999.000000  \n",
       "3                                        -999.000000  \n",
       "4                                        -999.000000  "
      ]
     },
     "execution_count": 23,
     "metadata": {},
     "output_type": "execute_result"
    }
   ],
   "source": [
    "df.head()"
   ]
  },
  {
   "cell_type": "code",
   "execution_count": 26,
   "id": "4c49fe2a-5e5a-4d37-bc85-eaf0be7ea6f8",
   "metadata": {},
   "outputs": [
    {
     "data": {
      "image/png": "[encoded data removed]",
      "text/plain": [
       "<Figure size 640x480 with 2 Axes>"
      ]
     },
     "metadata": {},
     "output_type": "display_data"
    }
   ],
   "source": [
    "error0 = str(EE)\n",
    "error1 = \"Distribucion Normal\\n EE=\"\n",
    "titulo = error1 + error0\n",
    "\n",
    "tR = matriz01 [:, 2]\n",
    "dReg = matriz01 [:, 1]\n",
    "dAjust = matriz01 [:, 5]\n",
    "dExtrap = matriz02 [:12, 3]\n",
    "dTrExtrap = matriz02 [:12, 0]\n",
    "\n",
    "pl.subplot(2,1,1)\n",
    "pl.subplots_adjust(hspace=0.3)\n",
    "pl.scatter(tR, dReg, label='Datos Registrados', marker='.')\n",
    "pl.plot(tR, dAjust, color=\"r\", linewidth=\"1.0\", linestyle=\"-\", label =\"Datos Ajustados\")\n",
    "pl.legend(loc=\"best\")\n",
    "pl.title(titulo)\n",
    "pl.ylabel(\"Gastos (m³/s)\")\n",
    "pl.semilogx(True)\n",
    "pl.grid(True, which='both', color='g', linestyle='-', linewidth=0.5)\n",
    "\n",
    "pl.subplot(2,1,2)\n",
    "pl.scatter(tR, dReg, label='Datos Registrados', marker='.')\n",
    "pl.plot(dTrExtrap, dExtrap, color=\"r\", linewidth=\"1.0\", linestyle=\"-\", label =\"Datos Extrapolados\")\n",
    "pl.legend(loc=\"best\")\n",
    "pl.ylabel(\"Gastos (m³/s)\")\n",
    "pl.xlabel(\"(Tr) Periodos de Retorno\")\n",
    "pl.semilogx(True)\n",
    "pl.grid(True, which='both', color='g', linestyle='-', linewidth=0.5)\n",
    "\n",
    "#pl.savefig(\"salidas/DistribucionNormalb.png\", dpi=1000)\n",
    "pl.show()"
   ]
  },
  {
   "cell_type": "code",
   "execution_count": 40,
   "id": "0cac1c7a-25a2-44d9-ab5e-e295ff2ea0a5",
   "metadata": {},
   "outputs": [],
   "source": [
    "import plotly.graph_objects as go\n",
    "from plotly.subplots import make_subplots"
   ]
  },
  {
   "cell_type": "code",
   "execution_count": 111,
   "id": "225d639b-b4e8-4568-9195-04c88836d5fe",
   "metadata": {},
   "outputs": [
    {
     "data": {
      "application/vnd.plotly.v1+json": {
       "config": {
        "plotlyServerURL": "https://plot.ly"
       },
       "data": [
        {
         "marker": {
          "color": "blue"
         },
         "mode": "markers",
         "name": "Datos Registrados",
         "type": "scatter",
         "x": [
          63,
          31.5,
          21,
          15.75,
          12.6,
          10.5,
          9,
          7.875,
          7,
          6.3,
          5.7272727272727275,
          5.25,
          4.846153846153846,
          4.5,
          4.2,
          3.9375,
          3.7058823529411766,
          3.5,
          3.3157894736842106,
          3.15,
          3,
          2.8636363636363638,
          2.739130434782609,
          2.625,
          2.52,
          2.423076923076923,
          2.3333333333333335,
          2.25,
          2.1724137931034484,
          2.1,
          2.032258064516129,
          1.96875,
          1.9090909090909092,
          1.8529411764705883,
          1.8,
          1.75,
          1.7027027027027026,
          1.6578947368421053,
          1.6153846153846154,
          1.575,
          1.5365853658536586,
          1.5,
          1.4651162790697674,
          1.4318181818181819,
          1.4,
          1.3695652173913044,
          1.3404255319148937,
          1.3125,
          1.2857142857142858,
          1.26,
          1.2352941176470589,
          1.2115384615384615,
          1.1886792452830188,
          1.1666666666666667,
          1.1454545454545455,
          1.125,
          1.105263157894737,
          1.0862068965517242,
          1.0677966101694916,
          1.05,
          1.0327868852459017,
          1.0161290322580645
         ],
         "xaxis": "x",
         "y": [
          13713,
          11800,
          4235,
          3992,
          3979,
          3662,
          3533,
          3388,
          3245,
          3205,
          2917,
          2747,
          2734,
          2654,
          2583,
          2319,
          2311,
          2310,
          2248,
          2150,
          2133,
          1899,
          1899,
          1894,
          1861,
          1797,
          1771,
          1716,
          1652,
          1640,
          1631,
          1598,
          1507,
          1494,
          1397,
          1395,
          1371,
          1332,
          1288,
          1244,
          1232,
          1202,
          1173,
          1157,
          1131,
          1087,
          1049,
          1030,
          1030,
          1014,
          995,
          954,
          925,
          922,
          907,
          852,
          832,
          751,
          743,
          720,
          652,
          632
         ],
         "yaxis": "y"
        },
        {
         "line": {
          "color": "red",
          "width": 1
         },
         "mode": "lines",
         "name": "Datos Ajustados",
         "type": "scatter",
         "x": [
          63,
          31.5,
          21,
          15.75,
          12.6,
          10.5,
          9,
          7.875,
          7,
          6.3,
          5.7272727272727275,
          5.25,
          4.846153846153846,
          4.5,
          4.2,
          3.9375,
          3.7058823529411766,
          3.5,
          3.3157894736842106,
          3.15,
          3,
          2.8636363636363638,
          2.739130434782609,
          2.625,
          2.52,
          2.423076923076923,
          2.3333333333333335,
          2.25,
          2.1724137931034484,
          2.1,
          2.032258064516129,
          1.96875,
          1.9090909090909092,
          1.8529411764705883,
          1.8,
          1.75,
          1.7027027027027026,
          1.6578947368421053,
          1.6153846153846154,
          1.575,
          1.5365853658536586,
          1.5,
          1.4651162790697674,
          1.4318181818181819,
          1.4,
          1.3695652173913044,
          1.3404255319148937,
          1.3125,
          1.2857142857142858,
          1.26,
          1.2352941176470589,
          1.2115384615384615,
          1.1886792452830188,
          1.1666666666666667,
          1.1454545454545455,
          1.125,
          1.105263157894737,
          1.0862068965517242,
          1.0677966101694916,
          1.05,
          1.0327868852459017,
          1.0161290322580645
         ],
         "xaxis": "x",
         "y": [
          6803.492697753045,
          6170.925472272007,
          5764.899529412567,
          5456.513992442908,
          5203.481572703065,
          4986.350278741611,
          4794.473071208159,
          4621.353631662236,
          4462.719352083964,
          4315.6005135890355,
          4177.843211102467,
          4047.8312902794505,
          3924.3178585537858,
          3806.318174286398,
          3693.038808656759,
          3583.8292137433646,
          3478.1476557535484,
          3375.5366545978204,
          3275.6048883600006,
          3178.013599499727,
          3082.466200969091,
          2988.700197998966,
          2896.4808117982197,
          2805.5958706244105,
          2715.851654815279,
          2627.0694656766664,
          2539.082746266436,
          2451.7346231744496,
          2364.8757676232635,
          2278.362495060645,
          2192.05503718374,
          2105.8159305581958,
          2019.5084726812906,
          1932.995200118673,
          1846.1363445674858,
          1758.7882214754993,
          1670.8015020652686,
          1582.0193129266572,
          1492.275097117525,
          1401.3901559437159,
          1309.1707697429697,
          1215.404766772845,
          1119.8573682422084,
          1022.2660793819352,
          922.3343131441154,
          819.7233119883879,
          714.041753998571,
          604.8321590851763,
          491.5527934555389,
          373.55310918814985,
          250.03967746248486,
          120.02775663946704,
          -17.72954584709987,
          -164.8483843420263,
          -323.4826639203002,
          -496.6021034662235,
          -688.4793109996749,
          -905.6106049611276,
          -1158.6430247009725,
          -1467.028561670632,
          -1873.0545045300714,
          -2505.6217300111093
         ],
         "yaxis": "y"
        },
        {
         "marker": {
          "color": "purple"
         },
         "mode": "markers",
         "name": "Datos Registrados",
         "type": "scatter",
         "x": [
          63,
          31.5,
          21,
          15.75,
          12.6,
          10.5,
          9,
          7.875,
          7,
          6.3,
          5.7272727272727275,
          5.25,
          4.846153846153846,
          4.5,
          4.2,
          3.9375,
          3.7058823529411766,
          3.5,
          3.3157894736842106,
          3.15,
          3,
          2.8636363636363638,
          2.739130434782609,
          2.625,
          2.52,
          2.423076923076923,
          2.3333333333333335,
          2.25,
          2.1724137931034484,
          2.1,
          2.032258064516129,
          1.96875,
          1.9090909090909092,
          1.8529411764705883,
          1.8,
          1.75,
          1.7027027027027026,
          1.6578947368421053,
          1.6153846153846154,
          1.575,
          1.5365853658536586,
          1.5,
          1.4651162790697674,
          1.4318181818181819,
          1.4,
          1.3695652173913044,
          1.3404255319148937,
          1.3125,
          1.2857142857142858,
          1.26,
          1.2352941176470589,
          1.2115384615384615,
          1.1886792452830188,
          1.1666666666666667,
          1.1454545454545455,
          1.125,
          1.105263157894737,
          1.0862068965517242,
          1.0677966101694916,
          1.05,
          1.0327868852459017,
          1.0161290322580645
         ],
         "xaxis": "x2",
         "y": [
          13713,
          11800,
          4235,
          3992,
          3979,
          3662,
          3533,
          3388,
          3245,
          3205,
          2917,
          2747,
          2734,
          2654,
          2583,
          2319,
          2311,
          2310,
          2248,
          2150,
          2133,
          1899,
          1899,
          1894,
          1861,
          1797,
          1771,
          1716,
          1652,
          1640,
          1631,
          1598,
          1507,
          1494,
          1397,
          1395,
          1371,
          1332,
          1288,
          1244,
          1232,
          1202,
          1173,
          1157,
          1131,
          1087,
          1049,
          1030,
          1030,
          1014,
          995,
          954,
          925,
          922,
          907,
          852,
          832,
          751,
          743,
          720,
          652,
          632
         ],
         "yaxis": "y2"
        },
        {
         "line": {
          "color": "green",
          "width": 1
         },
         "mode": "lines",
         "name": "Datos Extrapolados",
         "type": "scatter",
         "x": [
          2,
          5,
          10,
          20,
          50,
          100,
          200,
          500,
          1000,
          2000,
          5000,
          10000
         ],
         "xaxis": "x2",
         "y": [
          2148.935483870968,
          3973.011355048551,
          4926.488134789488,
          5713.885716654251,
          6600.099123644086,
          7190.912629562283,
          7731.622675506147,
          8386.878601516593,
          8846.506744144806,
          9280.61203259395,
          9821.486011933677,
          10209.293237479975
         ],
         "yaxis": "y2"
        }
       ],
       "layout": {
        "annotations": [
         {
          "font": {
           "size": 16
          },
          "showarrow": false,
          "text": "Datos ajustados",
          "x": 0.5,
          "xanchor": "center",
          "xref": "paper",
          "y": 1,
          "yanchor": "bottom",
          "yref": "paper"
         },
         {
          "font": {
           "size": 16
          },
          "showarrow": false,
          "text": "Datos extrapolados",
          "x": 0.5,
          "xanchor": "center",
          "xref": "paper",
          "y": 0.45,
          "yanchor": "bottom",
          "yref": "paper"
         }
        ],
        "autosize": true,
        "dragmode": "zoom",
        "legend": {
         "x": 0.004,
         "y": 0.99
        },
        "showlegend": true,
        "template": {
         "data": {
          "bar": [
           {
            "error_x": {
             "color": "#2a3f5f"
            },
            "error_y": {
             "color": "#2a3f5f"
            },
            "marker": {
             "line": {
              "color": "#E5ECF6",
              "width": 0.5
             },
             "pattern": {
              "fillmode": "overlay",
              "size": 10,
              "solidity": 0.2
             }
            },
            "type": "bar"
           }
          ],
          "barpolar": [
           {
            "marker": {
             "line": {
              "color": "#E5ECF6",
              "width": 0.5
             },
             "pattern": {
              "fillmode": "overlay",
              "size": 10,
              "solidity": 0.2
             }
            },
            "type": "barpolar"
           }
          ],
          "carpet": [
           {
            "aaxis": {
             "endlinecolor": "#2a3f5f",
             "gridcolor": "white",
             "linecolor": "white",
             "minorgridcolor": "white",
             "startlinecolor": "#2a3f5f"
            },
            "baxis": {
             "endlinecolor": "#2a3f5f",
             "gridcolor": "white",
             "linecolor": "white",
             "minorgridcolor": "white",
             "startlinecolor": "#2a3f5f"
            },
            "type": "carpet"
           }
          ],
          "choropleth": [
           {
            "colorbar": {
             "outlinewidth": 0,
             "ticks": ""
            },
            "type": "choropleth"
           }
          ],
          "contour": [
           {
            "colorbar": {
             "outlinewidth": 0,
             "ticks": ""
            },
            "colorscale": [
             [
              0,
              "#0d0887"
             ],
             [
              0.1111111111111111,
              "#46039f"
             ],
             [
              0.2222222222222222,
              "#7201a8"
             ],
             [
              0.3333333333333333,
              "#9c179e"
             ],
             [
              0.4444444444444444,
              "#bd3786"
             ],
             [
              0.5555555555555556,
              "#d8576b"
             ],
             [
              0.6666666666666666,
              "#ed7953"
             ],
             [
              0.7777777777777778,
              "#fb9f3a"
             ],
             [
              0.8888888888888888,
              "#fdca26"
             ],
             [
              1,
              "#f0f921"
             ]
            ],
            "type": "contour"
           }
          ],
          "contourcarpet": [
           {
            "colorbar": {
             "outlinewidth": 0,
             "ticks": ""
            },
            "type": "contourcarpet"
           }
          ],
          "heatmap": [
           {
            "colorbar": {
             "outlinewidth": 0,
             "ticks": ""
            },
            "colorscale": [
             [
              0,
              "#0d0887"
             ],
             [
              0.1111111111111111,
              "#46039f"
             ],
             [
              0.2222222222222222,
              "#7201a8"
             ],
             [
              0.3333333333333333,
              "#9c179e"
             ],
             [
              0.4444444444444444,
              "#bd3786"
             ],
             [
              0.5555555555555556,
              "#d8576b"
             ],
             [
              0.6666666666666666,
              "#ed7953"
             ],
             [
              0.7777777777777778,
              "#fb9f3a"
             ],
             [
              0.8888888888888888,
              "#fdca26"
             ],
             [
              1,
              "#f0f921"
             ]
            ],
            "type": "heatmap"
           }
          ],
          "heatmapgl": [
           {
            "colorbar": {
             "outlinewidth": 0,
             "ticks": ""
            },
            "colorscale": [
             [
              0,
              "#0d0887"
             ],
             [
              0.1111111111111111,
              "#46039f"
             ],
             [
              0.2222222222222222,
              "#7201a8"
             ],
             [
              0.3333333333333333,
              "#9c179e"
             ],
             [
              0.4444444444444444,
              "#bd3786"
             ],
             [
              0.5555555555555556,
              "#d8576b"
             ],
             [
              0.6666666666666666,
              "#ed7953"
             ],
             [
              0.7777777777777778,
              "#fb9f3a"
             ],
             [
              0.8888888888888888,
              "#fdca26"
             ],
             [
              1,
              "#f0f921"
             ]
            ],
            "type": "heatmapgl"
           }
          ],
          "histogram": [
           {
            "marker": {
             "pattern": {
              "fillmode": "overlay",
              "size": 10,
              "solidity": 0.2
             }
            },
            "type": "histogram"
           }
          ],
          "histogram2d": [
           {
            "colorbar": {
             "outlinewidth": 0,
             "ticks": ""
            },
            "colorscale": [
             [
              0,
              "#0d0887"
             ],
             [
              0.1111111111111111,
              "#46039f"
             ],
             [
              0.2222222222222222,
              "#7201a8"
             ],
             [
              0.3333333333333333,
              "#9c179e"
             ],
             [
              0.4444444444444444,
              "#bd3786"
             ],
             [
              0.5555555555555556,
              "#d8576b"
             ],
             [
              0.6666666666666666,
              "#ed7953"
             ],
             [
              0.7777777777777778,
              "#fb9f3a"
             ],
             [
              0.8888888888888888,
              "#fdca26"
             ],
             [
              1,
              "#f0f921"
             ]
            ],
            "type": "histogram2d"
           }
          ],
          "histogram2dcontour": [
           {
            "colorbar": {
             "outlinewidth": 0,
             "ticks": ""
            },
            "colorscale": [
             [
              0,
              "#0d0887"
             ],
             [
              0.1111111111111111,
              "#46039f"
             ],
             [
              0.2222222222222222,
              "#7201a8"
             ],
             [
              0.3333333333333333,
              "#9c179e"
             ],
             [
              0.4444444444444444,
              "#bd3786"
             ],
             [
              0.5555555555555556,
              "#d8576b"
             ],
             [
              0.6666666666666666,
              "#ed7953"
             ],
             [
              0.7777777777777778,
              "#fb9f3a"
             ],
             [
              0.8888888888888888,
              "#fdca26"
             ],
             [
              1,
              "#f0f921"
             ]
            ],
            "type": "histogram2dcontour"
           }
          ],
          "mesh3d": [
           {
            "colorbar": {
             "outlinewidth": 0,
             "ticks": ""
            },
            "type": "mesh3d"
           }
          ],
          "parcoords": [
           {
            "line": {
             "colorbar": {
              "outlinewidth": 0,
              "ticks": ""
             }
            },
            "type": "parcoords"
           }
          ],
          "pie": [
           {
            "automargin": true,
            "type": "pie"
           }
          ],
          "scatter": [
           {
            "fillpattern": {
             "fillmode": "overlay",
             "size": 10,
             "solidity": 0.2
            },
            "type": "scatter"
           }
          ],
          "scatter3d": [
           {
            "line": {
             "colorbar": {
              "outlinewidth": 0,
              "ticks": ""
             }
            },
            "marker": {
             "colorbar": {
              "outlinewidth": 0,
              "ticks": ""
             }
            },
            "type": "scatter3d"
           }
          ],
          "scattercarpet": [
           {
            "marker": {
             "colorbar": {
              "outlinewidth": 0,
              "ticks": ""
             }
            },
            "type": "scattercarpet"
           }
          ],
          "scattergeo": [
           {
            "marker": {
             "colorbar": {
              "outlinewidth": 0,
              "ticks": ""
             }
            },
            "type": "scattergeo"
           }
          ],
          "scattergl": [
           {
            "marker": {
             "colorbar": {
              "outlinewidth": 0,
              "ticks": ""
             }
            },
            "type": "scattergl"
           }
          ],
          "scattermapbox": [
           {
            "marker": {
             "colorbar": {
              "outlinewidth": 0,
              "ticks": ""
             }
            },
            "type": "scattermapbox"
           }
          ],
          "scatterpolar": [
           {
            "marker": {
             "colorbar": {
              "outlinewidth": 0,
              "ticks": ""
             }
            },
            "type": "scatterpolar"
           }
          ],
          "scatterpolargl": [
           {
            "marker": {
             "colorbar": {
              "outlinewidth": 0,
              "ticks": ""
             }
            },
            "type": "scatterpolargl"
           }
          ],
          "scatterternary": [
           {
            "marker": {
             "colorbar": {
              "outlinewidth": 0,
              "ticks": ""
             }
            },
            "type": "scatterternary"
           }
          ],
          "surface": [
           {
            "colorbar": {
             "outlinewidth": 0,
             "ticks": ""
            },
            "colorscale": [
             [
              0,
              "#0d0887"
             ],
             [
              0.1111111111111111,
              "#46039f"
             ],
             [
              0.2222222222222222,
              "#7201a8"
             ],
             [
              0.3333333333333333,
              "#9c179e"
             ],
             [
              0.4444444444444444,
              "#bd3786"
             ],
             [
              0.5555555555555556,
              "#d8576b"
             ],
             [
              0.6666666666666666,
              "#ed7953"
             ],
             [
              0.7777777777777778,
              "#fb9f3a"
             ],
             [
              0.8888888888888888,
              "#fdca26"
             ],
             [
              1,
              "#f0f921"
             ]
            ],
            "type": "surface"
           }
          ],
          "table": [
           {
            "cells": {
             "fill": {
              "color": "#EBF0F8"
             },
             "line": {
              "color": "white"
             }
            },
            "header": {
             "fill": {
              "color": "#C8D4E3"
             },
             "line": {
              "color": "white"
             }
            },
            "type": "table"
           }
          ]
         },
         "layout": {
          "annotationdefaults": {
           "arrowcolor": "#2a3f5f",
           "arrowhead": 0,
           "arrowwidth": 1
          },
          "autotypenumbers": "strict",
          "coloraxis": {
           "colorbar": {
            "outlinewidth": 0,
            "ticks": ""
           }
          },
          "colorscale": {
           "diverging": [
            [
             0,
             "#8e0152"
            ],
            [
             0.1,
             "#c51b7d"
            ],
            [
             0.2,
             "#de77ae"
            ],
            [
             0.3,
             "#f1b6da"
            ],
            [
             0.4,
             "#fde0ef"
            ],
            [
             0.5,
             "#f7f7f7"
            ],
            [
             0.6,
             "#e6f5d0"
            ],
            [
             0.7,
             "#b8e186"
            ],
            [
             0.8,
             "#7fbc41"
            ],
            [
             0.9,
             "#4d9221"
            ],
            [
             1,
             "#276419"
            ]
           ],
           "sequential": [
            [
             0,
             "#0d0887"
            ],
            [
             0.1111111111111111,
             "#46039f"
            ],
            [
             0.2222222222222222,
             "#7201a8"
            ],
            [
             0.3333333333333333,
             "#9c179e"
            ],
            [
             0.4444444444444444,
             "#bd3786"
            ],
            [
             0.5555555555555556,
             "#d8576b"
            ],
            [
             0.6666666666666666,
             "#ed7953"
            ],
            [
             0.7777777777777778,
             "#fb9f3a"
            ],
            [
             0.8888888888888888,
             "#fdca26"
            ],
            [
             1,
             "#f0f921"
            ]
           ],
           "sequentialminus": [
            [
             0,
             "#0d0887"
            ],
            [
             0.1111111111111111,
             "#46039f"
            ],
            [
             0.2222222222222222,
             "#7201a8"
            ],
            [
             0.3333333333333333,
             "#9c179e"
            ],
            [
             0.4444444444444444,
             "#bd3786"
            ],
            [
             0.5555555555555556,
             "#d8576b"
            ],
            [
             0.6666666666666666,
             "#ed7953"
            ],
            [
             0.7777777777777778,
             "#fb9f3a"
            ],
            [
             0.8888888888888888,
             "#fdca26"
            ],
            [
             1,
             "#f0f921"
            ]
           ]
          },
          "colorway": [
           "#636efa",
           "#EF553B",
           "#00cc96",
           "#ab63fa",
           "#FFA15A",
           "#19d3f3",
           "#FF6692",
           "#B6E880",
           "#FF97FF",
           "#FECB52"
          ],
          "font": {
           "color": "#2a3f5f"
          },
          "geo": {
           "bgcolor": "white",
           "lakecolor": "white",
           "landcolor": "#E5ECF6",
           "showlakes": true,
           "showland": true,
           "subunitcolor": "white"
          },
          "hoverlabel": {
           "align": "left"
          },
          "hovermode": "closest",
          "mapbox": {
           "style": "light"
          },
          "paper_bgcolor": "white",
          "plot_bgcolor": "#E5ECF6",
          "polar": {
           "angularaxis": {
            "gridcolor": "white",
            "linecolor": "white",
            "ticks": ""
           },
           "bgcolor": "#E5ECF6",
           "radialaxis": {
            "gridcolor": "white",
            "linecolor": "white",
            "ticks": ""
           }
          },
          "scene": {
           "xaxis": {
            "backgroundcolor": "#E5ECF6",
            "gridcolor": "white",
            "gridwidth": 2,
            "linecolor": "white",
            "showbackground": true,
            "ticks": "",
            "zerolinecolor": "white"
           },
           "yaxis": {
            "backgroundcolor": "#E5ECF6",
            "gridcolor": "white",
            "gridwidth": 2,
            "linecolor": "white",
            "showbackground": true,
            "ticks": "",
            "zerolinecolor": "white"
           },
           "zaxis": {
            "backgroundcolor": "#E5ECF6",
            "gridcolor": "white",
            "gridwidth": 2,
            "linecolor": "white",
            "showbackground": true,
            "ticks": "",
            "zerolinecolor": "white"
           }
          },
          "shapedefaults": {
           "line": {
            "color": "#2a3f5f"
           }
          },
          "ternary": {
           "aaxis": {
            "gridcolor": "white",
            "linecolor": "white",
            "ticks": ""
           },
           "baxis": {
            "gridcolor": "white",
            "linecolor": "white",
            "ticks": ""
           },
           "bgcolor": "#E5ECF6",
           "caxis": {
            "gridcolor": "white",
            "linecolor": "white",
            "ticks": ""
           }
          },
          "title": {
           "x": 0.05
          },
          "xaxis": {
           "automargin": true,
           "gridcolor": "white",
           "linecolor": "white",
           "ticks": "",
           "title": {
            "standoff": 15
           },
           "zerolinecolor": "white",
           "zerolinewidth": 2
          },
          "yaxis": {
           "automargin": true,
           "gridcolor": "white",
           "linecolor": "white",
           "ticks": "",
           "title": {
            "standoff": 15
           },
           "zerolinecolor": "white",
           "zerolinewidth": 2
          }
         }
        },
        "title": {
         "text": "Distribucion Normal\n EE=1596.304664338428"
        },
        "xaxis": {
         "anchor": "y",
         "domain": [
          0,
          1
         ],
         "gridcolor": "lightgray",
         "range": [
          0,
          2
         ],
         "showgrid": true,
         "type": "log"
        },
        "xaxis2": {
         "anchor": "y2",
         "domain": [
          0,
          1
         ],
         "gridcolor": "lightgray",
         "range": [
          0,
          4
         ],
         "showgrid": true,
         "title": {
          "text": "Tr (Periodos de retorno)"
         },
         "type": "log"
        },
        "yaxis": {
         "anchor": "x",
         "autorange": true,
         "domain": [
          0.55,
          1
         ],
         "gridcolor": "lightgray",
         "range": [
          -3455.5193150659898,
          15542.432386031622
         ],
         "showgrid": true,
         "title": {
          "text": "Gastos (m³/s)"
         },
         "type": "linear"
        },
        "yaxis2": {
         "anchor": "x2",
         "autorange": true,
         "domain": [
          0,
          0.45
         ],
         "gridcolor": "lightgray",
         "range": [
          -928.1192660550457,
          15273.119266055046
         ],
         "showgrid": true,
         "title": {
          "text": "Gastos (m³/s)"
         },
         "type": "linear"
        }
       }
      },
      "image/png": "[encoded data removed]",
      "text/html": [
       "<div>                            <div id=\"c9c1dae9-3708-4849-9a55-109b20abe96f\" class=\"plotly-graph-div\" style=\"height:525px; width:100%;\"></div>            <script type=\"text/javascript\">                require([\"plotly\"], function(Plotly) {                    window.PLOTLYENV=window.PLOTLYENV || {};                                    if (document.getElementById(\"c9c1dae9-3708-4849-9a55-109b20abe96f\")) {                    Plotly.newPlot(                        \"c9c1dae9-3708-4849-9a55-109b20abe96f\",                        [{\"marker\":{\"color\":\"blue\"},\"mode\":\"markers\",\"name\":\"Datos Registrados\",\"x\":[63.0,31.5,21.0,15.75,12.6,10.5,9.0,7.875,7.0,6.3,5.7272727272727275,5.25,4.846153846153846,4.5,4.2,3.9375,3.7058823529411766,3.5,3.3157894736842106,3.15,3.0,2.8636363636363638,2.739130434782609,2.625,2.52,2.423076923076923,2.3333333333333335,2.25,2.1724137931034484,2.1,2.032258064516129,1.96875,1.9090909090909092,1.8529411764705883,1.8,1.75,1.7027027027027026,1.6578947368421053,1.6153846153846154,1.575,1.5365853658536586,1.5,1.4651162790697674,1.4318181818181819,1.4,1.3695652173913044,1.3404255319148937,1.3125,1.2857142857142858,1.26,1.2352941176470589,1.2115384615384615,1.1886792452830188,1.1666666666666667,1.1454545454545455,1.125,1.105263157894737,1.0862068965517242,1.0677966101694916,1.05,1.0327868852459017,1.0161290322580645],\"y\":[13713.0,11800.0,4235.0,3992.0,3979.0,3662.0,3533.0,3388.0,3245.0,3205.0,2917.0,2747.0,2734.0,2654.0,2583.0,2319.0,2311.0,2310.0,2248.0,2150.0,2133.0,1899.0,1899.0,1894.0,1861.0,1797.0,1771.0,1716.0,1652.0,1640.0,1631.0,1598.0,1507.0,1494.0,1397.0,1395.0,1371.0,1332.0,1288.0,1244.0,1232.0,1202.0,1173.0,1157.0,1131.0,1087.0,1049.0,1030.0,1030.0,1014.0,995.0,954.0,925.0,922.0,907.0,852.0,832.0,751.0,743.0,720.0,652.0,632.0],\"type\":\"scatter\",\"xaxis\":\"x\",\"yaxis\":\"y\"},{\"line\":{\"color\":\"red\",\"width\":1},\"mode\":\"lines\",\"name\":\"Datos Ajustados\",\"x\":[63.0,31.5,21.0,15.75,12.6,10.5,9.0,7.875,7.0,6.3,5.7272727272727275,5.25,4.846153846153846,4.5,4.2,3.9375,3.7058823529411766,3.5,3.3157894736842106,3.15,3.0,2.8636363636363638,2.739130434782609,2.625,2.52,2.423076923076923,2.3333333333333335,2.25,2.1724137931034484,2.1,2.032258064516129,1.96875,1.9090909090909092,1.8529411764705883,1.8,1.75,1.7027027027027026,1.6578947368421053,1.6153846153846154,1.575,1.5365853658536586,1.5,1.4651162790697674,1.4318181818181819,1.4,1.3695652173913044,1.3404255319148937,1.3125,1.2857142857142858,1.26,1.2352941176470589,1.2115384615384615,1.1886792452830188,1.1666666666666667,1.1454545454545455,1.125,1.105263157894737,1.0862068965517242,1.0677966101694916,1.05,1.0327868852459017,1.0161290322580645],\"y\":[6803.492697753045,6170.925472272007,5764.899529412567,5456.513992442908,5203.481572703065,4986.350278741611,4794.473071208159,4621.353631662236,4462.719352083964,4315.6005135890355,4177.843211102467,4047.8312902794505,3924.3178585537858,3806.318174286398,3693.038808656759,3583.8292137433646,3478.1476557535484,3375.5366545978204,3275.6048883600006,3178.013599499727,3082.466200969091,2988.700197998966,2896.4808117982197,2805.5958706244105,2715.851654815279,2627.0694656766664,2539.082746266436,2451.7346231744496,2364.8757676232635,2278.362495060645,2192.05503718374,2105.8159305581958,2019.5084726812906,1932.995200118673,1846.1363445674858,1758.7882214754993,1670.8015020652686,1582.0193129266572,1492.275097117525,1401.3901559437159,1309.1707697429697,1215.404766772845,1119.8573682422084,1022.2660793819352,922.3343131441154,819.7233119883879,714.041753998571,604.8321590851763,491.5527934555389,373.55310918814985,250.03967746248486,120.02775663946704,-17.72954584709987,-164.8483843420263,-323.4826639203002,-496.6021034662235,-688.4793109996749,-905.6106049611276,-1158.6430247009725,-1467.028561670632,-1873.0545045300714,-2505.6217300111093],\"type\":\"scatter\",\"xaxis\":\"x\",\"yaxis\":\"y\"},{\"marker\":{\"color\":\"purple\"},\"mode\":\"markers\",\"name\":\"Datos Registrados\",\"x\":[63.0,31.5,21.0,15.75,12.6,10.5,9.0,7.875,7.0,6.3,5.7272727272727275,5.25,4.846153846153846,4.5,4.2,3.9375,3.7058823529411766,3.5,3.3157894736842106,3.15,3.0,2.8636363636363638,2.739130434782609,2.625,2.52,2.423076923076923,2.3333333333333335,2.25,2.1724137931034484,2.1,2.032258064516129,1.96875,1.9090909090909092,1.8529411764705883,1.8,1.75,1.7027027027027026,1.6578947368421053,1.6153846153846154,1.575,1.5365853658536586,1.5,1.4651162790697674,1.4318181818181819,1.4,1.3695652173913044,1.3404255319148937,1.3125,1.2857142857142858,1.26,1.2352941176470589,1.2115384615384615,1.1886792452830188,1.1666666666666667,1.1454545454545455,1.125,1.105263157894737,1.0862068965517242,1.0677966101694916,1.05,1.0327868852459017,1.0161290322580645],\"y\":[13713.0,11800.0,4235.0,3992.0,3979.0,3662.0,3533.0,3388.0,3245.0,3205.0,2917.0,2747.0,2734.0,2654.0,2583.0,2319.0,2311.0,2310.0,2248.0,2150.0,2133.0,1899.0,1899.0,1894.0,1861.0,1797.0,1771.0,1716.0,1652.0,1640.0,1631.0,1598.0,1507.0,1494.0,1397.0,1395.0,1371.0,1332.0,1288.0,1244.0,1232.0,1202.0,1173.0,1157.0,1131.0,1087.0,1049.0,1030.0,1030.0,1014.0,995.0,954.0,925.0,922.0,907.0,852.0,832.0,751.0,743.0,720.0,652.0,632.0],\"type\":\"scatter\",\"xaxis\":\"x2\",\"yaxis\":\"y2\"},{\"line\":{\"color\":\"green\",\"width\":1},\"mode\":\"lines\",\"name\":\"Datos Extrapolados\",\"x\":[2.0,5.0,10.0,20.0,50.0,100.0,200.0,500.0,1000.0,2000.0,5000.0,10000.0],\"y\":[2148.935483870968,3973.011355048551,4926.488134789488,5713.885716654251,6600.099123644086,7190.912629562283,7731.622675506147,8386.878601516593,8846.506744144806,9280.61203259395,9821.486011933677,10209.293237479975],\"type\":\"scatter\",\"xaxis\":\"x2\",\"yaxis\":\"y2\"}],                        {\"template\":{\"data\":{\"histogram2dcontour\":[{\"type\":\"histogram2dcontour\",\"colorbar\":{\"outlinewidth\":0,\"ticks\":\"\"},\"colorscale\":[[0.0,\"#0d0887\"],[0.1111111111111111,\"#46039f\"],[0.2222222222222222,\"#7201a8\"],[0.3333333333333333,\"#9c179e\"],[0.4444444444444444,\"#bd3786\"],[0.5555555555555556,\"#d8576b\"],[0.6666666666666666,\"#ed7953\"],[0.7777777777777778,\"#fb9f3a\"],[0.8888888888888888,\"#fdca26\"],[1.0,\"#f0f921\"]]}],\"choropleth\":[{\"type\":\"choropleth\",\"colorbar\":{\"outlinewidth\":0,\"ticks\":\"\"}}],\"histogram2d\":[{\"type\":\"histogram2d\",\"colorbar\":{\"outlinewidth\":0,\"ticks\":\"\"},\"colorscale\":[[0.0,\"#0d0887\"],[0.1111111111111111,\"#46039f\"],[0.2222222222222222,\"#7201a8\"],[0.3333333333333333,\"#9c179e\"],[0.4444444444444444,\"#bd3786\"],[0.5555555555555556,\"#d8576b\"],[0.6666666666666666,\"#ed7953\"],[0.7777777777777778,\"#fb9f3a\"],[0.8888888888888888,\"#fdca26\"],[1.0,\"#f0f921\"]]}],\"heatmap\":[{\"type\":\"heatmap\",\"colorbar\":{\"outlinewidth\":0,\"ticks\":\"\"},\"colorscale\":[[0.0,\"#0d0887\"],[0.1111111111111111,\"#46039f\"],[0.2222222222222222,\"#7201a8\"],[0.3333333333333333,\"#9c179e\"],[0.4444444444444444,\"#bd3786\"],[0.5555555555555556,\"#d8576b\"],[0.6666666666666666,\"#ed7953\"],[0.7777777777777778,\"#fb9f3a\"],[0.8888888888888888,\"#fdca26\"],[1.0,\"#f0f921\"]]}],\"heatmapgl\":[{\"type\":\"heatmapgl\",\"colorbar\":{\"outlinewidth\":0,\"ticks\":\"\"},\"colorscale\":[[0.0,\"#0d0887\"],[0.1111111111111111,\"#46039f\"],[0.2222222222222222,\"#7201a8\"],[0.3333333333333333,\"#9c179e\"],[0.4444444444444444,\"#bd3786\"],[0.5555555555555556,\"#d8576b\"],[0.6666666666666666,\"#ed7953\"],[0.7777777777777778,\"#fb9f3a\"],[0.8888888888888888,\"#fdca26\"],[1.0,\"#f0f921\"]]}],\"contourcarpet\":[{\"type\":\"contourcarpet\",\"colorbar\":{\"outlinewidth\":0,\"ticks\":\"\"}}],\"contour\":[{\"type\":\"contour\",\"colorbar\":{\"outlinewidth\":0,\"ticks\":\"\"},\"colorscale\":[[0.0,\"#0d0887\"],[0.1111111111111111,\"#46039f\"],[0.2222222222222222,\"#7201a8\"],[0.3333333333333333,\"#9c179e\"],[0.4444444444444444,\"#bd3786\"],[0.5555555555555556,\"#d8576b\"],[0.6666666666666666,\"#ed7953\"],[0.7777777777777778,\"#fb9f3a\"],[0.8888888888888888,\"#fdca26\"],[1.0,\"#f0f921\"]]}],\"surface\":[{\"type\":\"surface\",\"colorbar\":{\"outlinewidth\":0,\"ticks\":\"\"},\"colorscale\":[[0.0,\"#0d0887\"],[0.1111111111111111,\"#46039f\"],[0.2222222222222222,\"#7201a8\"],[0.3333333333333333,\"#9c179e\"],[0.4444444444444444,\"#bd3786\"],[0.5555555555555556,\"#d8576b\"],[0.6666666666666666,\"#ed7953\"],[0.7777777777777778,\"#fb9f3a\"],[0.8888888888888888,\"#fdca26\"],[1.0,\"#f0f921\"]]}],\"mesh3d\":[{\"type\":\"mesh3d\",\"colorbar\":{\"outlinewidth\":0,\"ticks\":\"\"}}],\"scatter\":[{\"fillpattern\":{\"fillmode\":\"overlay\",\"size\":10,\"solidity\":0.2},\"type\":\"scatter\"}],\"parcoords\":[{\"type\":\"parcoords\",\"line\":{\"colorbar\":{\"outlinewidth\":0,\"ticks\":\"\"}}}],\"scatterpolargl\":[{\"type\":\"scatterpolargl\",\"marker\":{\"colorbar\":{\"outlinewidth\":0,\"ticks\":\"\"}}}],\"bar\":[{\"error_x\":{\"color\":\"#2a3f5f\"},\"error_y\":{\"color\":\"#2a3f5f\"},\"marker\":{\"line\":{\"color\":\"#E5ECF6\",\"width\":0.5},\"pattern\":{\"fillmode\":\"overlay\",\"size\":10,\"solidity\":0.2}},\"type\":\"bar\"}],\"scattergeo\":[{\"type\":\"scattergeo\",\"marker\":{\"colorbar\":{\"outlinewidth\":0,\"ticks\":\"\"}}}],\"scatterpolar\":[{\"type\":\"scatterpolar\",\"marker\":{\"colorbar\":{\"outlinewidth\":0,\"ticks\":\"\"}}}],\"histogram\":[{\"marker\":{\"pattern\":{\"fillmode\":\"overlay\",\"size\":10,\"solidity\":0.2}},\"type\":\"histogram\"}],\"scattergl\":[{\"type\":\"scattergl\",\"marker\":{\"colorbar\":{\"outlinewidth\":0,\"ticks\":\"\"}}}],\"scatter3d\":[{\"type\":\"scatter3d\",\"line\":{\"colorbar\":{\"outlinewidth\":0,\"ticks\":\"\"}},\"marker\":{\"colorbar\":{\"outlinewidth\":0,\"ticks\":\"\"}}}],\"scattermapbox\":[{\"type\":\"scattermapbox\",\"marker\":{\"colorbar\":{\"outlinewidth\":0,\"ticks\":\"\"}}}],\"scatterternary\":[{\"type\":\"scatterternary\",\"marker\":{\"colorbar\":{\"outlinewidth\":0,\"ticks\":\"\"}}}],\"scattercarpet\":[{\"type\":\"scattercarpet\",\"marker\":{\"colorbar\":{\"outlinewidth\":0,\"ticks\":\"\"}}}],\"carpet\":[{\"aaxis\":{\"endlinecolor\":\"#2a3f5f\",\"gridcolor\":\"white\",\"linecolor\":\"white\",\"minorgridcolor\":\"white\",\"startlinecolor\":\"#2a3f5f\"},\"baxis\":{\"endlinecolor\":\"#2a3f5f\",\"gridcolor\":\"white\",\"linecolor\":\"white\",\"minorgridcolor\":\"white\",\"startlinecolor\":\"#2a3f5f\"},\"type\":\"carpet\"}],\"table\":[{\"cells\":{\"fill\":{\"color\":\"#EBF0F8\"},\"line\":{\"color\":\"white\"}},\"header\":{\"fill\":{\"color\":\"#C8D4E3\"},\"line\":{\"color\":\"white\"}},\"type\":\"table\"}],\"barpolar\":[{\"marker\":{\"line\":{\"color\":\"#E5ECF6\",\"width\":0.5},\"pattern\":{\"fillmode\":\"overlay\",\"size\":10,\"solidity\":0.2}},\"type\":\"barpolar\"}],\"pie\":[{\"automargin\":true,\"type\":\"pie\"}]},\"layout\":{\"autotypenumbers\":\"strict\",\"colorway\":[\"#636efa\",\"#EF553B\",\"#00cc96\",\"#ab63fa\",\"#FFA15A\",\"#19d3f3\",\"#FF6692\",\"#B6E880\",\"#FF97FF\",\"#FECB52\"],\"font\":{\"color\":\"#2a3f5f\"},\"hovermode\":\"closest\",\"hoverlabel\":{\"align\":\"left\"},\"paper_bgcolor\":\"white\",\"plot_bgcolor\":\"#E5ECF6\",\"polar\":{\"bgcolor\":\"#E5ECF6\",\"angularaxis\":{\"gridcolor\":\"white\",\"linecolor\":\"white\",\"ticks\":\"\"},\"radialaxis\":{\"gridcolor\":\"white\",\"linecolor\":\"white\",\"ticks\":\"\"}},\"ternary\":{\"bgcolor\":\"#E5ECF6\",\"aaxis\":{\"gridcolor\":\"white\",\"linecolor\":\"white\",\"ticks\":\"\"},\"baxis\":{\"gridcolor\":\"white\",\"linecolor\":\"white\",\"ticks\":\"\"},\"caxis\":{\"gridcolor\":\"white\",\"linecolor\":\"white\",\"ticks\":\"\"}},\"coloraxis\":{\"colorbar\":{\"outlinewidth\":0,\"ticks\":\"\"}},\"colorscale\":{\"sequential\":[[0.0,\"#0d0887\"],[0.1111111111111111,\"#46039f\"],[0.2222222222222222,\"#7201a8\"],[0.3333333333333333,\"#9c179e\"],[0.4444444444444444,\"#bd3786\"],[0.5555555555555556,\"#d8576b\"],[0.6666666666666666,\"#ed7953\"],[0.7777777777777778,\"#fb9f3a\"],[0.8888888888888888,\"#fdca26\"],[1.0,\"#f0f921\"]],\"sequentialminus\":[[0.0,\"#0d0887\"],[0.1111111111111111,\"#46039f\"],[0.2222222222222222,\"#7201a8\"],[0.3333333333333333,\"#9c179e\"],[0.4444444444444444,\"#bd3786\"],[0.5555555555555556,\"#d8576b\"],[0.6666666666666666,\"#ed7953\"],[0.7777777777777778,\"#fb9f3a\"],[0.8888888888888888,\"#fdca26\"],[1.0,\"#f0f921\"]],\"diverging\":[[0,\"#8e0152\"],[0.1,\"#c51b7d\"],[0.2,\"#de77ae\"],[0.3,\"#f1b6da\"],[0.4,\"#fde0ef\"],[0.5,\"#f7f7f7\"],[0.6,\"#e6f5d0\"],[0.7,\"#b8e186\"],[0.8,\"#7fbc41\"],[0.9,\"#4d9221\"],[1,\"#276419\"]]},\"xaxis\":{\"gridcolor\":\"white\",\"linecolor\":\"white\",\"ticks\":\"\",\"title\":{\"standoff\":15},\"zerolinecolor\":\"white\",\"automargin\":true,\"zerolinewidth\":2},\"yaxis\":{\"gridcolor\":\"white\",\"linecolor\":\"white\",\"ticks\":\"\",\"title\":{\"standoff\":15},\"zerolinecolor\":\"white\",\"automargin\":true,\"zerolinewidth\":2},\"scene\":{\"xaxis\":{\"backgroundcolor\":\"#E5ECF6\",\"gridcolor\":\"white\",\"linecolor\":\"white\",\"showbackground\":true,\"ticks\":\"\",\"zerolinecolor\":\"white\",\"gridwidth\":2},\"yaxis\":{\"backgroundcolor\":\"#E5ECF6\",\"gridcolor\":\"white\",\"linecolor\":\"white\",\"showbackground\":true,\"ticks\":\"\",\"zerolinecolor\":\"white\",\"gridwidth\":2},\"zaxis\":{\"backgroundcolor\":\"#E5ECF6\",\"gridcolor\":\"white\",\"linecolor\":\"white\",\"showbackground\":true,\"ticks\":\"\",\"zerolinecolor\":\"white\",\"gridwidth\":2}},\"shapedefaults\":{\"line\":{\"color\":\"#2a3f5f\"}},\"annotationdefaults\":{\"arrowcolor\":\"#2a3f5f\",\"arrowhead\":0,\"arrowwidth\":1},\"geo\":{\"bgcolor\":\"white\",\"landcolor\":\"#E5ECF6\",\"subunitcolor\":\"white\",\"showland\":true,\"showlakes\":true,\"lakecolor\":\"white\"},\"title\":{\"x\":0.05},\"mapbox\":{\"style\":\"light\"}}},\"xaxis\":{\"anchor\":\"y\",\"domain\":[0.0,1.0],\"type\":\"log\",\"range\":[0,2],\"showgrid\":true,\"gridcolor\":\"lightgray\"},\"yaxis\":{\"anchor\":\"x\",\"domain\":[0.55,1.0],\"title\":{\"text\":\"Gastos (m\\u00b3\\u002fs)\"},\"showgrid\":true,\"gridcolor\":\"lightgray\"},\"xaxis2\":{\"anchor\":\"y2\",\"domain\":[0.0,1.0],\"type\":\"log\",\"range\":[0,4],\"title\":{\"text\":\"Tr (Periodos de retorno)\"},\"showgrid\":true,\"gridcolor\":\"lightgray\"},\"yaxis2\":{\"anchor\":\"x2\",\"domain\":[0.0,0.45],\"title\":{\"text\":\"Gastos (m\\u00b3\\u002fs)\"},\"showgrid\":true,\"gridcolor\":\"lightgray\"},\"annotations\":[{\"font\":{\"size\":16},\"showarrow\":false,\"text\":\"Datos ajustados\",\"x\":0.5,\"xanchor\":\"center\",\"xref\":\"paper\",\"y\":1.0,\"yanchor\":\"bottom\",\"yref\":\"paper\"},{\"font\":{\"size\":16},\"showarrow\":false,\"text\":\"Datos extrapolados\",\"x\":0.5,\"xanchor\":\"center\",\"xref\":\"paper\",\"y\":0.45,\"yanchor\":\"bottom\",\"yref\":\"paper\"}],\"title\":{\"text\":\"Distribucion Normal\\n EE=1596.304664338428\"},\"legend\":{\"x\":0.004,\"y\":0.99},\"showlegend\":true},                        {\"responsive\": true}                    ).then(function(){\n",
       "                            \n",
       "var gd = document.getElementById('c9c1dae9-3708-4849-9a55-109b20abe96f');\n",
       "var x = new MutationObserver(function (mutations, observer) {{\n",
       "        var display = window.getComputedStyle(gd).display;\n",
       "        if (!display || display === 'none') {{\n",
       "            console.log([gd, 'removed!']);\n",
       "            Plotly.purge(gd);\n",
       "            observer.disconnect();\n",
       "        }}\n",
       "}});\n",
       "\n",
       "// Listen for the removal of the full notebook cells\n",
       "var notebookContainer = gd.closest('#notebook-container');\n",
       "if (notebookContainer) {{\n",
       "    x.observe(notebookContainer, {childList: true});\n",
       "}}\n",
       "\n",
       "// Listen for the clearing of the current output cell\n",
       "var outputEl = gd.closest('.output');\n",
       "if (outputEl) {{\n",
       "    x.observe(outputEl, {childList: true});\n",
       "}}\n",
       "\n",
       "                        })                };                });            </script>        </div>"
      ]
     },
     "metadata": {},
     "output_type": "display_data"
    }
   ],
   "source": [
    "# Crear subplots\n",
    "fig = make_subplots(rows=2, \n",
    "                    cols=1, \n",
    "                    shared_xaxes=False, \n",
    "                    vertical_spacing=0.1, \n",
    "                    subplot_titles=(\"Datos ajustados\", \"Datos extrapolados\"))\n",
    "\n",
    "# Gráfico 1: Datos Registrados (Scatter) y Datos Ajustados (Línea)\n",
    "fig.add_trace(go.Scatter(x=tR, \n",
    "                         y=dReg, \n",
    "                         mode='markers', \n",
    "                         name='Datos Registrados', \n",
    "                         marker=dict(color='blue')), \n",
    "              row=1, col=1)\n",
    "fig.add_trace(go.Scatter(x=tR, \n",
    "                         y=dAjust, \n",
    "                         mode='lines', \n",
    "                         name='Datos Ajustados', \n",
    "                         line=dict(color='red', width=1)), \n",
    "              row=1, col=1)\n",
    "\n",
    "fig.add_trace(go.Scatter(x=tR, \n",
    "                         y=dReg,\n",
    "                         mode='markers', \n",
    "                         name='Datos Registrados', \n",
    "                         marker=dict(color='purple')), \n",
    "              row=2, col=1)\n",
    "fig.add_trace(go.Scatter(x=dTrExtrap, \n",
    "                         y=dExtrap, \n",
    "                         mode='lines', \n",
    "                         name='Datos Extrapolados', \n",
    "                         line=dict(color='green', \n",
    "                         width=1)), \n",
    "              row=2, col=1)\n",
    "\n",
    "# Configurar el layout\n",
    "fig.update_layout(\n",
    "    title_text=titulo,\n",
    "    #xaxis_type=\"log\",  # Eje x semilogarítmico\n",
    "    #yaxis_title=\"Gastos (m³/s)\",\n",
    "    showlegend=True,\n",
    "    legend=dict(x=0.004, y=0.99)\n",
    ")\n",
    "'''\n",
    "# Añadir una leyenda personalizada como anotación para el gráfico 1\n",
    "fig.add_annotation(\n",
    "    xref=\"paper\", yref=\"paper\",\n",
    "    x=0.05, y=0.99, showarrow=False,\n",
    "    text=\"Gráfico 1: Datos Registrados y Ajustados\",\n",
    "    font=dict(size=12, color=\"black\")\n",
    ")\n",
    "\n",
    "# Añadir una leyenda personalizada como anotación para el gráfico 2\n",
    "fig.add_annotation(\n",
    "    xref=\"paper\", yref=\"paper\",\n",
    "    x=0.05, y=0.40, showarrow=False,\n",
    "    text=\"Gráfico 2: Datos Registrados y Extrapolados\",\n",
    "    font=dict(size=12, color=\"black\")\n",
    ")\n",
    "'''\n",
    "# Configurar ambos ejes x como logarítmicos\n",
    "fig.update_xaxes(type=\"log\", \n",
    "                 range=[0, 2], \n",
    "                 showgrid=True, \n",
    "                 gridcolor='lightgray', \n",
    "                 row=1, col=1)  # Eje x de la primera fila\n",
    "fig.update_xaxes(type=\"log\", \n",
    "                 range=[0, 4], \n",
    "                 title=\"Tr (Periodos de retorno)\", \n",
    "                 showgrid=True, \n",
    "                 gridcolor='lightgray', \n",
    "                 row=2, col=1)  # Eje x de la segunda fila\n",
    "fig.update_yaxes(title_text=\"Gastos (m³/s)\", \n",
    "                 showgrid=True, \n",
    "                 gridcolor='lightgray', \n",
    "                 row=1, col=1)\n",
    "fig.update_yaxes(title_text=\"Gastos (m³/s)\", \n",
    "                 showgrid=True, \n",
    "                 gridcolor='lightgray', \n",
    "                 row=2, col=1)\n",
    "\n",
    "# Mostrar el gráfico\n",
    "#fig.show()\n",
    "fig.write_html(r'C:\\Users\\sear2\\Music\\analisis_frecuencias\\Analisis_de_Frecuencias\\salidas\\grafico_plotly.html')"
   ]
  },
  {
   "cell_type": "code",
   "execution_count": null,
   "id": "b3f1ff87-565b-4775-9ef5-835b0173c047",
   "metadata": {},
   "outputs": [],
   "source": []
  }
 ],
 "metadata": {
  "kernelspec": {
   "display_name": "Python 3 (ipykernel)",
   "language": "python",
   "name": "python3"
  },
  "language_info": {
   "codemirror_mode": {
    "name": "ipython",
    "version": 3
   },
   "file_extension": ".py",
   "mimetype": "text/x-python",
   "name": "python",
   "nbconvert_exporter": "python",
   "pygments_lexer": "ipython3",
   "version": "3.11.8"
  }
 },
 "nbformat": 4,
 "nbformat_minor": 5
}
