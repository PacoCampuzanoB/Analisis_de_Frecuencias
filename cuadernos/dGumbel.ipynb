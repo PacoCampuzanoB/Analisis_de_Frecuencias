{
 "cells": [
  {
   "cell_type": "code",
   "execution_count": 1,
   "id": "9522ca99-e18c-4d44-b666-5b3fc4e56b40",
   "metadata": {},
   "outputs": [],
   "source": [
    "import pandas as pd\n",
    "import numpy as np\n",
    "import pylab as pl\n",
    "import math\n",
    "import plotly.graph_objects as go\n",
    "from plotly.subplots import make_subplots"
   ]
  },
  {
   "cell_type": "code",
   "execution_count": 2,
   "id": "c72ff448-d42e-41c0-a7aa-a84936b56bdb",
   "metadata": {},
   "outputs": [
    {
     "name": "stdout",
     "output_type": "stream",
     "text": [
      "\n",
      "Archivo: \n",
      " C:\\Users\\sear2\\Music\\analisis_frecuencias\\Analisis_de_Frecuencias\\gastos\\datos2014.csv\n"
     ]
    }
   ],
   "source": [
    "ruta = r\"C:\\Users\\sear2\\Music\\analisis_frecuencias\\Analisis_de_Frecuencias\\gastos\\datos2014.csv\"  # Estupido windows\n",
    "#ruta = r\"C:\\Users\\sear2\\Music\\analisis_frecuencias\\Analisis_de_Frecuencias\\gastos\\datos2014.csv\"\n",
    "print(f\"\\nArchivo: \\n {ruta}\")"
   ]
  },
  {
   "cell_type": "code",
   "execution_count": 3,
   "id": "4b07711f-e048-405c-8cf8-2c002e17243f",
   "metadata": {},
   "outputs": [
    {
     "name": "stdout",
     "output_type": "stream",
     "text": [
      "<class 'numpy.ndarray'>\n"
     ]
    },
    {
     "data": {
      "text/plain": [
       "62"
      ]
     },
     "execution_count": 3,
     "metadata": {},
     "output_type": "execute_result"
    }
   ],
   "source": [
    "datos = pd.read_csv(ruta, header=None).values\n",
    "datos.astype(float)\n",
    "print(type(datos))\n",
    "len(datos)"
   ]
  },
  {
   "cell_type": "code",
   "execution_count": 4,
   "id": "f96bdc48-8744-4225-af78-5172eadc7002",
   "metadata": {},
   "outputs": [],
   "source": [
    "#********************************************************************************************\n",
    "# Inicia la función bisección\n",
    "#********************************************************************************************\n",
    "    \n",
    "def biseccion(vector, a1, a2, b1, b2, P, m):\n",
    "        \n",
    "    tol = 1e-13\n",
    "    gEstimados = np.zeros ((m, 1))\n",
    "    \n",
    "    for j in range (m):    \n",
    "            \n",
    "        b = 100000\n",
    "        a = 0       \n",
    "        fx = vector[j]\n",
    "        fa = fx-((P*math.exp(-1*math.exp((b1-a)/a1))) + \\\n",
    "            ((1-P)*math.exp(-1*math.exp((b2-a)/a2))))\n",
    "    \n",
    "        for i in range (1000):  \n",
    "                \n",
    "            p = a + ((b - a) / 2)\n",
    "            fp = fx-((P*math.exp(-1*math.exp((b1-p)/a1))) + \\\n",
    "                    ((1-P)*math.exp(-1*math.exp((b2-p)/a2))))      # f(p)\n",
    "                \n",
    "            if ((fp == 0) | (((b - a) / 2) < tol)):\n",
    "                    break\n",
    "            if ((fa * fp) > 0):\n",
    "                a = p\n",
    "                fa = fp\n",
    "            if ((fa * fp) < 0):\n",
    "                b = p\n",
    "    \n",
    "        gEstimados[j] = p                 # Datos estimados\n",
    "    \n",
    "    return(gEstimados)\n",
    "        "
   ]
  },
  {
   "cell_type": "code",
   "execution_count": 5,
   "id": "86194407-d16a-47f4-82c9-97c4c1b19474",
   "metadata": {},
   "outputs": [],
   "source": [
    "#********************************************************************************************\n",
    "# Inicia la función errorC\n",
    "#********************************************************************************************\n",
    "    \n",
    "def errorC(m, gastos, tRpNEx, pIn):\n",
    "    E1 = 0\n",
    "    E = np.zeros(m)\n",
    "    for i in range (m):                 # F(qMedido)\n",
    "            \n",
    "        E[i] = ((pIn[4]*math.exp(-1*math.exp((pIn[2]-gastos[i])/pIn[0]))) + \\\n",
    "        ((1-pIn[4])*math.exp(-1*math.exp((pIn[3]-gastos[i])/pIn[1]))))\n",
    "        sumaC = (tRpNEx[i] - E[i])**2  # Función de errores cuadrados pesados\n",
    "        E1 = E1 + sumaC\n",
    "            \n",
    "    return(E1)"
   ]
  },
  {
   "cell_type": "code",
   "execution_count": 6,
   "id": "f84ad60c-1ae2-40c9-8576-ae9c51d78920",
   "metadata": {},
   "outputs": [],
   "source": [
    "    #********************************************************************************************\n",
    "    # Inicia el programa\n",
    "    #********************************************************************************************\n",
    "\n",
    "\n",
    "m = datos.size    \n",
    "    \n",
    "matriz01 = np.zeros ((m, 9))\n",
    "    \n",
    "matriz02 = np.zeros ((m, 4)) # Aquí hay que crear la otra columna para los datos ajustados extrapolados sin rosenbrock,4 columnas, eran 3!\n",
    "matriz02 [:] = -999\n",
    "matriz02 [0, 0] = 2\n",
    "matriz02 [1, 0] = 5\n",
    "matriz02 [2, 0] = 10\n",
    "matriz02 [3, 0] = 20\n",
    "matriz02 [4, 0] = 50\n",
    "matriz02 [5, 0] = 100\n",
    "matriz02 [6, 0] = 200\n",
    "matriz02 [7, 0] = 500\n",
    "matriz02 [8, 0] = 1000\n",
    "matriz02 [9, 0] = 2000\n",
    "matriz02 [10, 0] = 5000\n",
    "matriz02 [11, 0] = 10000\n",
    "n = 12\n",
    "\n",
    "EEstandart = np.full((m, 2), -999, float)    "
   ]
  },
  {
   "cell_type": "code",
   "execution_count": null,
   "id": "8d80d349-64f6-4f2b-8701-35d9bb139cbf",
   "metadata": {},
   "outputs": [],
   "source": []
  },
  {
   "cell_type": "code",
   "execution_count": 7,
   "id": "3f566937-383b-49cc-b0c5-8b5376cf0564",
   "metadata": {},
   "outputs": [],
   "source": [
    "for i in range (n):\n",
    "    matriz02 [i ,1] = 1.0 - (1.0 / matriz02 [i, 0]) #Columna de F(x)\n",
    "    \n",
    "for i in range (m):\n",
    "        \n",
    "    matriz01 [i, 0] = i + 1           # Se crea la columna con el No de orden columna '1'\n",
    "    matriz01 [i, 1] = datos.max()  # Se crea la columna con los gastos \"columna 2\"\n",
    "    j = datos.argmax()             # registrados y ordenados\n",
    "    datos [j, 0] = -1              # en orden ascendente\n",
    "    matriz01 [i, 2] = (m + 1) / matriz01 [i, 0]  # Se crea la columna con Tr \"columna 3\"\n",
    "    matriz01 [i, 3] = 1 - (1 / matriz01 [i, 2])  # Se crea la columna de F(x), \"a partir de Tr (columna 4)\"\n",
    "    matriz01 [i, 4] = 1 / matriz01[i, 2] # F(qEmpirico)=k/n+1"
   ]
  },
  {
   "cell_type": "code",
   "execution_count": 8,
   "id": "c886efb7-a852-47c8-813d-bfd09f6ffa0d",
   "metadata": {},
   "outputs": [
    {
     "data": {
      "image/png": "[encoded data removed]",
      "text/plain": [
       "<Figure size 640x480 with 1 Axes>"
      ]
     },
     "metadata": {},
     "output_type": "display_data"
    },
    {
     "name": "stdin",
     "output_type": "stream",
     "text": [
      "Número de datos de origen ciclonico\n",
      " (debe de ser mayor a 1):  2\n"
     ]
    }
   ],
   "source": [
    "#********************************************************************************************\n",
    "# Se decide cuantos valores son los ciclonicos\n",
    "#********************************************************************************************\n",
    "    \n",
    "tR = matriz01 [:, 2]\n",
    "dReg = matriz01 [:, 1]\n",
    "    \n",
    "pl.subplot(1, 1, 1)\n",
    "pl.scatter(tR, dReg, label='Datos Registrados', marker='.', color='b')\n",
    "pl.legend(loc=\"best\")\n",
    "pl.title(\"Periodo de retorno VS gasto\")\n",
    "pl.ylabel(\"Gastos(m³/s)\")\n",
    "pl.xlabel(\"Periodo de retorno, (años)\")\n",
    "pl.semilogx(True)\n",
    "pl.grid(True, which='both', color='g', linestyle='-', linewidth=0.5)\n",
    "pl.show()\n",
    "ndc = int(input(\"Número de datos de origen ciclonico\\n (debe de ser mayor a 1): \"))"
   ]
  },
  {
   "cell_type": "code",
   "execution_count": 9,
   "id": "5764458c-3fed-475b-8250-1b68d64e4ec5",
   "metadata": {},
   "outputs": [
    {
     "name": "stdout",
     "output_type": "stream",
     "text": [
      "\u001b[1;31;m\n",
      "             Parametros Iniciales\n",
      "\u001b[1;32;m\n",
      "media 1: \u001b[1;35;m 1795.35\n",
      "\u001b[1;32;mdesviación estandart 1:  \u001b[1;35;m 940.3031394543974\n",
      "\u001b[1;32;m\n",
      "media 2:  \u001b[1;35;m 12756.5\n",
      "\u001b[1;32;mdesviación estantart 2:  \u001b[1;35;m 1352.6952724098653\n",
      "\u001b[1;32;m\n",
      "a1:  \u001b[1;35;m 733.1513500225768\n",
      "\u001b[1;32;mb1:  \u001b[1;35;m 1372.1750407669686\n",
      "\u001b[1;32;ma2:  \u001b[1;35;m 1054.692176941888\n",
      "\u001b[1;32;mb2:  \u001b[1;35;m 12147.731675469142 \n",
      "\n",
      "\u001b[1;32;mProbabilidad:  \u001b[1;35;m 0.967741935483871 \n",
      "\n",
      "\u001b[1;32;mE =  \u001b[1;35;m 0.08915500279660643\n"
     ]
    }
   ],
   "source": [
    "#********************************************************************************************\n",
    "# estimación de párametros\n",
    "#********************************************************************************************\n",
    "    \n",
    "media1 = 0\n",
    "media2 = 0\n",
    "foo = 0\n",
    "ds1 = 0\n",
    "ds2 = 0\n",
    "P = (m - ndc) / m                   # Estimación probabilidad\n",
    "    \n",
    "for i in range (ndc):               # Estimación media2\n",
    "    media2 = media2 + matriz01[i, 1]\n",
    "        \n",
    "media2 = media2 / ndc\n",
    "    \n",
    "for i in range (ndc):\n",
    "        \n",
    "    foo = (matriz01[i, 1] - media2) ** 2\n",
    "    ds2 = ds2 + foo\n",
    "        \n",
    "ds2 = (ds2/(ndc-1)) ** 0.5          # Estimación desviación estandart 2\n",
    "foo = 0\n",
    "    \n",
    "for i in range (m - ndc):           # Estimación media1\n",
    "    media1 = media1 + matriz01[i + ndc, 1]\n",
    "        \n",
    "media1 = media1 / (m-ndc)\n",
    "    \n",
    "for i in range (m - ndc):\n",
    "        \n",
    "    foo = (matriz01[i + ndc, 1] - media1) ** 2\n",
    "    ds1 = ds1 + foo\n",
    "        \n",
    "ds1 = (ds1/((m-ndc) - 1)) ** 0.5    # Estimación desviación estandart 1\n",
    "a1 = ((6)**0.5/math.pi) * ds1\n",
    "a2 = ((6)**0.5/math.pi) * ds2\n",
    "b1 = media1 - (0.5772 * a1)\n",
    "b2 = media2 - (0.5772 * a2)\n",
    "    \n",
    "                    # Se imprimen los parametros iniciales\n",
    "    \n",
    "print(\"\\x1b[1;31;m\" + \"\\n             Parametros Iniciales\")\n",
    "print(\"\\x1b[1;32;m\" + \"\\nmedia 1:\", \"\\x1b[1;35;m\", media1)\n",
    "print(\"\\x1b[1;32;m\" + \"desviación estandart 1: \", \"\\x1b[1;35;m\",ds1)\n",
    "print(\"\\x1b[1;32;m\" + \"\\nmedia 2: \", \"\\x1b[1;35;m\", media2)\n",
    "print(\"\\x1b[1;32;m\" + \"desviación estantart 2: \", \"\\x1b[1;35;m\",ds2)\n",
    "print(\"\\x1b[1;32;m\" + \"\\na1: \", \"\\x1b[1;35;m\",a1)\n",
    "print(\"\\x1b[1;32;m\" + \"b1: \", \"\\x1b[1;35;m\",b1)\n",
    "print(\"\\x1b[1;32;m\" + \"a2: \", \"\\x1b[1;35;m\",a2)\n",
    "print(\"\\x1b[1;32;m\" + \"b2: \", \"\\x1b[1;35;m\",b2, \"\\n\")\n",
    "print(\"\\x1b[1;32;m\" + \"Probabilidad: \", \"\\x1b[1;35;m\",P, \"\\n\")\n",
    "    \n",
    "gEstimados = biseccion(matriz01[:, 3], a1, a2, b1, b2, P, m) # Se invoca a la función \"bisección\", para obtener los gastos estimados.\n",
    "matriz01[:, 7] = gEstimados[:, 0]\n",
    "\n",
    "gEstimados = biseccion(matriz02[:, 1], a1, a2, b1, b2, P, m) # Se invoca a la función \"bisección\", para obtener los gastos extrapolados.\n",
    "matriz02[:12, -1] = gEstimados[0:12, 0]\n",
    "    \n",
    "E = 0\n",
    "    \n",
    "for i in range (m): \n",
    "                # F(qMedido)\n",
    "    matriz01[i, 5] = ((P*math.exp(-1*math.exp((b1-matriz01[i, 1])/a1))) + \\\n",
    "                      ((1-P)*math.exp(-1*math.exp((b2-matriz01[i, 1])/a2))))\n",
    "    matriz01[i, 6] = (matriz01[i, 3] - matriz01[i, 5])**2  # Función de errores cuadrados pesados\n",
    "    E = E + matriz01[i, 6]\n",
    "        \n",
    "print(\"\\x1b[1;32;m\" + \"E = \", \"\\x1b[1;35;m\", E)"
   ]
  },
  {
   "cell_type": "code",
   "execution_count": 10,
   "id": "78639e15-91c7-447c-8769-76d0fdcd9ac4",
   "metadata": {},
   "outputs": [
    {
     "name": "stdout",
     "output_type": "stream",
     "text": [
      "[ 1676.41389128  2588.378707    3295.3733502   4297.30003338\n",
      " 12182.52092547 13193.34636361 14026.46450447 15046.86202572\n",
      " 15794.92775285 16534.31959339 17505.67265994 18238.37032781\n",
      "  -999.          -999.          -999.          -999.\n",
      "  -999.          -999.          -999.          -999.\n",
      "  -999.          -999.          -999.          -999.\n",
      "  -999.          -999.          -999.          -999.\n",
      "  -999.          -999.          -999.          -999.\n",
      "  -999.          -999.          -999.          -999.\n",
      "  -999.          -999.          -999.          -999.\n",
      "  -999.          -999.          -999.          -999.\n",
      "  -999.          -999.          -999.          -999.\n",
      "  -999.          -999.          -999.          -999.\n",
      "  -999.          -999.          -999.          -999.\n",
      "  -999.          -999.          -999.          -999.\n",
      "  -999.          -999.        ]\n"
     ]
    }
   ],
   "source": [
    "print(matriz02[:,-1])"
   ]
  },
  {
   "cell_type": "code",
   "execution_count": 11,
   "id": "074a5f0e-c11e-4449-8150-70043dfb88bb",
   "metadata": {},
   "outputs": [],
   "source": [
    "#********************************************************************************************\n",
    "\n",
    "                    # Algoritmo de Rosenbrock\n",
    "\n",
    "#********************************************************************************************\n",
    "''' \n",
    "                Condiciones iniciales del algoritmo de Rosenbrock\n",
    "'''             \n",
    "#********************************************************************************************\n",
    "    \n",
    "pIn0 = np.array([a1, a2, b1, b2, P])\n",
    "pIn = np.array([a1, a2, b1, b2, P])    # punto inicial\n",
    "nVec = 5                               # Número de vectores\n",
    "da1 = np.array([1, 0, 0, 0, 0])        # Vectores dirección\n",
    "da2 = np.array([0, 1, 0, 0, 0])\n",
    "db1 = np.array([0, 0, 1, 0, 0])\n",
    "db2 = np.array([0, 0, 0, 1, 0])\n",
    "dP = np.array([0, 0, 0, 0, 1])\n",
    "\n",
    "delta1 = 0.01  #3 Tamaño de paso\n",
    "delta2 = 0.01\n",
    "delta3 = 0.01\n",
    "delta4 = 0.01\n",
    "delta5 = 0.01\n",
    "    \n",
    "foo = np.array([0, 0, 0, 0, 0])\n",
    "pIn1 = np.array([0, 0, 0, 0, 0])\n",
    "\n",
    "#k = 1\n",
    "redireccion = 0\n",
    "i = 0"
   ]
  },
  {
   "cell_type": "code",
   "execution_count": 12,
   "id": "e6eead9c-231b-4f6e-852d-9739c1a8e146",
   "metadata": {},
   "outputs": [
    {
     "name": "stdout",
     "output_type": "stream",
     "text": [
      "\u001b[1;36;m\n",
      "i =  1\n",
      "\u001b[1;35;mj=1\n",
      "f(yi + Djdj)= 0.08915429157477132\n",
      "\u001b[1;32;mExito\n",
      "\u001b[1;35;mD1 = 0.02\n",
      "\n",
      "j=2\n",
      "f(yi + Djdj)= 0.08915429056896702\n",
      "\u001b[1;32;mExito\n",
      "\u001b[1;35;mD2 = 0.02\n",
      "\n",
      "j=3\n",
      "f(yi + Djdj)= 0.08916426652525515\n",
      "\u001b[1;31;mFracaso\n",
      "\u001b[1;35;mD3 = -0.005 \n",
      "\n",
      "\n",
      "j=4\n",
      "f(yi + Djdj)= 0.08915428794579207\n",
      "\u001b[1;32;mExito\n",
      "\u001b[1;35;mD4 = 0.02\n",
      "\n",
      "j=5\n",
      "f(yi + Djdj)= 0.08835405073047667\n",
      "\u001b[1;32;mExito\n",
      "\u001b[1;35;mD5 = 0.02\n",
      "\n",
      "Punto actual:  [7.33161350e+02 1.05470218e+03 1.37217504e+03 1.21477417e+04\n",
      " 9.77741935e-01]\n",
      "\n",
      "<===================================================================>\n",
      "\u001b[1;36;m\n",
      "i =  2\n",
      "\u001b[1;35;mj=1\n",
      "f(yi + Djdj)= 0.08835059545817117\n",
      "\u001b[1;32;mExito\n",
      "\u001b[1;35;mD1 = 0.04\n",
      "\n",
      "j=2\n",
      "f(yi + Djdj)= 0.08835059433453923\n",
      "\u001b[1;32;mExito\n",
      "\u001b[1;35;mD2 = 0.04\n",
      "\n",
      "j=3\n",
      "f(yi + Djdj)= 0.08834638138060907\n",
      "\u001b[1;32;mExito\n",
      "\u001b[1;35;mD3 = -0.01\n",
      "\n",
      "j=4\n",
      "f(yi + Djdj)= 0.08834637525660634\n",
      "\u001b[1;32;mExito\n",
      "\u001b[1;35;mD4 = 0.04\n",
      "\n",
      "j=5\n",
      "f(yi + Djdj)= 0.09878032509829296\n",
      "\u001b[1;31;mFracaso\n",
      "\u001b[1;35;mD5 = -0.01 \n",
      "\n",
      "\n",
      "Punto actual:  [7.33181350e+02 1.05472218e+03 1.37217004e+03 1.21477617e+04\n",
      " 9.77741935e-01]\n",
      "\n",
      "<===================================================================>\n",
      "\u001b[1;36;m\n",
      "i =  3\n",
      "\u001b[1;35;mj=1\n",
      "f(yi + Djdj)= 0.08833947241186839\n",
      "\u001b[1;32;mExito\n",
      "\u001b[1;35;mD1 = 0.08\n",
      "\n",
      "j=2\n",
      "f(yi + Djdj)= 0.08833947016480766\n",
      "\u001b[1;32;mExito\n",
      "\u001b[1;35;mD2 = 0.08\n",
      "\n",
      "j=3\n",
      "f(yi + Djdj)= 0.08833104576825769\n",
      "\u001b[1;32;mExito\n",
      "\u001b[1;35;mD3 = -0.02\n",
      "\n",
      "j=4\n",
      "f(yi + Djdj)= 0.08833103352072039\n",
      "\u001b[1;32;mExito\n",
      "\u001b[1;35;mD4 = 0.08\n",
      "\n",
      "j=5\n",
      "f(yi + Djdj)= 0.08913505145466055\n",
      "\u001b[1;31;mFracaso\n",
      "\u001b[1;35;mD5 = 0.005 \n",
      "\n",
      "\n",
      "Punto actual:  [7.33221350e+02 1.05476218e+03 1.37216004e+03 1.21478017e+04\n",
      " 9.77741935e-01]\n",
      "\n",
      "<===================================================================>\n",
      "\u001b[1;36;m\n",
      "i =  4\n",
      "\u001b[1;35;mj=1\n",
      "f(yi + Djdj)= 0.08831725862445783\n",
      "\u001b[1;32;mExito\n",
      "\u001b[1;35;mD1 = 0.16\n",
      "\n",
      "j=2\n",
      "f(yi + Djdj)= 0.08831725413114869\n",
      "\u001b[1;32;mExito\n",
      "\u001b[1;35;mD2 = 0.16\n",
      "\n",
      "j=3\n",
      "f(yi + Djdj)= 0.08830041138206683\n",
      "\u001b[1;32;mExito\n",
      "\u001b[1;35;mD3 = -0.04\n",
      "\n",
      "j=4\n",
      "f(yi + Djdj)= 0.08830038688886484\n",
      "\u001b[1;32;mExito\n",
      "\u001b[1;35;mD4 = 0.16\n",
      "\n",
      "j=5\n",
      "f(yi + Djdj)= 0.08940042560768827\n",
      "\u001b[1;31;mFracaso\n",
      "\u001b[1;35;mD5 = -0.0025 \n",
      "\n",
      "\n",
      "Punto actual:  [7.33301350e+02 1.05484218e+03 1.37214004e+03 1.21478817e+04\n",
      " 9.77741935e-01]\n",
      "\n",
      "<===================================================================>\n",
      "\u001b[1;36;m\n",
      "i =  5\n",
      "\u001b[1;35;mj=1\n",
      "f(yi + Djdj)= 0.0882729602189801\n",
      "\u001b[1;32;mExito\n",
      "\u001b[1;35;mD1 = 0.32\n",
      "\n",
      "j=2\n",
      "f(yi + Djdj)= 0.08827295123561113\n",
      "\u001b[1;32;mExito\n",
      "\u001b[1;35;mD2 = 0.32\n",
      "\n",
      "j=3\n",
      "f(yi + Djdj)= 0.08823928990373925\n",
      "\u001b[1;32;mExito\n",
      "\u001b[1;35;mD3 = -0.08\n",
      "\n",
      "j=4\n",
      "f(yi + Djdj)= 0.08823924092482463\n",
      "\u001b[1;32;mExito\n",
      "\u001b[1;35;mD4 = 0.32\n",
      "\n",
      "j=5\n",
      "f(yi + Djdj)= 0.08806789947411485\n",
      "\u001b[1;32;mExito\n",
      "\u001b[1;35;mD5 = -0.005\n",
      "\n",
      "Punto actual:  [7.33461350e+02 1.05500218e+03 1.37210004e+03 1.21480417e+04\n",
      " 9.75241935e-01]\n",
      "\n",
      "<===================================================================>\n",
      "\u001b[1;36;m\n",
      "i =  6\n",
      "\u001b[1;35;mj=1\n",
      "f(yi + Djdj)= 0.08802173212210976\n",
      "\u001b[1;32;mExito\n",
      "\u001b[1;35;mD1 = 0.64\n",
      "\n",
      "j=2\n",
      "f(yi + Djdj)= 0.08802171097671316\n",
      "\u001b[1;32;mExito\n",
      "\u001b[1;35;mD2 = 0.64\n",
      "\n",
      "j=3\n",
      "f(yi + Djdj)= 0.08795136274206802\n",
      "\u001b[1;32;mExito\n",
      "\u001b[1;35;mD3 = -0.16\n",
      "\n",
      "j=4\n",
      "f(yi + Djdj)= 0.08795126495327435\n",
      "\u001b[1;32;mExito\n",
      "\u001b[1;35;mD4 = 0.64\n",
      "\n",
      "j=5\n",
      "f(yi + Djdj)= 0.08837090247451089\n",
      "\u001b[1;31;mFracaso\n",
      "\u001b[1;35;mD5 = 0.0025 \n",
      "\n",
      "\n",
      "Punto actual:  [7.33781350e+02 1.05532218e+03 1.37202004e+03 1.21483617e+04\n",
      " 9.75241935e-01]\n",
      "\n",
      "<===================================================================>\n",
      "\u001b[1;36;m\n",
      "i =  7\n",
      "\u001b[1;35;mj=1\n",
      "f(yi + Djdj)= 0.08786088109869439\n",
      "\u001b[1;32;mExito\n",
      "\u001b[1;35;mD1 = 1.28\n",
      "\n",
      "j=2\n",
      "f(yi + Djdj)= 0.08786083886768696\n",
      "\u001b[1;32;mExito\n",
      "\u001b[1;35;mD2 = 1.28\n",
      "\n",
      "j=3\n",
      "f(yi + Djdj)= 0.08772052927955286\n",
      "\u001b[1;32;mExito\n",
      "\u001b[1;35;mD3 = -0.32\n",
      "\n",
      "j=4\n",
      "f(yi + Djdj)= 0.0877203338281943\n",
      "\u001b[1;32;mExito\n",
      "\u001b[1;35;mD4 = 1.28\n",
      "\n",
      "j=5\n",
      "f(yi + Djdj)= 0.08787648233972639\n",
      "\u001b[1;31;mFracaso\n",
      "\u001b[1;35;mD5 = -0.00125 \n",
      "\n",
      "\n",
      "Punto actual:  [7.34421350e+02 1.05596218e+03 1.37186004e+03 1.21490017e+04\n",
      " 9.75241935e-01]\n",
      "\n",
      "<===================================================================>\n",
      "\u001b[1;36;m\n",
      "i =  8\n",
      "\u001b[1;35;mj=1\n",
      "f(yi + Djdj)= 0.08754734403348009\n",
      "\u001b[1;32;mExito\n",
      "\u001b[1;35;mD1 = 2.56\n",
      "\n",
      "j=2\n",
      "f(yi + Djdj)= 0.08754725981055443\n",
      "\u001b[1;32;mExito\n",
      "\u001b[1;35;mD2 = 2.56\n",
      "\n",
      "j=3\n",
      "f(yi + Djdj)= 0.0872681831689657\n",
      "\u001b[1;32;mExito\n",
      "\u001b[1;35;mD3 = -0.64\n",
      "\n",
      "j=4\n",
      "f(yi + Djdj)= 0.08726779277060681\n",
      "\u001b[1;32;mExito\n",
      "\u001b[1;35;mD4 = 2.56\n",
      "\n",
      "j=5\n",
      "f(yi + Djdj)= 0.0872937891622237\n",
      "\u001b[1;31;mFracaso\n",
      "\u001b[1;35;mD5 = 0.000625 \n",
      "\n",
      "\n",
      "Punto actual:  [7.35701350e+02 1.05724218e+03 1.37154004e+03 1.21502817e+04\n",
      " 9.75241935e-01]\n",
      "\n",
      "<===================================================================>\n",
      "\u001b[1;36;m\n",
      "i =  9\n",
      "\u001b[1;35;mj=1\n",
      "f(yi + Djdj)= 0.08695272192904091\n",
      "\u001b[1;32;mExito\n",
      "\u001b[1;35;mD1 = 5.12\n",
      "\n",
      "j=2\n",
      "f(yi + Djdj)= 0.08695255443909973\n",
      "\u001b[1;32;mExito\n",
      "\u001b[1;35;mD2 = 5.12\n",
      "\n",
      "j=3\n",
      "f(yi + Djdj)= 0.08640053143661013\n",
      "\u001b[1;32;mExito\n",
      "\u001b[1;35;mD3 = -1.28\n",
      "\n",
      "j=4\n",
      "f(yi + Djdj)= 0.08639975265288989\n",
      "\u001b[1;32;mExito\n",
      "\u001b[1;35;mD4 = 5.12\n",
      "\n",
      "j=5\n",
      "f(yi + Djdj)= 0.08640021835016735\n",
      "\u001b[1;31;mFracaso\n",
      "\u001b[1;35;mD5 = -0.0003125 \n",
      "\n",
      "\n",
      "Punto actual:  [7.38261350e+02 1.05980218e+03 1.37090004e+03 1.21528417e+04\n",
      " 9.75241935e-01]\n",
      "\n",
      "<===================================================================>\n",
      "\u001b[1;36;m\n",
      "i =  10\n",
      "\u001b[1;35;mj=1\n",
      "f(yi + Djdj)= 0.08589163789794353\n",
      "\u001b[1;32;mExito\n",
      "\u001b[1;35;mD1 = 10.24\n",
      "\n",
      "j=2\n",
      "f(yi + Djdj)= 0.08589130673787929\n",
      "\u001b[1;32;mExito\n",
      "\u001b[1;35;mD2 = 10.24\n",
      "\n",
      "j=3\n",
      "f(yi + Djdj)= 0.08481146402946309\n",
      "\u001b[1;32;mExito\n",
      "\u001b[1;35;mD3 = -2.56\n",
      "\n",
      "j=4\n",
      "f(yi + Djdj)= 0.08480991447884027\n",
      "\u001b[1;32;mExito\n",
      "\u001b[1;35;mD4 = 10.24\n",
      "\n",
      "j=5\n",
      "f(yi + Djdj)= 0.08482546862103169\n",
      "\u001b[1;31;mFracaso\n",
      "\u001b[1;35;mD5 = 0.00015625 \n",
      "\n",
      "\n",
      "Punto actual:  [7.43381350e+02 1.06492218e+03 1.36962004e+03 1.21579617e+04\n",
      " 9.75241935e-01]\n",
      "\n",
      "<===================================================================>\n",
      "\u001b[1;36;m\n",
      "i =  11\n",
      "\u001b[1;35;mj=1\n",
      "f(yi + Djdj)= 0.08426916890665219\n",
      "\u001b[1;32;mExito\n",
      "\u001b[1;35;mD1 = 20.48\n",
      "\n",
      "j=2\n",
      "f(yi + Djdj)= 0.08426852183132513\n",
      "\u001b[1;32;mExito\n",
      "\u001b[1;35;mD2 = 20.48\n",
      "\n",
      "j=3\n",
      "f(yi + Djdj)= 0.08220312521622845\n",
      "\u001b[1;32;mExito\n",
      "\u001b[1;35;mD3 = -5.12\n",
      "\n",
      "j=4\n",
      "f(yi + Djdj)= 0.0822000579056756\n",
      "\u001b[1;32;mExito\n",
      "\u001b[1;35;mD4 = 20.48\n",
      "\n",
      "j=5\n",
      "f(yi + Djdj)= 0.08218402601254676\n",
      "\u001b[1;32;mExito\n",
      "\u001b[1;35;mD5 = 0.0003125\n",
      "\n",
      "Punto actual:  [7.53621350e+02 1.07516218e+03 1.36706004e+03 1.21682017e+04\n",
      " 9.75398185e-01]\n",
      "\n",
      "<===================================================================>\n",
      "\u001b[1;36;m\n",
      "i =  12\n",
      "\u001b[1;35;mj=1\n",
      "f(yi + Djdj)= 0.08287626865076828\n",
      "\u001b[1;31;mFracaso\n",
      "\u001b[1;35;mD1 = -10.24\n",
      "\n",
      "j=2\n",
      "f(yi + Djdj)= 0.08218280475928184\n",
      "\u001b[1;32;mExito\n",
      "\u001b[1;35;mD2 = 40.96\n",
      "\n",
      "j=3\n",
      "f(yi + Djdj)= 0.07837693474366265\n",
      "\u001b[1;32;mExito\n",
      "\u001b[1;35;mD3 = -10.24\n",
      "\n",
      "j=4\n",
      "f(yi + Djdj)= 0.07837091949179625\n",
      "\u001b[1;32;mExito\n",
      "\u001b[1;35;mD4 = 40.96\n",
      "\n",
      "j=5\n",
      "f(yi + Djdj)= 0.07836673791881421\n",
      "\u001b[1;32;mExito\n",
      "\u001b[1;35;mD5 = 0.000625\n",
      "\n",
      "Punto actual:  [7.53621350e+02 1.09564218e+03 1.36194004e+03 1.21886817e+04\n",
      " 9.75710685e-01]\n",
      "\n",
      "<===================================================================>\n",
      "\u001b[1;36;m\n",
      "i =  13\n",
      "\u001b[1;35;mj=1\n",
      "f(yi + Djdj)= 0.0789147893849895\n",
      "\u001b[1;31;mFracaso\n",
      "\u001b[1;35;mD1 = 5.12\n",
      "\n",
      "j=2\n",
      "f(yi + Djdj)= 0.07836457734894899\n",
      "\u001b[1;32;mExito\n",
      "\u001b[1;35;mD2 = 81.92\n",
      "\n",
      "j=3\n",
      "f(yi + Djdj)= 0.07205733855558798\n",
      "\u001b[1;32;mExito\n",
      "\u001b[1;35;mD3 = -20.48\n",
      "\n",
      "j=4\n",
      "f(yi + Djdj)= 0.07204576787077215\n",
      "\u001b[1;32;mExito\n",
      "\u001b[1;35;mD4 = 81.92\n",
      "\n",
      "j=5\n",
      "f(yi + Djdj)= 0.0721504108225838\n",
      "\u001b[1;31;mFracaso\n",
      "\u001b[1;35;mD5 = -0.0003125 \n",
      "\n",
      "\n",
      "Punto actual:  [7.53621350e+02 1.13660218e+03 1.35170004e+03 1.22296417e+04\n",
      " 9.75710685e-01]\n",
      "\n",
      "<===================================================================>\n",
      "\u001b[1;36;m\n",
      "i =  14\n",
      "\u001b[1;35;mj=1\n",
      "f(yi + Djdj)= 0.07201227709604216\n",
      "\u001b[1;32;mExito\n",
      "\u001b[1;35;mD1 = 10.24\n",
      "\n",
      "j=2\n",
      "f(yi + Djdj)= 0.07200885239990829\n",
      "\u001b[1;32;mExito\n",
      "\u001b[1;35;mD2 = 163.84\n",
      "\n",
      "j=3\n",
      "f(yi + Djdj)= 0.06443173453619622\n",
      "\u001b[1;32;mExito\n",
      "\u001b[1;35;mD3 = -40.96\n",
      "\n",
      "j=4\n",
      "f(yi + Djdj)= 0.06441038777244573\n",
      "\u001b[1;32;mExito\n",
      "\u001b[1;35;mD4 = 163.84\n",
      "\n",
      "j=5\n",
      "f(yi + Djdj)= 0.06427655676984012\n",
      "\u001b[1;32;mExito\n",
      "\u001b[1;35;mD5 = -0.000625\n",
      "\n",
      "Punto actual:  [7.58741350e+02 1.21852218e+03 1.33122004e+03 1.23115617e+04\n",
      " 9.75398185e-01]\n",
      "\n",
      "<===================================================================>\n",
      "\u001b[1;36;m\n",
      "i =  15\n",
      "\u001b[1;35;mj=1\n",
      "f(yi + Djdj)= 0.06465158393656774\n",
      "\u001b[1;31;mFracaso\n",
      "\u001b[1;35;mD1 = -5.12\n",
      "\n",
      "j=2\n",
      "f(yi + Djdj)= 0.0642727919030691\n",
      "\u001b[1;32;mExito\n",
      "\u001b[1;35;mD2 = 327.68\n",
      "\n",
      "j=3\n",
      "f(yi + Djdj)= 0.06911431108958146\n",
      "\u001b[1;31;mFracaso\n",
      "\u001b[1;35;mD3 = 20.48 \n",
      "\n",
      "\n",
      "j=4\n",
      "f(yi + Djdj)= 0.06423658821405659\n",
      "\u001b[1;32;mExito\n",
      "\u001b[1;35;mD4 = 327.68\n",
      "\n",
      "j=5\n",
      "f(yi + Djdj)= 0.06398113660898777\n",
      "\u001b[1;32;mExito\n",
      "\u001b[1;35;mD5 = -0.00125\n",
      "\n",
      "Punto actual:  [7.58741350e+02 1.38236218e+03 1.33122004e+03 1.24754017e+04\n",
      " 9.74773185e-01]\n",
      "\n",
      "<===================================================================>\n",
      "\u001b[1;36;m\n",
      "i =  16\n",
      "\u001b[1;35;mj=1\n",
      "f(yi + Djdj)= 0.06397477098487156\n",
      "\u001b[1;32;mExito\n",
      "\u001b[1;35;mD1 = -10.24\n",
      "\n",
      "j=2\n",
      "f(yi + Djdj)= 0.0639763659603399\n",
      "\u001b[1;31;mFracaso\n",
      "\u001b[1;35;mD2 = -163.84 \n",
      "\n",
      "\n",
      "j=3\n",
      "f(yi + Djdj)= 0.07185383094380167\n",
      "\u001b[1;31;mFracaso\n",
      "\u001b[1;35;mD3 = -10.24 \n",
      "\n",
      "\n",
      "j=4\n",
      "f(yi + Djdj)= 0.06391506400759683\n",
      "\u001b[1;32;mExito\n",
      "\u001b[1;35;mD4 = 655.36\n",
      "\n",
      "j=5\n",
      "f(yi + Djdj)= 0.06338998647676314\n",
      "\u001b[1;32;mExito\n",
      "\u001b[1;35;mD5 = -0.0025\n",
      "\n",
      "Punto actual:  [7.53621350e+02 1.38236218e+03 1.33122004e+03 1.28030817e+04\n",
      " 9.73523185e-01]\n",
      "\n",
      "<===================================================================>\n",
      "\u001b[1;36;m\n",
      "i =  17\n",
      "\u001b[1;35;mj=1\n",
      "f(yi + Djdj)= 0.06368720828851514\n",
      "\u001b[1;31;mFracaso\n",
      "\u001b[1;35;mD1 = 5.12\n",
      "\n",
      "j=2\n",
      "f(yi + Djdj)= 0.06338717470328144\n",
      "\u001b[1;32;mExito\n",
      "\u001b[1;35;mD2 = -327.68\n",
      "\n",
      "j=3\n",
      "f(yi + Djdj)= 0.06176912566124037\n",
      "\u001b[1;32;mExito\n",
      "\u001b[1;35;mD3 = -20.48\n",
      "\n",
      "j=4\n",
      "f(yi + Djdj)= 0.06170586209958697\n",
      "\u001b[1;32;mExito\n",
      "\u001b[1;35;mD4 = 1310.72\n",
      "\n",
      "j=5\n",
      "f(yi + Djdj)= 0.06044721821805112\n",
      "\u001b[1;32;mExito\n",
      "\u001b[1;35;mD5 = -0.005\n",
      "\n",
      "Punto actual:  [7.53621350e+02 1.21852218e+03 1.32098004e+03 1.34584417e+04\n",
      " 9.71023185e-01]\n",
      "\n",
      "<===================================================================>\n",
      "\u001b[1;36;m\n",
      "i =  18\n",
      "\u001b[1;35;mj=1\n",
      "f(yi + Djdj)= 0.060627196192442744\n",
      "\u001b[1;31;mFracaso\n",
      "\u001b[1;35;mD1 = -2.56\n",
      "\n",
      "j=2\n",
      "f(yi + Djdj)= 0.060444151307055806\n",
      "\u001b[1;32;mExito\n",
      "\u001b[1;35;mD2 = -655.36\n",
      "\n",
      "j=3\n",
      "f(yi + Djdj)= 0.061428805394410355\n",
      "\u001b[1;31;mFracaso\n",
      "\u001b[1;35;mD3 = 10.24 \n",
      "\n",
      "\n",
      "j=4\n",
      "f(yi + Djdj)= 0.06058770300247753\n",
      "\u001b[1;31;mFracaso\n",
      "\u001b[1;35;mD4 = -655.36 \n",
      "\n",
      "\n",
      "j=5\n",
      "f(yi + Djdj)= 0.05872946348950728\n",
      "\u001b[1;32;mExito\n",
      "\u001b[1;35;mD5 = -0.01\n",
      "\n",
      "Punto actual:  [7.53621350e+02 8.90842177e+02 1.32098004e+03 1.34584417e+04\n",
      " 9.66023185e-01]\n",
      "\n",
      "<===================================================================>\n",
      "\u001b[1;36;m\n",
      "i =  19\n",
      "\u001b[1;35;mj=1\n",
      "f(yi + Djdj)= 0.058561968237007433\n",
      "\u001b[1;32;mExito\n",
      "\u001b[1;35;mD1 = -5.12\n",
      "\n",
      "j=2\n",
      "f(yi + Djdj)= 0.05859507654144511\n",
      "\u001b[1;31;mFracaso\n",
      "\u001b[1;35;mD2 = 327.68 \n",
      "\n",
      "\n",
      "j=3\n",
      "f(yi + Djdj)= 0.06143266630445882\n",
      "\u001b[1;31;mFracaso\n",
      "\u001b[1;35;mD3 = -5.12 \n",
      "\n",
      "\n",
      "j=4\n",
      "f(yi + Djdj)= 0.05858471593424633\n",
      "\u001b[1;31;mFracaso\n",
      "\u001b[1;35;mD4 = 327.68 \n",
      "\n",
      "\n",
      "j=5\n",
      "f(yi + Djdj)= 0.058083073809010406\n",
      "\u001b[1;32;mExito\n",
      "\u001b[1;35;mD5 = -0.02\n",
      "\n",
      "Punto actual:  [7.51061350e+02 8.90842177e+02 1.32098004e+03 1.34584417e+04\n",
      " 9.56023185e-01]\n",
      "\n",
      "<===================================================================>\n",
      "\u001b[1;36;m\n",
      "i =  20\n",
      "\u001b[1;35;mj=1\n",
      "f(yi + Djdj)= 0.05733511463060695\n",
      "\u001b[1;32;mExito\n",
      "\u001b[1;35;mD1 = -10.24\n",
      "\n",
      "j=2\n",
      "f(yi + Djdj)= 0.05733510605306325\n",
      "\u001b[1;32;mExito\n",
      "\u001b[1;35;mD2 = 655.36\n",
      "\n",
      "j=3\n",
      "f(yi + Djdj)= 0.05570212822739296\n",
      "\u001b[1;32;mExito\n",
      "\u001b[1;35;mD3 = -10.24\n",
      "\n",
      "j=4\n",
      "f(yi + Djdj)= 0.05580951857700717\n",
      "\u001b[1;31;mFracaso\n",
      "\u001b[1;35;mD4 = -163.84 \n",
      "\n",
      "\n",
      "j=5\n",
      "f(yi + Djdj)= 0.06495081063186288\n",
      "\u001b[1;31;mFracaso\n",
      "\u001b[1;35;mD5 = 0.01 \n",
      "\n",
      "\n",
      "Punto actual:  [7.45941350e+02 1.21852218e+03 1.31586004e+03 1.34584417e+04\n",
      " 9.56023185e-01]\n",
      "\n",
      "<===================================================================>\n",
      "\u001b[1;36;m\n",
      "i =  21\n",
      "\u001b[1;35;mj=1\n",
      "f(yi + Djdj)= 0.054651445149938145\n",
      "\u001b[1;32;mExito\n",
      "\u001b[1;35;mD1 = -20.48\n",
      "\n",
      "j=2\n",
      "f(yi + Djdj)= 0.05461358364748288\n",
      "\u001b[1;32;mExito\n",
      "\u001b[1;35;mD2 = 1310.72\n",
      "\n",
      "j=3\n",
      "f(yi + Djdj)= 0.05265893675708598\n",
      "\u001b[1;32;mExito\n",
      "\u001b[1;35;mD3 = -20.48\n",
      "\n",
      "j=4\n",
      "f(yi + Djdj)= 0.05261991657984677\n",
      "\u001b[1;32;mExito\n",
      "\u001b[1;35;mD4 = -327.68\n",
      "\n",
      "j=5\n",
      "f(yi + Djdj)= 0.05731483601879046\n",
      "\u001b[1;31;mFracaso\n",
      "\u001b[1;35;mD5 = -0.005 \n",
      "\n",
      "\u001b[1;36;m<==========================================================================>\n",
      "Termina la búsqueda\n",
      "\n",
      "f(x1,x2) =  0.05261991657984677\n",
      "En la coordenada:  [7.35701350e+02 1.87388218e+03 1.30562004e+03 1.32946017e+04\n",
      " 9.56023185e-01]\n",
      "Número final de redirecciones:  0\n",
      "<==========================================================================>\n"
     ]
    }
   ],
   "source": [
    "#********************************************************************************************\n",
    "# Inicia el algoritmo\n",
    "#********************************************************************************************\n",
    "    \n",
    "while True:\n",
    "        \n",
    "    i += 1\n",
    "    print (\"\\x1b[1;36;m\" + \"\\ni = \", i)\n",
    "        \n",
    "    for j in range (nVec):\n",
    "            \n",
    "        if (j == 0):              # Para el vector d1\n",
    "                \n",
    "            foo = delta1 * da1\n",
    "            pIn1 = pIn + foo\n",
    "            E1 = errorC(m, matriz01[:, 1], matriz01[:, 3], pIn1)\n",
    "            print(\"\\x1b[1;35;m\" + \"j=1\")\n",
    "            print (\"f(yi + Djdj)=\", E1)\n",
    "                \n",
    "            if (E1<E):\n",
    "                    \n",
    "                print(\"\\x1b[1;32;m\" + \"Exito\")\n",
    "                delta1 = delta1 * 2\n",
    "                print (\"\\x1b[1;35;m\" + \"D1 =\", delta1)\n",
    "                pIn = pIn1\n",
    "                E = E1\n",
    "                j1 = 1\n",
    "                    \n",
    "            else:\n",
    "                    \n",
    "                print(\"\\x1b[1;31;m\" + \"Fracaso\")\n",
    "                delta1 = delta1 * (-0.5)\n",
    "                print (\"\\x1b[1;35;m\" + \"D1 =\", delta1)\n",
    "                j1 = 0\n",
    "                    \n",
    "        elif (j == 1):                     # Para el vector d2\n",
    "                \n",
    "            foo = delta2 * da2\n",
    "            pIn1 = pIn + foo\n",
    "            E1 = errorC(m, matriz01[:, 1], matriz01[:, 3], pIn1)\n",
    "            print(\"\\nj=2\")\n",
    "            print (\"f(yi + Djdj)=\", E1)\n",
    "                \n",
    "            if (E1<E):\n",
    "                    \n",
    "                print(\"\\x1b[1;32;m\" + \"Exito\")\n",
    "                delta2 = delta2 * 2\n",
    "                print (\"\\x1b[1;35;m\" + \"D2 =\", delta2)\n",
    "                pIn = pIn1\n",
    "                E = E1\n",
    "                j2 = 1\n",
    "                    \n",
    "            else:\n",
    "                    \n",
    "                print(\"\\x1b[1;31;m\" + \"Fracaso\")\n",
    "                delta2 = delta2 * (-0.5)\n",
    "                print (\"\\x1b[1;35;m\" + \"D2 =\", delta2, \"\\n\")\n",
    "                j2 = 0\n",
    "                    \n",
    "        elif (j == 2):                     # Para el vector d3\n",
    "                \n",
    "            foo = delta3 * db1\n",
    "            pIn1 = pIn + foo\n",
    "            E1 = errorC(m, matriz01[:, 1], matriz01[:, 3], pIn1)\n",
    "            print(\"\\nj=3\")\n",
    "            print (\"f(yi + Djdj)=\", E1)\n",
    "            \n",
    "            if (E1<E):\n",
    "                    \n",
    "                print(\"\\x1b[1;32;m\" + \"Exito\")\n",
    "                delta3 = delta3 * 2\n",
    "                print (\"\\x1b[1;35;m\" + \"D3 =\", delta3)\n",
    "                pIn = pIn1\n",
    "                E = E1\n",
    "                j3 = 1\n",
    "                    \n",
    "            else:\n",
    "                    \n",
    "                print(\"\\x1b[1;31;m\" + \"Fracaso\")\n",
    "                delta3 = delta3 * (-0.5)\n",
    "                print (\"\\x1b[1;35;m\" + \"D3 =\", delta3, \"\\n\")\n",
    "                j3 = 0\n",
    "            \n",
    "        elif (j == 3):                     # Para el vector d4\n",
    "                \n",
    "            foo = delta4 * db2\n",
    "            pIn1 = pIn + foo\n",
    "            E1 = errorC(m, matriz01[:, 1], matriz01[:, 3], pIn1)\n",
    "            print(\"\\nj=4\")\n",
    "            print (\"f(yi + Djdj)=\", E1)\n",
    "                \n",
    "            if (E1<E):\n",
    "                    \n",
    "                print(\"\\x1b[1;32;m\" + \"Exito\")\n",
    "                delta4 = delta4 * 2\n",
    "                print (\"\\x1b[1;35;m\" + \"D4 =\", delta4)\n",
    "                pIn = pIn1\n",
    "                E = E1\n",
    "                j4 = 1\n",
    "                    \n",
    "            else:\n",
    "                    \n",
    "                print(\"\\x1b[1;31;m\" + \"Fracaso\")\n",
    "                delta4 = delta4 * (-0.5)\n",
    "                print (\"\\x1b[1;35;m\" + \"D4 =\", delta4, \"\\n\")\n",
    "                j4 = 0\n",
    "            \n",
    "        else:\n",
    "                \n",
    "            foo = delta5 * dP              # Para el vector d5\n",
    "            pIn1 = pIn + foo\n",
    "            E1 = errorC(m, matriz01[:, 1], matriz01[:, 3], pIn1)\n",
    "            print(\"\\nj=5\")\n",
    "            print (\"f(yi + Djdj)=\", E1)\n",
    "                \n",
    "            if (E1<E):\n",
    "                    \n",
    "                print(\"\\x1b[1;32;m\" + \"Exito\")\n",
    "                delta5 = delta5 * 2\n",
    "                print (\"\\x1b[1;35;m\" + \"D5 =\", delta5)\n",
    "                pIn = pIn1\n",
    "                E = E1\n",
    "                j5 = 1\n",
    "                    \n",
    "            else:                          \n",
    "                    \n",
    "                print(\"\\x1b[1;31;m\" + \"Fracaso\")\n",
    "                delta5 = delta5 * (-0.5)\n",
    "                print (\"\\x1b[1;35;m\" + \"D5 =\", delta5, \"\\n\")\n",
    "                j5 = 0    \n",
    "                    \n",
    "    if (i == 100):\n",
    "        break\n",
    "    if (E < 0.055):               # condición de paro\n",
    "            \n",
    "        print (\"\\x1b[1;36;m\" + \"<==========================================================================>\")\n",
    "        print(\"Termina la búsqueda\\n\")\n",
    "        print(\"f(x1,x2) = \", E)\n",
    "        print(\"En la coordenada: \", pIn)\n",
    "        print(\"Número final de redirecciones: \", redireccion)\n",
    "        print (\"<==========================================================================>\")\n",
    "        break\n",
    "\n",
    "#******************************************************************************************\n",
    "# Comienza una redirección\n",
    "#******************************************************************************************\n",
    "    \n",
    "    if (j1 == 0) and (j2 == 0) and (j3 == 0) and (j4 == 0) and (j5 == 0):   # Comienza una nueva redirección.\n",
    "            \n",
    "        redireccion += 1 \n",
    "        print (\"<============================================================>\")\n",
    "        delta1 = 0.01\n",
    "        delta2 = 0.01\n",
    "        delta3 = 0.01\n",
    "        delta4 = 0.01\n",
    "        delta5 = 0.01\n",
    "        print(\"Comienza una redirección\")\n",
    "        print (\"redirección No: \" + \"\\x1b[1;36;m\", redireccion )\n",
    "        print(\"\\x1b[1;35;m\" + \"Punto actual: \", pIn)\n",
    "        recorrido = pIn - pIn0\n",
    "        matriz = np.array([[da1[0], da2[0], db1[0], db2[0], dP[0]], \\\n",
    "                            [da1[1], da2[1], db1[1], db2[1], dP[1]], \\\n",
    "                            [da1[2], da2[2], db1[2], db2[2], dP[2]], \\\n",
    "                            [da1[3], da2[3], db1[3], db2[3], dP[3]], \\\n",
    "                            [da1[4], da2[4], db1[4], db2[4], dP[4]]])\n",
    "        lambdai = np.linalg.solve(matriz, recorrido)\n",
    "        print (\"Lambda: \", lambdai)\n",
    "        di = np.array([da1, da2, db1, db2, dP])\n",
    "            \n",
    "        for j in range (5):\n",
    "                \n",
    "            a = np.array([0, 0, 0, 0, 0])\n",
    "                \n",
    "            if (lambdai[j] == 0):           # para lambda1[j] = 0\n",
    "                a = di[0, :]\n",
    "            else:                           # Para lambdaj != 0\n",
    "                    \n",
    "                for p in range (j, nVec):   # Se obtiene aj\n",
    "                    #print(\"\\nj: \", j)\n",
    "                    #print (\"p: \", p)\n",
    "                    foo = lambdai[p] * di[p] \n",
    "                    a = a + foo\n",
    "                    #print ('a:', a, \"\\n<=============================================>\")\n",
    "                        \n",
    "            if (j == 0):                    # Vector da1\n",
    "                    \n",
    "                bj1 = a\n",
    "                norma = np.linalg.norm(bj1)\n",
    "                da1 = bj1 / norma\n",
    "                    \n",
    "            elif (j == 1):                  # Vector da2\n",
    "                    \n",
    "                bj2 = a - ((np.dot(a, da1)) * da1)\n",
    "                norma = np.linalg.norm(bj2)\n",
    "                da2 = bj2 / norma\n",
    "\n",
    "            elif (j == 2):                  # Vector db1\n",
    "                    \n",
    "                bj3 = a - (((np.dot(a, da1)) * da1) + ((np.dot(a, da2)) * da2))\n",
    "                norma = np.linalg.norm(bj3)\n",
    "                db1 = bj3 / norma\n",
    "                    \n",
    "            elif (j == 3):                  # Vector db2\n",
    "                    \n",
    "                bj4 = a - (((np.dot(a, da1)) * da1) + ((np.dot(a, da2)) * da2) + \\\n",
    "                           ((np.dot(a, db1)) * db1))\n",
    "                norma = np.linalg.norm(bj4)\n",
    "                db2 = bj4 / norma\n",
    "                    \n",
    "            else:                           # Vector dP\n",
    "                    \n",
    "                bj5 = a - (((np.dot(a, da1)) * da1) + ((np.dot(a, da2)) * da2) + \\\n",
    "                           ((np.dot(a, db1)) * db1) + ((np.dot(a, db2)) * db2))\n",
    "                norma = np.linalg.norm(bj5)\n",
    "                dP = bj4 / norma\n",
    "                print (\"\\x1b[1;35;m\" + \"Nuevos vectores: \\nd1 = \", da1, \"\\nd2 = \", da2)\n",
    "                print (\"d3 = \", db1, \"\\nd4 = \", db2, \"\\nd5 = \", dP)\n",
    "            \n",
    "    print (\"\\nPunto actual: \", pIn)        \n",
    "    print (\"\\n<===================================================================>\")"
   ]
  },
  {
   "cell_type": "code",
   "execution_count": 17,
   "id": "c49e617f-0937-4470-8512-58432165b765",
   "metadata": {},
   "outputs": [
    {
     "name": "stdout",
     "output_type": "stream",
     "text": [
      "Función Doble Gumbel, error cuadrático mínimo (Sin Optimizar):  268.6279838304303\n",
      "Función Doble Gumbel, error cuadrático mínimo (Optimizado):  290.8591109834111\n"
     ]
    }
   ],
   "source": [
    "#******************************************************************************************\n",
    "# Ajuste de la función con los parametros optimizados y errores cuadráticos mínimos\n",
    "#******************************************************************************************\n",
    "    \n",
    "a1 = pIn[0]; a2 = pIn[1]; b1 = pIn[2]; b2 = pIn[3]; P = pIn[4]\n",
    "gEstimados = biseccion(matriz01[:, 3], a1, a2, b1, b2, P, m) # Se invoca a la función \"bisección\" para los datos optimizados.\n",
    "matriz01[:, 8] = gEstimados[:, 0]\n",
    "gEstimados1 = biseccion(matriz02[:, 1], a1, a2, b1, b2, P, n) # Se invoca a la función bisección para los datos extrapolados optimizados\n",
    "matriz02[:12, 2] = gEstimados1[:, 0]\n",
    "    \n",
    "foo0 = 0.0\n",
    "foo1 = 0.0\n",
    "EE0 = 0.0\n",
    "EE1 = 0.0\n",
    "    \n",
    "for j in range (len(matriz01)): # Error cuadrático mínimo\n",
    "        \n",
    "    foo0 = (matriz01[j, 1] - matriz01[j, 7]) ** 2\n",
    "    foo1 = (matriz01[j, 1] - matriz01[j, 8]) ** 2\n",
    "    EE0 = EE0 + foo0\n",
    "    EE1 = EE1 + foo1\n",
    "    \n",
    "EE0 = (EE0 / (m - 5)) ** 0.5 # error, tenía un 58, que debería ser m\n",
    "EE1 = (EE1 / (m - 5)) ** 0.5 # error, tenía un 58, que debería ser m\n",
    "    \n",
    "print (\"Función Doble Gumbel, error cuadrático mínimo (Sin Optimizar): \", EE0)\n",
    "print (\"Función Doble Gumbel, error cuadrático mínimo (Optimizado): \", EE1)\n",
    "EEstandart[0, 0] = EE0\n",
    "EEstandart[0, 1] = EE1"
   ]
  },
  {
   "cell_type": "code",
   "execution_count": 18,
   "id": "a77b3127-db05-4e00-a3a0-9dc57c31d1fd",
   "metadata": {},
   "outputs": [],
   "source": [
    "#******************************************************************************************\n",
    "# Salidas\n",
    "# Se crea el Data Frame que servirá de salida a una sheet de excel\n",
    "#******************************************************************************************\n",
    "    \n",
    "columnas = ['No Orden', 'Gastos Registrados', 'Tr (Annios)', 'F(x)', 'F(qEmpirico)=k/n+1',\\\n",
    "            'F(qMedido)', 'Función de errores cuadrados pesados', 'Gastos estimados',\\\n",
    "            'Gastos estimados optimizados (Rosenbrock)']\n",
    "cD = pd.DataFrame(matriz01, columns = columnas)\n",
    "    \n",
    "cD.insert(9, 'Tr', matriz02 [:, 0])\n",
    "cD.insert(10, 'F(X)', matriz02 [:, 1])\n",
    "cD.insert(11, 'Valor Extrapolado (sin optimizar)', matriz02 [:, 3])\n",
    "cD.insert(12, 'Valor Extrapolado (Rosenbrock)', matriz02 [:, 2])\n",
    "cD.insert(13, 'Error Estandart \"sin optimizar\"', EEstandart[:, 0])\n",
    "cD.insert(14, 'Error Estandart \"algoritmo de Rosenbrock\"', EEstandart[:, 1])"
   ]
  },
  {
   "cell_type": "code",
   "execution_count": 19,
   "id": "70d8d3fb-8110-4c08-bd34-31570452c82a",
   "metadata": {},
   "outputs": [
    {
     "data": {
      "text/html": [
       "<div>\n",
       "<style scoped>\n",
       "    .dataframe tbody tr th:only-of-type {\n",
       "        vertical-align: middle;\n",
       "    }\n",
       "\n",
       "    .dataframe tbody tr th {\n",
       "        vertical-align: top;\n",
       "    }\n",
       "\n",
       "    .dataframe thead th {\n",
       "        text-align: right;\n",
       "    }\n",
       "</style>\n",
       "<table border=\"1\" class=\"dataframe\">\n",
       "  <thead>\n",
       "    <tr style=\"text-align: right;\">\n",
       "      <th></th>\n",
       "      <th>No Orden</th>\n",
       "      <th>Gastos Registrados</th>\n",
       "      <th>Tr (Annios)</th>\n",
       "      <th>F(x)</th>\n",
       "      <th>F(qEmpirico)=k/n+1</th>\n",
       "      <th>F(qMedido)</th>\n",
       "      <th>Función de errores cuadrados pesados</th>\n",
       "      <th>Gastos estimados</th>\n",
       "      <th>Gastos estimados optimizados (Rosenbrock)</th>\n",
       "      <th>Tr</th>\n",
       "      <th>F(X)</th>\n",
       "      <th>Valor Extrapolado (sin optimizar)</th>\n",
       "      <th>Valor Extrapolado (Rosenbrock)</th>\n",
       "      <th>Error Estandart \"sin optimizar\"</th>\n",
       "      <th>Error Estandart \"algoritmo de Rosenbrock\"</th>\n",
       "    </tr>\n",
       "  </thead>\n",
       "  <tbody>\n",
       "    <tr>\n",
       "      <th>0</th>\n",
       "      <td>1.0</td>\n",
       "      <td>13713.0</td>\n",
       "      <td>63.000000</td>\n",
       "      <td>0.984127</td>\n",
       "      <td>0.015873</td>\n",
       "      <td>0.993457</td>\n",
       "      <td>0.000087</td>\n",
       "      <td>12558.550819</td>\n",
       "      <td>14800.272816</td>\n",
       "      <td>2.0</td>\n",
       "      <td>0.5000</td>\n",
       "      <td>1676.413891</td>\n",
       "      <td>1624.617201</td>\n",
       "      <td>268.627984</td>\n",
       "      <td>290.859111</td>\n",
       "    </tr>\n",
       "    <tr>\n",
       "      <th>1</th>\n",
       "      <td>2.0</td>\n",
       "      <td>11800.0</td>\n",
       "      <td>31.500000</td>\n",
       "      <td>0.968254</td>\n",
       "      <td>0.031746</td>\n",
       "      <td>0.975772</td>\n",
       "      <td>0.000057</td>\n",
       "      <td>10650.068976</td>\n",
       "      <td>12832.462508</td>\n",
       "      <td>5.0</td>\n",
       "      <td>0.8000</td>\n",
       "      <td>2588.378707</td>\n",
       "      <td>2574.715664</td>\n",
       "      <td>-999.000000</td>\n",
       "      <td>-999.000000</td>\n",
       "    </tr>\n",
       "    <tr>\n",
       "      <th>2</th>\n",
       "      <td>3.0</td>\n",
       "      <td>4235.0</td>\n",
       "      <td>21.000000</td>\n",
       "      <td>0.952381</td>\n",
       "      <td>0.047619</td>\n",
       "      <td>0.948442</td>\n",
       "      <td>0.000016</td>\n",
       "      <td>4403.862343</td>\n",
       "      <td>5402.209141</td>\n",
       "      <td>10.0</td>\n",
       "      <td>0.9000</td>\n",
       "      <td>3295.373350</td>\n",
       "      <td>3370.715170</td>\n",
       "      <td>-999.000000</td>\n",
       "      <td>-999.000000</td>\n",
       "    </tr>\n",
       "    <tr>\n",
       "      <th>3</th>\n",
       "      <td>4.0</td>\n",
       "      <td>3992.0</td>\n",
       "      <td>15.750000</td>\n",
       "      <td>0.936508</td>\n",
       "      <td>0.063492</td>\n",
       "      <td>0.940964</td>\n",
       "      <td>0.000020</td>\n",
       "      <td>3877.426050</td>\n",
       "      <td>4161.091544</td>\n",
       "      <td>20.0</td>\n",
       "      <td>0.9500</td>\n",
       "      <td>4297.300033</td>\n",
       "      <td>5031.217173</td>\n",
       "      <td>-999.000000</td>\n",
       "      <td>-999.000000</td>\n",
       "    </tr>\n",
       "    <tr>\n",
       "      <th>4</th>\n",
       "      <td>5.0</td>\n",
       "      <td>3979.0</td>\n",
       "      <td>12.600000</td>\n",
       "      <td>0.920635</td>\n",
       "      <td>0.079365</td>\n",
       "      <td>0.940491</td>\n",
       "      <td>0.000394</td>\n",
       "      <td>3569.940160</td>\n",
       "      <td>3716.956168</td>\n",
       "      <td>50.0</td>\n",
       "      <td>0.9800</td>\n",
       "      <td>12182.520925</td>\n",
       "      <td>14231.407891</td>\n",
       "      <td>-999.000000</td>\n",
       "      <td>-999.000000</td>\n",
       "    </tr>\n",
       "    <tr>\n",
       "      <th>5</th>\n",
       "      <td>6.0</td>\n",
       "      <td>3662.0</td>\n",
       "      <td>10.500000</td>\n",
       "      <td>0.904762</td>\n",
       "      <td>0.095238</td>\n",
       "      <td>0.926072</td>\n",
       "      <td>0.000454</td>\n",
       "      <td>3350.722973</td>\n",
       "      <td>3437.989953</td>\n",
       "      <td>100.0</td>\n",
       "      <td>0.9900</td>\n",
       "      <td>13193.346364</td>\n",
       "      <td>15833.444583</td>\n",
       "      <td>-999.000000</td>\n",
       "      <td>-999.000000</td>\n",
       "    </tr>\n",
       "    <tr>\n",
       "      <th>6</th>\n",
       "      <td>7.0</td>\n",
       "      <td>3533.0</td>\n",
       "      <td>9.000000</td>\n",
       "      <td>0.888889</td>\n",
       "      <td>0.111111</td>\n",
       "      <td>0.918264</td>\n",
       "      <td>0.000863</td>\n",
       "      <td>3179.527927</td>\n",
       "      <td>3233.086245</td>\n",
       "      <td>200.0</td>\n",
       "      <td>0.9950</td>\n",
       "      <td>14026.464504</td>\n",
       "      <td>17256.895236</td>\n",
       "      <td>-999.000000</td>\n",
       "      <td>-999.000000</td>\n",
       "    </tr>\n",
       "    <tr>\n",
       "      <th>7</th>\n",
       "      <td>8.0</td>\n",
       "      <td>3388.0</td>\n",
       "      <td>7.875000</td>\n",
       "      <td>0.873016</td>\n",
       "      <td>0.126984</td>\n",
       "      <td>0.907785</td>\n",
       "      <td>0.001209</td>\n",
       "      <td>3038.563928</td>\n",
       "      <td>3070.407906</td>\n",
       "      <td>500.0</td>\n",
       "      <td>0.9980</td>\n",
       "      <td>15046.862026</td>\n",
       "      <td>19042.422492</td>\n",
       "      <td>-999.000000</td>\n",
       "      <td>-999.000000</td>\n",
       "    </tr>\n",
       "    <tr>\n",
       "      <th>8</th>\n",
       "      <td>9.0</td>\n",
       "      <td>3245.0</td>\n",
       "      <td>7.000000</td>\n",
       "      <td>0.857143</td>\n",
       "      <td>0.142857</td>\n",
       "      <td>0.895367</td>\n",
       "      <td>0.001461</td>\n",
       "      <td>2918.381621</td>\n",
       "      <td>2935.036437</td>\n",
       "      <td>1000.0</td>\n",
       "      <td>0.9990</td>\n",
       "      <td>15794.927753</td>\n",
       "      <td>20363.229503</td>\n",
       "      <td>-999.000000</td>\n",
       "      <td>-999.000000</td>\n",
       "    </tr>\n",
       "    <tr>\n",
       "      <th>9</th>\n",
       "      <td>10.0</td>\n",
       "      <td>3205.0</td>\n",
       "      <td>6.300000</td>\n",
       "      <td>0.841270</td>\n",
       "      <td>0.158730</td>\n",
       "      <td>0.891472</td>\n",
       "      <td>0.002520</td>\n",
       "      <td>2813.355890</td>\n",
       "      <td>2818.769017</td>\n",
       "      <td>2000.0</td>\n",
       "      <td>0.9995</td>\n",
       "      <td>16534.319593</td>\n",
       "      <td>21672.912163</td>\n",
       "      <td>-999.000000</td>\n",
       "      <td>-999.000000</td>\n",
       "    </tr>\n",
       "    <tr>\n",
       "      <th>10</th>\n",
       "      <td>11.0</td>\n",
       "      <td>2917.0</td>\n",
       "      <td>5.727273</td>\n",
       "      <td>0.825397</td>\n",
       "      <td>0.174603</td>\n",
       "      <td>0.856947</td>\n",
       "      <td>0.000995</td>\n",
       "      <td>2719.864773</td>\n",
       "      <td>2716.607969</td>\n",
       "      <td>5000.0</td>\n",
       "      <td>0.9998</td>\n",
       "      <td>17505.672660</td>\n",
       "      <td>23396.367350</td>\n",
       "      <td>-999.000000</td>\n",
       "      <td>-999.000000</td>\n",
       "    </tr>\n",
       "    <tr>\n",
       "      <th>11</th>\n",
       "      <td>12.0</td>\n",
       "      <td>2747.0</td>\n",
       "      <td>5.250000</td>\n",
       "      <td>0.809524</td>\n",
       "      <td>0.190476</td>\n",
       "      <td>0.830182</td>\n",
       "      <td>0.000427</td>\n",
       "      <td>2635.437870</td>\n",
       "      <td>2625.281071</td>\n",
       "      <td>10000.0</td>\n",
       "      <td>0.9999</td>\n",
       "      <td>18238.370328</td>\n",
       "      <td>24697.380107</td>\n",
       "      <td>-999.000000</td>\n",
       "      <td>-999.000000</td>\n",
       "    </tr>\n",
       "    <tr>\n",
       "      <th>12</th>\n",
       "      <td>13.0</td>\n",
       "      <td>2734.0</td>\n",
       "      <td>4.846154</td>\n",
       "      <td>0.793651</td>\n",
       "      <td>0.206349</td>\n",
       "      <td>0.827908</td>\n",
       "      <td>0.001174</td>\n",
       "      <td>2558.314085</td>\n",
       "      <td>2542.528001</td>\n",
       "      <td>-999.0</td>\n",
       "      <td>-999.0000</td>\n",
       "      <td>-999.000000</td>\n",
       "      <td>-999.000000</td>\n",
       "      <td>-999.000000</td>\n",
       "      <td>-999.000000</td>\n",
       "    </tr>\n",
       "  </tbody>\n",
       "</table>\n",
       "</div>"
      ],
      "text/plain": [
       "    No Orden  Gastos Registrados  Tr (Annios)      F(x)  F(qEmpirico)=k/n+1  \\\n",
       "0        1.0             13713.0    63.000000  0.984127            0.015873   \n",
       "1        2.0             11800.0    31.500000  0.968254            0.031746   \n",
       "2        3.0              4235.0    21.000000  0.952381            0.047619   \n",
       "3        4.0              3992.0    15.750000  0.936508            0.063492   \n",
       "4        5.0              3979.0    12.600000  0.920635            0.079365   \n",
       "5        6.0              3662.0    10.500000  0.904762            0.095238   \n",
       "6        7.0              3533.0     9.000000  0.888889            0.111111   \n",
       "7        8.0              3388.0     7.875000  0.873016            0.126984   \n",
       "8        9.0              3245.0     7.000000  0.857143            0.142857   \n",
       "9       10.0              3205.0     6.300000  0.841270            0.158730   \n",
       "10      11.0              2917.0     5.727273  0.825397            0.174603   \n",
       "11      12.0              2747.0     5.250000  0.809524            0.190476   \n",
       "12      13.0              2734.0     4.846154  0.793651            0.206349   \n",
       "\n",
       "    F(qMedido)  Función de errores cuadrados pesados  Gastos estimados  \\\n",
       "0     0.993457                              0.000087      12558.550819   \n",
       "1     0.975772                              0.000057      10650.068976   \n",
       "2     0.948442                              0.000016       4403.862343   \n",
       "3     0.940964                              0.000020       3877.426050   \n",
       "4     0.940491                              0.000394       3569.940160   \n",
       "5     0.926072                              0.000454       3350.722973   \n",
       "6     0.918264                              0.000863       3179.527927   \n",
       "7     0.907785                              0.001209       3038.563928   \n",
       "8     0.895367                              0.001461       2918.381621   \n",
       "9     0.891472                              0.002520       2813.355890   \n",
       "10    0.856947                              0.000995       2719.864773   \n",
       "11    0.830182                              0.000427       2635.437870   \n",
       "12    0.827908                              0.001174       2558.314085   \n",
       "\n",
       "    Gastos estimados optimizados (Rosenbrock)       Tr      F(X)  \\\n",
       "0                                14800.272816      2.0    0.5000   \n",
       "1                                12832.462508      5.0    0.8000   \n",
       "2                                 5402.209141     10.0    0.9000   \n",
       "3                                 4161.091544     20.0    0.9500   \n",
       "4                                 3716.956168     50.0    0.9800   \n",
       "5                                 3437.989953    100.0    0.9900   \n",
       "6                                 3233.086245    200.0    0.9950   \n",
       "7                                 3070.407906    500.0    0.9980   \n",
       "8                                 2935.036437   1000.0    0.9990   \n",
       "9                                 2818.769017   2000.0    0.9995   \n",
       "10                                2716.607969   5000.0    0.9998   \n",
       "11                                2625.281071  10000.0    0.9999   \n",
       "12                                2542.528001   -999.0 -999.0000   \n",
       "\n",
       "    Valor Extrapolado (sin optimizar)  Valor Extrapolado (Rosenbrock)  \\\n",
       "0                         1676.413891                     1624.617201   \n",
       "1                         2588.378707                     2574.715664   \n",
       "2                         3295.373350                     3370.715170   \n",
       "3                         4297.300033                     5031.217173   \n",
       "4                        12182.520925                    14231.407891   \n",
       "5                        13193.346364                    15833.444583   \n",
       "6                        14026.464504                    17256.895236   \n",
       "7                        15046.862026                    19042.422492   \n",
       "8                        15794.927753                    20363.229503   \n",
       "9                        16534.319593                    21672.912163   \n",
       "10                       17505.672660                    23396.367350   \n",
       "11                       18238.370328                    24697.380107   \n",
       "12                        -999.000000                     -999.000000   \n",
       "\n",
       "    Error Estandart \"sin optimizar\"  Error Estandart \"algoritmo de Rosenbrock\"  \n",
       "0                        268.627984                                 290.859111  \n",
       "1                       -999.000000                                -999.000000  \n",
       "2                       -999.000000                                -999.000000  \n",
       "3                       -999.000000                                -999.000000  \n",
       "4                       -999.000000                                -999.000000  \n",
       "5                       -999.000000                                -999.000000  \n",
       "6                       -999.000000                                -999.000000  \n",
       "7                       -999.000000                                -999.000000  \n",
       "8                       -999.000000                                -999.000000  \n",
       "9                       -999.000000                                -999.000000  \n",
       "10                      -999.000000                                -999.000000  \n",
       "11                      -999.000000                                -999.000000  \n",
       "12                      -999.000000                                -999.000000  "
      ]
     },
     "execution_count": 19,
     "metadata": {},
     "output_type": "execute_result"
    }
   ],
   "source": [
    "cD.head(13)"
   ]
  },
  {
   "cell_type": "code",
   "execution_count": 20,
   "id": "68f735d7-2342-45ec-a235-5baf75b68a84",
   "metadata": {},
   "outputs": [
    {
     "data": {
      "image/png": "[encoded data removed]",
      "text/plain": [
       "<Figure size 640x480 with 2 Axes>"
      ]
     },
     "metadata": {},
     "output_type": "display_data"
    },
    {
     "data": {
      "image/png": "[encoded data removed]",
      "text/plain": [
       "<Figure size 640x480 with 2 Axes>"
      ]
     },
     "metadata": {},
     "output_type": "display_data"
    },
    {
     "data": {
      "image/png": "[encoded data removed]",
      "text/plain": [
       "<Figure size 640x480 with 2 Axes>"
      ]
     },
     "metadata": {},
     "output_type": "display_data"
    }
   ],
   "source": [
    "#******************************************************************************************\n",
    "# Graficos\n",
    "#******************************************************************************************\n",
    "\n",
    "titulo0 = \"Distribucion Doble Gumbel (sin optimizar)\\n EE= \" + str(EE0)\n",
    "titulo1 = \"Distribucion Doble Gumbel (Algoritmo de Rosenbrock)\\n EE= \" + str(EE1)\n",
    "\n",
    "tR = matriz01 [:, 2]\n",
    "dReg = matriz01 [:, 1]\n",
    "dAjust = matriz01 [:, 7] # Gastos estimados\n",
    "dAjust1 = matriz01 [:, 8] # Gastos estimados por Rosenbrock\n",
    "dTrExtrap = matriz02 [:12, 0] # Periodos de retorno\n",
    "dExtrap_sr = matriz02 [:12, 3] # Datos extrapolados sin Rosenbrock\n",
    "dExtrap = matriz02 [:12, 2] # Datos extrapolados Rosenbrock\n",
    "\n",
    "##################################################################################################################\n",
    "# Gráfico comparación\n",
    "###################################################################################################################\n",
    "    \n",
    "pl.subplot(2, 1, 1)\n",
    "pl.subplots_adjust(hspace=0.4)\n",
    "pl.scatter(tR, dReg, label='Datos Registrados', marker='.')\n",
    "pl.plot(tR, dAjust, color=\"r\", linewidth=\"1.0\", linestyle=\"-\", label =\"Datos Ajustados (sin optimizar)\")\n",
    "pl.plot(tR, dAjust1, color=\"g\", linewidth=\"1.0\", linestyle=\"-\", label =\"Datos Ajustados (Rosenbrock)\")\n",
    "pl.legend(loc=\"best\")\n",
    "pl.title(\"Distribución Doble Gumbel\\n (Datos sin optimizar y ajustados con el algoritmo Rosenbrock)\")\n",
    "pl.ylabel(\"Gastos(m³/s)\")\n",
    "#pl.xlabel(\"Periodo de retorno\") \n",
    "pl.semilogx(True)\n",
    "pl.grid(True, which='both', color='#b1b1b1', linestyle='-', linewidth=0.5)\n",
    "    \n",
    "pl.subplot(2, 1, 2)\n",
    "pl.scatter(tR, dReg, label='Datos Registrados', marker='.')\n",
    "pl.plot(dTrExtrap, dExtrap, color=\"g\", linewidth=\"1.0\", linestyle=\"-\", label =\"Datos Extrapolados (Rosenbrock)\")\n",
    "pl.plot(dTrExtrap, dExtrap_sr, color=\"r\", linewidth=\"1.0\", linestyle=\"-\", label =\"Datos Extrapolados (sin optimizar)\")\n",
    "pl.legend(loc=\"best\")\n",
    "#pl.title(titulo1)\n",
    "pl.ylabel(\"Gastos(m³/s)\")\n",
    "pl.xlabel(\"Periodo de retorno\") \n",
    "pl.semilogx(True)\n",
    "pl.grid(True, which='both', color='#b1b1b1', linestyle='-', linewidth=0.5)\n",
    "#pl.savefig(\"salidas/DistribucionDGumbelRosen0.png\", dpi=1200)\n",
    "pl.show()\n",
    "\n",
    "##################################################################################################################\n",
    "# Gráfico optimización Rosenbrock\n",
    "###################################################################################################################\n",
    "\n",
    "pl.subplot(2, 1, 1)\n",
    "pl.subplots_adjust(hspace=0.4)\n",
    "pl.scatter(tR, dReg, label='Datos Registrados', marker='.')\n",
    "pl.plot(tR, dAjust1, color=\"r\", linewidth=\"1.0\", linestyle=\"-\", label =\"Datos Ajustados\")\n",
    "pl.legend(loc=\"best\")\n",
    "pl.title(titulo1)\n",
    "pl.ylabel(\"Gastos(m³/s)\")\n",
    "#pl.xlabel(\"Periodo de retorno\") \n",
    "pl.semilogx(True)\n",
    "pl.grid(True, which='both', color='#5ab45f', linestyle='-', linewidth=0.5)\n",
    "\n",
    "pl.subplot(2, 1, 2)\n",
    "pl.scatter(tR, dReg, label='Datos Registrados', marker='.')\n",
    "#pl.scatter(dTrExtrap, dExtrap, label='Datos Extrapolados', marker='.', color='r')\n",
    "pl.plot(dTrExtrap, dExtrap, color=\"r\", linewidth=\"1.0\", linestyle=\"-\", label =\"Datos Extrapolados\")\n",
    "pl.legend(loc=\"best\")\n",
    "pl.title(\"Gastos Extrapolados\")\n",
    "pl.ylabel(\"Gastos (m³/s)\")\n",
    "pl.xlabel(\"Periodo de Retorno en años (Tr)\")\n",
    "pl.semilogx(True)\n",
    "pl.grid(True, which='both', color='#5ab45f', linestyle='-', linewidth=0.5)\n",
    "pl.show()\n",
    "\n",
    "##################################################################################################################\n",
    "# Gráfico estimados sin optimizar\n",
    "###################################################################################################################\n",
    "\n",
    "pl.subplot(2, 1, 1)\n",
    "pl.subplots_adjust(hspace=0.4)\n",
    "pl.scatter(tR, dReg, label='Datos Registrados', marker='.')\n",
    "pl.plot(tR, dAjust, color=\"r\", linewidth=\"1.0\", linestyle=\"-\", label =\"Datos Ajustados\")\n",
    "pl.legend(loc=\"best\")\n",
    "pl.title(titulo0)\n",
    "pl.ylabel(\"Gastos(m³/s)\")\n",
    "#pl.xlabel(\"Periodo de retorno\") \n",
    "pl.semilogx(True)\n",
    "pl.grid(True, which='both', color='#5ab45f', linestyle='-', linewidth=0.5)\n",
    "\n",
    "pl.subplot(2, 1, 2)\n",
    "pl.scatter(tR, dReg, label='Datos Registrados', marker='.')\n",
    "#pl.scatter(dTrExtrap, dExtrap, label='Datos Extrapolados', marker='.', color='r')\n",
    "pl.plot(dTrExtrap, dExtrap_sr, color=\"r\", linewidth=\"1.0\", linestyle=\"-\", label =\"Datos Extrapolados\")\n",
    "pl.legend(loc=\"best\")\n",
    "pl.title(\"Gastos Extrapolados\")\n",
    "pl.ylabel(\"Gastos (m³/s)\")\n",
    "pl.xlabel(\"Periodo de Retorno en años (Tr)\")\n",
    "pl.semilogx(True)\n",
    "pl.grid(True, which='both', color='#5ab45f', linestyle='-', linewidth=0.5)\n",
    "\n",
    "#pl.savefig(\"salidas/DistribucionDGumbelRosen1.png\", dpi=1200)\n",
    "pl.show()"
   ]
  },
  {
   "cell_type": "code",
   "execution_count": 31,
   "id": "00443134-0f8e-4a51-ac78-097994d82637",
   "metadata": {},
   "outputs": [
    {
     "data": {
      "application/vnd.plotly.v1+json": {
       "config": {
        "plotlyServerURL": "https://plot.ly"
       },
       "data": [
        {
         "marker": {
          "color": "blue"
         },
         "mode": "markers",
         "name": "Datos Registrados",
         "type": "scatter",
         "x": [
          63,
          31.5,
          21,
          15.75,
          12.6,
          10.5,
          9,
          7.875,
          7,
          6.3,
          5.7272727272727275,
          5.25,
          4.846153846153846,
          4.5,
          4.2,
          3.9375,
          3.7058823529411766,
          3.5,
          3.3157894736842106,
          3.15,
          3,
          2.8636363636363638,
          2.739130434782609,
          2.625,
          2.52,
          2.423076923076923,
          2.3333333333333335,
          2.25,
          2.1724137931034484,
          2.1,
          2.032258064516129,
          1.96875,
          1.9090909090909092,
          1.8529411764705883,
          1.8,
          1.75,
          1.7027027027027026,
          1.6578947368421053,
          1.6153846153846154,
          1.575,
          1.5365853658536586,
          1.5,
          1.4651162790697674,
          1.4318181818181819,
          1.4,
          1.3695652173913044,
          1.3404255319148937,
          1.3125,
          1.2857142857142858,
          1.26,
          1.2352941176470589,
          1.2115384615384615,
          1.1886792452830188,
          1.1666666666666667,
          1.1454545454545455,
          1.125,
          1.105263157894737,
          1.0862068965517242,
          1.0677966101694916,
          1.05,
          1.0327868852459017,
          1.0161290322580645
         ],
         "xaxis": "x",
         "y": [
          13713,
          11800,
          4235,
          3992,
          3979,
          3662,
          3533,
          3388,
          3245,
          3205,
          2917,
          2747,
          2734,
          2654,
          2583,
          2319,
          2311,
          2310,
          2248,
          2150,
          2133,
          1899,
          1899,
          1894,
          1861,
          1797,
          1771,
          1716,
          1652,
          1640,
          1631,
          1598,
          1507,
          1494,
          1397,
          1395,
          1371,
          1332,
          1288,
          1244,
          1232,
          1202,
          1173,
          1157,
          1131,
          1087,
          1049,
          1030,
          1030,
          1014,
          995,
          954,
          925,
          922,
          907,
          852,
          832,
          751,
          743,
          720,
          652,
          632
         ],
         "yaxis": "y"
        },
        {
         "line": {
          "color": "red",
          "width": 1
         },
         "mode": "lines",
         "name": "Datos Ajustados (sin optimizar)",
         "type": "scatter",
         "x": [
          63,
          31.5,
          21,
          15.75,
          12.6,
          10.5,
          9,
          7.875,
          7,
          6.3,
          5.7272727272727275,
          5.25,
          4.846153846153846,
          4.5,
          4.2,
          3.9375,
          3.7058823529411766,
          3.5,
          3.3157894736842106,
          3.15,
          3,
          2.8636363636363638,
          2.739130434782609,
          2.625,
          2.52,
          2.423076923076923,
          2.3333333333333335,
          2.25,
          2.1724137931034484,
          2.1,
          2.032258064516129,
          1.96875,
          1.9090909090909092,
          1.8529411764705883,
          1.8,
          1.75,
          1.7027027027027026,
          1.6578947368421053,
          1.6153846153846154,
          1.575,
          1.5365853658536586,
          1.5,
          1.4651162790697674,
          1.4318181818181819,
          1.4,
          1.3695652173913044,
          1.3404255319148937,
          1.3125,
          1.2857142857142858,
          1.26,
          1.2352941176470589,
          1.2115384615384615,
          1.1886792452830188,
          1.1666666666666667,
          1.1454545454545455,
          1.125,
          1.105263157894737,
          1.0862068965517242,
          1.0677966101694916,
          1.05,
          1.0327868852459017,
          1.0161290322580645
         ],
         "xaxis": "x",
         "y": [
          12558.550819185133,
          10650.068976104209,
          4403.862343414921,
          3877.426050229452,
          3569.940159856967,
          3350.7229734044713,
          3179.527926556305,
          3038.5639283987857,
          2918.381620702791,
          2813.3558903447242,
          2719.864773108673,
          2635.437870199761,
          2558.3140847005957,
          2487.193154233304,
          2421.087233467121,
          2359.227761019723,
          2301.0045993685326,
          2245.924889077446,
          2193.5844140627396,
          2143.6471691975084,
          2095.8304585769347,
          2049.8938153250347,
          2005.630619264162,
          1962.8616555560136,
          1921.4300933203133,
          1881.197518526755,
          1842.0407598256934,
          1803.8493174400614,
          1766.5232549729296,
          1729.9714490948627,
          1694.1101171599464,
          1658.8615608846749,
          1624.1530773289874,
          1589.9159979041015,
          1556.0848229168548,
          1522.5964238602114,
          1489.3892886710175,
          1456.4027867286188,
          1423.5764305508296,
          1390.8491099129978,
          1358.1582712810527,
          1325.4390106376454,
          1292.6230403677812,
          1259.6374798633683,
          1226.4034033422122,
          1192.834054585486,
          1158.8326029153093,
          1124.2892612738706,
          1089.0775048448959,
          1053.048998490749,
          1016.0266298531201,
          977.7946902265419,
          938.0846273002089,
          896.5536688276179,
          852.7514591524103,
          806.0654485955579,
          755.6260806516073,
          700.1293172078755,
          637.4694519566524,
          563.864289529773,
          471.2633859451104,
          335.860517144622
         ],
         "yaxis": "y"
        },
        {
         "line": {
          "color": "green",
          "width": 1
         },
         "mode": "lines",
         "name": "Datos Ajustados (optimizados)",
         "type": "scatter",
         "x": [
          63,
          31.5,
          21,
          15.75,
          12.6,
          10.5,
          9,
          7.875,
          7,
          6.3,
          5.7272727272727275,
          5.25,
          4.846153846153846,
          4.5,
          4.2,
          3.9375,
          3.7058823529411766,
          3.5,
          3.3157894736842106,
          3.15,
          3,
          2.8636363636363638,
          2.739130434782609,
          2.625,
          2.52,
          2.423076923076923,
          2.3333333333333335,
          2.25,
          2.1724137931034484,
          2.1,
          2.032258064516129,
          1.96875,
          1.9090909090909092,
          1.8529411764705883,
          1.8,
          1.75,
          1.7027027027027026,
          1.6578947368421053,
          1.6153846153846154,
          1.575,
          1.5365853658536586,
          1.5,
          1.4651162790697674,
          1.4318181818181819,
          1.4,
          1.3695652173913044,
          1.3404255319148937,
          1.3125,
          1.2857142857142858,
          1.26,
          1.2352941176470589,
          1.2115384615384615,
          1.1886792452830188,
          1.1666666666666667,
          1.1454545454545455,
          1.125,
          1.105263157894737,
          1.0862068965517242,
          1.0677966101694916,
          1.05,
          1.0327868852459017,
          1.0161290322580645
         ],
         "xaxis": "x",
         "y": [
          14800.272815779412,
          12832.462508064902,
          5402.209141050962,
          4161.09154405297,
          3716.9561677466395,
          3437.9899528192236,
          3233.0862452891893,
          3070.407905662548,
          2935.036437299014,
          2818.769016584577,
          2716.6079694679142,
          2625.281070824888,
          2542.5280014008995,
          2466.7212842456784,
          2396.649572956553,
          2331.3863901844925,
          2270.206819027336,
          2212.532544878149,
          2157.8944000306087,
          2105.9061161990576,
          2056.2454820170005,
          2008.6405270910043,
          1962.8591996114394,
          1918.701522911139,
          1875.9935434708495,
          1834.5825945813515,
          1794.3335400215233,
          1755.1257567709868,
          1716.8506808615907,
          1679.4097859301562,
          1642.7128962124243,
          1606.6767587399438,
          1571.2238160909642,
          1536.2811330227596,
          1501.7794388995108,
          1467.6522538465374,
          1433.835070543937,
          1400.2645658460729,
          1366.8778171336462,
          1333.6114974747688,
          1300.4010211322764,
          1267.1796063556067,
          1233.8772151267547,
          1200.4193186049054,
          1166.7254208711092,
          1132.7072497348152,
          1098.2664878473142,
          1063.291863652596,
          1027.6553388512589,
          991.2069981653095,
          953.7680345687179,
          915.1208663798201,
          874.9948010494456,
          833.0445289857621,
          788.8165612759304,
          741.6942981346938,
          690.8026648154032,
          634.8296142949005,
          571.6568437665019,
          497.4800261016064,
          404.2025663059717,
          267.8849723401769
         ],
         "yaxis": "y"
        },
        {
         "marker": {
          "color": "purple"
         },
         "mode": "markers",
         "name": "Datos Registrados",
         "type": "scatter",
         "x": [
          63,
          31.5,
          21,
          15.75,
          12.6,
          10.5,
          9,
          7.875,
          7,
          6.3,
          5.7272727272727275,
          5.25,
          4.846153846153846,
          4.5,
          4.2,
          3.9375,
          3.7058823529411766,
          3.5,
          3.3157894736842106,
          3.15,
          3,
          2.8636363636363638,
          2.739130434782609,
          2.625,
          2.52,
          2.423076923076923,
          2.3333333333333335,
          2.25,
          2.1724137931034484,
          2.1,
          2.032258064516129,
          1.96875,
          1.9090909090909092,
          1.8529411764705883,
          1.8,
          1.75,
          1.7027027027027026,
          1.6578947368421053,
          1.6153846153846154,
          1.575,
          1.5365853658536586,
          1.5,
          1.4651162790697674,
          1.4318181818181819,
          1.4,
          1.3695652173913044,
          1.3404255319148937,
          1.3125,
          1.2857142857142858,
          1.26,
          1.2352941176470589,
          1.2115384615384615,
          1.1886792452830188,
          1.1666666666666667,
          1.1454545454545455,
          1.125,
          1.105263157894737,
          1.0862068965517242,
          1.0677966101694916,
          1.05,
          1.0327868852459017,
          1.0161290322580645
         ],
         "xaxis": "x2",
         "y": [
          13713,
          11800,
          4235,
          3992,
          3979,
          3662,
          3533,
          3388,
          3245,
          3205,
          2917,
          2747,
          2734,
          2654,
          2583,
          2319,
          2311,
          2310,
          2248,
          2150,
          2133,
          1899,
          1899,
          1894,
          1861,
          1797,
          1771,
          1716,
          1652,
          1640,
          1631,
          1598,
          1507,
          1494,
          1397,
          1395,
          1371,
          1332,
          1288,
          1244,
          1232,
          1202,
          1173,
          1157,
          1131,
          1087,
          1049,
          1030,
          1030,
          1014,
          995,
          954,
          925,
          922,
          907,
          852,
          832,
          751,
          743,
          720,
          652,
          632
         ],
         "yaxis": "y2"
        },
        {
         "line": {
          "color": "red",
          "width": 1
         },
         "mode": "lines",
         "name": "Datos Extrapolados (sin optimizar)",
         "type": "scatter",
         "x": [
          2,
          5,
          10,
          20,
          50,
          100,
          200,
          500,
          1000,
          2000,
          5000,
          10000
         ],
         "xaxis": "x2",
         "y": [
          1676.4138912755507,
          2588.378707004801,
          3295.373350199389,
          4297.300033382511,
          12182.520925473262,
          13193.346363610235,
          14026.464504467895,
          15046.86202572012,
          15794.927752851785,
          16534.31959338807,
          17505.672659942207,
          18238.37032780915
         ],
         "yaxis": "y2"
        },
        {
         "line": {
          "color": "green",
          "width": 1
         },
         "mode": "lines",
         "name": "Datos Extrapolados (optimizados)",
         "type": "scatter",
         "x": [
          2,
          5,
          10,
          20,
          50,
          100,
          200,
          500,
          1000,
          2000,
          5000,
          10000
         ],
         "xaxis": "x2",
         "y": [
          1624.6172010444855,
          2574.715663557531,
          3370.7151695938073,
          5031.217172839053,
          14231.407890723636,
          15833.444583297805,
          17256.89523569787,
          19042.42249187309,
          20363.22950344047,
          21672.912163137426,
          23396.36735042774,
          24697.380106961475
         ],
         "yaxis": "y2"
        }
       ],
       "layout": {
        "annotations": [
         {
          "font": {
           "size": 16
          },
          "showarrow": false,
          "text": "Datos ajustados",
          "x": 0.5,
          "xanchor": "center",
          "xref": "paper",
          "y": 1,
          "yanchor": "bottom",
          "yref": "paper"
         },
         {
          "font": {
           "size": 16
          },
          "showarrow": false,
          "text": "Datos extrapolados",
          "x": 0.5,
          "xanchor": "center",
          "xref": "paper",
          "y": 0.455,
          "yanchor": "bottom",
          "yref": "paper"
         }
        ],
        "autosize": true,
        "legend": {
         "x": 0.004,
         "y": 0.99
        },
        "showlegend": true,
        "template": {
         "data": {
          "bar": [
           {
            "error_x": {
             "color": "#2a3f5f"
            },
            "error_y": {
             "color": "#2a3f5f"
            },
            "marker": {
             "line": {
              "color": "#E5ECF6",
              "width": 0.5
             },
             "pattern": {
              "fillmode": "overlay",
              "size": 10,
              "solidity": 0.2
             }
            },
            "type": "bar"
           }
          ],
          "barpolar": [
           {
            "marker": {
             "line": {
              "color": "#E5ECF6",
              "width": 0.5
             },
             "pattern": {
              "fillmode": "overlay",
              "size": 10,
              "solidity": 0.2
             }
            },
            "type": "barpolar"
           }
          ],
          "carpet": [
           {
            "aaxis": {
             "endlinecolor": "#2a3f5f",
             "gridcolor": "white",
             "linecolor": "white",
             "minorgridcolor": "white",
             "startlinecolor": "#2a3f5f"
            },
            "baxis": {
             "endlinecolor": "#2a3f5f",
             "gridcolor": "white",
             "linecolor": "white",
             "minorgridcolor": "white",
             "startlinecolor": "#2a3f5f"
            },
            "type": "carpet"
           }
          ],
          "choropleth": [
           {
            "colorbar": {
             "outlinewidth": 0,
             "ticks": ""
            },
            "type": "choropleth"
           }
          ],
          "contour": [
           {
            "colorbar": {
             "outlinewidth": 0,
             "ticks": ""
            },
            "colorscale": [
             [
              0,
              "#0d0887"
             ],
             [
              0.1111111111111111,
              "#46039f"
             ],
             [
              0.2222222222222222,
              "#7201a8"
             ],
             [
              0.3333333333333333,
              "#9c179e"
             ],
             [
              0.4444444444444444,
              "#bd3786"
             ],
             [
              0.5555555555555556,
              "#d8576b"
             ],
             [
              0.6666666666666666,
              "#ed7953"
             ],
             [
              0.7777777777777778,
              "#fb9f3a"
             ],
             [
              0.8888888888888888,
              "#fdca26"
             ],
             [
              1,
              "#f0f921"
             ]
            ],
            "type": "contour"
           }
          ],
          "contourcarpet": [
           {
            "colorbar": {
             "outlinewidth": 0,
             "ticks": ""
            },
            "type": "contourcarpet"
           }
          ],
          "heatmap": [
           {
            "colorbar": {
             "outlinewidth": 0,
             "ticks": ""
            },
            "colorscale": [
             [
              0,
              "#0d0887"
             ],
             [
              0.1111111111111111,
              "#46039f"
             ],
             [
              0.2222222222222222,
              "#7201a8"
             ],
             [
              0.3333333333333333,
              "#9c179e"
             ],
             [
              0.4444444444444444,
              "#bd3786"
             ],
             [
              0.5555555555555556,
              "#d8576b"
             ],
             [
              0.6666666666666666,
              "#ed7953"
             ],
             [
              0.7777777777777778,
              "#fb9f3a"
             ],
             [
              0.8888888888888888,
              "#fdca26"
             ],
             [
              1,
              "#f0f921"
             ]
            ],
            "type": "heatmap"
           }
          ],
          "heatmapgl": [
           {
            "colorbar": {
             "outlinewidth": 0,
             "ticks": ""
            },
            "colorscale": [
             [
              0,
              "#0d0887"
             ],
             [
              0.1111111111111111,
              "#46039f"
             ],
             [
              0.2222222222222222,
              "#7201a8"
             ],
             [
              0.3333333333333333,
              "#9c179e"
             ],
             [
              0.4444444444444444,
              "#bd3786"
             ],
             [
              0.5555555555555556,
              "#d8576b"
             ],
             [
              0.6666666666666666,
              "#ed7953"
             ],
             [
              0.7777777777777778,
              "#fb9f3a"
             ],
             [
              0.8888888888888888,
              "#fdca26"
             ],
             [
              1,
              "#f0f921"
             ]
            ],
            "type": "heatmapgl"
           }
          ],
          "histogram": [
           {
            "marker": {
             "pattern": {
              "fillmode": "overlay",
              "size": 10,
              "solidity": 0.2
             }
            },
            "type": "histogram"
           }
          ],
          "histogram2d": [
           {
            "colorbar": {
             "outlinewidth": 0,
             "ticks": ""
            },
            "colorscale": [
             [
              0,
              "#0d0887"
             ],
             [
              0.1111111111111111,
              "#46039f"
             ],
             [
              0.2222222222222222,
              "#7201a8"
             ],
             [
              0.3333333333333333,
              "#9c179e"
             ],
             [
              0.4444444444444444,
              "#bd3786"
             ],
             [
              0.5555555555555556,
              "#d8576b"
             ],
             [
              0.6666666666666666,
              "#ed7953"
             ],
             [
              0.7777777777777778,
              "#fb9f3a"
             ],
             [
              0.8888888888888888,
              "#fdca26"
             ],
             [
              1,
              "#f0f921"
             ]
            ],
            "type": "histogram2d"
           }
          ],
          "histogram2dcontour": [
           {
            "colorbar": {
             "outlinewidth": 0,
             "ticks": ""
            },
            "colorscale": [
             [
              0,
              "#0d0887"
             ],
             [
              0.1111111111111111,
              "#46039f"
             ],
             [
              0.2222222222222222,
              "#7201a8"
             ],
             [
              0.3333333333333333,
              "#9c179e"
             ],
             [
              0.4444444444444444,
              "#bd3786"
             ],
             [
              0.5555555555555556,
              "#d8576b"
             ],
             [
              0.6666666666666666,
              "#ed7953"
             ],
             [
              0.7777777777777778,
              "#fb9f3a"
             ],
             [
              0.8888888888888888,
              "#fdca26"
             ],
             [
              1,
              "#f0f921"
             ]
            ],
            "type": "histogram2dcontour"
           }
          ],
          "mesh3d": [
           {
            "colorbar": {
             "outlinewidth": 0,
             "ticks": ""
            },
            "type": "mesh3d"
           }
          ],
          "parcoords": [
           {
            "line": {
             "colorbar": {
              "outlinewidth": 0,
              "ticks": ""
             }
            },
            "type": "parcoords"
           }
          ],
          "pie": [
           {
            "automargin": true,
            "type": "pie"
           }
          ],
          "scatter": [
           {
            "fillpattern": {
             "fillmode": "overlay",
             "size": 10,
             "solidity": 0.2
            },
            "type": "scatter"
           }
          ],
          "scatter3d": [
           {
            "line": {
             "colorbar": {
              "outlinewidth": 0,
              "ticks": ""
             }
            },
            "marker": {
             "colorbar": {
              "outlinewidth": 0,
              "ticks": ""
             }
            },
            "type": "scatter3d"
           }
          ],
          "scattercarpet": [
           {
            "marker": {
             "colorbar": {
              "outlinewidth": 0,
              "ticks": ""
             }
            },
            "type": "scattercarpet"
           }
          ],
          "scattergeo": [
           {
            "marker": {
             "colorbar": {
              "outlinewidth": 0,
              "ticks": ""
             }
            },
            "type": "scattergeo"
           }
          ],
          "scattergl": [
           {
            "marker": {
             "colorbar": {
              "outlinewidth": 0,
              "ticks": ""
             }
            },
            "type": "scattergl"
           }
          ],
          "scattermapbox": [
           {
            "marker": {
             "colorbar": {
              "outlinewidth": 0,
              "ticks": ""
             }
            },
            "type": "scattermapbox"
           }
          ],
          "scatterpolar": [
           {
            "marker": {
             "colorbar": {
              "outlinewidth": 0,
              "ticks": ""
             }
            },
            "type": "scatterpolar"
           }
          ],
          "scatterpolargl": [
           {
            "marker": {
             "colorbar": {
              "outlinewidth": 0,
              "ticks": ""
             }
            },
            "type": "scatterpolargl"
           }
          ],
          "scatterternary": [
           {
            "marker": {
             "colorbar": {
              "outlinewidth": 0,
              "ticks": ""
             }
            },
            "type": "scatterternary"
           }
          ],
          "surface": [
           {
            "colorbar": {
             "outlinewidth": 0,
             "ticks": ""
            },
            "colorscale": [
             [
              0,
              "#0d0887"
             ],
             [
              0.1111111111111111,
              "#46039f"
             ],
             [
              0.2222222222222222,
              "#7201a8"
             ],
             [
              0.3333333333333333,
              "#9c179e"
             ],
             [
              0.4444444444444444,
              "#bd3786"
             ],
             [
              0.5555555555555556,
              "#d8576b"
             ],
             [
              0.6666666666666666,
              "#ed7953"
             ],
             [
              0.7777777777777778,
              "#fb9f3a"
             ],
             [
              0.8888888888888888,
              "#fdca26"
             ],
             [
              1,
              "#f0f921"
             ]
            ],
            "type": "surface"
           }
          ],
          "table": [
           {
            "cells": {
             "fill": {
              "color": "#EBF0F8"
             },
             "line": {
              "color": "white"
             }
            },
            "header": {
             "fill": {
              "color": "#C8D4E3"
             },
             "line": {
              "color": "white"
             }
            },
            "type": "table"
           }
          ]
         },
         "layout": {
          "annotationdefaults": {
           "arrowcolor": "#2a3f5f",
           "arrowhead": 0,
           "arrowwidth": 1
          },
          "autotypenumbers": "strict",
          "coloraxis": {
           "colorbar": {
            "outlinewidth": 0,
            "ticks": ""
           }
          },
          "colorscale": {
           "diverging": [
            [
             0,
             "#8e0152"
            ],
            [
             0.1,
             "#c51b7d"
            ],
            [
             0.2,
             "#de77ae"
            ],
            [
             0.3,
             "#f1b6da"
            ],
            [
             0.4,
             "#fde0ef"
            ],
            [
             0.5,
             "#f7f7f7"
            ],
            [
             0.6,
             "#e6f5d0"
            ],
            [
             0.7,
             "#b8e186"
            ],
            [
             0.8,
             "#7fbc41"
            ],
            [
             0.9,
             "#4d9221"
            ],
            [
             1,
             "#276419"
            ]
           ],
           "sequential": [
            [
             0,
             "#0d0887"
            ],
            [
             0.1111111111111111,
             "#46039f"
            ],
            [
             0.2222222222222222,
             "#7201a8"
            ],
            [
             0.3333333333333333,
             "#9c179e"
            ],
            [
             0.4444444444444444,
             "#bd3786"
            ],
            [
             0.5555555555555556,
             "#d8576b"
            ],
            [
             0.6666666666666666,
             "#ed7953"
            ],
            [
             0.7777777777777778,
             "#fb9f3a"
            ],
            [
             0.8888888888888888,
             "#fdca26"
            ],
            [
             1,
             "#f0f921"
            ]
           ],
           "sequentialminus": [
            [
             0,
             "#0d0887"
            ],
            [
             0.1111111111111111,
             "#46039f"
            ],
            [
             0.2222222222222222,
             "#7201a8"
            ],
            [
             0.3333333333333333,
             "#9c179e"
            ],
            [
             0.4444444444444444,
             "#bd3786"
            ],
            [
             0.5555555555555556,
             "#d8576b"
            ],
            [
             0.6666666666666666,
             "#ed7953"
            ],
            [
             0.7777777777777778,
             "#fb9f3a"
            ],
            [
             0.8888888888888888,
             "#fdca26"
            ],
            [
             1,
             "#f0f921"
            ]
           ]
          },
          "colorway": [
           "#636efa",
           "#EF553B",
           "#00cc96",
           "#ab63fa",
           "#FFA15A",
           "#19d3f3",
           "#FF6692",
           "#B6E880",
           "#FF97FF",
           "#FECB52"
          ],
          "font": {
           "color": "#2a3f5f"
          },
          "geo": {
           "bgcolor": "white",
           "lakecolor": "white",
           "landcolor": "#E5ECF6",
           "showlakes": true,
           "showland": true,
           "subunitcolor": "white"
          },
          "hoverlabel": {
           "align": "left"
          },
          "hovermode": "closest",
          "mapbox": {
           "style": "light"
          },
          "paper_bgcolor": "white",
          "plot_bgcolor": "#E5ECF6",
          "polar": {
           "angularaxis": {
            "gridcolor": "white",
            "linecolor": "white",
            "ticks": ""
           },
           "bgcolor": "#E5ECF6",
           "radialaxis": {
            "gridcolor": "white",
            "linecolor": "white",
            "ticks": ""
           }
          },
          "scene": {
           "xaxis": {
            "backgroundcolor": "#E5ECF6",
            "gridcolor": "white",
            "gridwidth": 2,
            "linecolor": "white",
            "showbackground": true,
            "ticks": "",
            "zerolinecolor": "white"
           },
           "yaxis": {
            "backgroundcolor": "#E5ECF6",
            "gridcolor": "white",
            "gridwidth": 2,
            "linecolor": "white",
            "showbackground": true,
            "ticks": "",
            "zerolinecolor": "white"
           },
           "zaxis": {
            "backgroundcolor": "#E5ECF6",
            "gridcolor": "white",
            "gridwidth": 2,
            "linecolor": "white",
            "showbackground": true,
            "ticks": "",
            "zerolinecolor": "white"
           }
          },
          "shapedefaults": {
           "line": {
            "color": "#2a3f5f"
           }
          },
          "ternary": {
           "aaxis": {
            "gridcolor": "white",
            "linecolor": "white",
            "ticks": ""
           },
           "baxis": {
            "gridcolor": "white",
            "linecolor": "white",
            "ticks": ""
           },
           "bgcolor": "#E5ECF6",
           "caxis": {
            "gridcolor": "white",
            "linecolor": "white",
            "ticks": ""
           }
          },
          "title": {
           "x": 0.05
          },
          "xaxis": {
           "automargin": true,
           "gridcolor": "white",
           "linecolor": "white",
           "ticks": "",
           "title": {
            "standoff": 15
           },
           "zerolinecolor": "white",
           "zerolinewidth": 2
          },
          "yaxis": {
           "automargin": true,
           "gridcolor": "white",
           "linecolor": "white",
           "ticks": "",
           "title": {
            "standoff": 15
           },
           "zerolinecolor": "white",
           "zerolinewidth": 2
          }
         }
        },
        "title": {
         "text": "Distribucion Doble Gumbel<br>Datos sin optimizar y datos optimizados por Rosenbrock.",
         "x": 0.5
        },
        "xaxis": {
         "anchor": "y",
         "domain": [
          0,
          1
         ],
         "gridcolor": "lightgray",
         "range": [
          0,
          2
         ],
         "showgrid": true,
         "type": "log"
        },
        "xaxis2": {
         "anchor": "y2",
         "domain": [
          0,
          1
         ],
         "gridcolor": "lightgray",
         "range": [
          0,
          4
         ],
         "showgrid": true,
         "title": {
          "text": "Tr (Periodos de retorno)"
         },
         "type": "log"
        },
        "yaxis": {
         "anchor": "x",
         "autorange": true,
         "domain": [
          0.545,
          1
         ],
         "gridcolor": "lightgray",
         "range": [
          -956.7664413920738,
          15629.590671420015
         ],
         "showgrid": true,
         "title": {
          "text": "Gastos (m³/s)"
         },
         "type": "linear"
        },
        "yaxis2": {
         "anchor": "x2",
         "autorange": true,
         "domain": [
          0,
          0.455
         ],
         "gridcolor": "lightgray",
         "range": [
          -2066.583575459016,
          26106.00977445729
         ],
         "showgrid": true,
         "title": {
          "text": "Gastos (m³/s)"
         },
         "type": "linear"
        }
       }
      },
      "image/png": "[encoded data removed]",
      "text/html": [
       "<div>                            <div id=\"3949d0d8-9652-49ee-9579-e6b0c6d1082f\" class=\"plotly-graph-div\" style=\"height:525px; width:100%;\"></div>            <script type=\"text/javascript\">                require([\"plotly\"], function(Plotly) {                    window.PLOTLYENV=window.PLOTLYENV || {};                                    if (document.getElementById(\"3949d0d8-9652-49ee-9579-e6b0c6d1082f\")) {                    Plotly.newPlot(                        \"3949d0d8-9652-49ee-9579-e6b0c6d1082f\",                        [{\"marker\":{\"color\":\"blue\"},\"mode\":\"markers\",\"name\":\"Datos Registrados\",\"x\":[63.0,31.5,21.0,15.75,12.6,10.5,9.0,7.875,7.0,6.3,5.7272727272727275,5.25,4.846153846153846,4.5,4.2,3.9375,3.7058823529411766,3.5,3.3157894736842106,3.15,3.0,2.8636363636363638,2.739130434782609,2.625,2.52,2.423076923076923,2.3333333333333335,2.25,2.1724137931034484,2.1,2.032258064516129,1.96875,1.9090909090909092,1.8529411764705883,1.8,1.75,1.7027027027027026,1.6578947368421053,1.6153846153846154,1.575,1.5365853658536586,1.5,1.4651162790697674,1.4318181818181819,1.4,1.3695652173913044,1.3404255319148937,1.3125,1.2857142857142858,1.26,1.2352941176470589,1.2115384615384615,1.1886792452830188,1.1666666666666667,1.1454545454545455,1.125,1.105263157894737,1.0862068965517242,1.0677966101694916,1.05,1.0327868852459017,1.0161290322580645],\"y\":[13713.0,11800.0,4235.0,3992.0,3979.0,3662.0,3533.0,3388.0,3245.0,3205.0,2917.0,2747.0,2734.0,2654.0,2583.0,2319.0,2311.0,2310.0,2248.0,2150.0,2133.0,1899.0,1899.0,1894.0,1861.0,1797.0,1771.0,1716.0,1652.0,1640.0,1631.0,1598.0,1507.0,1494.0,1397.0,1395.0,1371.0,1332.0,1288.0,1244.0,1232.0,1202.0,1173.0,1157.0,1131.0,1087.0,1049.0,1030.0,1030.0,1014.0,995.0,954.0,925.0,922.0,907.0,852.0,832.0,751.0,743.0,720.0,652.0,632.0],\"type\":\"scatter\",\"xaxis\":\"x\",\"yaxis\":\"y\"},{\"line\":{\"color\":\"red\",\"width\":1},\"mode\":\"lines\",\"name\":\"Datos Ajustados (sin optimizar)\",\"x\":[63.0,31.5,21.0,15.75,12.6,10.5,9.0,7.875,7.0,6.3,5.7272727272727275,5.25,4.846153846153846,4.5,4.2,3.9375,3.7058823529411766,3.5,3.3157894736842106,3.15,3.0,2.8636363636363638,2.739130434782609,2.625,2.52,2.423076923076923,2.3333333333333335,2.25,2.1724137931034484,2.1,2.032258064516129,1.96875,1.9090909090909092,1.8529411764705883,1.8,1.75,1.7027027027027026,1.6578947368421053,1.6153846153846154,1.575,1.5365853658536586,1.5,1.4651162790697674,1.4318181818181819,1.4,1.3695652173913044,1.3404255319148937,1.3125,1.2857142857142858,1.26,1.2352941176470589,1.2115384615384615,1.1886792452830188,1.1666666666666667,1.1454545454545455,1.125,1.105263157894737,1.0862068965517242,1.0677966101694916,1.05,1.0327868852459017,1.0161290322580645],\"y\":[12558.550819185133,10650.068976104209,4403.862343414921,3877.426050229452,3569.940159856967,3350.7229734044713,3179.527926556305,3038.5639283987857,2918.381620702791,2813.3558903447242,2719.864773108673,2635.437870199761,2558.3140847005957,2487.193154233304,2421.087233467121,2359.227761019723,2301.0045993685326,2245.924889077446,2193.5844140627396,2143.6471691975084,2095.8304585769347,2049.8938153250347,2005.630619264162,1962.8616555560136,1921.4300933203133,1881.197518526755,1842.0407598256934,1803.8493174400614,1766.5232549729296,1729.9714490948627,1694.1101171599464,1658.8615608846749,1624.1530773289874,1589.9159979041015,1556.0848229168548,1522.5964238602114,1489.3892886710175,1456.4027867286188,1423.5764305508296,1390.8491099129978,1358.1582712810527,1325.4390106376454,1292.6230403677812,1259.6374798633683,1226.4034033422122,1192.834054585486,1158.8326029153093,1124.2892612738706,1089.0775048448959,1053.048998490749,1016.0266298531201,977.7946902265419,938.0846273002089,896.5536688276179,852.7514591524103,806.0654485955579,755.6260806516073,700.1293172078755,637.4694519566524,563.864289529773,471.2633859451104,335.860517144622],\"type\":\"scatter\",\"xaxis\":\"x\",\"yaxis\":\"y\"},{\"line\":{\"color\":\"green\",\"width\":1},\"mode\":\"lines\",\"name\":\"Datos Ajustados (optimizados)\",\"x\":[63.0,31.5,21.0,15.75,12.6,10.5,9.0,7.875,7.0,6.3,5.7272727272727275,5.25,4.846153846153846,4.5,4.2,3.9375,3.7058823529411766,3.5,3.3157894736842106,3.15,3.0,2.8636363636363638,2.739130434782609,2.625,2.52,2.423076923076923,2.3333333333333335,2.25,2.1724137931034484,2.1,2.032258064516129,1.96875,1.9090909090909092,1.8529411764705883,1.8,1.75,1.7027027027027026,1.6578947368421053,1.6153846153846154,1.575,1.5365853658536586,1.5,1.4651162790697674,1.4318181818181819,1.4,1.3695652173913044,1.3404255319148937,1.3125,1.2857142857142858,1.26,1.2352941176470589,1.2115384615384615,1.1886792452830188,1.1666666666666667,1.1454545454545455,1.125,1.105263157894737,1.0862068965517242,1.0677966101694916,1.05,1.0327868852459017,1.0161290322580645],\"y\":[14800.272815779412,12832.462508064902,5402.209141050962,4161.09154405297,3716.9561677466395,3437.9899528192236,3233.0862452891893,3070.407905662548,2935.036437299014,2818.769016584577,2716.6079694679142,2625.281070824888,2542.5280014008995,2466.7212842456784,2396.649572956553,2331.3863901844925,2270.206819027336,2212.532544878149,2157.8944000306087,2105.9061161990576,2056.2454820170005,2008.6405270910043,1962.8591996114394,1918.701522911139,1875.9935434708495,1834.5825945813515,1794.3335400215233,1755.1257567709868,1716.8506808615907,1679.4097859301562,1642.7128962124243,1606.6767587399438,1571.2238160909642,1536.2811330227596,1501.7794388995108,1467.6522538465374,1433.835070543937,1400.2645658460729,1366.8778171336462,1333.6114974747688,1300.4010211322764,1267.1796063556067,1233.8772151267547,1200.4193186049054,1166.7254208711092,1132.7072497348152,1098.2664878473142,1063.291863652596,1027.6553388512589,991.2069981653095,953.7680345687179,915.1208663798201,874.9948010494456,833.0445289857621,788.8165612759304,741.6942981346938,690.8026648154032,634.8296142949005,571.6568437665019,497.4800261016064,404.2025663059717,267.8849723401769],\"type\":\"scatter\",\"xaxis\":\"x\",\"yaxis\":\"y\"},{\"marker\":{\"color\":\"purple\"},\"mode\":\"markers\",\"name\":\"Datos Registrados\",\"x\":[63.0,31.5,21.0,15.75,12.6,10.5,9.0,7.875,7.0,6.3,5.7272727272727275,5.25,4.846153846153846,4.5,4.2,3.9375,3.7058823529411766,3.5,3.3157894736842106,3.15,3.0,2.8636363636363638,2.739130434782609,2.625,2.52,2.423076923076923,2.3333333333333335,2.25,2.1724137931034484,2.1,2.032258064516129,1.96875,1.9090909090909092,1.8529411764705883,1.8,1.75,1.7027027027027026,1.6578947368421053,1.6153846153846154,1.575,1.5365853658536586,1.5,1.4651162790697674,1.4318181818181819,1.4,1.3695652173913044,1.3404255319148937,1.3125,1.2857142857142858,1.26,1.2352941176470589,1.2115384615384615,1.1886792452830188,1.1666666666666667,1.1454545454545455,1.125,1.105263157894737,1.0862068965517242,1.0677966101694916,1.05,1.0327868852459017,1.0161290322580645],\"y\":[13713.0,11800.0,4235.0,3992.0,3979.0,3662.0,3533.0,3388.0,3245.0,3205.0,2917.0,2747.0,2734.0,2654.0,2583.0,2319.0,2311.0,2310.0,2248.0,2150.0,2133.0,1899.0,1899.0,1894.0,1861.0,1797.0,1771.0,1716.0,1652.0,1640.0,1631.0,1598.0,1507.0,1494.0,1397.0,1395.0,1371.0,1332.0,1288.0,1244.0,1232.0,1202.0,1173.0,1157.0,1131.0,1087.0,1049.0,1030.0,1030.0,1014.0,995.0,954.0,925.0,922.0,907.0,852.0,832.0,751.0,743.0,720.0,652.0,632.0],\"type\":\"scatter\",\"xaxis\":\"x2\",\"yaxis\":\"y2\"},{\"line\":{\"color\":\"red\",\"width\":1},\"mode\":\"lines\",\"name\":\"Datos Extrapolados (sin optimizar)\",\"x\":[2.0,5.0,10.0,20.0,50.0,100.0,200.0,500.0,1000.0,2000.0,5000.0,10000.0],\"y\":[1676.4138912755507,2588.378707004801,3295.373350199389,4297.300033382511,12182.520925473262,13193.346363610235,14026.464504467895,15046.86202572012,15794.927752851785,16534.31959338807,17505.672659942207,18238.37032780915],\"type\":\"scatter\",\"xaxis\":\"x2\",\"yaxis\":\"y2\"},{\"line\":{\"color\":\"green\",\"width\":1},\"mode\":\"lines\",\"name\":\"Datos Extrapolados (optimizados)\",\"x\":[2.0,5.0,10.0,20.0,50.0,100.0,200.0,500.0,1000.0,2000.0,5000.0,10000.0],\"y\":[1624.6172010444855,2574.715663557531,3370.7151695938073,5031.217172839053,14231.407890723636,15833.444583297805,17256.89523569787,19042.42249187309,20363.22950344047,21672.912163137426,23396.36735042774,24697.380106961475],\"type\":\"scatter\",\"xaxis\":\"x2\",\"yaxis\":\"y2\"}],                        {\"template\":{\"data\":{\"histogram2dcontour\":[{\"type\":\"histogram2dcontour\",\"colorbar\":{\"outlinewidth\":0,\"ticks\":\"\"},\"colorscale\":[[0.0,\"#0d0887\"],[0.1111111111111111,\"#46039f\"],[0.2222222222222222,\"#7201a8\"],[0.3333333333333333,\"#9c179e\"],[0.4444444444444444,\"#bd3786\"],[0.5555555555555556,\"#d8576b\"],[0.6666666666666666,\"#ed7953\"],[0.7777777777777778,\"#fb9f3a\"],[0.8888888888888888,\"#fdca26\"],[1.0,\"#f0f921\"]]}],\"choropleth\":[{\"type\":\"choropleth\",\"colorbar\":{\"outlinewidth\":0,\"ticks\":\"\"}}],\"histogram2d\":[{\"type\":\"histogram2d\",\"colorbar\":{\"outlinewidth\":0,\"ticks\":\"\"},\"colorscale\":[[0.0,\"#0d0887\"],[0.1111111111111111,\"#46039f\"],[0.2222222222222222,\"#7201a8\"],[0.3333333333333333,\"#9c179e\"],[0.4444444444444444,\"#bd3786\"],[0.5555555555555556,\"#d8576b\"],[0.6666666666666666,\"#ed7953\"],[0.7777777777777778,\"#fb9f3a\"],[0.8888888888888888,\"#fdca26\"],[1.0,\"#f0f921\"]]}],\"heatmap\":[{\"type\":\"heatmap\",\"colorbar\":{\"outlinewidth\":0,\"ticks\":\"\"},\"colorscale\":[[0.0,\"#0d0887\"],[0.1111111111111111,\"#46039f\"],[0.2222222222222222,\"#7201a8\"],[0.3333333333333333,\"#9c179e\"],[0.4444444444444444,\"#bd3786\"],[0.5555555555555556,\"#d8576b\"],[0.6666666666666666,\"#ed7953\"],[0.7777777777777778,\"#fb9f3a\"],[0.8888888888888888,\"#fdca26\"],[1.0,\"#f0f921\"]]}],\"heatmapgl\":[{\"type\":\"heatmapgl\",\"colorbar\":{\"outlinewidth\":0,\"ticks\":\"\"},\"colorscale\":[[0.0,\"#0d0887\"],[0.1111111111111111,\"#46039f\"],[0.2222222222222222,\"#7201a8\"],[0.3333333333333333,\"#9c179e\"],[0.4444444444444444,\"#bd3786\"],[0.5555555555555556,\"#d8576b\"],[0.6666666666666666,\"#ed7953\"],[0.7777777777777778,\"#fb9f3a\"],[0.8888888888888888,\"#fdca26\"],[1.0,\"#f0f921\"]]}],\"contourcarpet\":[{\"type\":\"contourcarpet\",\"colorbar\":{\"outlinewidth\":0,\"ticks\":\"\"}}],\"contour\":[{\"type\":\"contour\",\"colorbar\":{\"outlinewidth\":0,\"ticks\":\"\"},\"colorscale\":[[0.0,\"#0d0887\"],[0.1111111111111111,\"#46039f\"],[0.2222222222222222,\"#7201a8\"],[0.3333333333333333,\"#9c179e\"],[0.4444444444444444,\"#bd3786\"],[0.5555555555555556,\"#d8576b\"],[0.6666666666666666,\"#ed7953\"],[0.7777777777777778,\"#fb9f3a\"],[0.8888888888888888,\"#fdca26\"],[1.0,\"#f0f921\"]]}],\"surface\":[{\"type\":\"surface\",\"colorbar\":{\"outlinewidth\":0,\"ticks\":\"\"},\"colorscale\":[[0.0,\"#0d0887\"],[0.1111111111111111,\"#46039f\"],[0.2222222222222222,\"#7201a8\"],[0.3333333333333333,\"#9c179e\"],[0.4444444444444444,\"#bd3786\"],[0.5555555555555556,\"#d8576b\"],[0.6666666666666666,\"#ed7953\"],[0.7777777777777778,\"#fb9f3a\"],[0.8888888888888888,\"#fdca26\"],[1.0,\"#f0f921\"]]}],\"mesh3d\":[{\"type\":\"mesh3d\",\"colorbar\":{\"outlinewidth\":0,\"ticks\":\"\"}}],\"scatter\":[{\"fillpattern\":{\"fillmode\":\"overlay\",\"size\":10,\"solidity\":0.2},\"type\":\"scatter\"}],\"parcoords\":[{\"type\":\"parcoords\",\"line\":{\"colorbar\":{\"outlinewidth\":0,\"ticks\":\"\"}}}],\"scatterpolargl\":[{\"type\":\"scatterpolargl\",\"marker\":{\"colorbar\":{\"outlinewidth\":0,\"ticks\":\"\"}}}],\"bar\":[{\"error_x\":{\"color\":\"#2a3f5f\"},\"error_y\":{\"color\":\"#2a3f5f\"},\"marker\":{\"line\":{\"color\":\"#E5ECF6\",\"width\":0.5},\"pattern\":{\"fillmode\":\"overlay\",\"size\":10,\"solidity\":0.2}},\"type\":\"bar\"}],\"scattergeo\":[{\"type\":\"scattergeo\",\"marker\":{\"colorbar\":{\"outlinewidth\":0,\"ticks\":\"\"}}}],\"scatterpolar\":[{\"type\":\"scatterpolar\",\"marker\":{\"colorbar\":{\"outlinewidth\":0,\"ticks\":\"\"}}}],\"histogram\":[{\"marker\":{\"pattern\":{\"fillmode\":\"overlay\",\"size\":10,\"solidity\":0.2}},\"type\":\"histogram\"}],\"scattergl\":[{\"type\":\"scattergl\",\"marker\":{\"colorbar\":{\"outlinewidth\":0,\"ticks\":\"\"}}}],\"scatter3d\":[{\"type\":\"scatter3d\",\"line\":{\"colorbar\":{\"outlinewidth\":0,\"ticks\":\"\"}},\"marker\":{\"colorbar\":{\"outlinewidth\":0,\"ticks\":\"\"}}}],\"scattermapbox\":[{\"type\":\"scattermapbox\",\"marker\":{\"colorbar\":{\"outlinewidth\":0,\"ticks\":\"\"}}}],\"scatterternary\":[{\"type\":\"scatterternary\",\"marker\":{\"colorbar\":{\"outlinewidth\":0,\"ticks\":\"\"}}}],\"scattercarpet\":[{\"type\":\"scattercarpet\",\"marker\":{\"colorbar\":{\"outlinewidth\":0,\"ticks\":\"\"}}}],\"carpet\":[{\"aaxis\":{\"endlinecolor\":\"#2a3f5f\",\"gridcolor\":\"white\",\"linecolor\":\"white\",\"minorgridcolor\":\"white\",\"startlinecolor\":\"#2a3f5f\"},\"baxis\":{\"endlinecolor\":\"#2a3f5f\",\"gridcolor\":\"white\",\"linecolor\":\"white\",\"minorgridcolor\":\"white\",\"startlinecolor\":\"#2a3f5f\"},\"type\":\"carpet\"}],\"table\":[{\"cells\":{\"fill\":{\"color\":\"#EBF0F8\"},\"line\":{\"color\":\"white\"}},\"header\":{\"fill\":{\"color\":\"#C8D4E3\"},\"line\":{\"color\":\"white\"}},\"type\":\"table\"}],\"barpolar\":[{\"marker\":{\"line\":{\"color\":\"#E5ECF6\",\"width\":0.5},\"pattern\":{\"fillmode\":\"overlay\",\"size\":10,\"solidity\":0.2}},\"type\":\"barpolar\"}],\"pie\":[{\"automargin\":true,\"type\":\"pie\"}]},\"layout\":{\"autotypenumbers\":\"strict\",\"colorway\":[\"#636efa\",\"#EF553B\",\"#00cc96\",\"#ab63fa\",\"#FFA15A\",\"#19d3f3\",\"#FF6692\",\"#B6E880\",\"#FF97FF\",\"#FECB52\"],\"font\":{\"color\":\"#2a3f5f\"},\"hovermode\":\"closest\",\"hoverlabel\":{\"align\":\"left\"},\"paper_bgcolor\":\"white\",\"plot_bgcolor\":\"#E5ECF6\",\"polar\":{\"bgcolor\":\"#E5ECF6\",\"angularaxis\":{\"gridcolor\":\"white\",\"linecolor\":\"white\",\"ticks\":\"\"},\"radialaxis\":{\"gridcolor\":\"white\",\"linecolor\":\"white\",\"ticks\":\"\"}},\"ternary\":{\"bgcolor\":\"#E5ECF6\",\"aaxis\":{\"gridcolor\":\"white\",\"linecolor\":\"white\",\"ticks\":\"\"},\"baxis\":{\"gridcolor\":\"white\",\"linecolor\":\"white\",\"ticks\":\"\"},\"caxis\":{\"gridcolor\":\"white\",\"linecolor\":\"white\",\"ticks\":\"\"}},\"coloraxis\":{\"colorbar\":{\"outlinewidth\":0,\"ticks\":\"\"}},\"colorscale\":{\"sequential\":[[0.0,\"#0d0887\"],[0.1111111111111111,\"#46039f\"],[0.2222222222222222,\"#7201a8\"],[0.3333333333333333,\"#9c179e\"],[0.4444444444444444,\"#bd3786\"],[0.5555555555555556,\"#d8576b\"],[0.6666666666666666,\"#ed7953\"],[0.7777777777777778,\"#fb9f3a\"],[0.8888888888888888,\"#fdca26\"],[1.0,\"#f0f921\"]],\"sequentialminus\":[[0.0,\"#0d0887\"],[0.1111111111111111,\"#46039f\"],[0.2222222222222222,\"#7201a8\"],[0.3333333333333333,\"#9c179e\"],[0.4444444444444444,\"#bd3786\"],[0.5555555555555556,\"#d8576b\"],[0.6666666666666666,\"#ed7953\"],[0.7777777777777778,\"#fb9f3a\"],[0.8888888888888888,\"#fdca26\"],[1.0,\"#f0f921\"]],\"diverging\":[[0,\"#8e0152\"],[0.1,\"#c51b7d\"],[0.2,\"#de77ae\"],[0.3,\"#f1b6da\"],[0.4,\"#fde0ef\"],[0.5,\"#f7f7f7\"],[0.6,\"#e6f5d0\"],[0.7,\"#b8e186\"],[0.8,\"#7fbc41\"],[0.9,\"#4d9221\"],[1,\"#276419\"]]},\"xaxis\":{\"gridcolor\":\"white\",\"linecolor\":\"white\",\"ticks\":\"\",\"title\":{\"standoff\":15},\"zerolinecolor\":\"white\",\"automargin\":true,\"zerolinewidth\":2},\"yaxis\":{\"gridcolor\":\"white\",\"linecolor\":\"white\",\"ticks\":\"\",\"title\":{\"standoff\":15},\"zerolinecolor\":\"white\",\"automargin\":true,\"zerolinewidth\":2},\"scene\":{\"xaxis\":{\"backgroundcolor\":\"#E5ECF6\",\"gridcolor\":\"white\",\"linecolor\":\"white\",\"showbackground\":true,\"ticks\":\"\",\"zerolinecolor\":\"white\",\"gridwidth\":2},\"yaxis\":{\"backgroundcolor\":\"#E5ECF6\",\"gridcolor\":\"white\",\"linecolor\":\"white\",\"showbackground\":true,\"ticks\":\"\",\"zerolinecolor\":\"white\",\"gridwidth\":2},\"zaxis\":{\"backgroundcolor\":\"#E5ECF6\",\"gridcolor\":\"white\",\"linecolor\":\"white\",\"showbackground\":true,\"ticks\":\"\",\"zerolinecolor\":\"white\",\"gridwidth\":2}},\"shapedefaults\":{\"line\":{\"color\":\"#2a3f5f\"}},\"annotationdefaults\":{\"arrowcolor\":\"#2a3f5f\",\"arrowhead\":0,\"arrowwidth\":1},\"geo\":{\"bgcolor\":\"white\",\"landcolor\":\"#E5ECF6\",\"subunitcolor\":\"white\",\"showland\":true,\"showlakes\":true,\"lakecolor\":\"white\"},\"title\":{\"x\":0.05},\"mapbox\":{\"style\":\"light\"}}},\"xaxis\":{\"anchor\":\"y\",\"domain\":[0.0,1.0],\"type\":\"log\",\"range\":[0,2],\"showgrid\":true,\"gridcolor\":\"lightgray\"},\"yaxis\":{\"anchor\":\"x\",\"domain\":[0.545,1.0],\"title\":{\"text\":\"Gastos (m\\u00b3\\u002fs)\"},\"showgrid\":true,\"gridcolor\":\"lightgray\"},\"xaxis2\":{\"anchor\":\"y2\",\"domain\":[0.0,1.0],\"type\":\"log\",\"range\":[0,4],\"title\":{\"text\":\"Tr (Periodos de retorno)\"},\"showgrid\":true,\"gridcolor\":\"lightgray\"},\"yaxis2\":{\"anchor\":\"x2\",\"domain\":[0.0,0.455],\"title\":{\"text\":\"Gastos (m\\u00b3\\u002fs)\"},\"showgrid\":true,\"gridcolor\":\"lightgray\"},\"annotations\":[{\"font\":{\"size\":16},\"showarrow\":false,\"text\":\"Datos ajustados\",\"x\":0.5,\"xanchor\":\"center\",\"xref\":\"paper\",\"y\":1.0,\"yanchor\":\"bottom\",\"yref\":\"paper\"},{\"font\":{\"size\":16},\"showarrow\":false,\"text\":\"Datos extrapolados\",\"x\":0.5,\"xanchor\":\"center\",\"xref\":\"paper\",\"y\":0.455,\"yanchor\":\"bottom\",\"yref\":\"paper\"}],\"title\":{\"text\":\"Distribucion Doble Gumbel\\u003cbr\\u003eDatos sin optimizar y datos optimizados por Rosenbrock.\",\"x\":0.5},\"legend\":{\"x\":0.004,\"y\":0.99},\"showlegend\":true},                        {\"responsive\": true}                    ).then(function(){\n",
       "                            \n",
       "var gd = document.getElementById('3949d0d8-9652-49ee-9579-e6b0c6d1082f');\n",
       "var x = new MutationObserver(function (mutations, observer) {{\n",
       "        var display = window.getComputedStyle(gd).display;\n",
       "        if (!display || display === 'none') {{\n",
       "            console.log([gd, 'removed!']);\n",
       "            Plotly.purge(gd);\n",
       "            observer.disconnect();\n",
       "        }}\n",
       "}});\n",
       "\n",
       "// Listen for the removal of the full notebook cells\n",
       "var notebookContainer = gd.closest('#notebook-container');\n",
       "if (notebookContainer) {{\n",
       "    x.observe(notebookContainer, {childList: true});\n",
       "}}\n",
       "\n",
       "// Listen for the clearing of the current output cell\n",
       "var outputEl = gd.closest('.output');\n",
       "if (outputEl) {{\n",
       "    x.observe(outputEl, {childList: true});\n",
       "}}\n",
       "\n",
       "                        })                };                });            </script>        </div>"
      ]
     },
     "metadata": {},
     "output_type": "display_data"
    }
   ],
   "source": [
    "# Gráficos html, datos sin optimizar y optimizados\n",
    "# Crear subplots\n",
    "titulo0 = \"Distribucion Doble Gumbel<br>Datos sin optimizar y datos optimizados por Rosenbrock.\"\n",
    "#titulo1 = \"Distribucion Gumbel (Momentos-L). EE= \" + str(EEMomL)\n",
    "fig = make_subplots(rows=2, \n",
    "                    cols=1, \n",
    "                    shared_xaxes=False, \n",
    "                    vertical_spacing=0.09, \n",
    "                    subplot_titles=(\"Datos ajustados\", \"Datos extrapolados\"))\n",
    "# Gráfico 1: Datos Registrados (Scatter) y Datos Ajustados (Línea)\n",
    "fig.add_trace(go.Scatter(x=tR, \n",
    "                         y=dReg, \n",
    "                         mode='markers', \n",
    "                         name='Datos Registrados', \n",
    "                         #alpha=.4, \n",
    "                         marker=dict(color='blue')), \n",
    "              row=1, col=1)\n",
    "fig.add_trace(go.Scatter(x=tR, \n",
    "                         y=dAjust, \n",
    "                         mode='lines', \n",
    "                         name='Datos Ajustados (sin optimizar)', \n",
    "                         line=dict(color='red', width=1)), \n",
    "              row=1, col=1)\n",
    "fig.add_trace(go.Scatter(x=tR, \n",
    "                         y=dAjust1, \n",
    "                         mode='lines', \n",
    "                         name='Datos Ajustados (optimizados)',\n",
    "                         line=dict(color='green', width=1)), \n",
    "              row=1, col=1)\n",
    "\n",
    "fig.add_trace(go.Scatter(x=tR, \n",
    "                         y=dReg,\n",
    "                         mode='markers', \n",
    "                         name='Datos Registrados', \n",
    "                         #alpha=.4, \n",
    "                         marker=dict(color='purple')), \n",
    "              row=2, col=1)\n",
    "fig.add_trace(go.Scatter(x=dTrExtrap, \n",
    "                         y=dExtrap_sr, \n",
    "                         mode='lines', \n",
    "                         name='Datos Extrapolados (sin optimizar)', \n",
    "                         line=dict(color='red', \n",
    "                         width=1)), \n",
    "              row=2, col=1)\n",
    "fig.add_trace(go.Scatter(x=dTrExtrap, \n",
    "                         y=dExtrap, \n",
    "                         mode='lines', \n",
    "                         name='Datos Extrapolados (optimizados)', \n",
    "                         line=dict(color='green', \n",
    "                         width=1)), \n",
    "              row=2, col=1)\n",
    "\n",
    "# Configurar el layout\n",
    "fig.update_layout(\n",
    "    title_text=titulo0,\n",
    "    title_x=0.5,  # Centra el título\n",
    "    #xaxis_type=\"log\",  # Eje x semilogarítmico\n",
    "    #yaxis_title=\"Gastos (m³/s)\",\n",
    "    showlegend=True,\n",
    "    legend=dict(x=0.004, y=0.99))\n",
    "\n",
    "# Configurar ambos ejes x como logarítmicos\n",
    "fig.update_xaxes(type=\"log\", \n",
    "                 range=[0, 2], \n",
    "                 showgrid=True, \n",
    "                 gridcolor='lightgray', \n",
    "                 row=1, col=1)  # Eje x de la primera fila\n",
    "fig.update_xaxes(type=\"log\", \n",
    "                 range=[0, 4], \n",
    "                 title=\"Tr (Periodos de retorno)\", \n",
    "                 showgrid=True, \n",
    "                 gridcolor='lightgray', \n",
    "                 row=2, col=1)  # Eje x de la segunda fila\n",
    "fig.update_yaxes(title_text=\"Gastos (m³/s)\", \n",
    "                 showgrid=True, \n",
    "                 gridcolor='lightgray', \n",
    "                 row=1, col=1)\n",
    "fig.update_yaxes(title_text=\"Gastos (m³/s)\", \n",
    "                 showgrid=True, \n",
    "                 gridcolor='lightgray', \n",
    "                 row=2, col=1)\n",
    "\n",
    "fig.show()"
   ]
  },
  {
   "cell_type": "code",
   "execution_count": 32,
   "id": "15ede775-1251-4d88-8a71-bd32716949b8",
   "metadata": {},
   "outputs": [],
   "source": [
    "fig.write_html(r'C:\\Users\\sear2\\Music\\analisis_frecuencias\\Analisis_de_Frecuencias\\salidas\\grafico_plotly_dgumbe0.html')"
   ]
  },
  {
   "cell_type": "code",
   "execution_count": 37,
   "id": "b1b787e8-07b9-40bc-b0ff-c4e87ab9d642",
   "metadata": {},
   "outputs": [
    {
     "data": {
      "application/vnd.plotly.v1+json": {
       "config": {
        "plotlyServerURL": "https://plot.ly"
       },
       "data": [
        {
         "marker": {
          "color": "blue"
         },
         "mode": "markers",
         "name": "Datos Registrados",
         "type": "scatter",
         "x": [
          63,
          31.5,
          21,
          15.75,
          12.6,
          10.5,
          9,
          7.875,
          7,
          6.3,
          5.7272727272727275,
          5.25,
          4.846153846153846,
          4.5,
          4.2,
          3.9375,
          3.7058823529411766,
          3.5,
          3.3157894736842106,
          3.15,
          3,
          2.8636363636363638,
          2.739130434782609,
          2.625,
          2.52,
          2.423076923076923,
          2.3333333333333335,
          2.25,
          2.1724137931034484,
          2.1,
          2.032258064516129,
          1.96875,
          1.9090909090909092,
          1.8529411764705883,
          1.8,
          1.75,
          1.7027027027027026,
          1.6578947368421053,
          1.6153846153846154,
          1.575,
          1.5365853658536586,
          1.5,
          1.4651162790697674,
          1.4318181818181819,
          1.4,
          1.3695652173913044,
          1.3404255319148937,
          1.3125,
          1.2857142857142858,
          1.26,
          1.2352941176470589,
          1.2115384615384615,
          1.1886792452830188,
          1.1666666666666667,
          1.1454545454545455,
          1.125,
          1.105263157894737,
          1.0862068965517242,
          1.0677966101694916,
          1.05,
          1.0327868852459017,
          1.0161290322580645
         ],
         "xaxis": "x",
         "y": [
          13713,
          11800,
          4235,
          3992,
          3979,
          3662,
          3533,
          3388,
          3245,
          3205,
          2917,
          2747,
          2734,
          2654,
          2583,
          2319,
          2311,
          2310,
          2248,
          2150,
          2133,
          1899,
          1899,
          1894,
          1861,
          1797,
          1771,
          1716,
          1652,
          1640,
          1631,
          1598,
          1507,
          1494,
          1397,
          1395,
          1371,
          1332,
          1288,
          1244,
          1232,
          1202,
          1173,
          1157,
          1131,
          1087,
          1049,
          1030,
          1030,
          1014,
          995,
          954,
          925,
          922,
          907,
          852,
          832,
          751,
          743,
          720,
          652,
          632
         ],
         "yaxis": "y"
        },
        {
         "line": {
          "color": "green",
          "width": 1
         },
         "mode": "lines",
         "name": "Datos Ajustados (optimizados)",
         "type": "scatter",
         "x": [
          63,
          31.5,
          21,
          15.75,
          12.6,
          10.5,
          9,
          7.875,
          7,
          6.3,
          5.7272727272727275,
          5.25,
          4.846153846153846,
          4.5,
          4.2,
          3.9375,
          3.7058823529411766,
          3.5,
          3.3157894736842106,
          3.15,
          3,
          2.8636363636363638,
          2.739130434782609,
          2.625,
          2.52,
          2.423076923076923,
          2.3333333333333335,
          2.25,
          2.1724137931034484,
          2.1,
          2.032258064516129,
          1.96875,
          1.9090909090909092,
          1.8529411764705883,
          1.8,
          1.75,
          1.7027027027027026,
          1.6578947368421053,
          1.6153846153846154,
          1.575,
          1.5365853658536586,
          1.5,
          1.4651162790697674,
          1.4318181818181819,
          1.4,
          1.3695652173913044,
          1.3404255319148937,
          1.3125,
          1.2857142857142858,
          1.26,
          1.2352941176470589,
          1.2115384615384615,
          1.1886792452830188,
          1.1666666666666667,
          1.1454545454545455,
          1.125,
          1.105263157894737,
          1.0862068965517242,
          1.0677966101694916,
          1.05,
          1.0327868852459017,
          1.0161290322580645
         ],
         "xaxis": "x",
         "y": [
          14800.272815779412,
          12832.462508064902,
          5402.209141050962,
          4161.09154405297,
          3716.9561677466395,
          3437.9899528192236,
          3233.0862452891893,
          3070.407905662548,
          2935.036437299014,
          2818.769016584577,
          2716.6079694679142,
          2625.281070824888,
          2542.5280014008995,
          2466.7212842456784,
          2396.649572956553,
          2331.3863901844925,
          2270.206819027336,
          2212.532544878149,
          2157.8944000306087,
          2105.9061161990576,
          2056.2454820170005,
          2008.6405270910043,
          1962.8591996114394,
          1918.701522911139,
          1875.9935434708495,
          1834.5825945813515,
          1794.3335400215233,
          1755.1257567709868,
          1716.8506808615907,
          1679.4097859301562,
          1642.7128962124243,
          1606.6767587399438,
          1571.2238160909642,
          1536.2811330227596,
          1501.7794388995108,
          1467.6522538465374,
          1433.835070543937,
          1400.2645658460729,
          1366.8778171336462,
          1333.6114974747688,
          1300.4010211322764,
          1267.1796063556067,
          1233.8772151267547,
          1200.4193186049054,
          1166.7254208711092,
          1132.7072497348152,
          1098.2664878473142,
          1063.291863652596,
          1027.6553388512589,
          991.2069981653095,
          953.7680345687179,
          915.1208663798201,
          874.9948010494456,
          833.0445289857621,
          788.8165612759304,
          741.6942981346938,
          690.8026648154032,
          634.8296142949005,
          571.6568437665019,
          497.4800261016064,
          404.2025663059717,
          267.8849723401769
         ],
         "yaxis": "y"
        },
        {
         "marker": {
          "color": "purple"
         },
         "mode": "markers",
         "name": "Datos Registrados",
         "type": "scatter",
         "x": [
          63,
          31.5,
          21,
          15.75,
          12.6,
          10.5,
          9,
          7.875,
          7,
          6.3,
          5.7272727272727275,
          5.25,
          4.846153846153846,
          4.5,
          4.2,
          3.9375,
          3.7058823529411766,
          3.5,
          3.3157894736842106,
          3.15,
          3,
          2.8636363636363638,
          2.739130434782609,
          2.625,
          2.52,
          2.423076923076923,
          2.3333333333333335,
          2.25,
          2.1724137931034484,
          2.1,
          2.032258064516129,
          1.96875,
          1.9090909090909092,
          1.8529411764705883,
          1.8,
          1.75,
          1.7027027027027026,
          1.6578947368421053,
          1.6153846153846154,
          1.575,
          1.5365853658536586,
          1.5,
          1.4651162790697674,
          1.4318181818181819,
          1.4,
          1.3695652173913044,
          1.3404255319148937,
          1.3125,
          1.2857142857142858,
          1.26,
          1.2352941176470589,
          1.2115384615384615,
          1.1886792452830188,
          1.1666666666666667,
          1.1454545454545455,
          1.125,
          1.105263157894737,
          1.0862068965517242,
          1.0677966101694916,
          1.05,
          1.0327868852459017,
          1.0161290322580645
         ],
         "xaxis": "x2",
         "y": [
          13713,
          11800,
          4235,
          3992,
          3979,
          3662,
          3533,
          3388,
          3245,
          3205,
          2917,
          2747,
          2734,
          2654,
          2583,
          2319,
          2311,
          2310,
          2248,
          2150,
          2133,
          1899,
          1899,
          1894,
          1861,
          1797,
          1771,
          1716,
          1652,
          1640,
          1631,
          1598,
          1507,
          1494,
          1397,
          1395,
          1371,
          1332,
          1288,
          1244,
          1232,
          1202,
          1173,
          1157,
          1131,
          1087,
          1049,
          1030,
          1030,
          1014,
          995,
          954,
          925,
          922,
          907,
          852,
          832,
          751,
          743,
          720,
          652,
          632
         ],
         "yaxis": "y2"
        },
        {
         "line": {
          "color": "green",
          "width": 1
         },
         "mode": "lines",
         "name": "Datos Extrapolados (optimizados)",
         "type": "scatter",
         "x": [
          2,
          5,
          10,
          20,
          50,
          100,
          200,
          500,
          1000,
          2000,
          5000,
          10000
         ],
         "xaxis": "x2",
         "y": [
          1624.6172010444855,
          2574.715663557531,
          3370.7151695938073,
          5031.217172839053,
          14231.407890723636,
          15833.444583297805,
          17256.89523569787,
          19042.42249187309,
          20363.22950344047,
          21672.912163137426,
          23396.36735042774,
          24697.380106961475
         ],
         "yaxis": "y2"
        }
       ],
       "layout": {
        "annotations": [
         {
          "font": {
           "size": 16
          },
          "showarrow": false,
          "text": "Datos ajustados",
          "x": 0.5,
          "xanchor": "center",
          "xref": "paper",
          "y": 1,
          "yanchor": "bottom",
          "yref": "paper"
         },
         {
          "font": {
           "size": 16
          },
          "showarrow": false,
          "text": "Datos extrapolados",
          "x": 0.5,
          "xanchor": "center",
          "xref": "paper",
          "y": 0.455,
          "yanchor": "bottom",
          "yref": "paper"
         }
        ],
        "autosize": true,
        "legend": {
         "x": 0.004,
         "y": 0.99
        },
        "showlegend": true,
        "template": {
         "data": {
          "bar": [
           {
            "error_x": {
             "color": "#2a3f5f"
            },
            "error_y": {
             "color": "#2a3f5f"
            },
            "marker": {
             "line": {
              "color": "#E5ECF6",
              "width": 0.5
             },
             "pattern": {
              "fillmode": "overlay",
              "size": 10,
              "solidity": 0.2
             }
            },
            "type": "bar"
           }
          ],
          "barpolar": [
           {
            "marker": {
             "line": {
              "color": "#E5ECF6",
              "width": 0.5
             },
             "pattern": {
              "fillmode": "overlay",
              "size": 10,
              "solidity": 0.2
             }
            },
            "type": "barpolar"
           }
          ],
          "carpet": [
           {
            "aaxis": {
             "endlinecolor": "#2a3f5f",
             "gridcolor": "white",
             "linecolor": "white",
             "minorgridcolor": "white",
             "startlinecolor": "#2a3f5f"
            },
            "baxis": {
             "endlinecolor": "#2a3f5f",
             "gridcolor": "white",
             "linecolor": "white",
             "minorgridcolor": "white",
             "startlinecolor": "#2a3f5f"
            },
            "type": "carpet"
           }
          ],
          "choropleth": [
           {
            "colorbar": {
             "outlinewidth": 0,
             "ticks": ""
            },
            "type": "choropleth"
           }
          ],
          "contour": [
           {
            "colorbar": {
             "outlinewidth": 0,
             "ticks": ""
            },
            "colorscale": [
             [
              0,
              "#0d0887"
             ],
             [
              0.1111111111111111,
              "#46039f"
             ],
             [
              0.2222222222222222,
              "#7201a8"
             ],
             [
              0.3333333333333333,
              "#9c179e"
             ],
             [
              0.4444444444444444,
              "#bd3786"
             ],
             [
              0.5555555555555556,
              "#d8576b"
             ],
             [
              0.6666666666666666,
              "#ed7953"
             ],
             [
              0.7777777777777778,
              "#fb9f3a"
             ],
             [
              0.8888888888888888,
              "#fdca26"
             ],
             [
              1,
              "#f0f921"
             ]
            ],
            "type": "contour"
           }
          ],
          "contourcarpet": [
           {
            "colorbar": {
             "outlinewidth": 0,
             "ticks": ""
            },
            "type": "contourcarpet"
           }
          ],
          "heatmap": [
           {
            "colorbar": {
             "outlinewidth": 0,
             "ticks": ""
            },
            "colorscale": [
             [
              0,
              "#0d0887"
             ],
             [
              0.1111111111111111,
              "#46039f"
             ],
             [
              0.2222222222222222,
              "#7201a8"
             ],
             [
              0.3333333333333333,
              "#9c179e"
             ],
             [
              0.4444444444444444,
              "#bd3786"
             ],
             [
              0.5555555555555556,
              "#d8576b"
             ],
             [
              0.6666666666666666,
              "#ed7953"
             ],
             [
              0.7777777777777778,
              "#fb9f3a"
             ],
             [
              0.8888888888888888,
              "#fdca26"
             ],
             [
              1,
              "#f0f921"
             ]
            ],
            "type": "heatmap"
           }
          ],
          "heatmapgl": [
           {
            "colorbar": {
             "outlinewidth": 0,
             "ticks": ""
            },
            "colorscale": [
             [
              0,
              "#0d0887"
             ],
             [
              0.1111111111111111,
              "#46039f"
             ],
             [
              0.2222222222222222,
              "#7201a8"
             ],
             [
              0.3333333333333333,
              "#9c179e"
             ],
             [
              0.4444444444444444,
              "#bd3786"
             ],
             [
              0.5555555555555556,
              "#d8576b"
             ],
             [
              0.6666666666666666,
              "#ed7953"
             ],
             [
              0.7777777777777778,
              "#fb9f3a"
             ],
             [
              0.8888888888888888,
              "#fdca26"
             ],
             [
              1,
              "#f0f921"
             ]
            ],
            "type": "heatmapgl"
           }
          ],
          "histogram": [
           {
            "marker": {
             "pattern": {
              "fillmode": "overlay",
              "size": 10,
              "solidity": 0.2
             }
            },
            "type": "histogram"
           }
          ],
          "histogram2d": [
           {
            "colorbar": {
             "outlinewidth": 0,
             "ticks": ""
            },
            "colorscale": [
             [
              0,
              "#0d0887"
             ],
             [
              0.1111111111111111,
              "#46039f"
             ],
             [
              0.2222222222222222,
              "#7201a8"
             ],
             [
              0.3333333333333333,
              "#9c179e"
             ],
             [
              0.4444444444444444,
              "#bd3786"
             ],
             [
              0.5555555555555556,
              "#d8576b"
             ],
             [
              0.6666666666666666,
              "#ed7953"
             ],
             [
              0.7777777777777778,
              "#fb9f3a"
             ],
             [
              0.8888888888888888,
              "#fdca26"
             ],
             [
              1,
              "#f0f921"
             ]
            ],
            "type": "histogram2d"
           }
          ],
          "histogram2dcontour": [
           {
            "colorbar": {
             "outlinewidth": 0,
             "ticks": ""
            },
            "colorscale": [
             [
              0,
              "#0d0887"
             ],
             [
              0.1111111111111111,
              "#46039f"
             ],
             [
              0.2222222222222222,
              "#7201a8"
             ],
             [
              0.3333333333333333,
              "#9c179e"
             ],
             [
              0.4444444444444444,
              "#bd3786"
             ],
             [
              0.5555555555555556,
              "#d8576b"
             ],
             [
              0.6666666666666666,
              "#ed7953"
             ],
             [
              0.7777777777777778,
              "#fb9f3a"
             ],
             [
              0.8888888888888888,
              "#fdca26"
             ],
             [
              1,
              "#f0f921"
             ]
            ],
            "type": "histogram2dcontour"
           }
          ],
          "mesh3d": [
           {
            "colorbar": {
             "outlinewidth": 0,
             "ticks": ""
            },
            "type": "mesh3d"
           }
          ],
          "parcoords": [
           {
            "line": {
             "colorbar": {
              "outlinewidth": 0,
              "ticks": ""
             }
            },
            "type": "parcoords"
           }
          ],
          "pie": [
           {
            "automargin": true,
            "type": "pie"
           }
          ],
          "scatter": [
           {
            "fillpattern": {
             "fillmode": "overlay",
             "size": 10,
             "solidity": 0.2
            },
            "type": "scatter"
           }
          ],
          "scatter3d": [
           {
            "line": {
             "colorbar": {
              "outlinewidth": 0,
              "ticks": ""
             }
            },
            "marker": {
             "colorbar": {
              "outlinewidth": 0,
              "ticks": ""
             }
            },
            "type": "scatter3d"
           }
          ],
          "scattercarpet": [
           {
            "marker": {
             "colorbar": {
              "outlinewidth": 0,
              "ticks": ""
             }
            },
            "type": "scattercarpet"
           }
          ],
          "scattergeo": [
           {
            "marker": {
             "colorbar": {
              "outlinewidth": 0,
              "ticks": ""
             }
            },
            "type": "scattergeo"
           }
          ],
          "scattergl": [
           {
            "marker": {
             "colorbar": {
              "outlinewidth": 0,
              "ticks": ""
             }
            },
            "type": "scattergl"
           }
          ],
          "scattermapbox": [
           {
            "marker": {
             "colorbar": {
              "outlinewidth": 0,
              "ticks": ""
             }
            },
            "type": "scattermapbox"
           }
          ],
          "scatterpolar": [
           {
            "marker": {
             "colorbar": {
              "outlinewidth": 0,
              "ticks": ""
             }
            },
            "type": "scatterpolar"
           }
          ],
          "scatterpolargl": [
           {
            "marker": {
             "colorbar": {
              "outlinewidth": 0,
              "ticks": ""
             }
            },
            "type": "scatterpolargl"
           }
          ],
          "scatterternary": [
           {
            "marker": {
             "colorbar": {
              "outlinewidth": 0,
              "ticks": ""
             }
            },
            "type": "scatterternary"
           }
          ],
          "surface": [
           {
            "colorbar": {
             "outlinewidth": 0,
             "ticks": ""
            },
            "colorscale": [
             [
              0,
              "#0d0887"
             ],
             [
              0.1111111111111111,
              "#46039f"
             ],
             [
              0.2222222222222222,
              "#7201a8"
             ],
             [
              0.3333333333333333,
              "#9c179e"
             ],
             [
              0.4444444444444444,
              "#bd3786"
             ],
             [
              0.5555555555555556,
              "#d8576b"
             ],
             [
              0.6666666666666666,
              "#ed7953"
             ],
             [
              0.7777777777777778,
              "#fb9f3a"
             ],
             [
              0.8888888888888888,
              "#fdca26"
             ],
             [
              1,
              "#f0f921"
             ]
            ],
            "type": "surface"
           }
          ],
          "table": [
           {
            "cells": {
             "fill": {
              "color": "#EBF0F8"
             },
             "line": {
              "color": "white"
             }
            },
            "header": {
             "fill": {
              "color": "#C8D4E3"
             },
             "line": {
              "color": "white"
             }
            },
            "type": "table"
           }
          ]
         },
         "layout": {
          "annotationdefaults": {
           "arrowcolor": "#2a3f5f",
           "arrowhead": 0,
           "arrowwidth": 1
          },
          "autotypenumbers": "strict",
          "coloraxis": {
           "colorbar": {
            "outlinewidth": 0,
            "ticks": ""
           }
          },
          "colorscale": {
           "diverging": [
            [
             0,
             "#8e0152"
            ],
            [
             0.1,
             "#c51b7d"
            ],
            [
             0.2,
             "#de77ae"
            ],
            [
             0.3,
             "#f1b6da"
            ],
            [
             0.4,
             "#fde0ef"
            ],
            [
             0.5,
             "#f7f7f7"
            ],
            [
             0.6,
             "#e6f5d0"
            ],
            [
             0.7,
             "#b8e186"
            ],
            [
             0.8,
             "#7fbc41"
            ],
            [
             0.9,
             "#4d9221"
            ],
            [
             1,
             "#276419"
            ]
           ],
           "sequential": [
            [
             0,
             "#0d0887"
            ],
            [
             0.1111111111111111,
             "#46039f"
            ],
            [
             0.2222222222222222,
             "#7201a8"
            ],
            [
             0.3333333333333333,
             "#9c179e"
            ],
            [
             0.4444444444444444,
             "#bd3786"
            ],
            [
             0.5555555555555556,
             "#d8576b"
            ],
            [
             0.6666666666666666,
             "#ed7953"
            ],
            [
             0.7777777777777778,
             "#fb9f3a"
            ],
            [
             0.8888888888888888,
             "#fdca26"
            ],
            [
             1,
             "#f0f921"
            ]
           ],
           "sequentialminus": [
            [
             0,
             "#0d0887"
            ],
            [
             0.1111111111111111,
             "#46039f"
            ],
            [
             0.2222222222222222,
             "#7201a8"
            ],
            [
             0.3333333333333333,
             "#9c179e"
            ],
            [
             0.4444444444444444,
             "#bd3786"
            ],
            [
             0.5555555555555556,
             "#d8576b"
            ],
            [
             0.6666666666666666,
             "#ed7953"
            ],
            [
             0.7777777777777778,
             "#fb9f3a"
            ],
            [
             0.8888888888888888,
             "#fdca26"
            ],
            [
             1,
             "#f0f921"
            ]
           ]
          },
          "colorway": [
           "#636efa",
           "#EF553B",
           "#00cc96",
           "#ab63fa",
           "#FFA15A",
           "#19d3f3",
           "#FF6692",
           "#B6E880",
           "#FF97FF",
           "#FECB52"
          ],
          "font": {
           "color": "#2a3f5f"
          },
          "geo": {
           "bgcolor": "white",
           "lakecolor": "white",
           "landcolor": "#E5ECF6",
           "showlakes": true,
           "showland": true,
           "subunitcolor": "white"
          },
          "hoverlabel": {
           "align": "left"
          },
          "hovermode": "closest",
          "mapbox": {
           "style": "light"
          },
          "paper_bgcolor": "white",
          "plot_bgcolor": "#E5ECF6",
          "polar": {
           "angularaxis": {
            "gridcolor": "white",
            "linecolor": "white",
            "ticks": ""
           },
           "bgcolor": "#E5ECF6",
           "radialaxis": {
            "gridcolor": "white",
            "linecolor": "white",
            "ticks": ""
           }
          },
          "scene": {
           "xaxis": {
            "backgroundcolor": "#E5ECF6",
            "gridcolor": "white",
            "gridwidth": 2,
            "linecolor": "white",
            "showbackground": true,
            "ticks": "",
            "zerolinecolor": "white"
           },
           "yaxis": {
            "backgroundcolor": "#E5ECF6",
            "gridcolor": "white",
            "gridwidth": 2,
            "linecolor": "white",
            "showbackground": true,
            "ticks": "",
            "zerolinecolor": "white"
           },
           "zaxis": {
            "backgroundcolor": "#E5ECF6",
            "gridcolor": "white",
            "gridwidth": 2,
            "linecolor": "white",
            "showbackground": true,
            "ticks": "",
            "zerolinecolor": "white"
           }
          },
          "shapedefaults": {
           "line": {
            "color": "#2a3f5f"
           }
          },
          "ternary": {
           "aaxis": {
            "gridcolor": "white",
            "linecolor": "white",
            "ticks": ""
           },
           "baxis": {
            "gridcolor": "white",
            "linecolor": "white",
            "ticks": ""
           },
           "bgcolor": "#E5ECF6",
           "caxis": {
            "gridcolor": "white",
            "linecolor": "white",
            "ticks": ""
           }
          },
          "title": {
           "x": 0.05
          },
          "xaxis": {
           "automargin": true,
           "gridcolor": "white",
           "linecolor": "white",
           "ticks": "",
           "title": {
            "standoff": 15
           },
           "zerolinecolor": "white",
           "zerolinewidth": 2
          },
          "yaxis": {
           "automargin": true,
           "gridcolor": "white",
           "linecolor": "white",
           "ticks": "",
           "title": {
            "standoff": 15
           },
           "zerolinecolor": "white",
           "zerolinewidth": 2
          }
         }
        },
        "title": {
         "text": "Distribucion Doble Gumbel (Algoritmo de Rosenbrock)<br> EE= 290.8591109834111",
         "x": 0.5
        },
        "xaxis": {
         "anchor": "y",
         "domain": [
          0,
          1
         ],
         "gridcolor": "lightgray",
         "range": [
          0,
          2
         ],
         "showgrid": true,
         "type": "log"
        },
        "xaxis2": {
         "anchor": "y2",
         "domain": [
          0,
          1
         ],
         "gridcolor": "lightgray",
         "range": [
          0,
          4
         ],
         "showgrid": true,
         "title": {
          "text": "Tr (Periodos de retorno)"
         },
         "type": "log"
        },
        "yaxis": {
         "anchor": "x",
         "autorange": true,
         "domain": [
          0.545,
          1
         ],
         "gridcolor": "lightgray",
         "range": [
          -956.7664413920738,
          15629.590671420015
         ],
         "showgrid": true,
         "title": {
          "text": "Gastos (m³/s)"
         },
         "type": "linear"
        },
        "yaxis2": {
         "anchor": "x2",
         "autorange": true,
         "domain": [
          0,
          0.455
         ],
         "gridcolor": "lightgray",
         "range": [
          -2066.583575459016,
          26106.00977445729
         ],
         "showgrid": true,
         "title": {
          "text": "Gastos (m³/s)"
         },
         "type": "linear"
        }
       }
      },
      "image/png": "[encoded data removed]",
      "text/html": [
       "<div>                            <div id=\"366b74a7-fdb7-4033-b1be-65bff085e4d2\" class=\"plotly-graph-div\" style=\"height:525px; width:100%;\"></div>            <script type=\"text/javascript\">                require([\"plotly\"], function(Plotly) {                    window.PLOTLYENV=window.PLOTLYENV || {};                                    if (document.getElementById(\"366b74a7-fdb7-4033-b1be-65bff085e4d2\")) {                    Plotly.newPlot(                        \"366b74a7-fdb7-4033-b1be-65bff085e4d2\",                        [{\"marker\":{\"color\":\"blue\"},\"mode\":\"markers\",\"name\":\"Datos Registrados\",\"x\":[63.0,31.5,21.0,15.75,12.6,10.5,9.0,7.875,7.0,6.3,5.7272727272727275,5.25,4.846153846153846,4.5,4.2,3.9375,3.7058823529411766,3.5,3.3157894736842106,3.15,3.0,2.8636363636363638,2.739130434782609,2.625,2.52,2.423076923076923,2.3333333333333335,2.25,2.1724137931034484,2.1,2.032258064516129,1.96875,1.9090909090909092,1.8529411764705883,1.8,1.75,1.7027027027027026,1.6578947368421053,1.6153846153846154,1.575,1.5365853658536586,1.5,1.4651162790697674,1.4318181818181819,1.4,1.3695652173913044,1.3404255319148937,1.3125,1.2857142857142858,1.26,1.2352941176470589,1.2115384615384615,1.1886792452830188,1.1666666666666667,1.1454545454545455,1.125,1.105263157894737,1.0862068965517242,1.0677966101694916,1.05,1.0327868852459017,1.0161290322580645],\"y\":[13713.0,11800.0,4235.0,3992.0,3979.0,3662.0,3533.0,3388.0,3245.0,3205.0,2917.0,2747.0,2734.0,2654.0,2583.0,2319.0,2311.0,2310.0,2248.0,2150.0,2133.0,1899.0,1899.0,1894.0,1861.0,1797.0,1771.0,1716.0,1652.0,1640.0,1631.0,1598.0,1507.0,1494.0,1397.0,1395.0,1371.0,1332.0,1288.0,1244.0,1232.0,1202.0,1173.0,1157.0,1131.0,1087.0,1049.0,1030.0,1030.0,1014.0,995.0,954.0,925.0,922.0,907.0,852.0,832.0,751.0,743.0,720.0,652.0,632.0],\"type\":\"scatter\",\"xaxis\":\"x\",\"yaxis\":\"y\"},{\"line\":{\"color\":\"green\",\"width\":1},\"mode\":\"lines\",\"name\":\"Datos Ajustados (optimizados)\",\"x\":[63.0,31.5,21.0,15.75,12.6,10.5,9.0,7.875,7.0,6.3,5.7272727272727275,5.25,4.846153846153846,4.5,4.2,3.9375,3.7058823529411766,3.5,3.3157894736842106,3.15,3.0,2.8636363636363638,2.739130434782609,2.625,2.52,2.423076923076923,2.3333333333333335,2.25,2.1724137931034484,2.1,2.032258064516129,1.96875,1.9090909090909092,1.8529411764705883,1.8,1.75,1.7027027027027026,1.6578947368421053,1.6153846153846154,1.575,1.5365853658536586,1.5,1.4651162790697674,1.4318181818181819,1.4,1.3695652173913044,1.3404255319148937,1.3125,1.2857142857142858,1.26,1.2352941176470589,1.2115384615384615,1.1886792452830188,1.1666666666666667,1.1454545454545455,1.125,1.105263157894737,1.0862068965517242,1.0677966101694916,1.05,1.0327868852459017,1.0161290322580645],\"y\":[14800.272815779412,12832.462508064902,5402.209141050962,4161.09154405297,3716.9561677466395,3437.9899528192236,3233.0862452891893,3070.407905662548,2935.036437299014,2818.769016584577,2716.6079694679142,2625.281070824888,2542.5280014008995,2466.7212842456784,2396.649572956553,2331.3863901844925,2270.206819027336,2212.532544878149,2157.8944000306087,2105.9061161990576,2056.2454820170005,2008.6405270910043,1962.8591996114394,1918.701522911139,1875.9935434708495,1834.5825945813515,1794.3335400215233,1755.1257567709868,1716.8506808615907,1679.4097859301562,1642.7128962124243,1606.6767587399438,1571.2238160909642,1536.2811330227596,1501.7794388995108,1467.6522538465374,1433.835070543937,1400.2645658460729,1366.8778171336462,1333.6114974747688,1300.4010211322764,1267.1796063556067,1233.8772151267547,1200.4193186049054,1166.7254208711092,1132.7072497348152,1098.2664878473142,1063.291863652596,1027.6553388512589,991.2069981653095,953.7680345687179,915.1208663798201,874.9948010494456,833.0445289857621,788.8165612759304,741.6942981346938,690.8026648154032,634.8296142949005,571.6568437665019,497.4800261016064,404.2025663059717,267.8849723401769],\"type\":\"scatter\",\"xaxis\":\"x\",\"yaxis\":\"y\"},{\"marker\":{\"color\":\"purple\"},\"mode\":\"markers\",\"name\":\"Datos Registrados\",\"x\":[63.0,31.5,21.0,15.75,12.6,10.5,9.0,7.875,7.0,6.3,5.7272727272727275,5.25,4.846153846153846,4.5,4.2,3.9375,3.7058823529411766,3.5,3.3157894736842106,3.15,3.0,2.8636363636363638,2.739130434782609,2.625,2.52,2.423076923076923,2.3333333333333335,2.25,2.1724137931034484,2.1,2.032258064516129,1.96875,1.9090909090909092,1.8529411764705883,1.8,1.75,1.7027027027027026,1.6578947368421053,1.6153846153846154,1.575,1.5365853658536586,1.5,1.4651162790697674,1.4318181818181819,1.4,1.3695652173913044,1.3404255319148937,1.3125,1.2857142857142858,1.26,1.2352941176470589,1.2115384615384615,1.1886792452830188,1.1666666666666667,1.1454545454545455,1.125,1.105263157894737,1.0862068965517242,1.0677966101694916,1.05,1.0327868852459017,1.0161290322580645],\"y\":[13713.0,11800.0,4235.0,3992.0,3979.0,3662.0,3533.0,3388.0,3245.0,3205.0,2917.0,2747.0,2734.0,2654.0,2583.0,2319.0,2311.0,2310.0,2248.0,2150.0,2133.0,1899.0,1899.0,1894.0,1861.0,1797.0,1771.0,1716.0,1652.0,1640.0,1631.0,1598.0,1507.0,1494.0,1397.0,1395.0,1371.0,1332.0,1288.0,1244.0,1232.0,1202.0,1173.0,1157.0,1131.0,1087.0,1049.0,1030.0,1030.0,1014.0,995.0,954.0,925.0,922.0,907.0,852.0,832.0,751.0,743.0,720.0,652.0,632.0],\"type\":\"scatter\",\"xaxis\":\"x2\",\"yaxis\":\"y2\"},{\"line\":{\"color\":\"green\",\"width\":1},\"mode\":\"lines\",\"name\":\"Datos Extrapolados (optimizados)\",\"x\":[2.0,5.0,10.0,20.0,50.0,100.0,200.0,500.0,1000.0,2000.0,5000.0,10000.0],\"y\":[1624.6172010444855,2574.715663557531,3370.7151695938073,5031.217172839053,14231.407890723636,15833.444583297805,17256.89523569787,19042.42249187309,20363.22950344047,21672.912163137426,23396.36735042774,24697.380106961475],\"type\":\"scatter\",\"xaxis\":\"x2\",\"yaxis\":\"y2\"}],                        {\"template\":{\"data\":{\"histogram2dcontour\":[{\"type\":\"histogram2dcontour\",\"colorbar\":{\"outlinewidth\":0,\"ticks\":\"\"},\"colorscale\":[[0.0,\"#0d0887\"],[0.1111111111111111,\"#46039f\"],[0.2222222222222222,\"#7201a8\"],[0.3333333333333333,\"#9c179e\"],[0.4444444444444444,\"#bd3786\"],[0.5555555555555556,\"#d8576b\"],[0.6666666666666666,\"#ed7953\"],[0.7777777777777778,\"#fb9f3a\"],[0.8888888888888888,\"#fdca26\"],[1.0,\"#f0f921\"]]}],\"choropleth\":[{\"type\":\"choropleth\",\"colorbar\":{\"outlinewidth\":0,\"ticks\":\"\"}}],\"histogram2d\":[{\"type\":\"histogram2d\",\"colorbar\":{\"outlinewidth\":0,\"ticks\":\"\"},\"colorscale\":[[0.0,\"#0d0887\"],[0.1111111111111111,\"#46039f\"],[0.2222222222222222,\"#7201a8\"],[0.3333333333333333,\"#9c179e\"],[0.4444444444444444,\"#bd3786\"],[0.5555555555555556,\"#d8576b\"],[0.6666666666666666,\"#ed7953\"],[0.7777777777777778,\"#fb9f3a\"],[0.8888888888888888,\"#fdca26\"],[1.0,\"#f0f921\"]]}],\"heatmap\":[{\"type\":\"heatmap\",\"colorbar\":{\"outlinewidth\":0,\"ticks\":\"\"},\"colorscale\":[[0.0,\"#0d0887\"],[0.1111111111111111,\"#46039f\"],[0.2222222222222222,\"#7201a8\"],[0.3333333333333333,\"#9c179e\"],[0.4444444444444444,\"#bd3786\"],[0.5555555555555556,\"#d8576b\"],[0.6666666666666666,\"#ed7953\"],[0.7777777777777778,\"#fb9f3a\"],[0.8888888888888888,\"#fdca26\"],[1.0,\"#f0f921\"]]}],\"heatmapgl\":[{\"type\":\"heatmapgl\",\"colorbar\":{\"outlinewidth\":0,\"ticks\":\"\"},\"colorscale\":[[0.0,\"#0d0887\"],[0.1111111111111111,\"#46039f\"],[0.2222222222222222,\"#7201a8\"],[0.3333333333333333,\"#9c179e\"],[0.4444444444444444,\"#bd3786\"],[0.5555555555555556,\"#d8576b\"],[0.6666666666666666,\"#ed7953\"],[0.7777777777777778,\"#fb9f3a\"],[0.8888888888888888,\"#fdca26\"],[1.0,\"#f0f921\"]]}],\"contourcarpet\":[{\"type\":\"contourcarpet\",\"colorbar\":{\"outlinewidth\":0,\"ticks\":\"\"}}],\"contour\":[{\"type\":\"contour\",\"colorbar\":{\"outlinewidth\":0,\"ticks\":\"\"},\"colorscale\":[[0.0,\"#0d0887\"],[0.1111111111111111,\"#46039f\"],[0.2222222222222222,\"#7201a8\"],[0.3333333333333333,\"#9c179e\"],[0.4444444444444444,\"#bd3786\"],[0.5555555555555556,\"#d8576b\"],[0.6666666666666666,\"#ed7953\"],[0.7777777777777778,\"#fb9f3a\"],[0.8888888888888888,\"#fdca26\"],[1.0,\"#f0f921\"]]}],\"surface\":[{\"type\":\"surface\",\"colorbar\":{\"outlinewidth\":0,\"ticks\":\"\"},\"colorscale\":[[0.0,\"#0d0887\"],[0.1111111111111111,\"#46039f\"],[0.2222222222222222,\"#7201a8\"],[0.3333333333333333,\"#9c179e\"],[0.4444444444444444,\"#bd3786\"],[0.5555555555555556,\"#d8576b\"],[0.6666666666666666,\"#ed7953\"],[0.7777777777777778,\"#fb9f3a\"],[0.8888888888888888,\"#fdca26\"],[1.0,\"#f0f921\"]]}],\"mesh3d\":[{\"type\":\"mesh3d\",\"colorbar\":{\"outlinewidth\":0,\"ticks\":\"\"}}],\"scatter\":[{\"fillpattern\":{\"fillmode\":\"overlay\",\"size\":10,\"solidity\":0.2},\"type\":\"scatter\"}],\"parcoords\":[{\"type\":\"parcoords\",\"line\":{\"colorbar\":{\"outlinewidth\":0,\"ticks\":\"\"}}}],\"scatterpolargl\":[{\"type\":\"scatterpolargl\",\"marker\":{\"colorbar\":{\"outlinewidth\":0,\"ticks\":\"\"}}}],\"bar\":[{\"error_x\":{\"color\":\"#2a3f5f\"},\"error_y\":{\"color\":\"#2a3f5f\"},\"marker\":{\"line\":{\"color\":\"#E5ECF6\",\"width\":0.5},\"pattern\":{\"fillmode\":\"overlay\",\"size\":10,\"solidity\":0.2}},\"type\":\"bar\"}],\"scattergeo\":[{\"type\":\"scattergeo\",\"marker\":{\"colorbar\":{\"outlinewidth\":0,\"ticks\":\"\"}}}],\"scatterpolar\":[{\"type\":\"scatterpolar\",\"marker\":{\"colorbar\":{\"outlinewidth\":0,\"ticks\":\"\"}}}],\"histogram\":[{\"marker\":{\"pattern\":{\"fillmode\":\"overlay\",\"size\":10,\"solidity\":0.2}},\"type\":\"histogram\"}],\"scattergl\":[{\"type\":\"scattergl\",\"marker\":{\"colorbar\":{\"outlinewidth\":0,\"ticks\":\"\"}}}],\"scatter3d\":[{\"type\":\"scatter3d\",\"line\":{\"colorbar\":{\"outlinewidth\":0,\"ticks\":\"\"}},\"marker\":{\"colorbar\":{\"outlinewidth\":0,\"ticks\":\"\"}}}],\"scattermapbox\":[{\"type\":\"scattermapbox\",\"marker\":{\"colorbar\":{\"outlinewidth\":0,\"ticks\":\"\"}}}],\"scatterternary\":[{\"type\":\"scatterternary\",\"marker\":{\"colorbar\":{\"outlinewidth\":0,\"ticks\":\"\"}}}],\"scattercarpet\":[{\"type\":\"scattercarpet\",\"marker\":{\"colorbar\":{\"outlinewidth\":0,\"ticks\":\"\"}}}],\"carpet\":[{\"aaxis\":{\"endlinecolor\":\"#2a3f5f\",\"gridcolor\":\"white\",\"linecolor\":\"white\",\"minorgridcolor\":\"white\",\"startlinecolor\":\"#2a3f5f\"},\"baxis\":{\"endlinecolor\":\"#2a3f5f\",\"gridcolor\":\"white\",\"linecolor\":\"white\",\"minorgridcolor\":\"white\",\"startlinecolor\":\"#2a3f5f\"},\"type\":\"carpet\"}],\"table\":[{\"cells\":{\"fill\":{\"color\":\"#EBF0F8\"},\"line\":{\"color\":\"white\"}},\"header\":{\"fill\":{\"color\":\"#C8D4E3\"},\"line\":{\"color\":\"white\"}},\"type\":\"table\"}],\"barpolar\":[{\"marker\":{\"line\":{\"color\":\"#E5ECF6\",\"width\":0.5},\"pattern\":{\"fillmode\":\"overlay\",\"size\":10,\"solidity\":0.2}},\"type\":\"barpolar\"}],\"pie\":[{\"automargin\":true,\"type\":\"pie\"}]},\"layout\":{\"autotypenumbers\":\"strict\",\"colorway\":[\"#636efa\",\"#EF553B\",\"#00cc96\",\"#ab63fa\",\"#FFA15A\",\"#19d3f3\",\"#FF6692\",\"#B6E880\",\"#FF97FF\",\"#FECB52\"],\"font\":{\"color\":\"#2a3f5f\"},\"hovermode\":\"closest\",\"hoverlabel\":{\"align\":\"left\"},\"paper_bgcolor\":\"white\",\"plot_bgcolor\":\"#E5ECF6\",\"polar\":{\"bgcolor\":\"#E5ECF6\",\"angularaxis\":{\"gridcolor\":\"white\",\"linecolor\":\"white\",\"ticks\":\"\"},\"radialaxis\":{\"gridcolor\":\"white\",\"linecolor\":\"white\",\"ticks\":\"\"}},\"ternary\":{\"bgcolor\":\"#E5ECF6\",\"aaxis\":{\"gridcolor\":\"white\",\"linecolor\":\"white\",\"ticks\":\"\"},\"baxis\":{\"gridcolor\":\"white\",\"linecolor\":\"white\",\"ticks\":\"\"},\"caxis\":{\"gridcolor\":\"white\",\"linecolor\":\"white\",\"ticks\":\"\"}},\"coloraxis\":{\"colorbar\":{\"outlinewidth\":0,\"ticks\":\"\"}},\"colorscale\":{\"sequential\":[[0.0,\"#0d0887\"],[0.1111111111111111,\"#46039f\"],[0.2222222222222222,\"#7201a8\"],[0.3333333333333333,\"#9c179e\"],[0.4444444444444444,\"#bd3786\"],[0.5555555555555556,\"#d8576b\"],[0.6666666666666666,\"#ed7953\"],[0.7777777777777778,\"#fb9f3a\"],[0.8888888888888888,\"#fdca26\"],[1.0,\"#f0f921\"]],\"sequentialminus\":[[0.0,\"#0d0887\"],[0.1111111111111111,\"#46039f\"],[0.2222222222222222,\"#7201a8\"],[0.3333333333333333,\"#9c179e\"],[0.4444444444444444,\"#bd3786\"],[0.5555555555555556,\"#d8576b\"],[0.6666666666666666,\"#ed7953\"],[0.7777777777777778,\"#fb9f3a\"],[0.8888888888888888,\"#fdca26\"],[1.0,\"#f0f921\"]],\"diverging\":[[0,\"#8e0152\"],[0.1,\"#c51b7d\"],[0.2,\"#de77ae\"],[0.3,\"#f1b6da\"],[0.4,\"#fde0ef\"],[0.5,\"#f7f7f7\"],[0.6,\"#e6f5d0\"],[0.7,\"#b8e186\"],[0.8,\"#7fbc41\"],[0.9,\"#4d9221\"],[1,\"#276419\"]]},\"xaxis\":{\"gridcolor\":\"white\",\"linecolor\":\"white\",\"ticks\":\"\",\"title\":{\"standoff\":15},\"zerolinecolor\":\"white\",\"automargin\":true,\"zerolinewidth\":2},\"yaxis\":{\"gridcolor\":\"white\",\"linecolor\":\"white\",\"ticks\":\"\",\"title\":{\"standoff\":15},\"zerolinecolor\":\"white\",\"automargin\":true,\"zerolinewidth\":2},\"scene\":{\"xaxis\":{\"backgroundcolor\":\"#E5ECF6\",\"gridcolor\":\"white\",\"linecolor\":\"white\",\"showbackground\":true,\"ticks\":\"\",\"zerolinecolor\":\"white\",\"gridwidth\":2},\"yaxis\":{\"backgroundcolor\":\"#E5ECF6\",\"gridcolor\":\"white\",\"linecolor\":\"white\",\"showbackground\":true,\"ticks\":\"\",\"zerolinecolor\":\"white\",\"gridwidth\":2},\"zaxis\":{\"backgroundcolor\":\"#E5ECF6\",\"gridcolor\":\"white\",\"linecolor\":\"white\",\"showbackground\":true,\"ticks\":\"\",\"zerolinecolor\":\"white\",\"gridwidth\":2}},\"shapedefaults\":{\"line\":{\"color\":\"#2a3f5f\"}},\"annotationdefaults\":{\"arrowcolor\":\"#2a3f5f\",\"arrowhead\":0,\"arrowwidth\":1},\"geo\":{\"bgcolor\":\"white\",\"landcolor\":\"#E5ECF6\",\"subunitcolor\":\"white\",\"showland\":true,\"showlakes\":true,\"lakecolor\":\"white\"},\"title\":{\"x\":0.05},\"mapbox\":{\"style\":\"light\"}}},\"xaxis\":{\"anchor\":\"y\",\"domain\":[0.0,1.0],\"type\":\"log\",\"range\":[0,2],\"showgrid\":true,\"gridcolor\":\"lightgray\"},\"yaxis\":{\"anchor\":\"x\",\"domain\":[0.545,1.0],\"title\":{\"text\":\"Gastos (m\\u00b3\\u002fs)\"},\"showgrid\":true,\"gridcolor\":\"lightgray\"},\"xaxis2\":{\"anchor\":\"y2\",\"domain\":[0.0,1.0],\"type\":\"log\",\"range\":[0,4],\"title\":{\"text\":\"Tr (Periodos de retorno)\"},\"showgrid\":true,\"gridcolor\":\"lightgray\"},\"yaxis2\":{\"anchor\":\"x2\",\"domain\":[0.0,0.455],\"title\":{\"text\":\"Gastos (m\\u00b3\\u002fs)\"},\"showgrid\":true,\"gridcolor\":\"lightgray\"},\"annotations\":[{\"font\":{\"size\":16},\"showarrow\":false,\"text\":\"Datos ajustados\",\"x\":0.5,\"xanchor\":\"center\",\"xref\":\"paper\",\"y\":1.0,\"yanchor\":\"bottom\",\"yref\":\"paper\"},{\"font\":{\"size\":16},\"showarrow\":false,\"text\":\"Datos extrapolados\",\"x\":0.5,\"xanchor\":\"center\",\"xref\":\"paper\",\"y\":0.455,\"yanchor\":\"bottom\",\"yref\":\"paper\"}],\"title\":{\"text\":\"Distribucion Doble Gumbel (Algoritmo de Rosenbrock)\\u003cbr\\u003e EE= 290.8591109834111\",\"x\":0.5},\"legend\":{\"x\":0.004,\"y\":0.99},\"showlegend\":true},                        {\"responsive\": true}                    ).then(function(){\n",
       "                            \n",
       "var gd = document.getElementById('366b74a7-fdb7-4033-b1be-65bff085e4d2');\n",
       "var x = new MutationObserver(function (mutations, observer) {{\n",
       "        var display = window.getComputedStyle(gd).display;\n",
       "        if (!display || display === 'none') {{\n",
       "            console.log([gd, 'removed!']);\n",
       "            Plotly.purge(gd);\n",
       "            observer.disconnect();\n",
       "        }}\n",
       "}});\n",
       "\n",
       "// Listen for the removal of the full notebook cells\n",
       "var notebookContainer = gd.closest('#notebook-container');\n",
       "if (notebookContainer) {{\n",
       "    x.observe(notebookContainer, {childList: true});\n",
       "}}\n",
       "\n",
       "// Listen for the clearing of the current output cell\n",
       "var outputEl = gd.closest('.output');\n",
       "if (outputEl) {{\n",
       "    x.observe(outputEl, {childList: true});\n",
       "}}\n",
       "\n",
       "                        })                };                });            </script>        </div>"
      ]
     },
     "metadata": {},
     "output_type": "display_data"
    }
   ],
   "source": [
    "#titulo0 = \"Distribucion Doble Gumbel (sin optimizar)\\n EE= \" + str(EE0)\n",
    "titulo1 = \"Distribucion Doble Gumbel (Algoritmo de Rosenbrock)<br> EE= \" + str(EE1)\n",
    "fig = make_subplots(rows=2, \n",
    "                    cols=1, \n",
    "                    shared_xaxes=False, \n",
    "                    vertical_spacing=0.09, \n",
    "                    subplot_titles=(\"Datos ajustados\", \"Datos extrapolados\"))\n",
    "# Gráfico 1: Datos Registrados (Scatter) y Datos Ajustados (Línea)\n",
    "fig.add_trace(go.Scatter(x=tR, \n",
    "                         y=dReg, \n",
    "                         mode='markers', \n",
    "                         name='Datos Registrados', \n",
    "                         #alpha=.4, \n",
    "                         marker=dict(color='blue')), \n",
    "              row=1, col=1)\n",
    "\"\"\"\n",
    "fig.add_trace(go.Scatter(x=tR, \n",
    "                         y=dAjust, \n",
    "                         mode='lines', \n",
    "                         name='Datos Ajustados (sin optimizar)', \n",
    "                         line=dict(color='red', width=1)), \n",
    "              row=1, col=1)\"\"\"\n",
    "fig.add_trace(go.Scatter(x=tR, \n",
    "                         y=dAjust1, \n",
    "                         mode='lines', \n",
    "                         name='Datos Ajustados (optimizados)',\n",
    "                         line=dict(color='green', width=1)), \n",
    "              row=1, col=1)\n",
    "\n",
    "fig.add_trace(go.Scatter(x=tR, \n",
    "                         y=dReg,\n",
    "                         mode='markers', \n",
    "                         name='Datos Registrados', \n",
    "                         #alpha=.4, \n",
    "                         marker=dict(color='purple')), \n",
    "              row=2, col=1)\n",
    "\"\"\"\n",
    "fig.add_trace(go.Scatter(x=dTrExtrap, \n",
    "                         y=dExtrap_sr, \n",
    "                         mode='lines', \n",
    "                         name='Datos Extrapolados (sin optimizar)', \n",
    "                         line=dict(color='red', \n",
    "                         width=1)), \n",
    "              row=2, col=1)\"\"\"\n",
    "fig.add_trace(go.Scatter(x=dTrExtrap, \n",
    "                         y=dExtrap, \n",
    "                         mode='lines', \n",
    "                         name='Datos Extrapolados (optimizados)', \n",
    "                         line=dict(color='green', \n",
    "                         width=1)), \n",
    "              row=2, col=1)\n",
    "\n",
    "# Configurar el layout\n",
    "fig.update_layout(\n",
    "    title_text=titulo1,\n",
    "    title_x=0.5,  # Centra el título\n",
    "    #xaxis_type=\"log\",  # Eje x semilogarítmico\n",
    "    #yaxis_title=\"Gastos (m³/s)\",\n",
    "    showlegend=True,\n",
    "    legend=dict(x=0.004, y=0.99))\n",
    "\n",
    "# Configurar ambos ejes x como logarítmicos\n",
    "fig.update_xaxes(type=\"log\", \n",
    "                 range=[0, 2], \n",
    "                 showgrid=True, \n",
    "                 gridcolor='lightgray', \n",
    "                 row=1, col=1)  # Eje x de la primera fila\n",
    "fig.update_xaxes(type=\"log\", \n",
    "                 range=[0, 4], \n",
    "                 title=\"Tr (Periodos de retorno)\", \n",
    "                 showgrid=True, \n",
    "                 gridcolor='lightgray', \n",
    "                 row=2, col=1)  # Eje x de la segunda fila\n",
    "fig.update_yaxes(title_text=\"Gastos (m³/s)\", \n",
    "                 showgrid=True, \n",
    "                 gridcolor='lightgray', \n",
    "                 row=1, col=1)\n",
    "fig.update_yaxes(title_text=\"Gastos (m³/s)\", \n",
    "                 showgrid=True, \n",
    "                 gridcolor='lightgray', \n",
    "                 row=2, col=1)\n",
    "\n",
    "fig.show()"
   ]
  },
  {
   "cell_type": "code",
   "execution_count": 35,
   "id": "1675373e-3a2e-44c9-8952-a243e6031268",
   "metadata": {},
   "outputs": [],
   "source": [
    "fig.write_html(r'C:\\Users\\sear2\\Music\\analisis_frecuencias\\Analisis_de_Frecuencias\\salidas\\grafico_plotly_dgumbel01.html')"
   ]
  },
  {
   "cell_type": "code",
   "execution_count": 42,
   "id": "b9348390-495c-442f-9504-452be88c48ae",
   "metadata": {},
   "outputs": [
    {
     "data": {
      "application/vnd.plotly.v1+json": {
       "config": {
        "plotlyServerURL": "https://plot.ly"
       },
       "data": [
        {
         "marker": {
          "color": "blue"
         },
         "mode": "markers",
         "name": "Datos Registrados",
         "type": "scatter",
         "x": [
          63,
          31.5,
          21,
          15.75,
          12.6,
          10.5,
          9,
          7.875,
          7,
          6.3,
          5.7272727272727275,
          5.25,
          4.846153846153846,
          4.5,
          4.2,
          3.9375,
          3.7058823529411766,
          3.5,
          3.3157894736842106,
          3.15,
          3,
          2.8636363636363638,
          2.739130434782609,
          2.625,
          2.52,
          2.423076923076923,
          2.3333333333333335,
          2.25,
          2.1724137931034484,
          2.1,
          2.032258064516129,
          1.96875,
          1.9090909090909092,
          1.8529411764705883,
          1.8,
          1.75,
          1.7027027027027026,
          1.6578947368421053,
          1.6153846153846154,
          1.575,
          1.5365853658536586,
          1.5,
          1.4651162790697674,
          1.4318181818181819,
          1.4,
          1.3695652173913044,
          1.3404255319148937,
          1.3125,
          1.2857142857142858,
          1.26,
          1.2352941176470589,
          1.2115384615384615,
          1.1886792452830188,
          1.1666666666666667,
          1.1454545454545455,
          1.125,
          1.105263157894737,
          1.0862068965517242,
          1.0677966101694916,
          1.05,
          1.0327868852459017,
          1.0161290322580645
         ],
         "xaxis": "x",
         "y": [
          13713,
          11800,
          4235,
          3992,
          3979,
          3662,
          3533,
          3388,
          3245,
          3205,
          2917,
          2747,
          2734,
          2654,
          2583,
          2319,
          2311,
          2310,
          2248,
          2150,
          2133,
          1899,
          1899,
          1894,
          1861,
          1797,
          1771,
          1716,
          1652,
          1640,
          1631,
          1598,
          1507,
          1494,
          1397,
          1395,
          1371,
          1332,
          1288,
          1244,
          1232,
          1202,
          1173,
          1157,
          1131,
          1087,
          1049,
          1030,
          1030,
          1014,
          995,
          954,
          925,
          922,
          907,
          852,
          832,
          751,
          743,
          720,
          652,
          632
         ],
         "yaxis": "y"
        },
        {
         "line": {
          "color": "green",
          "width": 1
         },
         "mode": "lines",
         "name": "Datos Ajustados (sin optimizar)",
         "type": "scatter",
         "x": [
          63,
          31.5,
          21,
          15.75,
          12.6,
          10.5,
          9,
          7.875,
          7,
          6.3,
          5.7272727272727275,
          5.25,
          4.846153846153846,
          4.5,
          4.2,
          3.9375,
          3.7058823529411766,
          3.5,
          3.3157894736842106,
          3.15,
          3,
          2.8636363636363638,
          2.739130434782609,
          2.625,
          2.52,
          2.423076923076923,
          2.3333333333333335,
          2.25,
          2.1724137931034484,
          2.1,
          2.032258064516129,
          1.96875,
          1.9090909090909092,
          1.8529411764705883,
          1.8,
          1.75,
          1.7027027027027026,
          1.6578947368421053,
          1.6153846153846154,
          1.575,
          1.5365853658536586,
          1.5,
          1.4651162790697674,
          1.4318181818181819,
          1.4,
          1.3695652173913044,
          1.3404255319148937,
          1.3125,
          1.2857142857142858,
          1.26,
          1.2352941176470589,
          1.2115384615384615,
          1.1886792452830188,
          1.1666666666666667,
          1.1454545454545455,
          1.125,
          1.105263157894737,
          1.0862068965517242,
          1.0677966101694916,
          1.05,
          1.0327868852459017,
          1.0161290322580645
         ],
         "xaxis": "x",
         "y": [
          12558.550819185133,
          10650.068976104209,
          4403.862343414921,
          3877.426050229452,
          3569.940159856967,
          3350.7229734044713,
          3179.527926556305,
          3038.5639283987857,
          2918.381620702791,
          2813.3558903447242,
          2719.864773108673,
          2635.437870199761,
          2558.3140847005957,
          2487.193154233304,
          2421.087233467121,
          2359.227761019723,
          2301.0045993685326,
          2245.924889077446,
          2193.5844140627396,
          2143.6471691975084,
          2095.8304585769347,
          2049.8938153250347,
          2005.630619264162,
          1962.8616555560136,
          1921.4300933203133,
          1881.197518526755,
          1842.0407598256934,
          1803.8493174400614,
          1766.5232549729296,
          1729.9714490948627,
          1694.1101171599464,
          1658.8615608846749,
          1624.1530773289874,
          1589.9159979041015,
          1556.0848229168548,
          1522.5964238602114,
          1489.3892886710175,
          1456.4027867286188,
          1423.5764305508296,
          1390.8491099129978,
          1358.1582712810527,
          1325.4390106376454,
          1292.6230403677812,
          1259.6374798633683,
          1226.4034033422122,
          1192.834054585486,
          1158.8326029153093,
          1124.2892612738706,
          1089.0775048448959,
          1053.048998490749,
          1016.0266298531201,
          977.7946902265419,
          938.0846273002089,
          896.5536688276179,
          852.7514591524103,
          806.0654485955579,
          755.6260806516073,
          700.1293172078755,
          637.4694519566524,
          563.864289529773,
          471.2633859451104,
          335.860517144622
         ],
         "yaxis": "y"
        },
        {
         "marker": {
          "color": "purple"
         },
         "mode": "markers",
         "name": "Datos Registrados",
         "type": "scatter",
         "x": [
          63,
          31.5,
          21,
          15.75,
          12.6,
          10.5,
          9,
          7.875,
          7,
          6.3,
          5.7272727272727275,
          5.25,
          4.846153846153846,
          4.5,
          4.2,
          3.9375,
          3.7058823529411766,
          3.5,
          3.3157894736842106,
          3.15,
          3,
          2.8636363636363638,
          2.739130434782609,
          2.625,
          2.52,
          2.423076923076923,
          2.3333333333333335,
          2.25,
          2.1724137931034484,
          2.1,
          2.032258064516129,
          1.96875,
          1.9090909090909092,
          1.8529411764705883,
          1.8,
          1.75,
          1.7027027027027026,
          1.6578947368421053,
          1.6153846153846154,
          1.575,
          1.5365853658536586,
          1.5,
          1.4651162790697674,
          1.4318181818181819,
          1.4,
          1.3695652173913044,
          1.3404255319148937,
          1.3125,
          1.2857142857142858,
          1.26,
          1.2352941176470589,
          1.2115384615384615,
          1.1886792452830188,
          1.1666666666666667,
          1.1454545454545455,
          1.125,
          1.105263157894737,
          1.0862068965517242,
          1.0677966101694916,
          1.05,
          1.0327868852459017,
          1.0161290322580645
         ],
         "xaxis": "x2",
         "y": [
          13713,
          11800,
          4235,
          3992,
          3979,
          3662,
          3533,
          3388,
          3245,
          3205,
          2917,
          2747,
          2734,
          2654,
          2583,
          2319,
          2311,
          2310,
          2248,
          2150,
          2133,
          1899,
          1899,
          1894,
          1861,
          1797,
          1771,
          1716,
          1652,
          1640,
          1631,
          1598,
          1507,
          1494,
          1397,
          1395,
          1371,
          1332,
          1288,
          1244,
          1232,
          1202,
          1173,
          1157,
          1131,
          1087,
          1049,
          1030,
          1030,
          1014,
          995,
          954,
          925,
          922,
          907,
          852,
          832,
          751,
          743,
          720,
          652,
          632
         ],
         "yaxis": "y2"
        },
        {
         "line": {
          "color": "green",
          "width": 1
         },
         "mode": "lines",
         "name": "Datos Extrapolados (sin optimizar)",
         "type": "scatter",
         "x": [
          2,
          5,
          10,
          20,
          50,
          100,
          200,
          500,
          1000,
          2000,
          5000,
          10000
         ],
         "xaxis": "x2",
         "y": [
          1676.4138912755507,
          2588.378707004801,
          3295.373350199389,
          4297.300033382511,
          12182.520925473262,
          13193.346363610235,
          14026.464504467895,
          15046.86202572012,
          15794.927752851785,
          16534.31959338807,
          17505.672659942207,
          18238.37032780915
         ],
         "yaxis": "y2"
        }
       ],
       "layout": {
        "annotations": [
         {
          "font": {
           "size": 16
          },
          "showarrow": false,
          "text": "Datos ajustados",
          "x": 0.5,
          "xanchor": "center",
          "xref": "paper",
          "y": 1,
          "yanchor": "bottom",
          "yref": "paper"
         },
         {
          "font": {
           "size": 16
          },
          "showarrow": false,
          "text": "Datos extrapolados",
          "x": 0.5,
          "xanchor": "center",
          "xref": "paper",
          "y": 0.455,
          "yanchor": "bottom",
          "yref": "paper"
         }
        ],
        "autosize": true,
        "legend": {
         "x": 0.004,
         "y": 0.99
        },
        "showlegend": true,
        "template": {
         "data": {
          "bar": [
           {
            "error_x": {
             "color": "#2a3f5f"
            },
            "error_y": {
             "color": "#2a3f5f"
            },
            "marker": {
             "line": {
              "color": "#E5ECF6",
              "width": 0.5
             },
             "pattern": {
              "fillmode": "overlay",
              "size": 10,
              "solidity": 0.2
             }
            },
            "type": "bar"
           }
          ],
          "barpolar": [
           {
            "marker": {
             "line": {
              "color": "#E5ECF6",
              "width": 0.5
             },
             "pattern": {
              "fillmode": "overlay",
              "size": 10,
              "solidity": 0.2
             }
            },
            "type": "barpolar"
           }
          ],
          "carpet": [
           {
            "aaxis": {
             "endlinecolor": "#2a3f5f",
             "gridcolor": "white",
             "linecolor": "white",
             "minorgridcolor": "white",
             "startlinecolor": "#2a3f5f"
            },
            "baxis": {
             "endlinecolor": "#2a3f5f",
             "gridcolor": "white",
             "linecolor": "white",
             "minorgridcolor": "white",
             "startlinecolor": "#2a3f5f"
            },
            "type": "carpet"
           }
          ],
          "choropleth": [
           {
            "colorbar": {
             "outlinewidth": 0,
             "ticks": ""
            },
            "type": "choropleth"
           }
          ],
          "contour": [
           {
            "colorbar": {
             "outlinewidth": 0,
             "ticks": ""
            },
            "colorscale": [
             [
              0,
              "#0d0887"
             ],
             [
              0.1111111111111111,
              "#46039f"
             ],
             [
              0.2222222222222222,
              "#7201a8"
             ],
             [
              0.3333333333333333,
              "#9c179e"
             ],
             [
              0.4444444444444444,
              "#bd3786"
             ],
             [
              0.5555555555555556,
              "#d8576b"
             ],
             [
              0.6666666666666666,
              "#ed7953"
             ],
             [
              0.7777777777777778,
              "#fb9f3a"
             ],
             [
              0.8888888888888888,
              "#fdca26"
             ],
             [
              1,
              "#f0f921"
             ]
            ],
            "type": "contour"
           }
          ],
          "contourcarpet": [
           {
            "colorbar": {
             "outlinewidth": 0,
             "ticks": ""
            },
            "type": "contourcarpet"
           }
          ],
          "heatmap": [
           {
            "colorbar": {
             "outlinewidth": 0,
             "ticks": ""
            },
            "colorscale": [
             [
              0,
              "#0d0887"
             ],
             [
              0.1111111111111111,
              "#46039f"
             ],
             [
              0.2222222222222222,
              "#7201a8"
             ],
             [
              0.3333333333333333,
              "#9c179e"
             ],
             [
              0.4444444444444444,
              "#bd3786"
             ],
             [
              0.5555555555555556,
              "#d8576b"
             ],
             [
              0.6666666666666666,
              "#ed7953"
             ],
             [
              0.7777777777777778,
              "#fb9f3a"
             ],
             [
              0.8888888888888888,
              "#fdca26"
             ],
             [
              1,
              "#f0f921"
             ]
            ],
            "type": "heatmap"
           }
          ],
          "heatmapgl": [
           {
            "colorbar": {
             "outlinewidth": 0,
             "ticks": ""
            },
            "colorscale": [
             [
              0,
              "#0d0887"
             ],
             [
              0.1111111111111111,
              "#46039f"
             ],
             [
              0.2222222222222222,
              "#7201a8"
             ],
             [
              0.3333333333333333,
              "#9c179e"
             ],
             [
              0.4444444444444444,
              "#bd3786"
             ],
             [
              0.5555555555555556,
              "#d8576b"
             ],
             [
              0.6666666666666666,
              "#ed7953"
             ],
             [
              0.7777777777777778,
              "#fb9f3a"
             ],
             [
              0.8888888888888888,
              "#fdca26"
             ],
             [
              1,
              "#f0f921"
             ]
            ],
            "type": "heatmapgl"
           }
          ],
          "histogram": [
           {
            "marker": {
             "pattern": {
              "fillmode": "overlay",
              "size": 10,
              "solidity": 0.2
             }
            },
            "type": "histogram"
           }
          ],
          "histogram2d": [
           {
            "colorbar": {
             "outlinewidth": 0,
             "ticks": ""
            },
            "colorscale": [
             [
              0,
              "#0d0887"
             ],
             [
              0.1111111111111111,
              "#46039f"
             ],
             [
              0.2222222222222222,
              "#7201a8"
             ],
             [
              0.3333333333333333,
              "#9c179e"
             ],
             [
              0.4444444444444444,
              "#bd3786"
             ],
             [
              0.5555555555555556,
              "#d8576b"
             ],
             [
              0.6666666666666666,
              "#ed7953"
             ],
             [
              0.7777777777777778,
              "#fb9f3a"
             ],
             [
              0.8888888888888888,
              "#fdca26"
             ],
             [
              1,
              "#f0f921"
             ]
            ],
            "type": "histogram2d"
           }
          ],
          "histogram2dcontour": [
           {
            "colorbar": {
             "outlinewidth": 0,
             "ticks": ""
            },
            "colorscale": [
             [
              0,
              "#0d0887"
             ],
             [
              0.1111111111111111,
              "#46039f"
             ],
             [
              0.2222222222222222,
              "#7201a8"
             ],
             [
              0.3333333333333333,
              "#9c179e"
             ],
             [
              0.4444444444444444,
              "#bd3786"
             ],
             [
              0.5555555555555556,
              "#d8576b"
             ],
             [
              0.6666666666666666,
              "#ed7953"
             ],
             [
              0.7777777777777778,
              "#fb9f3a"
             ],
             [
              0.8888888888888888,
              "#fdca26"
             ],
             [
              1,
              "#f0f921"
             ]
            ],
            "type": "histogram2dcontour"
           }
          ],
          "mesh3d": [
           {
            "colorbar": {
             "outlinewidth": 0,
             "ticks": ""
            },
            "type": "mesh3d"
           }
          ],
          "parcoords": [
           {
            "line": {
             "colorbar": {
              "outlinewidth": 0,
              "ticks": ""
             }
            },
            "type": "parcoords"
           }
          ],
          "pie": [
           {
            "automargin": true,
            "type": "pie"
           }
          ],
          "scatter": [
           {
            "fillpattern": {
             "fillmode": "overlay",
             "size": 10,
             "solidity": 0.2
            },
            "type": "scatter"
           }
          ],
          "scatter3d": [
           {
            "line": {
             "colorbar": {
              "outlinewidth": 0,
              "ticks": ""
             }
            },
            "marker": {
             "colorbar": {
              "outlinewidth": 0,
              "ticks": ""
             }
            },
            "type": "scatter3d"
           }
          ],
          "scattercarpet": [
           {
            "marker": {
             "colorbar": {
              "outlinewidth": 0,
              "ticks": ""
             }
            },
            "type": "scattercarpet"
           }
          ],
          "scattergeo": [
           {
            "marker": {
             "colorbar": {
              "outlinewidth": 0,
              "ticks": ""
             }
            },
            "type": "scattergeo"
           }
          ],
          "scattergl": [
           {
            "marker": {
             "colorbar": {
              "outlinewidth": 0,
              "ticks": ""
             }
            },
            "type": "scattergl"
           }
          ],
          "scattermapbox": [
           {
            "marker": {
             "colorbar": {
              "outlinewidth": 0,
              "ticks": ""
             }
            },
            "type": "scattermapbox"
           }
          ],
          "scatterpolar": [
           {
            "marker": {
             "colorbar": {
              "outlinewidth": 0,
              "ticks": ""
             }
            },
            "type": "scatterpolar"
           }
          ],
          "scatterpolargl": [
           {
            "marker": {
             "colorbar": {
              "outlinewidth": 0,
              "ticks": ""
             }
            },
            "type": "scatterpolargl"
           }
          ],
          "scatterternary": [
           {
            "marker": {
             "colorbar": {
              "outlinewidth": 0,
              "ticks": ""
             }
            },
            "type": "scatterternary"
           }
          ],
          "surface": [
           {
            "colorbar": {
             "outlinewidth": 0,
             "ticks": ""
            },
            "colorscale": [
             [
              0,
              "#0d0887"
             ],
             [
              0.1111111111111111,
              "#46039f"
             ],
             [
              0.2222222222222222,
              "#7201a8"
             ],
             [
              0.3333333333333333,
              "#9c179e"
             ],
             [
              0.4444444444444444,
              "#bd3786"
             ],
             [
              0.5555555555555556,
              "#d8576b"
             ],
             [
              0.6666666666666666,
              "#ed7953"
             ],
             [
              0.7777777777777778,
              "#fb9f3a"
             ],
             [
              0.8888888888888888,
              "#fdca26"
             ],
             [
              1,
              "#f0f921"
             ]
            ],
            "type": "surface"
           }
          ],
          "table": [
           {
            "cells": {
             "fill": {
              "color": "#EBF0F8"
             },
             "line": {
              "color": "white"
             }
            },
            "header": {
             "fill": {
              "color": "#C8D4E3"
             },
             "line": {
              "color": "white"
             }
            },
            "type": "table"
           }
          ]
         },
         "layout": {
          "annotationdefaults": {
           "arrowcolor": "#2a3f5f",
           "arrowhead": 0,
           "arrowwidth": 1
          },
          "autotypenumbers": "strict",
          "coloraxis": {
           "colorbar": {
            "outlinewidth": 0,
            "ticks": ""
           }
          },
          "colorscale": {
           "diverging": [
            [
             0,
             "#8e0152"
            ],
            [
             0.1,
             "#c51b7d"
            ],
            [
             0.2,
             "#de77ae"
            ],
            [
             0.3,
             "#f1b6da"
            ],
            [
             0.4,
             "#fde0ef"
            ],
            [
             0.5,
             "#f7f7f7"
            ],
            [
             0.6,
             "#e6f5d0"
            ],
            [
             0.7,
             "#b8e186"
            ],
            [
             0.8,
             "#7fbc41"
            ],
            [
             0.9,
             "#4d9221"
            ],
            [
             1,
             "#276419"
            ]
           ],
           "sequential": [
            [
             0,
             "#0d0887"
            ],
            [
             0.1111111111111111,
             "#46039f"
            ],
            [
             0.2222222222222222,
             "#7201a8"
            ],
            [
             0.3333333333333333,
             "#9c179e"
            ],
            [
             0.4444444444444444,
             "#bd3786"
            ],
            [
             0.5555555555555556,
             "#d8576b"
            ],
            [
             0.6666666666666666,
             "#ed7953"
            ],
            [
             0.7777777777777778,
             "#fb9f3a"
            ],
            [
             0.8888888888888888,
             "#fdca26"
            ],
            [
             1,
             "#f0f921"
            ]
           ],
           "sequentialminus": [
            [
             0,
             "#0d0887"
            ],
            [
             0.1111111111111111,
             "#46039f"
            ],
            [
             0.2222222222222222,
             "#7201a8"
            ],
            [
             0.3333333333333333,
             "#9c179e"
            ],
            [
             0.4444444444444444,
             "#bd3786"
            ],
            [
             0.5555555555555556,
             "#d8576b"
            ],
            [
             0.6666666666666666,
             "#ed7953"
            ],
            [
             0.7777777777777778,
             "#fb9f3a"
            ],
            [
             0.8888888888888888,
             "#fdca26"
            ],
            [
             1,
             "#f0f921"
            ]
           ]
          },
          "colorway": [
           "#636efa",
           "#EF553B",
           "#00cc96",
           "#ab63fa",
           "#FFA15A",
           "#19d3f3",
           "#FF6692",
           "#B6E880",
           "#FF97FF",
           "#FECB52"
          ],
          "font": {
           "color": "#2a3f5f"
          },
          "geo": {
           "bgcolor": "white",
           "lakecolor": "white",
           "landcolor": "#E5ECF6",
           "showlakes": true,
           "showland": true,
           "subunitcolor": "white"
          },
          "hoverlabel": {
           "align": "left"
          },
          "hovermode": "closest",
          "mapbox": {
           "style": "light"
          },
          "paper_bgcolor": "white",
          "plot_bgcolor": "#E5ECF6",
          "polar": {
           "angularaxis": {
            "gridcolor": "white",
            "linecolor": "white",
            "ticks": ""
           },
           "bgcolor": "#E5ECF6",
           "radialaxis": {
            "gridcolor": "white",
            "linecolor": "white",
            "ticks": ""
           }
          },
          "scene": {
           "xaxis": {
            "backgroundcolor": "#E5ECF6",
            "gridcolor": "white",
            "gridwidth": 2,
            "linecolor": "white",
            "showbackground": true,
            "ticks": "",
            "zerolinecolor": "white"
           },
           "yaxis": {
            "backgroundcolor": "#E5ECF6",
            "gridcolor": "white",
            "gridwidth": 2,
            "linecolor": "white",
            "showbackground": true,
            "ticks": "",
            "zerolinecolor": "white"
           },
           "zaxis": {
            "backgroundcolor": "#E5ECF6",
            "gridcolor": "white",
            "gridwidth": 2,
            "linecolor": "white",
            "showbackground": true,
            "ticks": "",
            "zerolinecolor": "white"
           }
          },
          "shapedefaults": {
           "line": {
            "color": "#2a3f5f"
           }
          },
          "ternary": {
           "aaxis": {
            "gridcolor": "white",
            "linecolor": "white",
            "ticks": ""
           },
           "baxis": {
            "gridcolor": "white",
            "linecolor": "white",
            "ticks": ""
           },
           "bgcolor": "#E5ECF6",
           "caxis": {
            "gridcolor": "white",
            "linecolor": "white",
            "ticks": ""
           }
          },
          "title": {
           "x": 0.05
          },
          "xaxis": {
           "automargin": true,
           "gridcolor": "white",
           "linecolor": "white",
           "ticks": "",
           "title": {
            "standoff": 15
           },
           "zerolinecolor": "white",
           "zerolinewidth": 2
          },
          "yaxis": {
           "automargin": true,
           "gridcolor": "white",
           "linecolor": "white",
           "ticks": "",
           "title": {
            "standoff": 15
           },
           "zerolinecolor": "white",
           "zerolinewidth": 2
          }
         }
        },
        "title": {
         "text": "Distribucion Doble Gumbel (sin optimizar)<br> EE= 268.6279838304303",
         "x": 0.5
        },
        "xaxis": {
         "anchor": "y",
         "domain": [
          0,
          1
         ],
         "gridcolor": "lightgray",
         "range": [
          0,
          2
         ],
         "showgrid": true,
         "type": "log"
        },
        "xaxis2": {
         "anchor": "y2",
         "domain": [
          0,
          1
         ],
         "gridcolor": "lightgray",
         "range": [
          0,
          4
         ],
         "showgrid": true,
         "title": {
          "text": "Tr (Periodos de retorno)"
         },
         "type": "log"
        },
        "yaxis": {
         "anchor": "x",
         "autorange": true,
         "domain": [
          0.545,
          1
         ],
         "gridcolor": "lightgray",
         "range": [
          -917.923652016312,
          15262.923652016312
         ],
         "showgrid": true,
         "title": {
          "text": "Gastos (m³/s)"
         },
         "type": "linear"
        },
        "yaxis2": {
         "anchor": "x2",
         "autorange": true,
         "domain": [
          0,
          0.455
         ],
         "gridcolor": "lightgray",
         "range": [
          -1342.299245592664,
          19268.93188430398
         ],
         "showgrid": true,
         "title": {
          "text": "Gastos (m³/s)"
         },
         "type": "linear"
        }
       }
      },
      "image/png": "[encoded data removed]",
      "text/html": [
       "<div>                            <div id=\"95be0409-6988-44b5-8090-13c2a7b95f61\" class=\"plotly-graph-div\" style=\"height:525px; width:100%;\"></div>            <script type=\"text/javascript\">                require([\"plotly\"], function(Plotly) {                    window.PLOTLYENV=window.PLOTLYENV || {};                                    if (document.getElementById(\"95be0409-6988-44b5-8090-13c2a7b95f61\")) {                    Plotly.newPlot(                        \"95be0409-6988-44b5-8090-13c2a7b95f61\",                        [{\"marker\":{\"color\":\"blue\"},\"mode\":\"markers\",\"name\":\"Datos Registrados\",\"x\":[63.0,31.5,21.0,15.75,12.6,10.5,9.0,7.875,7.0,6.3,5.7272727272727275,5.25,4.846153846153846,4.5,4.2,3.9375,3.7058823529411766,3.5,3.3157894736842106,3.15,3.0,2.8636363636363638,2.739130434782609,2.625,2.52,2.423076923076923,2.3333333333333335,2.25,2.1724137931034484,2.1,2.032258064516129,1.96875,1.9090909090909092,1.8529411764705883,1.8,1.75,1.7027027027027026,1.6578947368421053,1.6153846153846154,1.575,1.5365853658536586,1.5,1.4651162790697674,1.4318181818181819,1.4,1.3695652173913044,1.3404255319148937,1.3125,1.2857142857142858,1.26,1.2352941176470589,1.2115384615384615,1.1886792452830188,1.1666666666666667,1.1454545454545455,1.125,1.105263157894737,1.0862068965517242,1.0677966101694916,1.05,1.0327868852459017,1.0161290322580645],\"y\":[13713.0,11800.0,4235.0,3992.0,3979.0,3662.0,3533.0,3388.0,3245.0,3205.0,2917.0,2747.0,2734.0,2654.0,2583.0,2319.0,2311.0,2310.0,2248.0,2150.0,2133.0,1899.0,1899.0,1894.0,1861.0,1797.0,1771.0,1716.0,1652.0,1640.0,1631.0,1598.0,1507.0,1494.0,1397.0,1395.0,1371.0,1332.0,1288.0,1244.0,1232.0,1202.0,1173.0,1157.0,1131.0,1087.0,1049.0,1030.0,1030.0,1014.0,995.0,954.0,925.0,922.0,907.0,852.0,832.0,751.0,743.0,720.0,652.0,632.0],\"type\":\"scatter\",\"xaxis\":\"x\",\"yaxis\":\"y\"},{\"line\":{\"color\":\"green\",\"width\":1},\"mode\":\"lines\",\"name\":\"Datos Ajustados (sin optimizar)\",\"x\":[63.0,31.5,21.0,15.75,12.6,10.5,9.0,7.875,7.0,6.3,5.7272727272727275,5.25,4.846153846153846,4.5,4.2,3.9375,3.7058823529411766,3.5,3.3157894736842106,3.15,3.0,2.8636363636363638,2.739130434782609,2.625,2.52,2.423076923076923,2.3333333333333335,2.25,2.1724137931034484,2.1,2.032258064516129,1.96875,1.9090909090909092,1.8529411764705883,1.8,1.75,1.7027027027027026,1.6578947368421053,1.6153846153846154,1.575,1.5365853658536586,1.5,1.4651162790697674,1.4318181818181819,1.4,1.3695652173913044,1.3404255319148937,1.3125,1.2857142857142858,1.26,1.2352941176470589,1.2115384615384615,1.1886792452830188,1.1666666666666667,1.1454545454545455,1.125,1.105263157894737,1.0862068965517242,1.0677966101694916,1.05,1.0327868852459017,1.0161290322580645],\"y\":[12558.550819185133,10650.068976104209,4403.862343414921,3877.426050229452,3569.940159856967,3350.7229734044713,3179.527926556305,3038.5639283987857,2918.381620702791,2813.3558903447242,2719.864773108673,2635.437870199761,2558.3140847005957,2487.193154233304,2421.087233467121,2359.227761019723,2301.0045993685326,2245.924889077446,2193.5844140627396,2143.6471691975084,2095.8304585769347,2049.8938153250347,2005.630619264162,1962.8616555560136,1921.4300933203133,1881.197518526755,1842.0407598256934,1803.8493174400614,1766.5232549729296,1729.9714490948627,1694.1101171599464,1658.8615608846749,1624.1530773289874,1589.9159979041015,1556.0848229168548,1522.5964238602114,1489.3892886710175,1456.4027867286188,1423.5764305508296,1390.8491099129978,1358.1582712810527,1325.4390106376454,1292.6230403677812,1259.6374798633683,1226.4034033422122,1192.834054585486,1158.8326029153093,1124.2892612738706,1089.0775048448959,1053.048998490749,1016.0266298531201,977.7946902265419,938.0846273002089,896.5536688276179,852.7514591524103,806.0654485955579,755.6260806516073,700.1293172078755,637.4694519566524,563.864289529773,471.2633859451104,335.860517144622],\"type\":\"scatter\",\"xaxis\":\"x\",\"yaxis\":\"y\"},{\"marker\":{\"color\":\"purple\"},\"mode\":\"markers\",\"name\":\"Datos Registrados\",\"x\":[63.0,31.5,21.0,15.75,12.6,10.5,9.0,7.875,7.0,6.3,5.7272727272727275,5.25,4.846153846153846,4.5,4.2,3.9375,3.7058823529411766,3.5,3.3157894736842106,3.15,3.0,2.8636363636363638,2.739130434782609,2.625,2.52,2.423076923076923,2.3333333333333335,2.25,2.1724137931034484,2.1,2.032258064516129,1.96875,1.9090909090909092,1.8529411764705883,1.8,1.75,1.7027027027027026,1.6578947368421053,1.6153846153846154,1.575,1.5365853658536586,1.5,1.4651162790697674,1.4318181818181819,1.4,1.3695652173913044,1.3404255319148937,1.3125,1.2857142857142858,1.26,1.2352941176470589,1.2115384615384615,1.1886792452830188,1.1666666666666667,1.1454545454545455,1.125,1.105263157894737,1.0862068965517242,1.0677966101694916,1.05,1.0327868852459017,1.0161290322580645],\"y\":[13713.0,11800.0,4235.0,3992.0,3979.0,3662.0,3533.0,3388.0,3245.0,3205.0,2917.0,2747.0,2734.0,2654.0,2583.0,2319.0,2311.0,2310.0,2248.0,2150.0,2133.0,1899.0,1899.0,1894.0,1861.0,1797.0,1771.0,1716.0,1652.0,1640.0,1631.0,1598.0,1507.0,1494.0,1397.0,1395.0,1371.0,1332.0,1288.0,1244.0,1232.0,1202.0,1173.0,1157.0,1131.0,1087.0,1049.0,1030.0,1030.0,1014.0,995.0,954.0,925.0,922.0,907.0,852.0,832.0,751.0,743.0,720.0,652.0,632.0],\"type\":\"scatter\",\"xaxis\":\"x2\",\"yaxis\":\"y2\"},{\"line\":{\"color\":\"green\",\"width\":1},\"mode\":\"lines\",\"name\":\"Datos Extrapolados (sin optimizar)\",\"x\":[2.0,5.0,10.0,20.0,50.0,100.0,200.0,500.0,1000.0,2000.0,5000.0,10000.0],\"y\":[1676.4138912755507,2588.378707004801,3295.373350199389,4297.300033382511,12182.520925473262,13193.346363610235,14026.464504467895,15046.86202572012,15794.927752851785,16534.31959338807,17505.672659942207,18238.37032780915],\"type\":\"scatter\",\"xaxis\":\"x2\",\"yaxis\":\"y2\"}],                        {\"template\":{\"data\":{\"histogram2dcontour\":[{\"type\":\"histogram2dcontour\",\"colorbar\":{\"outlinewidth\":0,\"ticks\":\"\"},\"colorscale\":[[0.0,\"#0d0887\"],[0.1111111111111111,\"#46039f\"],[0.2222222222222222,\"#7201a8\"],[0.3333333333333333,\"#9c179e\"],[0.4444444444444444,\"#bd3786\"],[0.5555555555555556,\"#d8576b\"],[0.6666666666666666,\"#ed7953\"],[0.7777777777777778,\"#fb9f3a\"],[0.8888888888888888,\"#fdca26\"],[1.0,\"#f0f921\"]]}],\"choropleth\":[{\"type\":\"choropleth\",\"colorbar\":{\"outlinewidth\":0,\"ticks\":\"\"}}],\"histogram2d\":[{\"type\":\"histogram2d\",\"colorbar\":{\"outlinewidth\":0,\"ticks\":\"\"},\"colorscale\":[[0.0,\"#0d0887\"],[0.1111111111111111,\"#46039f\"],[0.2222222222222222,\"#7201a8\"],[0.3333333333333333,\"#9c179e\"],[0.4444444444444444,\"#bd3786\"],[0.5555555555555556,\"#d8576b\"],[0.6666666666666666,\"#ed7953\"],[0.7777777777777778,\"#fb9f3a\"],[0.8888888888888888,\"#fdca26\"],[1.0,\"#f0f921\"]]}],\"heatmap\":[{\"type\":\"heatmap\",\"colorbar\":{\"outlinewidth\":0,\"ticks\":\"\"},\"colorscale\":[[0.0,\"#0d0887\"],[0.1111111111111111,\"#46039f\"],[0.2222222222222222,\"#7201a8\"],[0.3333333333333333,\"#9c179e\"],[0.4444444444444444,\"#bd3786\"],[0.5555555555555556,\"#d8576b\"],[0.6666666666666666,\"#ed7953\"],[0.7777777777777778,\"#fb9f3a\"],[0.8888888888888888,\"#fdca26\"],[1.0,\"#f0f921\"]]}],\"heatmapgl\":[{\"type\":\"heatmapgl\",\"colorbar\":{\"outlinewidth\":0,\"ticks\":\"\"},\"colorscale\":[[0.0,\"#0d0887\"],[0.1111111111111111,\"#46039f\"],[0.2222222222222222,\"#7201a8\"],[0.3333333333333333,\"#9c179e\"],[0.4444444444444444,\"#bd3786\"],[0.5555555555555556,\"#d8576b\"],[0.6666666666666666,\"#ed7953\"],[0.7777777777777778,\"#fb9f3a\"],[0.8888888888888888,\"#fdca26\"],[1.0,\"#f0f921\"]]}],\"contourcarpet\":[{\"type\":\"contourcarpet\",\"colorbar\":{\"outlinewidth\":0,\"ticks\":\"\"}}],\"contour\":[{\"type\":\"contour\",\"colorbar\":{\"outlinewidth\":0,\"ticks\":\"\"},\"colorscale\":[[0.0,\"#0d0887\"],[0.1111111111111111,\"#46039f\"],[0.2222222222222222,\"#7201a8\"],[0.3333333333333333,\"#9c179e\"],[0.4444444444444444,\"#bd3786\"],[0.5555555555555556,\"#d8576b\"],[0.6666666666666666,\"#ed7953\"],[0.7777777777777778,\"#fb9f3a\"],[0.8888888888888888,\"#fdca26\"],[1.0,\"#f0f921\"]]}],\"surface\":[{\"type\":\"surface\",\"colorbar\":{\"outlinewidth\":0,\"ticks\":\"\"},\"colorscale\":[[0.0,\"#0d0887\"],[0.1111111111111111,\"#46039f\"],[0.2222222222222222,\"#7201a8\"],[0.3333333333333333,\"#9c179e\"],[0.4444444444444444,\"#bd3786\"],[0.5555555555555556,\"#d8576b\"],[0.6666666666666666,\"#ed7953\"],[0.7777777777777778,\"#fb9f3a\"],[0.8888888888888888,\"#fdca26\"],[1.0,\"#f0f921\"]]}],\"mesh3d\":[{\"type\":\"mesh3d\",\"colorbar\":{\"outlinewidth\":0,\"ticks\":\"\"}}],\"scatter\":[{\"fillpattern\":{\"fillmode\":\"overlay\",\"size\":10,\"solidity\":0.2},\"type\":\"scatter\"}],\"parcoords\":[{\"type\":\"parcoords\",\"line\":{\"colorbar\":{\"outlinewidth\":0,\"ticks\":\"\"}}}],\"scatterpolargl\":[{\"type\":\"scatterpolargl\",\"marker\":{\"colorbar\":{\"outlinewidth\":0,\"ticks\":\"\"}}}],\"bar\":[{\"error_x\":{\"color\":\"#2a3f5f\"},\"error_y\":{\"color\":\"#2a3f5f\"},\"marker\":{\"line\":{\"color\":\"#E5ECF6\",\"width\":0.5},\"pattern\":{\"fillmode\":\"overlay\",\"size\":10,\"solidity\":0.2}},\"type\":\"bar\"}],\"scattergeo\":[{\"type\":\"scattergeo\",\"marker\":{\"colorbar\":{\"outlinewidth\":0,\"ticks\":\"\"}}}],\"scatterpolar\":[{\"type\":\"scatterpolar\",\"marker\":{\"colorbar\":{\"outlinewidth\":0,\"ticks\":\"\"}}}],\"histogram\":[{\"marker\":{\"pattern\":{\"fillmode\":\"overlay\",\"size\":10,\"solidity\":0.2}},\"type\":\"histogram\"}],\"scattergl\":[{\"type\":\"scattergl\",\"marker\":{\"colorbar\":{\"outlinewidth\":0,\"ticks\":\"\"}}}],\"scatter3d\":[{\"type\":\"scatter3d\",\"line\":{\"colorbar\":{\"outlinewidth\":0,\"ticks\":\"\"}},\"marker\":{\"colorbar\":{\"outlinewidth\":0,\"ticks\":\"\"}}}],\"scattermapbox\":[{\"type\":\"scattermapbox\",\"marker\":{\"colorbar\":{\"outlinewidth\":0,\"ticks\":\"\"}}}],\"scatterternary\":[{\"type\":\"scatterternary\",\"marker\":{\"colorbar\":{\"outlinewidth\":0,\"ticks\":\"\"}}}],\"scattercarpet\":[{\"type\":\"scattercarpet\",\"marker\":{\"colorbar\":{\"outlinewidth\":0,\"ticks\":\"\"}}}],\"carpet\":[{\"aaxis\":{\"endlinecolor\":\"#2a3f5f\",\"gridcolor\":\"white\",\"linecolor\":\"white\",\"minorgridcolor\":\"white\",\"startlinecolor\":\"#2a3f5f\"},\"baxis\":{\"endlinecolor\":\"#2a3f5f\",\"gridcolor\":\"white\",\"linecolor\":\"white\",\"minorgridcolor\":\"white\",\"startlinecolor\":\"#2a3f5f\"},\"type\":\"carpet\"}],\"table\":[{\"cells\":{\"fill\":{\"color\":\"#EBF0F8\"},\"line\":{\"color\":\"white\"}},\"header\":{\"fill\":{\"color\":\"#C8D4E3\"},\"line\":{\"color\":\"white\"}},\"type\":\"table\"}],\"barpolar\":[{\"marker\":{\"line\":{\"color\":\"#E5ECF6\",\"width\":0.5},\"pattern\":{\"fillmode\":\"overlay\",\"size\":10,\"solidity\":0.2}},\"type\":\"barpolar\"}],\"pie\":[{\"automargin\":true,\"type\":\"pie\"}]},\"layout\":{\"autotypenumbers\":\"strict\",\"colorway\":[\"#636efa\",\"#EF553B\",\"#00cc96\",\"#ab63fa\",\"#FFA15A\",\"#19d3f3\",\"#FF6692\",\"#B6E880\",\"#FF97FF\",\"#FECB52\"],\"font\":{\"color\":\"#2a3f5f\"},\"hovermode\":\"closest\",\"hoverlabel\":{\"align\":\"left\"},\"paper_bgcolor\":\"white\",\"plot_bgcolor\":\"#E5ECF6\",\"polar\":{\"bgcolor\":\"#E5ECF6\",\"angularaxis\":{\"gridcolor\":\"white\",\"linecolor\":\"white\",\"ticks\":\"\"},\"radialaxis\":{\"gridcolor\":\"white\",\"linecolor\":\"white\",\"ticks\":\"\"}},\"ternary\":{\"bgcolor\":\"#E5ECF6\",\"aaxis\":{\"gridcolor\":\"white\",\"linecolor\":\"white\",\"ticks\":\"\"},\"baxis\":{\"gridcolor\":\"white\",\"linecolor\":\"white\",\"ticks\":\"\"},\"caxis\":{\"gridcolor\":\"white\",\"linecolor\":\"white\",\"ticks\":\"\"}},\"coloraxis\":{\"colorbar\":{\"outlinewidth\":0,\"ticks\":\"\"}},\"colorscale\":{\"sequential\":[[0.0,\"#0d0887\"],[0.1111111111111111,\"#46039f\"],[0.2222222222222222,\"#7201a8\"],[0.3333333333333333,\"#9c179e\"],[0.4444444444444444,\"#bd3786\"],[0.5555555555555556,\"#d8576b\"],[0.6666666666666666,\"#ed7953\"],[0.7777777777777778,\"#fb9f3a\"],[0.8888888888888888,\"#fdca26\"],[1.0,\"#f0f921\"]],\"sequentialminus\":[[0.0,\"#0d0887\"],[0.1111111111111111,\"#46039f\"],[0.2222222222222222,\"#7201a8\"],[0.3333333333333333,\"#9c179e\"],[0.4444444444444444,\"#bd3786\"],[0.5555555555555556,\"#d8576b\"],[0.6666666666666666,\"#ed7953\"],[0.7777777777777778,\"#fb9f3a\"],[0.8888888888888888,\"#fdca26\"],[1.0,\"#f0f921\"]],\"diverging\":[[0,\"#8e0152\"],[0.1,\"#c51b7d\"],[0.2,\"#de77ae\"],[0.3,\"#f1b6da\"],[0.4,\"#fde0ef\"],[0.5,\"#f7f7f7\"],[0.6,\"#e6f5d0\"],[0.7,\"#b8e186\"],[0.8,\"#7fbc41\"],[0.9,\"#4d9221\"],[1,\"#276419\"]]},\"xaxis\":{\"gridcolor\":\"white\",\"linecolor\":\"white\",\"ticks\":\"\",\"title\":{\"standoff\":15},\"zerolinecolor\":\"white\",\"automargin\":true,\"zerolinewidth\":2},\"yaxis\":{\"gridcolor\":\"white\",\"linecolor\":\"white\",\"ticks\":\"\",\"title\":{\"standoff\":15},\"zerolinecolor\":\"white\",\"automargin\":true,\"zerolinewidth\":2},\"scene\":{\"xaxis\":{\"backgroundcolor\":\"#E5ECF6\",\"gridcolor\":\"white\",\"linecolor\":\"white\",\"showbackground\":true,\"ticks\":\"\",\"zerolinecolor\":\"white\",\"gridwidth\":2},\"yaxis\":{\"backgroundcolor\":\"#E5ECF6\",\"gridcolor\":\"white\",\"linecolor\":\"white\",\"showbackground\":true,\"ticks\":\"\",\"zerolinecolor\":\"white\",\"gridwidth\":2},\"zaxis\":{\"backgroundcolor\":\"#E5ECF6\",\"gridcolor\":\"white\",\"linecolor\":\"white\",\"showbackground\":true,\"ticks\":\"\",\"zerolinecolor\":\"white\",\"gridwidth\":2}},\"shapedefaults\":{\"line\":{\"color\":\"#2a3f5f\"}},\"annotationdefaults\":{\"arrowcolor\":\"#2a3f5f\",\"arrowhead\":0,\"arrowwidth\":1},\"geo\":{\"bgcolor\":\"white\",\"landcolor\":\"#E5ECF6\",\"subunitcolor\":\"white\",\"showland\":true,\"showlakes\":true,\"lakecolor\":\"white\"},\"title\":{\"x\":0.05},\"mapbox\":{\"style\":\"light\"}}},\"xaxis\":{\"anchor\":\"y\",\"domain\":[0.0,1.0],\"type\":\"log\",\"range\":[0,2],\"showgrid\":true,\"gridcolor\":\"lightgray\"},\"yaxis\":{\"anchor\":\"x\",\"domain\":[0.545,1.0],\"title\":{\"text\":\"Gastos (m\\u00b3\\u002fs)\"},\"showgrid\":true,\"gridcolor\":\"lightgray\"},\"xaxis2\":{\"anchor\":\"y2\",\"domain\":[0.0,1.0],\"type\":\"log\",\"range\":[0,4],\"title\":{\"text\":\"Tr (Periodos de retorno)\"},\"showgrid\":true,\"gridcolor\":\"lightgray\"},\"yaxis2\":{\"anchor\":\"x2\",\"domain\":[0.0,0.455],\"title\":{\"text\":\"Gastos (m\\u00b3\\u002fs)\"},\"showgrid\":true,\"gridcolor\":\"lightgray\"},\"annotations\":[{\"font\":{\"size\":16},\"showarrow\":false,\"text\":\"Datos ajustados\",\"x\":0.5,\"xanchor\":\"center\",\"xref\":\"paper\",\"y\":1.0,\"yanchor\":\"bottom\",\"yref\":\"paper\"},{\"font\":{\"size\":16},\"showarrow\":false,\"text\":\"Datos extrapolados\",\"x\":0.5,\"xanchor\":\"center\",\"xref\":\"paper\",\"y\":0.455,\"yanchor\":\"bottom\",\"yref\":\"paper\"}],\"title\":{\"text\":\"Distribucion Doble Gumbel (sin optimizar)\\u003cbr\\u003e EE= 268.6279838304303\",\"x\":0.5},\"legend\":{\"x\":0.004,\"y\":0.99},\"showlegend\":true},                        {\"responsive\": true}                    ).then(function(){\n",
       "                            \n",
       "var gd = document.getElementById('95be0409-6988-44b5-8090-13c2a7b95f61');\n",
       "var x = new MutationObserver(function (mutations, observer) {{\n",
       "        var display = window.getComputedStyle(gd).display;\n",
       "        if (!display || display === 'none') {{\n",
       "            console.log([gd, 'removed!']);\n",
       "            Plotly.purge(gd);\n",
       "            observer.disconnect();\n",
       "        }}\n",
       "}});\n",
       "\n",
       "// Listen for the removal of the full notebook cells\n",
       "var notebookContainer = gd.closest('#notebook-container');\n",
       "if (notebookContainer) {{\n",
       "    x.observe(notebookContainer, {childList: true});\n",
       "}}\n",
       "\n",
       "// Listen for the clearing of the current output cell\n",
       "var outputEl = gd.closest('.output');\n",
       "if (outputEl) {{\n",
       "    x.observe(outputEl, {childList: true});\n",
       "}}\n",
       "\n",
       "                        })                };                });            </script>        </div>"
      ]
     },
     "metadata": {},
     "output_type": "display_data"
    }
   ],
   "source": [
    "titulo0 = \"Distribucion Doble Gumbel (sin optimizar)<br> EE= \" + str(EE0)\n",
    "#titulo1 = \"Distribucion Doble Gumbel (Algoritmo de Rosenbrock)<br> EE= \" + str(EE1)\n",
    "fig = make_subplots(rows=2, \n",
    "                    cols=1, \n",
    "                    shared_xaxes=False, \n",
    "                    vertical_spacing=0.09, \n",
    "                    subplot_titles=(\"Datos ajustados\", \"Datos extrapolados\"))\n",
    "# Gráfico 1: Datos Registrados (Scatter) y Datos Ajustados (Línea)\n",
    "fig.add_trace(go.Scatter(x=tR, \n",
    "                         y=dReg, \n",
    "                         mode='markers', \n",
    "                         name='Datos Registrados', \n",
    "                         #alpha=.4, \n",
    "                         marker=dict(color='blue')), \n",
    "              row=1, col=1)\n",
    "\n",
    "fig.add_trace(go.Scatter(x=tR, \n",
    "                         y=dAjust, \n",
    "                         mode='lines', \n",
    "                         name='Datos Ajustados (sin optimizar)', \n",
    "                         line=dict(color='green', width=1)), \n",
    "              row=1, col=1)\n",
    "\"\"\"\n",
    "fig.add_trace(go.Scatter(x=tR, \n",
    "                         y=dAjust1, \n",
    "                         mode='lines', \n",
    "                         name='Datos Ajustados (optimizados)',\n",
    "                         line=dict(color='green', width=1)), \n",
    "              row=1, col=1)\n",
    "\"\"\"\n",
    "fig.add_trace(go.Scatter(x=tR, \n",
    "                         y=dReg,\n",
    "                         mode='markers', \n",
    "                         name='Datos Registrados', \n",
    "                         #alpha=.4, \n",
    "                         marker=dict(color='purple')), \n",
    "              row=2, col=1)\n",
    "\n",
    "fig.add_trace(go.Scatter(x=dTrExtrap, \n",
    "                         y=dExtrap_sr, \n",
    "                         mode='lines', \n",
    "                         name='Datos Extrapolados (sin optimizar)', \n",
    "                         line=dict(color='green', \n",
    "                         width=1)), \n",
    "              row=2, col=1)\n",
    "\"\"\"\n",
    "fig.add_trace(go.Scatter(x=dTrExtrap, \n",
    "                         y=dExtrap, \n",
    "                         mode='lines', \n",
    "                         name='Datos Extrapolados (optimizados)', \n",
    "                         line=dict(color='green', \n",
    "                         width=1)), \n",
    "              row=2, col=1)\n",
    "\"\"\"\n",
    "# Configurar el layout\n",
    "fig.update_layout(\n",
    "    title_text=titulo0,\n",
    "    title_x=0.5,  # Centra el título\n",
    "    #xaxis_type=\"log\",  # Eje x semilogarítmico\n",
    "    #yaxis_title=\"Gastos (m³/s)\",\n",
    "    showlegend=True,\n",
    "    legend=dict(x=0.004, y=0.99))\n",
    "\n",
    "# Configurar ambos ejes x como logarítmicos\n",
    "fig.update_xaxes(type=\"log\", \n",
    "                 range=[0, 2], \n",
    "                 showgrid=True, \n",
    "                 gridcolor='lightgray', \n",
    "                 row=1, col=1)  # Eje x de la primera fila\n",
    "fig.update_xaxes(type=\"log\", \n",
    "                 range=[0, 4], \n",
    "                 title=\"Tr (Periodos de retorno)\", \n",
    "                 showgrid=True, \n",
    "                 gridcolor='lightgray', \n",
    "                 row=2, col=1)  # Eje x de la segunda fila\n",
    "fig.update_yaxes(title_text=\"Gastos (m³/s)\", \n",
    "                 showgrid=True, \n",
    "                 gridcolor='lightgray', \n",
    "                 row=1, col=1)\n",
    "fig.update_yaxes(title_text=\"Gastos (m³/s)\", \n",
    "                 showgrid=True, \n",
    "                 gridcolor='lightgray', \n",
    "                 row=2, col=1)\n",
    "\n",
    "fig.show()"
   ]
  },
  {
   "cell_type": "code",
   "execution_count": 43,
   "id": "1af84d95-da13-4970-a5a0-6c68d8b8b6f1",
   "metadata": {},
   "outputs": [],
   "source": [
    "fig.write_html(r'C:\\Users\\sear2\\Music\\analisis_frecuencias\\Analisis_de_Frecuencias\\salidas\\grafico_plotly_dgumbel02.html')"
   ]
  },
  {
   "cell_type": "code",
   "execution_count": null,
   "id": "4bc00220-6b51-403b-b778-bdf8e0c573ea",
   "metadata": {},
   "outputs": [],
   "source": []
  }
 ],
 "metadata": {
  "kernelspec": {
   "display_name": "Python 3 (ipykernel)",
   "language": "python",
   "name": "python3"
  },
  "language_info": {
   "codemirror_mode": {
    "name": "ipython",
    "version": 3
   },
   "file_extension": ".py",
   "mimetype": "text/x-python",
   "name": "python",
   "nbconvert_exporter": "python",
   "pygments_lexer": "ipython3",
   "version": "3.11.8"
  }
 },
 "nbformat": 4,
 "nbformat_minor": 5
}
