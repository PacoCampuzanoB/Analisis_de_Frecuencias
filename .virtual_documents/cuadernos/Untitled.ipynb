import numpy as np
import pandas as gpd
from tkinter import filedialog
import os


diractual = os.getcwd()
ruta = filedialog.askopenfilename(initialdir = diractual,
                                        title = "Abrir solo archivos .csv",
                                        filetypes=(("csv files", "*.csv*"), 
                                                ("all files", "*.*")))


print(f"\nArchivo: \n {ruta}")


datos = gpd.read_csv(ruta, header=None).values
datos.astype(float)
print(type(datos))
len(datos)









