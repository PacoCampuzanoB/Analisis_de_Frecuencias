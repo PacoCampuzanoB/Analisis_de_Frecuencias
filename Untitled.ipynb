{
 "cells": [
  {
   "cell_type": "code",
   "execution_count": 1,
   "id": "60f69cca-9b12-4509-86f5-badb8f72a584",
   "metadata": {},
   "outputs": [],
   "source": [
    "import pandas as pd\n",
    "import numpy as np\n",
    "import distros.Gumbel\n",
    "import distros.GumbelDouble\n",
    "import os"
   ]
  },
  {
   "cell_type": "code",
   "execution_count": 2,
   "id": "ee853c8f-ed3c-470c-9324-e719d2135944",
   "metadata": {},
   "outputs": [],
   "source": [
    "df = pd.read_excel('salida1_pruebas.xlsx', sheet_name=0, header=0, usecols=None)"
   ]
  },
  {
   "cell_type": "code",
   "execution_count": 3,
   "id": "15ce64dc-bfe1-4b15-951c-c5ffb226bc80",
   "metadata": {},
   "outputs": [
    {
     "data": {
      "text/html": [
       "<div>\n",
       "<style scoped>\n",
       "    .dataframe tbody tr th:only-of-type {\n",
       "        vertical-align: middle;\n",
       "    }\n",
       "\n",
       "    .dataframe tbody tr th {\n",
       "        vertical-align: top;\n",
       "    }\n",
       "\n",
       "    .dataframe thead th {\n",
       "        text-align: right;\n",
       "    }\n",
       "</style>\n",
       "<table border=\"1\" class=\"dataframe\">\n",
       "  <thead>\n",
       "    <tr style=\"text-align: right;\">\n",
       "      <th></th>\n",
       "      <th>annio_02001</th>\n",
       "      <th>maximo_02001</th>\n",
       "      <th>num_datos_02001</th>\n",
       "      <th>annio_02002</th>\n",
       "      <th>maximo_02002</th>\n",
       "      <th>num_datos_02002</th>\n",
       "      <th>annio_03055</th>\n",
       "      <th>maximo_03055</th>\n",
       "      <th>num_datos_03055</th>\n",
       "      <th>annio_05021</th>\n",
       "      <th>...</th>\n",
       "      <th>num_datos_15017</th>\n",
       "      <th>annio_18020</th>\n",
       "      <th>maximo_18020</th>\n",
       "      <th>num_datos_18020</th>\n",
       "      <th>annio_32001</th>\n",
       "      <th>maximo_32001</th>\n",
       "      <th>num_datos_32001</th>\n",
       "      <th>annio_32020</th>\n",
       "      <th>maximo_32020</th>\n",
       "      <th>num_datos_32020</th>\n",
       "    </tr>\n",
       "  </thead>\n",
       "  <tbody>\n",
       "    <tr>\n",
       "      <th>65</th>\n",
       "      <td>NaN</td>\n",
       "      <td>NaN</td>\n",
       "      <td>NaN</td>\n",
       "      <td>2020.0</td>\n",
       "      <td>18.00</td>\n",
       "      <td>6.0</td>\n",
       "      <td>2019</td>\n",
       "      <td>54.0</td>\n",
       "      <td>12</td>\n",
       "      <td>NaN</td>\n",
       "      <td>...</td>\n",
       "      <td>NaN</td>\n",
       "      <td>NaN</td>\n",
       "      <td>NaN</td>\n",
       "      <td>NaN</td>\n",
       "      <td>NaN</td>\n",
       "      <td>NaN</td>\n",
       "      <td>NaN</td>\n",
       "      <td>2020</td>\n",
       "      <td>38.50</td>\n",
       "      <td>2</td>\n",
       "    </tr>\n",
       "    <tr>\n",
       "      <th>66</th>\n",
       "      <td>NaN</td>\n",
       "      <td>NaN</td>\n",
       "      <td>NaN</td>\n",
       "      <td>2021.0</td>\n",
       "      <td>0.01</td>\n",
       "      <td>3.0</td>\n",
       "      <td>2020</td>\n",
       "      <td>37.0</td>\n",
       "      <td>12</td>\n",
       "      <td>NaN</td>\n",
       "      <td>...</td>\n",
       "      <td>NaN</td>\n",
       "      <td>NaN</td>\n",
       "      <td>NaN</td>\n",
       "      <td>NaN</td>\n",
       "      <td>NaN</td>\n",
       "      <td>NaN</td>\n",
       "      <td>NaN</td>\n",
       "      <td>2021</td>\n",
       "      <td>162.23</td>\n",
       "      <td>10</td>\n",
       "    </tr>\n",
       "    <tr>\n",
       "      <th>67</th>\n",
       "      <td>NaN</td>\n",
       "      <td>NaN</td>\n",
       "      <td>NaN</td>\n",
       "      <td>2022.0</td>\n",
       "      <td>57.00</td>\n",
       "      <td>9.0</td>\n",
       "      <td>2021</td>\n",
       "      <td>66.0</td>\n",
       "      <td>12</td>\n",
       "      <td>NaN</td>\n",
       "      <td>...</td>\n",
       "      <td>NaN</td>\n",
       "      <td>NaN</td>\n",
       "      <td>NaN</td>\n",
       "      <td>NaN</td>\n",
       "      <td>NaN</td>\n",
       "      <td>NaN</td>\n",
       "      <td>NaN</td>\n",
       "      <td>2022</td>\n",
       "      <td>34.50</td>\n",
       "      <td>12</td>\n",
       "    </tr>\n",
       "    <tr>\n",
       "      <th>68</th>\n",
       "      <td>NaN</td>\n",
       "      <td>NaN</td>\n",
       "      <td>NaN</td>\n",
       "      <td>2023.0</td>\n",
       "      <td>136.00</td>\n",
       "      <td>12.0</td>\n",
       "      <td>2022</td>\n",
       "      <td>120.0</td>\n",
       "      <td>12</td>\n",
       "      <td>NaN</td>\n",
       "      <td>...</td>\n",
       "      <td>NaN</td>\n",
       "      <td>NaN</td>\n",
       "      <td>NaN</td>\n",
       "      <td>NaN</td>\n",
       "      <td>NaN</td>\n",
       "      <td>NaN</td>\n",
       "      <td>NaN</td>\n",
       "      <td>2023</td>\n",
       "      <td>17.40</td>\n",
       "      <td>8</td>\n",
       "    </tr>\n",
       "    <tr>\n",
       "      <th>69</th>\n",
       "      <td>NaN</td>\n",
       "      <td>NaN</td>\n",
       "      <td>NaN</td>\n",
       "      <td>NaN</td>\n",
       "      <td>NaN</td>\n",
       "      <td>NaN</td>\n",
       "      <td>2023</td>\n",
       "      <td>11.0</td>\n",
       "      <td>10</td>\n",
       "      <td>NaN</td>\n",
       "      <td>...</td>\n",
       "      <td>NaN</td>\n",
       "      <td>NaN</td>\n",
       "      <td>NaN</td>\n",
       "      <td>NaN</td>\n",
       "      <td>NaN</td>\n",
       "      <td>NaN</td>\n",
       "      <td>NaN</td>\n",
       "      <td>2024</td>\n",
       "      <td>38.90</td>\n",
       "      <td>10</td>\n",
       "    </tr>\n",
       "  </tbody>\n",
       "</table>\n",
       "<p>5 rows × 27 columns</p>\n",
       "</div>"
      ],
      "text/plain": [
       "    annio_02001  maximo_02001  num_datos_02001  annio_02002  maximo_02002  \\\n",
       "65          NaN           NaN              NaN       2020.0         18.00   \n",
       "66          NaN           NaN              NaN       2021.0          0.01   \n",
       "67          NaN           NaN              NaN       2022.0         57.00   \n",
       "68          NaN           NaN              NaN       2023.0        136.00   \n",
       "69          NaN           NaN              NaN          NaN           NaN   \n",
       "\n",
       "    num_datos_02002  annio_03055  maximo_03055  num_datos_03055  annio_05021  \\\n",
       "65              6.0         2019          54.0               12          NaN   \n",
       "66              3.0         2020          37.0               12          NaN   \n",
       "67              9.0         2021          66.0               12          NaN   \n",
       "68             12.0         2022         120.0               12          NaN   \n",
       "69              NaN         2023          11.0               10          NaN   \n",
       "\n",
       "    ...  num_datos_15017  annio_18020  maximo_18020  num_datos_18020  \\\n",
       "65  ...              NaN          NaN           NaN              NaN   \n",
       "66  ...              NaN          NaN           NaN              NaN   \n",
       "67  ...              NaN          NaN           NaN              NaN   \n",
       "68  ...              NaN          NaN           NaN              NaN   \n",
       "69  ...              NaN          NaN           NaN              NaN   \n",
       "\n",
       "    annio_32001  maximo_32001  num_datos_32001  annio_32020  maximo_32020  \\\n",
       "65          NaN           NaN              NaN         2020         38.50   \n",
       "66          NaN           NaN              NaN         2021        162.23   \n",
       "67          NaN           NaN              NaN         2022         34.50   \n",
       "68          NaN           NaN              NaN         2023         17.40   \n",
       "69          NaN           NaN              NaN         2024         38.90   \n",
       "\n",
       "    num_datos_32020  \n",
       "65                2  \n",
       "66               10  \n",
       "67               12  \n",
       "68                8  \n",
       "69               10  \n",
       "\n",
       "[5 rows x 27 columns]"
      ]
     },
     "execution_count": 3,
     "metadata": {},
     "output_type": "execute_result"
    }
   ],
   "source": [
    "df.tail()"
   ]
  },
  {
   "cell_type": "code",
   "execution_count": 4,
   "id": "75d1e9cb-8ad9-4200-9e33-d5040d730678",
   "metadata": {},
   "outputs": [],
   "source": [
    "columnas = list(df.columns)"
   ]
  },
  {
   "cell_type": "code",
   "execution_count": 5,
   "id": "62ee50b5-225f-4c1c-84d7-d9ac44696c93",
   "metadata": {},
   "outputs": [
    {
     "name": "stdout",
     "output_type": "stream",
     "text": [
      "['maximo_02001', 'maximo_02002', 'maximo_03055', 'maximo_05021', 'maximo_05210', 'maximo_15017', 'maximo_18020', 'maximo_32001', 'maximo_32020']\n",
      "['02001', '02002', '03055', '05021', '05210', '15017', '18020', '32001', '32020']\n"
     ]
    }
   ],
   "source": [
    "maximos = []\n",
    "estaciones = []\n",
    "for i in range(1, len(columnas), 3):\n",
    "    maximos.append(columnas[i])\n",
    "    estaciones.append(columnas[i].split('_')[1])\n",
    "print(maximos)\n",
    "print(estaciones)"
   ]
  },
  {
   "cell_type": "code",
   "execution_count": 6,
   "id": "75bd5ce2-71b1-4509-999f-1d15680386a6",
   "metadata": {},
   "outputs": [],
   "source": [
    "estacion1 = df[maximos[1]]"
   ]
  },
  {
   "cell_type": "code",
   "execution_count": 7,
   "id": "7a2886ef-5b94-496c-a378-e67a20d99dfc",
   "metadata": {},
   "outputs": [
    {
     "data": {
      "text/plain": [
       "70"
      ]
     },
     "execution_count": 7,
     "metadata": {},
     "output_type": "execute_result"
    }
   ],
   "source": [
    "len(estacion1)"
   ]
  },
  {
   "cell_type": "code",
   "execution_count": 8,
   "id": "c7efa374-1b77-4103-9e08-ce587a79e23d",
   "metadata": {},
   "outputs": [
    {
     "data": {
      "text/plain": [
       "69"
      ]
     },
     "execution_count": 8,
     "metadata": {},
     "output_type": "execute_result"
    }
   ],
   "source": [
    "estacion1 = estacion1.dropna()\n",
    "len(estacion1)"
   ]
  },
  {
   "cell_type": "code",
   "execution_count": 9,
   "id": "5a2c5e16-d059-4f2a-a66c-b4d70019fdec",
   "metadata": {},
   "outputs": [
    {
     "name": "stdout",
     "output_type": "stream",
     "text": [
      "0.0\n",
      "17.5\n",
      "5.5\n",
      "0.0\n",
      "10.0\n",
      "17.5\n",
      "60.0\n",
      "8.0\n",
      "14.0\n",
      "53.0\n",
      "5.0\n",
      "50.0\n",
      "28.0\n",
      "124.0\n",
      "23.0\n",
      "4.0\n",
      "31.8\n",
      "20.0\n",
      "1.0\n",
      "55.0\n",
      "4.0\n",
      "1.0\n",
      "2.0\n",
      "10.0\n",
      "57.0\n",
      "20.0\n",
      "8.5\n",
      "18.0\n",
      "13.0\n",
      "34.0\n",
      "54.0\n",
      "20.0\n",
      "20.0\n",
      "4.5\n",
      "18.5\n",
      "31.0\n",
      "33.0\n",
      "9.0\n",
      "46.0\n",
      "29.0\n",
      "14.0\n",
      "32.0\n",
      "15.0\n",
      "20.0\n",
      "47.0\n",
      "23.0\n",
      "0.0\n",
      "11.0\n",
      "18.0\n",
      "9.0\n",
      "20.0\n",
      "37.0\n",
      "12.0\n",
      "96.0\n",
      "50.0\n",
      "25.0\n",
      "37.0\n",
      "7.0\n",
      "15.0\n",
      "15.0\n",
      "90.0\n",
      "38.0\n",
      "28.0\n",
      "15.0\n",
      "18.0\n",
      "18.0\n",
      "0.01\n",
      "57.0\n",
      "136.0\n"
     ]
    }
   ],
   "source": [
    "for i in range(len(estacion1)):\n",
    "    print(estacion1[i])"
   ]
  },
  {
   "cell_type": "code",
   "execution_count": 10,
   "id": "69fb2bf0-96fe-4f5e-bf89-37f8def62547",
   "metadata": {},
   "outputs": [],
   "source": [
    "datos = estacion1.to_numpy()"
   ]
  },
  {
   "cell_type": "code",
   "execution_count": 11,
   "id": "ee0bb791-9ecb-4465-b874-e03783fd3088",
   "metadata": {},
   "outputs": [
    {
     "name": "stdout",
     "output_type": "stream",
     "text": [
      "<class 'numpy.ndarray'>\n",
      "69\n"
     ]
    }
   ],
   "source": [
    "print(type(datos))\n",
    "print(len(datos))"
   ]
  },
  {
   "cell_type": "code",
   "execution_count": null,
   "id": "a92b9e3a-60c7-40ec-a3aa-aedb6fb8de75",
   "metadata": {},
   "outputs": [],
   "source": [
    "for i in range(len(datos)):\n",
    "    print(type(datos[i]))"
   ]
  },
  {
   "cell_type": "code",
   "execution_count": 12,
   "id": "12cd9361-5411-456a-a3c9-952353dd7562",
   "metadata": {},
   "outputs": [
    {
     "data": {
      "text/plain": [
       "26.997246376811592"
      ]
     },
     "execution_count": 12,
     "metadata": {},
     "output_type": "execute_result"
    }
   ],
   "source": [
    "media = np.mean(datos)\n",
    "media"
   ]
  },
  {
   "cell_type": "code",
   "execution_count": 13,
   "id": "9ea70fec-2cf8-4975-8833-4b0700f0b27f",
   "metadata": {},
   "outputs": [
    {
     "name": "stdout",
     "output_type": "stream",
     "text": [
      "27.013885203292052\n"
     ]
    }
   ],
   "source": [
    "sm = np.std(datos, ddof=1)\n",
    "print(sm)"
   ]
  },
  {
   "cell_type": "code",
   "execution_count": 14,
   "id": "a2899138-73c5-4515-b37a-78b70ff48888",
   "metadata": {},
   "outputs": [
    {
     "data": {
      "text/plain": [
       "'02001'"
      ]
     },
     "execution_count": 14,
     "metadata": {},
     "output_type": "execute_result"
    }
   ],
   "source": [
    "estaciones[0]"
   ]
  },
  {
   "cell_type": "code",
   "execution_count": 15,
   "id": "05a814d0-bde8-4169-a413-0fd91ea07ef7",
   "metadata": {},
   "outputs": [
    {
     "data": {
      "image/png": "[encoded data removed]",
      "text/plain": [
       "<Figure size 432x288 with 1 Axes>"
      ]
     },
     "metadata": {
      "needs_background": "light"
     },
     "output_type": "display_data"
    },
    {
     "name": "stdin",
     "output_type": "stream",
     "text": [
      "Número de datos de origen ciclonico\n",
      " (debe de ser mayor a 1):  4\n"
     ]
    },
    {
     "name": "stdout",
     "output_type": "stream",
     "text": [
      "\u001b[1;31;m\n",
      "             Parametros Iniciales\n",
      "\u001b[1;32;m\n",
      "media 1: \u001b[1;35;m 21.797076923076922\n",
      "\u001b[1;32;mdesviación estandart 1:  \u001b[1;35;m 16.6974097657276\n",
      "\u001b[1;32;m\n",
      "media 2:  \u001b[1;35;m 111.5\n",
      "\u001b[1;32;mdesviación estantart 2:  \u001b[1;35;m 22.052966542697455\n",
      "\u001b[1;32;m\n",
      "a1:  \u001b[1;35;m 13.018916983225752\n",
      "\u001b[1;32;mb1:  \u001b[1;35;m 14.282558040359017\n",
      "\u001b[1;32;ma2:  \u001b[1;35;m 17.194627471054485\n",
      "\u001b[1;32;mb2:  \u001b[1;35;m 101.57526102370736 \n",
      "\n",
      "\u001b[1;32;mProbabilidad:  \u001b[1;35;m 0.9420289855072463 \n",
      "\n",
      "\u001b[1;32;mE =  \u001b[1;35;m 0.06451433834963943\n",
      "\u001b[1;36;m\n",
      "i =  1\n",
      "\u001b[1;35;mj=1\n",
      "f(yi + Djdj)= 0.06440807183535126\n",
      "\u001b[1;32;mExito\n",
      "\u001b[1;35;mD1 = 0.02\n",
      "\n",
      "j=2\n",
      "f(yi + Djdj)= 0.06440773563487535\n",
      "\u001b[1;32;mExito\n",
      "\u001b[1;35;mD2 = 0.02\n",
      "\n",
      "j=3\n",
      "f(yi + Djdj)= 0.06477359770236278\n",
      "\u001b[1;31;mFracaso\n",
      "\u001b[1;35;mD3 = -0.005 \n",
      "\n",
      "\n",
      "j=4\n",
      "f(yi + Djdj)= 0.06440744865465593\n",
      "\u001b[1;32;mExito\n",
      "\u001b[1;35;mD4 = 0.02\n",
      "\n",
      "j=5\n",
      "f(yi + Djdj)= 0.06772586890116498\n",
      "\u001b[1;31;mFracaso\n",
      "\u001b[1;35;mD5 = -0.005 \n",
      "\n",
      "\n",
      "Punto actual:  [ 13.02891698  17.20462747  14.28255804 101.58526102   0.94202899]\n",
      "\n",
      "<===================================================================>\n",
      "\u001b[1;36;m\n",
      "i =  2\n",
      "\u001b[1;35;mj=1\n",
      "f(yi + Djdj)= 0.06420060698410614\n",
      "\u001b[1;32;mExito\n",
      "\u001b[1;35;mD1 = 0.04\n",
      "\n",
      "j=2\n",
      "f(yi + Djdj)= 0.06419993538441929\n",
      "\u001b[1;32;mExito\n",
      "\u001b[1;35;mD2 = 0.04\n",
      "\n",
      "j=3\n",
      "f(yi + Djdj)= 0.06401853944744862\n",
      "\u001b[1;32;mExito\n",
      "\u001b[1;35;mD3 = -0.01\n",
      "\n",
      "j=4\n",
      "f(yi + Djdj)= 0.0640179685687626\n",
      "\u001b[1;32;mExito\n",
      "\u001b[1;35;mD4 = 0.04\n",
      "\n",
      "j=5\n",
      "f(yi + Djdj)= 0.06411972921300765\n",
      "\u001b[1;31;mFracaso\n",
      "\u001b[1;35;mD5 = 0.0025 \n",
      "\n",
      "\n",
      "Punto actual:  [ 13.04891698  17.22462747  14.27755804 101.60526102   0.94202899]\n",
      "\n",
      "<===================================================================>\n",
      "\u001b[1;36;m\n",
      "i =  3\n",
      "\u001b[1;35;mj=1\n",
      "f(yi + Djdj)= 0.0636263204480475\n",
      "\u001b[1;32;mExito\n",
      "\u001b[1;35;mD1 = 0.08\n",
      "\n",
      "j=2\n",
      "f(yi + Djdj)= 0.06362498050066255\n",
      "\u001b[1;32;mExito\n",
      "\u001b[1;35;mD2 = 0.08\n",
      "\n",
      "j=3\n",
      "f(yi + Djdj)= 0.06326461911642775\n",
      "\u001b[1;32;mExito\n",
      "\u001b[1;35;mD3 = -0.02\n",
      "\n",
      "j=4\n",
      "f(yi + Djdj)= 0.0632634897302936\n",
      "\u001b[1;32;mExito\n",
      "\u001b[1;35;mD4 = 0.08\n",
      "\n",
      "j=5\n",
      "f(yi + Djdj)= 0.06360084371420746\n",
      "\u001b[1;31;mFracaso\n",
      "\u001b[1;35;mD5 = -0.00125 \n",
      "\n",
      "\n",
      "Punto actual:  [ 13.08891698  17.26462747  14.26755804 101.64526102   0.94202899]\n",
      "\n",
      "<===================================================================>\n",
      "\u001b[1;36;m\n",
      "i =  4\n",
      "\u001b[1;35;mj=1\n",
      "f(yi + Djdj)= 0.06256756944992409\n",
      "\u001b[1;32;mExito\n",
      "\u001b[1;35;mD1 = 0.16\n",
      "\n",
      "j=2\n",
      "f(yi + Djdj)= 0.06256490238908183\n",
      "\u001b[1;32;mExito\n",
      "\u001b[1;35;mD2 = 0.16\n",
      "\n",
      "j=3\n",
      "f(yi + Djdj)= 0.06185385536945214\n",
      "\u001b[1;32;mExito\n",
      "\u001b[1;35;mD3 = -0.04\n",
      "\n",
      "j=4\n",
      "f(yi + Djdj)= 0.061851646436201425\n",
      "\u001b[1;32;mExito\n",
      "\u001b[1;35;mD4 = 0.16\n",
      "\n",
      "j=5\n",
      "f(yi + Djdj)= 0.061831409465290345\n",
      "\u001b[1;32;mExito\n",
      "\u001b[1;35;mD5 = -0.0025\n",
      "\n",
      "Punto actual:  [ 13.16891698  17.34462747  14.24755804 101.72526102   0.94077899]\n",
      "\n",
      "<===================================================================>\n",
      "\u001b[1;36;m\n",
      "i =  5\n",
      "\u001b[1;35;mj=1\n",
      "f(yi + Djdj)= 0.06091035595021504\n",
      "\u001b[1;32;mExito\n",
      "\u001b[1;35;mD1 = 0.32\n",
      "\n",
      "j=2\n",
      "f(yi + Djdj)= 0.060904756406443834\n",
      "\u001b[1;32;mExito\n",
      "\u001b[1;35;mD2 = 0.32\n",
      "\n",
      "j=3\n",
      "f(yi + Djdj)= 0.05947418150416824\n",
      "\u001b[1;32;mExito\n",
      "\u001b[1;35;mD3 = -0.08\n",
      "\n",
      "j=4\n",
      "f(yi + Djdj)= 0.05947063799324836\n",
      "\u001b[1;32;mExito\n",
      "\u001b[1;35;mD4 = 0.32\n",
      "\n",
      "j=5\n",
      "f(yi + Djdj)= 0.0598059093957072\n",
      "\u001b[1;31;mFracaso\n",
      "\u001b[1;35;mD5 = 0.00125 \n",
      "\n",
      "\n",
      "Punto actual:  [ 13.32891698  17.50462747  14.20755804 101.88526102   0.94077899]\n",
      "\n",
      "<===================================================================>\n",
      "\u001b[1;36;m\n",
      "i =  6\n",
      "\u001b[1;35;mj=1\n",
      "f(yi + Djdj)= 0.05894893148295617\n",
      "\u001b[1;32;mExito\n",
      "\u001b[1;35;mD1 = 0.64\n",
      "\n",
      "j=2\n",
      "f(yi + Djdj)= 0.05893793378536003\n",
      "\u001b[1;32;mExito\n",
      "\u001b[1;35;mD2 = 0.64\n",
      "\n",
      "j=3\n",
      "f(yi + Djdj)= 0.05622746119234206\n",
      "\u001b[1;32;mExito\n",
      "\u001b[1;35;mD3 = -0.16\n",
      "\n",
      "j=4\n",
      "f(yi + Djdj)= 0.05622120757876039\n",
      "\u001b[1;32;mExito\n",
      "\u001b[1;35;mD4 = 0.64\n",
      "\n",
      "j=5\n",
      "f(yi + Djdj)= 0.05600349265004348\n",
      "\u001b[1;32;mExito\n",
      "\u001b[1;35;mD5 = 0.0025\n",
      "\n",
      "Punto actual:  [ 13.64891698  17.82462747  14.12755804 102.20526102   0.94202899]\n",
      "\n",
      "<===================================================================>\n",
      "\u001b[1;36;m\n",
      "i =  7\n",
      "\u001b[1;35;mj=1\n",
      "f(yi + Djdj)= 0.0593983335710291\n",
      "\u001b[1;31;mFracaso\n",
      "\u001b[1;35;mD1 = -0.32\n",
      "\n",
      "j=2\n",
      "f(yi + Djdj)= 0.055984324877474026\n",
      "\u001b[1;32;mExito\n",
      "\u001b[1;35;mD2 = 1.28\n",
      "\n",
      "j=3\n",
      "f(yi + Djdj)= 0.051655086259372554\n",
      "\u001b[1;32;mExito\n",
      "\u001b[1;35;mD3 = -0.32\n",
      "\n",
      "j=4\n",
      "f(yi + Djdj)= 0.05164112882954559\n",
      "\u001b[1;32;mExito\n",
      "\u001b[1;35;mD4 = 1.28\n",
      "\n",
      "j=5\n",
      "f(yi + Djdj)= 0.05179217820590994\n",
      "\u001b[1;31;mFracaso\n",
      "\u001b[1;35;mD5 = -0.00125 \n",
      "\n",
      "\u001b[1;36;m<==========================================================================>\n",
      "Termina la búsqueda\n",
      "\n",
      "f(x1,x2) =  0.05164112882954559\n",
      "En la coordenada:  [ 13.64891698  18.46462747  13.96755804 102.84526102   0.94202899]\n",
      "Número final de redirecciones:  0\n",
      "<==========================================================================>\n",
      "Función Doble Gumbel, error cuadrático mínimo (Sin Optimizar):  23791.547969771244\n",
      "Función Doble Gumbel, error cuadrático mínimo (Optimizado):  27472.11238156882\n"
     ]
    },
    {
     "data": {
      "image/png": "[encoded data removed]",
      "text/plain": [
       "<Figure size 432x288 with 2 Axes>"
      ]
     },
     "metadata": {
      "needs_background": "light"
     },
     "output_type": "display_data"
    },
    {
     "data": {
      "image/png": "[encoded data removed]",
      "text/plain": [
       "<Figure size 432x288 with 2 Axes>"
      ]
     },
     "metadata": {
      "needs_background": "light"
     },
     "output_type": "display_data"
    }
   ],
   "source": [
    "estacion = estaciones[1]\n",
    "dfDdg = distros.GumbelDouble.DDG(datos, estacion)"
   ]
  },
  {
   "cell_type": "code",
   "execution_count": null,
   "id": "91794fa4-cb6f-4269-a169-45f7d00371ef",
   "metadata": {},
   "outputs": [],
   "source": [
    "excel_salida = 'salidas/' + estaciones[0] + '_gumbel_dgumbel.xlsx'\n",
    "hoja_nombre_g = estaciones[0] + '_Gumbel'\n",
    "hoja_nombre_dg = estaciones[0] + '_Doble_Gumbel'\n",
    "estacion = estaciones[0]\n",
    "with pd.ExcelWriter(excel_salida) as writer:\n",
    "    dfDG = distros.Gumbel.DG(datos, media, sm, estacion)\n",
    "    dfDG.to_excel(writer, sheet_name=hoja_nombre_g, index=False)\n",
    "    \n",
    "    dfDdg = distros.GumbelDouble.DDG(datos, estacion)\n",
    "    dfDdg.to_excel(writer, sheet_name=hoja_nombre_dg, index=False)"
   ]
  }
 ],
 "metadata": {
  "kernelspec": {
   "display_name": "Python 3 (ipykernel)",
   "language": "python",
   "name": "python3"
  },
  "language_info": {
   "codemirror_mode": {
    "name": "ipython",
    "version": 3
   },
   "file_extension": ".py",
   "mimetype": "text/x-python",
   "name": "python",
   "nbconvert_exporter": "python",
   "pygments_lexer": "ipython3",
   "version": "3.10.0"
  }
 },
 "nbformat": 4,
 "nbformat_minor": 5
}
